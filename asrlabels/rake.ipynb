{
 "cells": [
  {
   "cell_type": "code",
   "execution_count": 4,
   "id": "64610b12",
   "metadata": {},
   "outputs": [
    {
     "name": "stdout",
     "output_type": "stream",
     "text": [
      "Collecting multi_rake\n",
      "  Downloading multi_rake-0.0.2-py3-none-any.whl (31 kB)\n",
      "Requirement already satisfied: regex>=2018.6.6 in /home/dinuthomas/anaconda3/lib/python3.9/site-packages (from multi_rake) (2022.7.9)\n",
      "Requirement already satisfied: pyrsistent>=0.14.2 in /home/dinuthomas/anaconda3/lib/python3.9/site-packages (from multi_rake) (0.18.0)\n",
      "Requirement already satisfied: numpy>=1.14.4 in /home/dinuthomas/anaconda3/lib/python3.9/site-packages (from multi_rake) (1.21.5)\n",
      "Collecting pycld2>=0.41\n",
      "  Downloading pycld2-0.41.tar.gz (41.4 MB)\n",
      "\u001b[2K     \u001b[38;2;114;156;31m━━━━━━━━━━━━━━━━━━━━━━━━━━━━━━━━━━━━━━━━\u001b[0m \u001b[32m41.4/41.4 MB\u001b[0m \u001b[31m25.2 MB/s\u001b[0m eta \u001b[36m0:00:00\u001b[0mm eta \u001b[36m0:00:01\u001b[0m[36m0:00:01\u001b[0m\n",
      "\u001b[?25h  Preparing metadata (setup.py) ... \u001b[?25ldone\n",
      "\u001b[?25hBuilding wheels for collected packages: pycld2\n",
      "  Building wheel for pycld2 (setup.py) ... \u001b[?25ldone\n",
      "\u001b[?25h  Created wheel for pycld2: filename=pycld2-0.41-cp39-cp39-linux_x86_64.whl size=4797496 sha256=82d1168048d078e0a527f361e738395f1fa3cb560f001a47d15ca0810f4bd923\n",
      "  Stored in directory: /home/dinuthomas/.cache/pip/wheels/ed/98/60/230df7a9368a02bf62e0e2719a31615b2aa82238dea526b637\n",
      "Successfully built pycld2\n",
      "Installing collected packages: pycld2, multi_rake\n",
      "Successfully installed multi_rake-0.0.2 pycld2-0.41\n"
     ]
    }
   ],
   "source": [
    "!pip install multi_rake"
   ]
  },
  {
   "cell_type": "code",
   "execution_count": 5,
   "id": "ef2149fb",
   "metadata": {},
   "outputs": [],
   "source": [
    "from multi_rake import Rake"
   ]
  },
  {
   "cell_type": "code",
   "execution_count": 6,
   "id": "2241d294",
   "metadata": {},
   "outputs": [],
   "source": [
    "rake = Rake()"
   ]
  },
  {
   "cell_type": "code",
   "execution_count": 7,
   "id": "2166f62b",
   "metadata": {},
   "outputs": [],
   "source": [
    "full_text = \"That 1988 Ball We see an example of that. They're getting on the ball. Some people in us wear an 11-dotsky controls all his gist. So finish as only an expert finisher like Harvard, Levent-Dotsky can't really leave part away. What a finisher there was never any doubt. The first time we've seen a finisher in the world, we've seen a finisher in the world. We see an example of that. We see an example of that. What a finisher there was never any doubt. What a finisher there was never any doubt. The first finisher in the world. That is magnificent. Here's some. Is he gonna do an horizontal career? Or be like he's gone for that? That's the moment he craved. Last season. The first time we've seen a finisher in the world. That is magnificent. What a finisher there was never any doubt. What a finisher there was never any doubt. Levent-Dotsky can't really leave part away. What a finisher there was never any doubt. That is a nice layoff to find it from Harvee Elliott. Welcome to the Premier League for Garland New Year's. I need the defender follows you then and then the laser. That rough and defile. I'm going to have to have a lifesapeake. What a magnificent finisher there was never any doubt. It's his fourth goal of the season. Already on Magnificent. I'm in trouble. I'm in trouble again. This is brilliant. Bamgamma! 13th sensation. Ingenuity. Rated on stupidity. Incredible goal. Incredible Messi. I need you to return this goal. I'm in trouble. But I'm in trouble. No! Bravo's spot is the only thing that got full of gunnade. Oh, drag it! It's a good show. Bring it in to my words. That is extraordinary for Vectorichio. A scorpion kick. That's going to last been this year's with the strike. Another one on Best of Goal. From outside the box. He's better than Valverde. A man who has truly come into form in this last year. Long so. That's back in direct route. I'm going to have a half. Hello. You're in the wrong direction. One shot is still not enough. It's a camera. Hello, it's your turn. You're in the wrong direction. No traffic. You're in the wrong direction. It's your turn. Go to the wrong direction. Rikkel, the Mekis bus. Go to the wrong direction. Rikkel, Rikkel, Rikkel, my mother. I'm going to have a half. Goal. Goal in the lake. Qualifying for Europe. Go to the sky, see if you can. Go to the sky, see if you can. Go to the sky, see if you can. Coco, you'll go to go. Oh wow. How good is he? 17 years old. 17 years old. 17 years old. 17 years old. 17 years old. 17 years old. 17 years old. He's got a body and body's' energy. And a man Alwaysoulder well. My chest��을… But why?! Because I can't stand it! With the instances command, That's a wonderful turn on that side I've finish Australia who could run a life on the match And the threatening局 is in here for 11 players on the long run. Quick with the flash. A new approach to solve a controversy Modric, nuisce, and conditioned offline yet To put the bar game on An ambulance won't ever Gag, just a little bit stupid Ha HOOGO BAD故ologue BAD Matthew and Aunt The duel starts now at 8-8! Rodrigo Stavolante in the cup of 3rd turn off the Gerry Inspiron at hole 300! Come on GOOD Fan! It's a fucking challenge for me. The last film of this edition is Daniel Alves, Stop, you'll just say it Welsh, so say it Cat, try Mino AND I'll still be the next Men嘎 for Dr End���ch. Scals and Language Second one. Third one. Third one. Second one. Third one. diğer luego del Subr Manhattan. Second tuna. Second負. Third tuna. Third tuna. Third tuna. Fourth tuna. Third tuna. Fourth tuna. From here on it's such a curious beat from Peña. From here on it's similar, but now, more and more with my walls myesteem has become more and more. But now I see it gets settling and more and more, and how the close down and more and less. But now I see this, again, thank you thank you thank you男人 SO GOOD, WOW I'm sending a train in the calm, so I'm sending it to you I'm sending it to you, so I'm sending it to you Take the gun, we're in the light for the party to end Can we get on the escort? Not a genius out there, I can't stop This no point to be careful Miss Limit, so we're going to do this, but Miss Limit, Before Miss Limit, the goal is to get on the boat! What a success, Miss Limit! Input oh Tubzi All color Biggest quarter killing. Kevin Debrouille, Marqueaza!\""
   ]
  },
  {
   "cell_type": "code",
   "execution_count": 8,
   "id": "f081ddaa",
   "metadata": {},
   "outputs": [],
   "source": [
    "keywords = rake.apply(full_text)"
   ]
  },
  {
   "cell_type": "code",
   "execution_count": 9,
   "id": "24da6567",
   "metadata": {},
   "outputs": [
    {
     "name": "stdout",
     "output_type": "stream",
     "text": [
      "[('careful miss limit', 7.5), ('miss limit', 4.5), ('11-dotsky controls', 4.0), ('leave part', 4.0), ('horizontal career', 4.0), ('nice layoff', 4.0), ('harvee elliott', 4.0), ('premier league', 4.0), ('13th sensation', 4.0), ('incredible messi', 4.0)]\n"
     ]
    }
   ],
   "source": [
    "print(keywords[:10])"
   ]
  },
  {
   "cell_type": "code",
   "execution_count": 11,
   "id": "291b1c08",
   "metadata": {},
   "outputs": [
    {
     "data": {
      "text/plain": [
       "['careful miss limit',\n",
       " 'miss limit',\n",
       " '11-dotsky controls',\n",
       " 'leave part',\n",
       " 'horizontal career',\n",
       " 'nice layoff',\n",
       " 'harvee elliott',\n",
       " 'premier league',\n",
       " '13th sensation',\n",
       " 'incredible messi',\n",
       " \"bravo's spot\",\n",
       " 'scorpion kick',\n",
       " 'direct route',\n",
       " 'wrong direction',\n",
       " 'mekis bus',\n",
       " \"body's' energy\",\n",
       " 'instances command',\n",
       " 'controversy modric',\n",
       " 'conditioned offline',\n",
       " 'bar game']"
      ]
     },
     "execution_count": 11,
     "metadata": {},
     "output_type": "execute_result"
    }
   ],
   "source": [
    "n = 0 # N. . .\n",
    "[x[0] for x in keywords][:20]"
   ]
  }
 ],
 "metadata": {
  "kernelspec": {
   "display_name": "Python 3 (ipykernel)",
   "language": "python",
   "name": "python3"
  },
  "language_info": {
   "codemirror_mode": {
    "name": "ipython",
    "version": 3
   },
   "file_extension": ".py",
   "mimetype": "text/x-python",
   "name": "python",
   "nbconvert_exporter": "python",
   "pygments_lexer": "ipython3",
   "version": "3.9.13"
  }
 },
 "nbformat": 4,
 "nbformat_minor": 5
}
