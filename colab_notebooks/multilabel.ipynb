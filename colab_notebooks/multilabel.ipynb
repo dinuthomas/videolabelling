{
  "cells": [
    {
      "cell_type": "code",
      "source": [],
      "metadata": {
        "id": "298Sp4VTG-_n"
      },
      "id": "298Sp4VTG-_n",
      "execution_count": null,
      "outputs": []
    },
    {
      "cell_type": "code",
      "source": [
        "from google.colab import drive\n",
        "drive.mount('/content/drive')\n",
        "#/content/drive/MyDrive/iproject/filtered.csv"
      ],
      "metadata": {
        "colab": {
          "base_uri": "https://localhost:8080/"
        },
        "id": "ij_auC4RdFB-",
        "outputId": "91a3ef29-4b54-4bba-8110-8def1e54d881"
      },
      "id": "ij_auC4RdFB-",
      "execution_count": 2,
      "outputs": [
        {
          "output_type": "stream",
          "name": "stdout",
          "text": [
            "Mounted at /content/drive\n"
          ]
        }
      ]
    },
    {
      "cell_type": "code",
      "source": [
        "cp /content/drive/MyDrive/iproject/wikifeature.zip .\n"
      ],
      "metadata": {
        "id": "IJo7NSw1XREC"
      },
      "id": "IJo7NSw1XREC",
      "execution_count": 5,
      "outputs": []
    },
    {
      "cell_type": "code",
      "source": [
        "cp /content/drive/MyDrive/iproject/index.zip ."
      ],
      "metadata": {
        "id": "rxgsoPU1PIZ5"
      },
      "id": "rxgsoPU1PIZ5",
      "execution_count": 6,
      "outputs": []
    },
    {
      "cell_type": "code",
      "source": [
        "!unzip index.zip indexed.csv"
      ],
      "metadata": {
        "colab": {
          "base_uri": "https://localhost:8080/"
        },
        "id": "TGFcLdbePTIt",
        "outputId": "4934ff82-8f78-47d4-aa42-36c7bc580802"
      },
      "id": "TGFcLdbePTIt",
      "execution_count": 7,
      "outputs": [
        {
          "output_type": "stream",
          "name": "stdout",
          "text": [
            "Archive:  index.zip\n",
            "  inflating: indexed.csv             \n"
          ]
        }
      ]
    },
    {
      "cell_type": "code",
      "source": [
        "!tail -n10 indexed.csv"
      ],
      "metadata": {
        "colab": {
          "base_uri": "https://localhost:8080/"
        },
        "id": "FNHxKsyDsCk_",
        "outputId": "cc246273-8396-4158-ce9d-97cbe6241c57"
      },
      "id": "FNHxKsyDsCk_",
      "execution_count": 8,
      "outputs": [
        {
          "output_type": "stream",
          "name": "stdout",
          "text": [
            "Q115782961,\"[34199   618  2685   912   337     0     0     0     0     0     0     0\n",
            "     0     0     0]\"\n",
            "Q115782975,\"[11596   912  1856     0     0     0     0     0     0     0     0     0\n",
            "     0     0     0]\"\n",
            "Q115782981,\"[1681 3178   21  347  123 1037    0    0    0    0    0    0    0    0\n",
            "    0]\"\n",
            "Q115782992,\"[475109   6912      0      0      0      0      0      0      0      0\n",
            "      0      0      0      0      0]\"\n",
            "Q115782995,\"[246108    255    501      1    764      2      0      0      0      0\n",
            "      0      0      0      0      0]\"\n"
          ]
        }
      ]
    },
    {
      "cell_type": "code",
      "source": [
        "!unzip wikifeature.zip wikifeature.csv"
      ],
      "metadata": {
        "colab": {
          "base_uri": "https://localhost:8080/"
        },
        "id": "-2p_7ScYFO6i",
        "outputId": "a7aad2ad-2518-4809-892c-25717e838d5e"
      },
      "id": "-2p_7ScYFO6i",
      "execution_count": 9,
      "outputs": [
        {
          "output_type": "stream",
          "name": "stdout",
          "text": [
            "Archive:  wikifeature.zip\n",
            "  inflating: wikifeature.csv         \n"
          ]
        }
      ]
    },
    {
      "cell_type": "code",
      "source": [
        "!tail -n10 wikifeature.csv"
      ],
      "metadata": {
        "colab": {
          "base_uri": "https://localhost:8080/"
        },
        "id": "Zk7CJLT3sSCm",
        "outputId": "7dd4511b-c294-4d38-ec27-3feb83fca63d"
      },
      "id": "Zk7CJLT3sSCm",
      "execution_count": 10,
      "outputs": [
        {
          "output_type": "stream",
          "name": "stdout",
          "text": [
            "Q115782911, Q13442814\n",
            "Q115782924, Q13442814\n",
            "Q115782929, Q101352\n",
            "Q115782936, Q13442814\n",
            "Q115782949, Q13442814\n",
            "Q115782950, Q13442814\n",
            "Q115782961, Q13442814\n",
            "Q115782975, Q13442814\n",
            "Q115782981, Q445741\n",
            "Q115782992, Q519608\n"
          ]
        }
      ]
    },
    {
      "cell_type": "code",
      "source": [
        "from tensorflow.keras import layers\n",
        "from tensorflow import keras\n",
        "import tensorflow as tf\n",
        "import pandas as pd\n",
        "import numpy as np\n",
        "import warnings\n",
        "warnings.filterwarnings('ignore')\n",
        "import gc\n",
        "import tensorflow as tf\n",
        "import pandas as pd\n",
        "import numpy as np\n",
        "import re, string\n",
        "from sklearn.model_selection import train_test_split\n",
        "from nltk.corpus import stopwords\n",
        "from nltk.tokenize import word_tokenize\n",
        "from nltk.stem import WordNetLemmatizer\n",
        "import nltk\n",
        "import io\n",
        "import json\n",
        "import dask.dataframe as dd\n",
        "import csv\n",
        "import ast\n",
        "\n",
        "from sklearn.model_selection import train_test_split\n",
        "from ast import literal_eval\n",
        "\n",
        "import matplotlib.pyplot as plt\n",
        "import pandas as pd\n",
        "import numpy as np\n",
        "import csv\n",
        "import tensorflow.keras.backend as K"
      ],
      "metadata": {
        "id": "kimYmUHA24cl"
      },
      "id": "kimYmUHA24cl",
      "execution_count": 11,
      "outputs": []
    },
    {
      "cell_type": "code",
      "source": [
        "wiki_feature = pd.read_csv('wikifeature.csv', names=['wikiid', 'wikilabel'],error_bad_lines=False,quoting=csv.QUOTE_NONE,)\n"
      ],
      "metadata": {
        "id": "F3wuyC9Q3OjP"
      },
      "id": "F3wuyC9Q3OjP",
      "execution_count": 13,
      "outputs": []
    },
    {
      "cell_type": "code",
      "source": [
        "print(f\"There are {len(wiki_feature)} rows in the dataset.\")"
      ],
      "metadata": {
        "colab": {
          "base_uri": "https://localhost:8080/"
        },
        "id": "nw5UUvAE3T0E",
        "outputId": "08a1af49-e6cd-44bb-8cb3-04a08eab30a7"
      },
      "id": "nw5UUvAE3T0E",
      "execution_count": 14,
      "outputs": [
        {
          "output_type": "stream",
          "name": "stdout",
          "text": [
            "There are 97168223 rows in the dataset.\n"
          ]
        }
      ]
    },
    {
      "cell_type": "code",
      "source": [
        "wiki_feature.head()"
      ],
      "metadata": {
        "colab": {
          "base_uri": "https://localhost:8080/",
          "height": 206
        },
        "id": "DCehMDzp5x0p",
        "outputId": "37c238b5-459a-4d47-ec3f-7c4ce5b4aa78"
      },
      "id": "DCehMDzp5x0p",
      "execution_count": null,
      "outputs": [
        {
          "output_type": "execute_result",
          "data": {
            "text/plain": [
              "  wikiid                                          wikilabel\n",
              "0   P102                                          Q18608871\n",
              "1    P19   Q18608756 Q18635217 Q26935994 Q18608871 Q9956...\n",
              "2    P22            Q22964231 Q26935994 Q99567026 Q18647519\n",
              "3    P39                       Q18608871 Q26935994 Q7810129\n",
              "4    P88                                          Q18618644"
            ],
            "text/html": [
              "\n",
              "  <div id=\"df-b85ab03d-8f45-43a4-8c17-ca4de278ed89\">\n",
              "    <div class=\"colab-df-container\">\n",
              "      <div>\n",
              "<style scoped>\n",
              "    .dataframe tbody tr th:only-of-type {\n",
              "        vertical-align: middle;\n",
              "    }\n",
              "\n",
              "    .dataframe tbody tr th {\n",
              "        vertical-align: top;\n",
              "    }\n",
              "\n",
              "    .dataframe thead th {\n",
              "        text-align: right;\n",
              "    }\n",
              "</style>\n",
              "<table border=\"1\" class=\"dataframe\">\n",
              "  <thead>\n",
              "    <tr style=\"text-align: right;\">\n",
              "      <th></th>\n",
              "      <th>wikiid</th>\n",
              "      <th>wikilabel</th>\n",
              "    </tr>\n",
              "  </thead>\n",
              "  <tbody>\n",
              "    <tr>\n",
              "      <th>0</th>\n",
              "      <td>P102</td>\n",
              "      <td>Q18608871</td>\n",
              "    </tr>\n",
              "    <tr>\n",
              "      <th>1</th>\n",
              "      <td>P19</td>\n",
              "      <td>Q18608756 Q18635217 Q26935994 Q18608871 Q9956...</td>\n",
              "    </tr>\n",
              "    <tr>\n",
              "      <th>2</th>\n",
              "      <td>P22</td>\n",
              "      <td>Q22964231 Q26935994 Q99567026 Q18647519</td>\n",
              "    </tr>\n",
              "    <tr>\n",
              "      <th>3</th>\n",
              "      <td>P39</td>\n",
              "      <td>Q18608871 Q26935994 Q7810129</td>\n",
              "    </tr>\n",
              "    <tr>\n",
              "      <th>4</th>\n",
              "      <td>P88</td>\n",
              "      <td>Q18618644</td>\n",
              "    </tr>\n",
              "  </tbody>\n",
              "</table>\n",
              "</div>\n",
              "      <button class=\"colab-df-convert\" onclick=\"convertToInteractive('df-b85ab03d-8f45-43a4-8c17-ca4de278ed89')\"\n",
              "              title=\"Convert this dataframe to an interactive table.\"\n",
              "              style=\"display:none;\">\n",
              "        \n",
              "  <svg xmlns=\"http://www.w3.org/2000/svg\" height=\"24px\"viewBox=\"0 0 24 24\"\n",
              "       width=\"24px\">\n",
              "    <path d=\"M0 0h24v24H0V0z\" fill=\"none\"/>\n",
              "    <path d=\"M18.56 5.44l.94 2.06.94-2.06 2.06-.94-2.06-.94-.94-2.06-.94 2.06-2.06.94zm-11 1L8.5 8.5l.94-2.06 2.06-.94-2.06-.94L8.5 2.5l-.94 2.06-2.06.94zm10 10l.94 2.06.94-2.06 2.06-.94-2.06-.94-.94-2.06-.94 2.06-2.06.94z\"/><path d=\"M17.41 7.96l-1.37-1.37c-.4-.4-.92-.59-1.43-.59-.52 0-1.04.2-1.43.59L10.3 9.45l-7.72 7.72c-.78.78-.78 2.05 0 2.83L4 21.41c.39.39.9.59 1.41.59.51 0 1.02-.2 1.41-.59l7.78-7.78 2.81-2.81c.8-.78.8-2.07 0-2.86zM5.41 20L4 18.59l7.72-7.72 1.47 1.35L5.41 20z\"/>\n",
              "  </svg>\n",
              "      </button>\n",
              "      \n",
              "  <style>\n",
              "    .colab-df-container {\n",
              "      display:flex;\n",
              "      flex-wrap:wrap;\n",
              "      gap: 12px;\n",
              "    }\n",
              "\n",
              "    .colab-df-convert {\n",
              "      background-color: #E8F0FE;\n",
              "      border: none;\n",
              "      border-radius: 50%;\n",
              "      cursor: pointer;\n",
              "      display: none;\n",
              "      fill: #1967D2;\n",
              "      height: 32px;\n",
              "      padding: 0 0 0 0;\n",
              "      width: 32px;\n",
              "    }\n",
              "\n",
              "    .colab-df-convert:hover {\n",
              "      background-color: #E2EBFA;\n",
              "      box-shadow: 0px 1px 2px rgba(60, 64, 67, 0.3), 0px 1px 3px 1px rgba(60, 64, 67, 0.15);\n",
              "      fill: #174EA6;\n",
              "    }\n",
              "\n",
              "    [theme=dark] .colab-df-convert {\n",
              "      background-color: #3B4455;\n",
              "      fill: #D2E3FC;\n",
              "    }\n",
              "\n",
              "    [theme=dark] .colab-df-convert:hover {\n",
              "      background-color: #434B5C;\n",
              "      box-shadow: 0px 1px 3px 1px rgba(0, 0, 0, 0.15);\n",
              "      filter: drop-shadow(0px 1px 2px rgba(0, 0, 0, 0.3));\n",
              "      fill: #FFFFFF;\n",
              "    }\n",
              "  </style>\n",
              "\n",
              "      <script>\n",
              "        const buttonEl =\n",
              "          document.querySelector('#df-b85ab03d-8f45-43a4-8c17-ca4de278ed89 button.colab-df-convert');\n",
              "        buttonEl.style.display =\n",
              "          google.colab.kernel.accessAllowed ? 'block' : 'none';\n",
              "\n",
              "        async function convertToInteractive(key) {\n",
              "          const element = document.querySelector('#df-b85ab03d-8f45-43a4-8c17-ca4de278ed89');\n",
              "          const dataTable =\n",
              "            await google.colab.kernel.invokeFunction('convertToInteractive',\n",
              "                                                     [key], {});\n",
              "          if (!dataTable) return;\n",
              "\n",
              "          const docLinkHtml = 'Like what you see? Visit the ' +\n",
              "            '<a target=\"_blank\" href=https://colab.research.google.com/notebooks/data_table.ipynb>data table notebook</a>'\n",
              "            + ' to learn more about interactive tables.';\n",
              "          element.innerHTML = '';\n",
              "          dataTable['output_type'] = 'display_data';\n",
              "          await google.colab.output.renderOutput(dataTable, element);\n",
              "          const docLink = document.createElement('div');\n",
              "          docLink.innerHTML = docLinkHtml;\n",
              "          element.appendChild(docLink);\n",
              "        }\n",
              "      </script>\n",
              "    </div>\n",
              "  </div>\n",
              "  "
            ]
          },
          "metadata": {},
          "execution_count": 11
        }
      ]
    },
    {
      "cell_type": "code",
      "source": [
        "total_duplicate_titles = sum(wiki_feature[\"wikiid\"].duplicated())\n",
        "print(f\"There are {total_duplicate_titles} duplicate ids.\")"
      ],
      "metadata": {
        "colab": {
          "base_uri": "https://localhost:8080/"
        },
        "id": "drK_7FSw34Yv",
        "outputId": "ef0440eb-3bf1-401c-e4e6-374054f883fb"
      },
      "id": "drK_7FSw34Yv",
      "execution_count": null,
      "outputs": [
        {
          "output_type": "stream",
          "name": "stdout",
          "text": [
            "There are 12 duplicate ids.\n"
          ]
        }
      ]
    },
    {
      "cell_type": "code",
      "source": [
        "wiki_data_filtered = wiki_feature.groupby(\"wikilabel\").filter(lambda x: len(x) > 1)\n",
        "del wiki_feature\n",
        "wiki_data_filtered.shape\n",
        "\n"
      ],
      "metadata": {
        "colab": {
          "base_uri": "https://localhost:8080/"
        },
        "id": "IB22Hoa-46zL",
        "outputId": "d9945387-c6ce-456e-f7e6-b6817d775029"
      },
      "id": "IB22Hoa-46zL",
      "execution_count": null,
      "outputs": [
        {
          "output_type": "execute_result",
          "data": {
            "text/plain": [
              "(96958904, 2)"
            ]
          },
          "metadata": {},
          "execution_count": 33
        }
      ]
    },
    {
      "cell_type": "markdown",
      "source": [
        "**Convert the string labels to lists of strings**"
      ],
      "metadata": {
        "id": "2QfPX5q55cOq"
      },
      "id": "2QfPX5q55cOq"
    },
    {
      "cell_type": "code",
      "source": [
        "xpdf = pd.DataFrame(wiki_feature[\"wikilabel\"][:10])\n",
        "xpdf"
      ],
      "metadata": {
        "colab": {
          "base_uri": "https://localhost:8080/",
          "height": 363
        },
        "id": "_328cYyV8U6c",
        "outputId": "cddfaa48-50f1-43fa-f537-228ea4754783"
      },
      "id": "_328cYyV8U6c",
      "execution_count": null,
      "outputs": [
        {
          "output_type": "execute_result",
          "data": {
            "text/plain": [
              "                                           wikilabel\n",
              "0                                          Q18608871\n",
              "1   Q18608756 Q18635217 Q26935994 Q18608871 Q9956...\n",
              "2            Q22964231 Q26935994 Q99567026 Q18647519\n",
              "3                       Q18608871 Q26935994 Q7810129\n",
              "4                                          Q18618644\n",
              "5                                          Q10876391\n",
              "6                                          Q21546143\n",
              "7                                      Q532 Q1852859\n",
              "8                                             Q55488\n",
              "9                                      Q532 Q1852859"
            ],
            "text/html": [
              "\n",
              "  <div id=\"df-9a2bb3ff-f249-4d57-b4c8-e8e5af064cd2\">\n",
              "    <div class=\"colab-df-container\">\n",
              "      <div>\n",
              "<style scoped>\n",
              "    .dataframe tbody tr th:only-of-type {\n",
              "        vertical-align: middle;\n",
              "    }\n",
              "\n",
              "    .dataframe tbody tr th {\n",
              "        vertical-align: top;\n",
              "    }\n",
              "\n",
              "    .dataframe thead th {\n",
              "        text-align: right;\n",
              "    }\n",
              "</style>\n",
              "<table border=\"1\" class=\"dataframe\">\n",
              "  <thead>\n",
              "    <tr style=\"text-align: right;\">\n",
              "      <th></th>\n",
              "      <th>wikilabel</th>\n",
              "    </tr>\n",
              "  </thead>\n",
              "  <tbody>\n",
              "    <tr>\n",
              "      <th>0</th>\n",
              "      <td>Q18608871</td>\n",
              "    </tr>\n",
              "    <tr>\n",
              "      <th>1</th>\n",
              "      <td>Q18608756 Q18635217 Q26935994 Q18608871 Q9956...</td>\n",
              "    </tr>\n",
              "    <tr>\n",
              "      <th>2</th>\n",
              "      <td>Q22964231 Q26935994 Q99567026 Q18647519</td>\n",
              "    </tr>\n",
              "    <tr>\n",
              "      <th>3</th>\n",
              "      <td>Q18608871 Q26935994 Q7810129</td>\n",
              "    </tr>\n",
              "    <tr>\n",
              "      <th>4</th>\n",
              "      <td>Q18618644</td>\n",
              "    </tr>\n",
              "    <tr>\n",
              "      <th>5</th>\n",
              "      <td>Q10876391</td>\n",
              "    </tr>\n",
              "    <tr>\n",
              "      <th>6</th>\n",
              "      <td>Q21546143</td>\n",
              "    </tr>\n",
              "    <tr>\n",
              "      <th>7</th>\n",
              "      <td>Q532 Q1852859</td>\n",
              "    </tr>\n",
              "    <tr>\n",
              "      <th>8</th>\n",
              "      <td>Q55488</td>\n",
              "    </tr>\n",
              "    <tr>\n",
              "      <th>9</th>\n",
              "      <td>Q532 Q1852859</td>\n",
              "    </tr>\n",
              "  </tbody>\n",
              "</table>\n",
              "</div>\n",
              "      <button class=\"colab-df-convert\" onclick=\"convertToInteractive('df-9a2bb3ff-f249-4d57-b4c8-e8e5af064cd2')\"\n",
              "              title=\"Convert this dataframe to an interactive table.\"\n",
              "              style=\"display:none;\">\n",
              "        \n",
              "  <svg xmlns=\"http://www.w3.org/2000/svg\" height=\"24px\"viewBox=\"0 0 24 24\"\n",
              "       width=\"24px\">\n",
              "    <path d=\"M0 0h24v24H0V0z\" fill=\"none\"/>\n",
              "    <path d=\"M18.56 5.44l.94 2.06.94-2.06 2.06-.94-2.06-.94-.94-2.06-.94 2.06-2.06.94zm-11 1L8.5 8.5l.94-2.06 2.06-.94-2.06-.94L8.5 2.5l-.94 2.06-2.06.94zm10 10l.94 2.06.94-2.06 2.06-.94-2.06-.94-.94-2.06-.94 2.06-2.06.94z\"/><path d=\"M17.41 7.96l-1.37-1.37c-.4-.4-.92-.59-1.43-.59-.52 0-1.04.2-1.43.59L10.3 9.45l-7.72 7.72c-.78.78-.78 2.05 0 2.83L4 21.41c.39.39.9.59 1.41.59.51 0 1.02-.2 1.41-.59l7.78-7.78 2.81-2.81c.8-.78.8-2.07 0-2.86zM5.41 20L4 18.59l7.72-7.72 1.47 1.35L5.41 20z\"/>\n",
              "  </svg>\n",
              "      </button>\n",
              "      \n",
              "  <style>\n",
              "    .colab-df-container {\n",
              "      display:flex;\n",
              "      flex-wrap:wrap;\n",
              "      gap: 12px;\n",
              "    }\n",
              "\n",
              "    .colab-df-convert {\n",
              "      background-color: #E8F0FE;\n",
              "      border: none;\n",
              "      border-radius: 50%;\n",
              "      cursor: pointer;\n",
              "      display: none;\n",
              "      fill: #1967D2;\n",
              "      height: 32px;\n",
              "      padding: 0 0 0 0;\n",
              "      width: 32px;\n",
              "    }\n",
              "\n",
              "    .colab-df-convert:hover {\n",
              "      background-color: #E2EBFA;\n",
              "      box-shadow: 0px 1px 2px rgba(60, 64, 67, 0.3), 0px 1px 3px 1px rgba(60, 64, 67, 0.15);\n",
              "      fill: #174EA6;\n",
              "    }\n",
              "\n",
              "    [theme=dark] .colab-df-convert {\n",
              "      background-color: #3B4455;\n",
              "      fill: #D2E3FC;\n",
              "    }\n",
              "\n",
              "    [theme=dark] .colab-df-convert:hover {\n",
              "      background-color: #434B5C;\n",
              "      box-shadow: 0px 1px 3px 1px rgba(0, 0, 0, 0.15);\n",
              "      filter: drop-shadow(0px 1px 2px rgba(0, 0, 0, 0.3));\n",
              "      fill: #FFFFFF;\n",
              "    }\n",
              "  </style>\n",
              "\n",
              "      <script>\n",
              "        const buttonEl =\n",
              "          document.querySelector('#df-9a2bb3ff-f249-4d57-b4c8-e8e5af064cd2 button.colab-df-convert');\n",
              "        buttonEl.style.display =\n",
              "          google.colab.kernel.accessAllowed ? 'block' : 'none';\n",
              "\n",
              "        async function convertToInteractive(key) {\n",
              "          const element = document.querySelector('#df-9a2bb3ff-f249-4d57-b4c8-e8e5af064cd2');\n",
              "          const dataTable =\n",
              "            await google.colab.kernel.invokeFunction('convertToInteractive',\n",
              "                                                     [key], {});\n",
              "          if (!dataTable) return;\n",
              "\n",
              "          const docLinkHtml = 'Like what you see? Visit the ' +\n",
              "            '<a target=\"_blank\" href=https://colab.research.google.com/notebooks/data_table.ipynb>data table notebook</a>'\n",
              "            + ' to learn more about interactive tables.';\n",
              "          element.innerHTML = '';\n",
              "          dataTable['output_type'] = 'display_data';\n",
              "          await google.colab.output.renderOutput(dataTable, element);\n",
              "          const docLink = document.createElement('div');\n",
              "          docLink.innerHTML = docLinkHtml;\n",
              "          element.appendChild(docLink);\n",
              "        }\n",
              "      </script>\n",
              "    </div>\n",
              "  </div>\n",
              "  "
            ]
          },
          "metadata": {},
          "execution_count": 16
        }
      ]
    },
    {
      "cell_type": "code",
      "source": [
        "chunks = pd.read_csv('wikifeature.csv', names=['wikiid', 'wikilabel'],error_bad_lines=False,quoting=csv.QUOTE_NONE,chunksize= 20000000)\n",
        "i = 0\n",
        "while(True):\n",
        "    try:\n",
        "        wiki_feature = next(chunks)\n",
        "        if wiki_feature.shape[0] < 1:\n",
        "            break;\n",
        "        wiki_data_filtered = wiki_feature.groupby(\"wikilabel\").filter(lambda x: len(x) > 1)\n",
        "        del wiki_feature\n",
        "        wiki_data_filtered[\"wikilabel\"] = wiki_data_filtered[\"wikilabel\"].apply(lambda x: (str(x).lstrip(\" \").split(\" \")))\n",
        "        i +=1\n",
        "        print(i)\n",
        "        if(i == 1):\n",
        "          break\n",
        "        #gc.collect()\n",
        "    except Exception as e:\n",
        "        print(\"error\")\n"
      ],
      "metadata": {
        "id": "WQd3Rm5JGhTC"
      },
      "id": "WQd3Rm5JGhTC",
      "execution_count": null,
      "outputs": []
    },
    {
      "cell_type": "code",
      "source": [
        "wiki_data_filtered.head()"
      ],
      "metadata": {
        "colab": {
          "base_uri": "https://localhost:8080/",
          "height": 206
        },
        "id": "arNe3K0tNUU1",
        "outputId": "a01da915-1d0f-4de9-9c11-fd7c9c0c1677"
      },
      "id": "arNe3K0tNUU1",
      "execution_count": null,
      "outputs": [
        {
          "output_type": "execute_result",
          "data": {
            "text/plain": [
              "     wikiid         wikilabel\n",
              "0      P102       [Q18608871]\n",
              "4       P88       [Q18618644]\n",
              "5    Q10000       [Q10876391]\n",
              "6  Q1000007       [Q21546143]\n",
              "7   Q100001  [Q532, Q1852859]"
            ],
            "text/html": [
              "\n",
              "  <div id=\"df-a2e0aa69-51de-4ed4-aff7-3c40a31c3de7\">\n",
              "    <div class=\"colab-df-container\">\n",
              "      <div>\n",
              "<style scoped>\n",
              "    .dataframe tbody tr th:only-of-type {\n",
              "        vertical-align: middle;\n",
              "    }\n",
              "\n",
              "    .dataframe tbody tr th {\n",
              "        vertical-align: top;\n",
              "    }\n",
              "\n",
              "    .dataframe thead th {\n",
              "        text-align: right;\n",
              "    }\n",
              "</style>\n",
              "<table border=\"1\" class=\"dataframe\">\n",
              "  <thead>\n",
              "    <tr style=\"text-align: right;\">\n",
              "      <th></th>\n",
              "      <th>wikiid</th>\n",
              "      <th>wikilabel</th>\n",
              "    </tr>\n",
              "  </thead>\n",
              "  <tbody>\n",
              "    <tr>\n",
              "      <th>0</th>\n",
              "      <td>P102</td>\n",
              "      <td>[Q18608871]</td>\n",
              "    </tr>\n",
              "    <tr>\n",
              "      <th>4</th>\n",
              "      <td>P88</td>\n",
              "      <td>[Q18618644]</td>\n",
              "    </tr>\n",
              "    <tr>\n",
              "      <th>5</th>\n",
              "      <td>Q10000</td>\n",
              "      <td>[Q10876391]</td>\n",
              "    </tr>\n",
              "    <tr>\n",
              "      <th>6</th>\n",
              "      <td>Q1000007</td>\n",
              "      <td>[Q21546143]</td>\n",
              "    </tr>\n",
              "    <tr>\n",
              "      <th>7</th>\n",
              "      <td>Q100001</td>\n",
              "      <td>[Q532, Q1852859]</td>\n",
              "    </tr>\n",
              "  </tbody>\n",
              "</table>\n",
              "</div>\n",
              "      <button class=\"colab-df-convert\" onclick=\"convertToInteractive('df-a2e0aa69-51de-4ed4-aff7-3c40a31c3de7')\"\n",
              "              title=\"Convert this dataframe to an interactive table.\"\n",
              "              style=\"display:none;\">\n",
              "        \n",
              "  <svg xmlns=\"http://www.w3.org/2000/svg\" height=\"24px\"viewBox=\"0 0 24 24\"\n",
              "       width=\"24px\">\n",
              "    <path d=\"M0 0h24v24H0V0z\" fill=\"none\"/>\n",
              "    <path d=\"M18.56 5.44l.94 2.06.94-2.06 2.06-.94-2.06-.94-.94-2.06-.94 2.06-2.06.94zm-11 1L8.5 8.5l.94-2.06 2.06-.94-2.06-.94L8.5 2.5l-.94 2.06-2.06.94zm10 10l.94 2.06.94-2.06 2.06-.94-2.06-.94-.94-2.06-.94 2.06-2.06.94z\"/><path d=\"M17.41 7.96l-1.37-1.37c-.4-.4-.92-.59-1.43-.59-.52 0-1.04.2-1.43.59L10.3 9.45l-7.72 7.72c-.78.78-.78 2.05 0 2.83L4 21.41c.39.39.9.59 1.41.59.51 0 1.02-.2 1.41-.59l7.78-7.78 2.81-2.81c.8-.78.8-2.07 0-2.86zM5.41 20L4 18.59l7.72-7.72 1.47 1.35L5.41 20z\"/>\n",
              "  </svg>\n",
              "      </button>\n",
              "      \n",
              "  <style>\n",
              "    .colab-df-container {\n",
              "      display:flex;\n",
              "      flex-wrap:wrap;\n",
              "      gap: 12px;\n",
              "    }\n",
              "\n",
              "    .colab-df-convert {\n",
              "      background-color: #E8F0FE;\n",
              "      border: none;\n",
              "      border-radius: 50%;\n",
              "      cursor: pointer;\n",
              "      display: none;\n",
              "      fill: #1967D2;\n",
              "      height: 32px;\n",
              "      padding: 0 0 0 0;\n",
              "      width: 32px;\n",
              "    }\n",
              "\n",
              "    .colab-df-convert:hover {\n",
              "      background-color: #E2EBFA;\n",
              "      box-shadow: 0px 1px 2px rgba(60, 64, 67, 0.3), 0px 1px 3px 1px rgba(60, 64, 67, 0.15);\n",
              "      fill: #174EA6;\n",
              "    }\n",
              "\n",
              "    [theme=dark] .colab-df-convert {\n",
              "      background-color: #3B4455;\n",
              "      fill: #D2E3FC;\n",
              "    }\n",
              "\n",
              "    [theme=dark] .colab-df-convert:hover {\n",
              "      background-color: #434B5C;\n",
              "      box-shadow: 0px 1px 3px 1px rgba(0, 0, 0, 0.15);\n",
              "      filter: drop-shadow(0px 1px 2px rgba(0, 0, 0, 0.3));\n",
              "      fill: #FFFFFF;\n",
              "    }\n",
              "  </style>\n",
              "\n",
              "      <script>\n",
              "        const buttonEl =\n",
              "          document.querySelector('#df-a2e0aa69-51de-4ed4-aff7-3c40a31c3de7 button.colab-df-convert');\n",
              "        buttonEl.style.display =\n",
              "          google.colab.kernel.accessAllowed ? 'block' : 'none';\n",
              "\n",
              "        async function convertToInteractive(key) {\n",
              "          const element = document.querySelector('#df-a2e0aa69-51de-4ed4-aff7-3c40a31c3de7');\n",
              "          const dataTable =\n",
              "            await google.colab.kernel.invokeFunction('convertToInteractive',\n",
              "                                                     [key], {});\n",
              "          if (!dataTable) return;\n",
              "\n",
              "          const docLinkHtml = 'Like what you see? Visit the ' +\n",
              "            '<a target=\"_blank\" href=https://colab.research.google.com/notebooks/data_table.ipynb>data table notebook</a>'\n",
              "            + ' to learn more about interactive tables.';\n",
              "          element.innerHTML = '';\n",
              "          dataTable['output_type'] = 'display_data';\n",
              "          await google.colab.output.renderOutput(dataTable, element);\n",
              "          const docLink = document.createElement('div');\n",
              "          docLink.innerHTML = docLinkHtml;\n",
              "          element.appendChild(docLink);\n",
              "        }\n",
              "      </script>\n",
              "    </div>\n",
              "  </div>\n",
              "  "
            ]
          },
          "metadata": {},
          "execution_count": 9
        }
      ]
    },
    {
      "cell_type": "code",
      "source": [
        "chunks = pd.read_csv('indexed.csv', names=['wikiid', 'text'],error_bad_lines=False,quoting=csv.QUOTE_NONE,chunksize= 500000)\n",
        "i = 0\n",
        "\n",
        "while(True):\n",
        "    try:\n",
        "        indexed = next(chunks)\n",
        "        if indexed.shape[0] < 1:\n",
        "            break;\n",
        "        subset = pd.merge(indexed, wiki_data_filtered, how='inner', on='wikiid')\n",
        "        del wiki_data_filtered\n",
        "        del indexed\n",
        "        \n",
        "        i +=1\n",
        "        print(i)\n",
        "        if(i == 1):\n",
        "          break\n",
        "        #gc.collect()\n",
        "    except Exception as e:\n",
        "        print(\"error\")\n"
      ],
      "metadata": {
        "id": "2bYMqf0jSuoI"
      },
      "id": "2bYMqf0jSuoI",
      "execution_count": null,
      "outputs": []
    },
    {
      "cell_type": "markdown",
      "source": [
        "**Multi-label binarization**"
      ],
      "metadata": {
        "id": "aFGtJljFoauo"
      },
      "id": "aFGtJljFoauo"
    },
    {
      "cell_type": "code",
      "source": [
        "wikilabel = tf.ragged.constant(train_df[\"wikilabel\"].values)\n",
        "lookup = tf.keras.layers.StringLookup(output_mode=\"multi_hot\")\n",
        "lookup.adapt(wikilabel)\n",
        "vocab = lookup.get_vocabulary()\n",
        "\n",
        "\n",
        "def invert_multi_hot(encoded_labels):\n",
        "    \"\"\"Reverse a single multi-hot encoded label to a tuple of vocab terms.\"\"\"\n",
        "    hot_indices = np.argwhere(encoded_labels == 1.0)[..., 0]\n",
        "    return np.take(vocab, hot_indices)\n",
        "\n",
        "\n",
        "print(\"Vocabulary:\\n\")\n",
        "print(vocab)"
      ],
      "metadata": {
        "colab": {
          "base_uri": "https://localhost:8080/"
        },
        "id": "eUUox8GZoeam",
        "outputId": "bc4d3b32-c197-435c-a3d4-55eb0c81afe3"
      },
      "id": "eUUox8GZoeam",
      "execution_count": null,
      "outputs": [
        {
          "output_type": "stream",
          "name": "stdout",
          "text": [
            "Vocabulary:\n",
            "\n",
            "['[UNK]', \"['Q5']\", \"['Q16521']\", \"['Q4167836']\", \"['Q7187']\", \"['Q8054']\", \"['Q4167410']\", \"['Q11266439']\", \"['Q79007']\", \"['Q486972']\", \"['Q482994']\", \"['Q11424']\", \"['Q13406463']\", \"['Q8502']\", \"['Q532']\", \"['Q3863']\", \"['Q4022']\", \"['Q23397']\", \"['Q2996394']\", \"['Q3305213']\", \"['Q355304']\", \"['Q4830453']\", '\"[\\'Q277338\\'', \"['Q17343829']\", \"['Q27020041']\", '\"[\\'Q427087\\'', \"['Q16970']\", \"['Q215380']\", \"['Q3558970']\", \"['Q7725634']\", \"['Q34442']\", \"['Q22808320']\", \"['Q23038290']\", \"['Q55488']\", \"['Q19389637']\", \"['Q26211545']\", \"['Q23442']\", \"['Q101352']\", \"['Q13442814']\", \"['Q484170']\", \"['Q134556']\", \"['Q105543609']\", \"['Q41176']\", \"['Q18340514']\", \"['Q14860489']\", \"['Q7889']\", \"['Q476028']\", '\"[\\'Q532\\'', '\"[\\'Q4830453\\'', \"['Q5398426']\", \"['Q3947']\", \"['Q5084']\", \"['Q43229']\", '\"[\\'Q11173\\'', \"['Q12308941']\", \"['Q11173']\", \"['Q112193867']\", \"['Q21672098']\", \"['Q1093829']\", \"['Q811979']\", \"['Q14350']\", \"['Q17633526']\", \"['Q56436498']\", \"['Q26887310']\", \"['Q54050']\", \"['Q5633421']\", \"['Q11753321']\", \"['Q253019']\", \"['Q1248784']\", \"['Q9842']\", \"['Q24862']\", '\"[\\'Q34770\\'', \"['Q47461344']\", \"['Q13433827']\", \"['Q9826']\", \"['Q34763']\", \"['Q2389082']\", \"['Q23894233']\", \"['Q16510064']\", \"['Q67015883']\", \"['Q498162']\", \"['Q1529096']\", \"['Q65661087']\", \"['Q7278']\", \"['Q11446']\", \"['Q3914']\", '\"[\\'Q523\\'', \"['Q1134686']\", \"['Q24046192']\", \"['Q22698']\", \"['Q15056995']\", \"['Q123705']\", \"['Q26895936']\", \"['Q11879590']\", \"['Q59541917']\", '\"[\\'Q15632617\\'', \"['Q33506']\", \"['Q46190676']\", \"['Q176799']\", \"['Q39594']\", '\"[\\'Q1248784\\'', \"['Q839954']\", \"['Q3957']\", \"['Q19832486']\", \"['Q2732840']\", '\"[\\'Q16521\\'', '\"[\\'Q8054\\'', \"['Q3918']\", \"['Q15127012']\", \"['Q21191270']\", \"['Q3257686']\", '\"[\\'Q19692072\\'', \"['Q41710']\", \"['Q41298']\", \"['Q15416']\", '\"[\\'Q486972\\'', \"['Q2334719']\", \"['Q3464665']\", \"['Q17524420']\", '\"[\\'Q21199\\'', '\"[\\'Q55488\\'', \"['Q13100073']\", \"['Q12089225']\", \"['Q202444']\", \"['Q15056993']\", \"['Q12323']\", \"['Q310890']\", \"['Q23413']\", \"['Q3700011']\", '\"[\\'Q16970\\'', \"['Q5058355']\", \"['Q178561']\", \"['Q4164871']\", \"['Q17051044']\", \"['Q56428020']\", \"['Q11032']\", \"['Q735428']\", \"['Q728937']\", \"['Q18663566']\", \"['Q262166']\", \"['Q124714']\", \"['Q169930']\", \"['Q46831']\", '\"[\\'Q7187\\'', \"['Q188509']\", '\"[\\'Q928830\\'', \"['Q747074']\", \"['Q618779']\", \"['Q506240']\", \"['Q2074737']\", \"['Q3231690']\", \"['Q74817647']\", \"['Q1338798']\", \"['Q16917']\", \"['Q273057']\", \"['Q191067']\", '\"[\\'Q5633421\\'', \"['Q18127']\", \"['Q327333']\", \"['Q26894053']\", \"['Q634099']\", \"['Q40231']\", '\"[\\'Q3957\\'', \"['Q479053']\", \"['Q1002697']\", \"['Q847017']\", \"['Q3184121']\", \"['Q15221623']\", \"['Q24529780']\", \"['Q15647814']\", \"['Q40080']\", \"['Q1616075']\", \"['Q12280']\", \"['Q35127']\", '\"[\\'Q498162\\'', \"['Q965568']\", \"['Q174782']\", \"['Q4504495']\", \"['Q751876']\", \"['Q4285979']\", \"['Q483110']\", \"['Q398141']\", \"['Q751708']\", \"['Q39816']\", \"['Q39715']\", \"['Q27686']\", \"['Q98645843']\", \"['Q14204246']\", '\"[\\'Q929833\\'', \"['Q163740']\", \"['Q46135307']\", \"['Q820477']\", \"['Q1426271']\", \"['Q46970']\", \"['Q21850100']\", \"['Q3887']\", \"['Q15243209']\", '\"[\\'Q8502\\'', \"['Q3331189']\", \"['Q58483083']\", \"['Q39614']\", \"['Q5153359']\", \"['Q726']\", '\"[\\'Q3918\\'', \"['Q860861']\", '\"[\\'Q13442814\\'', \"['Q7397']\", \"['Q2514025']\", \"['Q159334']\", \"['Q18536594']\", \"['Q736917']\", \"['Q29964144']\", \"['Q133056']\", \"['Q28337']\", '\"[\\'Q318\\'', \"['Q1076486']\", \"['Q3937']\", \"['Q47521']\", '\"[\\'Q1093829\\'', \"['Q5185279']\", \"['Q1077097']\", '\"[\\'Q47150325\\'', \"['Q31855']\", \"['Q577']\", \"['Q1302249']\", \"['Q1115575']\", \"['Q811704']\", \"['Q12397176']\", '\"[\\'Q5084\\'', '\"[\\'Q43229\\'', \"['Q489357']\", '\"[\\'Q644371\\'', \"['Q585956']\", \"['Q35666']\", \"['Q160091']\", \"['Q131681']\", \"['Q34038']\", \"['Q29791211']\", \"['Q104635718']\", \"['Q108325']\", \"['Q679165']\", \"['Q4414033']\", '\"[\\'Q2334719\\'', \"['Q13417114']\", \"['Q188451']\", \"['Q70208']\", \"['Q14795564']\", \"['Q4498974']\", \"['Q11315']\", \"['Q12284']\", '\"[\\'Q1142192\\'', \"['Q21198342']\", \"['Q26213387']\", \"['Q51049922']\", \"['Q19692072']\", \"['Q473972']\", '\"[\\'Q515\\'', '\"[\\'Q11266439\\'', \"['Q28640']\", \"['Q26896697']\", \"['Q985488']\", \"['Q24354']\", \"['Q20010800']\", '\"[\\'Q15127012\\'', \"['Q515']\", \"['Q2085381']\", \"['Q2001305']\", \"['Q18608583']\", \"['Q184188']\", \"['Q4421']\", \"['Q559026']\", \"['Q152450']\", \"['Q2590631']\", \"['Q18761202']\", '\"[\\'Q201448\\'', \"['Q1057954']\", \"['Q17018380']\", \"['Q13406554']\", '\"[\\'Q9826\\'', \"['Q3146899']\", \"['Q22807280']\", \"['Q838795']\", \"['Q25295']\", \"['Q207694']\", \"['Q16560']\", \"['Q783794']\", \"['Q618123']\", \"['Q7241458']\", \"['Q51031626']\", \"['Q106612246']\", '\"[\\'Q253019\\'', \"['Q15632617']\", \"['Q74047']\", \"['Q1500350']\", \"['Q14659']\", '\"[\\'Q101352\\'', \"['Q13393265']\", '\"[\\'Q3257686\\'', \"['Q149566']\", \"['Q6784672']\", '\"[\\'Q55788864\\'', \"['Q3950']\", \"['Q115595777']\", \"['Q1530705']\", \"['Q180684']\", \"['Q623109']\", '\"[\\'Q15303838\\'', \"['Q62447']\", \"['Q1154710']\", \"['Q11303']\", \"['Q2046310']\", \"['Q1952852']\", \"['Q11060274']\", \"['Q63032896']\", '\"[\\'Q24354\\'', \"['Q537127']\", \"['Q3677932']\", \"['Q179049']\", \"['Q1402592']\", '\"[\\'Q61089180\\'', \"['Q44613']\", \"['Q5393308']\", \"['Q12136']\", '\"[\\'Q15630849\\'', '\"[\\'Q159334\\'', \"['Q4671277']\", '\"[\\'Q5\\'', \"['Q87167']\", \"['Q61089180']\", '\"[\\'Q490933\\'', \"['Q8436']\", \"['Q928830']\", \"['Q13027888']\", \"['Q986065']\", \"['Q55678']\", \"['Q868557']\", \"['Q15911738']\", '\"[\\'Q13393265\\'', \"['Q15238777']\", \"['Q10929058']\", \"['Q4989906']\", '\"[\\'Q23397\\'', \"['Q875016']\", \"['Q2367225']\", \"['Q105774620']\", '\"[\\'Q4022\\'', '\"[\\'Q12136\\'', \"['Q178790']\", \"['Q3001412']\", \"['Q19692233']\", '\"[\\'Q484170\\'', \"['Q125191']\", \"['Q1194951']\", \"['Q17362920']\", '\"[\\'Q3947\\'', '\"[\\'Q41176\\'', \"['Q22988604']\", '\"[\\'Q839954\\'', \"['Q786820']\", \"['Q15142894']\", \"['Q32815']\", \"['Q28111']\", \"['Q15261477']\", \"['Q1131296']\", '\"[\\'Q23413\\'', \"['Q476068']\", \"['Q27020779']\", \"['Q82794']\", \"['Q687188']\", \"['Q16695773']\", \"['Q695850']\", \"['Q187971']\", \"['Q2376564']\", \"['Q174736']\", \"['Q2485448']\", \"['Q184358']\", \"['Q5773747']\", \"['Q3240003']\", \"['Q210167']\", \"['Q1573906']\", \"['Q15057021']\", '\"[\\'Q16917\\'', \"['Q131596']\", \"['Q18524218']\", \"['Q1365179']\", \"['Q842402']\", \"['Q2048319']\", \"['Q7075']\", \"['Q48204']\", \"['Q845945']\", \"['Q17517379']\", \"['Q15125752']\", \"['Q40357']\", \"['Q879050']\", '\"[\\'Q3914\\'', \"['Q1989945']\", \"['Q19842659']\", \"['Q65943']\", \"['Q22746']\", '\"[\\'Q811979\\'', \"['Q341']\", \"['Q19887878']\", '\"[\\'Q7366\\'', \"['Q3917681']\", \"['Q14839548']\", \"['Q2088357']\", \"['Q877358']\", \"['Q3812392']\", \"['Q23012917']\", \"['Q958314']\", \"['Q131569']\", \"['Q813672']\", \"['Q777120']\", \"['Q355567']\", '\"[\\'Q33506\\'', '\"[\\'Q188509\\'', \"['Q659103']\", \"['Q47154513']\", \"['Q277338']\", \"['Q15275719']\", '\"[\\'Q759421\\'', \"['Q35509']\", \"['Q41253']\", \"['Q33384']\", \"['Q11436']\", \"['Q318']\", \"['Q1785071']\", \"['Q112826905']\", '\"[\\'Q123705\\'', \"['Q30432511']\", \"['Q15630849']\", \"['Q2175765']\", \"['Q17442446']\", \"['Q10438042']\", \"['Q34627']\", \"['Q2624046']\", \"['Q1244442']\", \"['Q3055118']\", \"['Q641226']\", \"['Q2385804']\", \"['Q18333556']\", \"['Q157031']\", \"['Q132821']\", \"['Q12973014']\", '\"[\\'Q134556\\'', \"['Q2983893']\", \"['Q24764']\", \"['Q16887036']\", '\"[\\'Q7725634\\'', \"['Q8514']\", \"['Q220505']\", \"['Q2179958']\", \"['Q189004']\", \"['Q18759100']\", \"['Q1555508']\", \"['Q155239']\", \"['Q814648']\", \"['Q104696061']\", \"['Q378427']\", \"['Q5741069']\", \"['Q3504085']\", \"['Q249556']\", \"['Q107357104']\", '\"[\\'Q12308941\\'', \"['Q4663903']\", \"['Q38033430']\", \"['Q34770']\", \"['Q1307276']\", \"['Q1076052']\", '\"[\\'Q47345468\\'', \"['Q56557504']\", '\"[\\'Q188451\\'', \"['Q744913']\", \"['Q5327369']\", \"['Q36330215']\", \"['Q62391930']\", \"['Q28147344']\", \"['Q2198484']\", '\"[\\'Q133346\\'', \"['Q4886']\", \"['Q187223']\", '\"[\\'Q846110\\'', \"['Q737498']\", \"['Q50823455']\", \"['Q5783996']\", \"['Q167346']\", \"['Q15911314']\", \"['Q12813115']\", \"['Q11755959']\", '\"[\\'Q751708\\'', '\"[\\'Q1114461\\'', \"['Q9035798']\", \"['Q11707']\", \"['Q83620']\", \"['Q6805426']\", \"['Q21167233']\", '\"[\\'Q284416\\'', \"['Q740752']\", \"['Q12225020']\", \"['Q811430']\", \"['Q3409032']\", '\"[\\'Q55789477\\'', '\"[\\'Q1002697\\'', \"['Q42211429']\", \"['Q27971968']\", \"['Q277759']\", \"['Q6270791']\", \"['Q180958']\", \"['Q15217609']\", \"['Q1190554']\", '\"[\\'Q2065736\\'', \"['Q56351315']\", \"['Q166735']\", \"['Q132241']\", \"['Q19796778']\", '\"[\\'Q20871353\\'', \"['Q179700']\", \"['Q2989398']\", \"['Q15991303']\", \"['Q1079023']\", '\"[\\'Q3305213\\'', \"['Q1762059']\", \"['Q12518']\", \"['Q182676']\", \"['Q1371849']\", \"['Q740445']\", \"['Q543654']\", \"['Q428661']\", '\"[\\'Q327333\\'', \"['Q20202352']\", \"['Q1289426']\", \"['Q10876391']\", '\"[\\'Q4167410\\'', '\"[\\'Q39614\\'', \"['Q861911']\", \"['Q105390172']\", \"['Q212198']\", '\"[\\'Q42303753\\'', \"['Q43501']\", \"['Q18691601']\", \"['Q1114461']\", \"['Q46195901']\", '\"[\\'Q875538\\'', \"['Q44782']\", \"['Q167270']\", \"['Q6881511']\", \"['Q561431']\", \"['Q2811']\", \"['Q17489143']\", \"['Q16334295']\", \"['Q151885']\", \"['Q46865913']\", \"['Q431289']\", \"['Q317557']\", \"['Q1875630']\", \"['Q65770283']\", \"['Q55818']\", \"['Q2031836']\", '\"[\\'Q163740\\'', \"['Q846659']\", \"['Q6979593']\", \"['Q23866334']\", \"['Q20541692']\", \"['Q186516']\", \"['Q185113']\", \"['Q1663017']\", '\"[\\'Q13406463\\'', \"['Q61878']\", \"['Q2990963']\", \"['Q170321']\", \"['Q160742']\", \"['Q14645593']\", \"['Q93184']\", \"['Q63952888']\", \"['Q35823051']\", \"['Q198']\", \"['Q46622']\", \"['Q294414']\", \"['Q2046325']\", '\"[\\'Q35127\\'', '\"[\\'Q21100463\\'', \"['Q5135744']\", \"['Q1110794']\", \"['Q7058673']\", \"['Q2618461']\", \"['Q12859788']\", \"['Q695793']\", \"['Q655686']\", \"['Q42998']\", \"['Q2977']\", \"['Q2235308']\", \"['Q210272']\", \"['Q1821082']\", '\"[\\'Q34442\\'', \"['Q17205621']\", '\"[\\'Q5398426\\'', \"['Q64037785']\", \"['Q2023000']\", '\"[\\'Q47461344\\'', '\"[\\'Q44613\\'', '\"[\\'Q44559\\'', \"['Q4663385']\", '\"[\\'Q18123741\\'', \"['Q23983664']\", \"['Q2154459']\", \"['Q193622']\", \"['Q9212979']\", \"['Q2785216']\", \"['Q192611']\", '\"[\\'Q28640\\'', \"['Q6558431']\", \"['Q3024240']\", '\"[\\'Q2085381\\'', \"['Q2354973']\", \"['Q95074']\", \"['Q186117']\", '\"[\\'Q9842\\'', '\"[\\'Q1802801\\'', '\"[\\'Q1115575\\'', \"['Q3192808']\", \"['Q188055']\", '\"[\\'Q207694\\'', '\"[\\'Q192287\\'', \"['Q1539532']\", '\"[\\'Q27686\\'', \"['Q98374631']\", \"['Q50393057']\", '\"[\\'Q7889\\'', \"['Q7543083']\", \"['Q427287']\", \"['Q38723']\", \"['Q33146843']\", \"['Q12737077']\", \"['Q1070942']\", '\"[\\'Q17051044\\'', \"['Q43109']\", \"['Q19723451']\", \"['Q2922711']\", '\"[\\'Q751876\\'', '\"[\\'Q1529096\\'', \"['Q645883']\", \"['Q50846468']\", \"['Q47345468']\", \"['Q35054']\", '\"[\\'Q317557\\'', '\"[\\'Q22580836\\'', \"['Q955824']\", \"['Q42744322']\", \"['Q2006279']\", \"['Q185187']\", \"['Q83405']\", \"['Q708676']\", \"['Q5926864']\", \"['Q2555896']\", '\"[\\'Q18618819\\'', \"['Q615980']\", \"['Q52371']\", \"['Q20741022']\", \"['Q11448906']\", \"['Q7944']\", \"['Q271669']\", \"['Q14406742']\", '\"[\\'Q17487588\\'', \"['Q350895']\", \"['Q3191695']\", \"['Q29154515']\", \"['Q223393']\", \"['Q18706073']\", \"['Q10648343']\", '\"[\\'Q55102916\\'', '\"[\\'Q2175765\\'', '\"[\\'Q17343829\\'', \"['Q742421']\", '\"[\\'Q4989906\\'', '\"[\\'Q41710\\'', \"['Q9135']\", '\"[\\'Q41298\\'', \"['Q17198620']\", \"['Q149918']\", '\"[\\'Q215380\\'', \"['Q581714']\", \"['Q1664720']\", \"['Q15221242']\", \"['Q10517054']\", '\"[\\'Q6805426\\'', \"['Q891723']\", \"['Q235557']\", \"['Q17898']\", \"['Q131186']\", \"['Q45776']\", \"['Q2992826']\", \"['Q2679157']\", \"['Q17205774']\", \"['Q1523821']\", \"['Q130003']\", \"['Q1088552']\", '\"[\\'Q3658341\\'', '\"[\\'Q207326\\'', \"['Q483453']\", \"['Q39367']\", \"['Q205985']\", \"['Q1969448']\", \"['Q1484611']\", '\"[\\'Q476028\\'', \"['Q820655']\", \"['Q4387609']\", \"['Q27787439']\", \"['Q245016']\", \"['Q23011722']\", \"['Q15284']\", \"['Q1445650']\", \"['Q1343246']\", \"['Q1065118']\", \"['Q879146']\", \"['Q746654']\", \"['Q28564']\", \"['Q26817508']\", \"['Q1021645']\", \"['Q90834785']\", \"['Q17205735']\", \"['Q17198545']\", \"['Q15640053']\", \"['Q15057020']\", '\"[\\'Q194408\\'', '\"[\\'Q11424\\'', \"['Q44539']\", \"['Q169534']\", \"['Q15184295']\", \"['Q1187691']\", \"['Q82117']\", \"['Q7830213']\", \"['Q59199015']\", \"['Q194195']\", \"['Q15642541']\", \"['Q15265344']\", \"['Q2990946']\", \"['Q17156793']\", \"['Q14750991']\", \"['Q131436']\", \"['Q744296']\", \"['Q61883']\", \"['Q46169']\", \"['Q37901']\", \"['Q277760']\", \"['Q162602']\", \"['Q1497375']\", '\"[\\'Q31855\\'', '\"[\\'Q1756006\\'', \"['Q7210356']\", \"['Q607241']\", \"['Q55468440']\", \"['Q24027556']\", \"['Q23039057']\", \"['Q18340550']\", \"['Q1366112']\", \"['Q11862829']\", \"['Q10590726']\", \"['Q101659']\", '\"[\\'Q4164871\\'', '\"[\\'Q23442\\'', \"['Q79913']\", \"['Q56019']\", \"['Q2750108']\", \"['Q2151232']\", '\"[\\'Q79007\\'', '\"[\\'Q38720\\'', \"['Q5133821']\", \"['Q494829']\", \"['Q24034552']\", '\"[\\'Q1147395\\'', \"['Q858439']\", \"['Q55990535']\", \"['Q496825']\", \"['Q4443691']\", \"['Q1656682']\", \"['Q161705']\", '\"[\\'Q27020041\\'', \"['Q475061']\", \"['Q3002150']\", \"['Q27676428']\", \"['Q2582669']\", \"['Q24397514']\", \"['Q2065736']\", \"['Q20643955']\", \"['Q189118']\", '\"[\\'Q11032\\'', \"['Q80096233']\", \"['Q56242063']\", \"['Q422211']\", \"['Q29168811']\", \"['Q207524']\", \"['Q20650761']\", \"['Q17391474']\", '\"[\\'Q562061\\'', '\"[\\'Q5153359\\'', '\"[\\'Q38033430\\'', \"['Q98929991']\", \"['Q23010647']\", \"['Q3491915']\", \"['Q19648608']\", \"['Q191992']\", '\"[\\'Q537127\\'', \"['Q39804']\", \"['Q17715832']\", \"['Q1639634']\", \"['Q15280243']\", \"['Q13331174']\", \"['Q1149652']\", '\"[\\'Q41253\\'', \"['Q32880']\", \"['Q207326']\", \"['Q18536800']\", \"['Q150784']\", \"['Q1428357']\", '\"[\\'Q16560\\'', '\"[\\'Q123\\'', \"['Q9651979']\", \"['Q882149']\", \"['Q64138263']\", \"['Q60754876']\", \"['Q494721']\", \"['Q28328984']\", \"['Q28140340']\", \"['Q26132862']\", \"['Q2292572']\", \"['Q2122052']\", '\"[\\'Q75054287\\'', '\"[\\'Q3186692\\'', \"['Q4751159']\", \"['Q21278897']\", \"['Q133311']\", \"['Q1303167']\", '\"[\\'Q22687\\'', '\"[\\'Q17318027\\'', '\"[\\'Q1336920\\'', \"['Q9143']\", \"['Q2911266']\", \"['Q2312410']\", \"['Q20074337']\", \"['Q17166756']\", \"['Q1643932']\", \"['Q15079663']\", \"['Q107413232']\", \"['Q759421']\", \"['Q645924']\", \"['Q4229812']\", \"['Q22667']\", \"['Q21546143']\", \"['Q21481290']\", \"['Q178885']\", \"['Q15081032']\", \"['Q1078374']\", \"['Q1004']\", '\"[\\'Q11879590\\'', \"['Q98374854']\", \"['Q902104']\", \"['Q748019']\", \"['Q66715753']\", \"['Q64801076']\", \"['Q2039348']\", \"['Q131734']\", \"['Q131263']\", \"['Q1143635']\", \"['Q104146934']\", '\"[\\'Q473972\\'', '\"[\\'Q262166\\'', \"['Q34198935']\", \"['Q317623']\", \"['Q269949']\", \"['Q18142']\", \"['Q1799072']\", \"['Q17448832']\", \"['Q17376093']\", \"['Q17155032']\", \"['Q15836568']\", \"['Q15622363']\", \"['Q107679']\", '\"[\\'Q74047\\'', '\"[\\'Q21198342\\'', \"['Q899409']\", \"['Q861951']\", \"['Q84467700']\", \"['Q170584']\", \"['Q1497364']\", \"['Q1202402']\", '\"[\\'Q47164206\\'', '\"[\\'Q2514025\\'', \"['Q875538']\", \"['Q47443726']\", \"['Q2309609']\", \"['Q20769160']\", \"['Q192350']\", \"['Q1378975']\", \"['Q1254933']\", \"['Q1059478']\", '\"[\\'Q24566025\\'', '\"[\\'Q15661340\\'', \"['Q605291']\", \"['Q55983715']\", \"['Q484652']\", \"['Q417841']\", \"['Q2695280']\", \"['Q2592651']\", \"['Q202866']\", \"['Q18019452']\", \"['Q17350442']\", \"['Q12488913']\", '\"[\\'Q12323\\'', '\"[\\'Q1194951\\'', \"['Q55662747']\", \"['Q49371']\", \"['Q19958368']\", \"['Q193475']\", \"['Q17450736']\", \"['Q166118']\", \"['Q1589009']\", \"['Q15661340']\", \"['Q15219655']\", \"['Q1279564']\", \"['Q1210334']\", \"['Q1081138']\", '\"[\\'Q3024240\\'', \"['Q952274']\", \"['Q948878']\", \"['Q92026']\", \"['Q772547']\", \"['Q625298']\", \"['Q57058']\", \"['Q494230']\", \"['Q29048322']\", \"['Q2338524']\", \"['Q211503']\", \"['Q19844914']\", \"['Q1788716']\", \"['Q1758856']\", \"['Q15720476']\", \"['Q15071808']\", \"['Q1441305']\", '\"[\\'Q1131296\\'', \"['Q55043']\", \"['Q41982239']\", \"['Q3623867']\", \"['Q3455196']\", \"['Q28045079']\", \"['Q164950']\", \"['Q156362']\", \"['Q15229207']\", \"['Q1440300']\", \"['Q14073567']\", \"['Q1348589']\", \"['Q1329623']\", \"['Q1210950']\", \"['Q11353']\", \"['Q112965645']\", \"['Q11167066']\", '\"[\\'Q70208\\'', '\"[\\'Q1931185\\'', \"['Q8142']\", \"['Q732717']\", \"['Q65665664']\", \"['Q56061']\", \"['Q18761864']\", \"['Q17339814']\", \"['Q17317604']\", \"['Q10358588']\", '\"[\\'Q55662747\\'', '\"[\\'Q112193867\\'', '\"[\\'Q105388829\\'', \"['Q61220733']\", \"['Q54114']\", \"['Q47481352']\", \"['Q4438121']\", \"['Q3512806']\", \"['Q25653']\", \"['Q1914636']\", \"['Q113813711']\", '\"[\\'Q783794\\'', '\"[\\'Q728937\\'', '\"[\\'Q685309\\'', '\"[\\'Q108\\'', \"['Q7864918']\", \"['Q6508670']\", \"['Q490329']\", \"['Q3062294']\", \"['Q2614970']\", \"['Q2042028']\", \"['Q19571328']\", \"['Q188913']\", \"['Q17544377']\", \"['Q17299750']\", \"['Q152081']\", \"['Q14514600']\", \"['Q1311958']\", \"['Q1259617']\", \"['Q10862618']\", '\"[\\'Q65661087\\'', '\"[\\'Q2074737\\'', '\"[\\'Q11303\\'', \"['Q968159']\", \"['Q92062']\", \"['Q57831']\", \"['Q3297186']\", \"['Q22674925']\", \"['Q1427536']\", \"['Q127448']\", '\"[\\'Q7216840\\'', '\"[\\'Q21101734\\'', '\"[\\'Q189004\\'', \"['Q4271324']\", \"['Q3032154']\", \"['Q2882257']\", \"['Q269770']\", \"['Q1985797']\", \"['Q1620908']\", \"['Q1195942']\", \"['Q105999']\", \"['Q102496']\", '\"[\\'Q4671277\\'', '\"[\\'Q1110794\\'', \"['Q746549']\", \"['Q620471']\", \"['Q465299']\", \"['Q46426234']\", \"['Q33837']\", \"['Q2178147']\", \"['Q1768043']\", \"['Q11755880']\", \"['Q1137809']\", '\"[\\'Q737498\\'', '\"[\\'Q39715\\'', '\"[\\'Q21869758\\'', '\"[\\'Q179049\\'', '\"[\\'Q17205621\\'', \"['Q841985']\", \"['Q7755']\", \"['Q56242215']\", \"['Q53532033']\", \"['Q500834']\", \"['Q31629']\", \"['Q23847174']\", \"['Q21674818']\", \"['Q20742825']\", \"['Q2022036']\", \"['Q180516']\", \"['Q15620943']\", \"['Q133492']\", \"['Q124734']\", \"['Q1194970']\", \"['Q11410']\", '\"[\\'Q860861\\'', '\"[\\'Q3937\\'', '\"[\\'Q355304\\'', '\"[\\'Q17376095\\'', '\"[\\'Q126\\'', \"['Q828569']\", \"['Q575759']\", \"['Q5004679']\", \"['Q274153']\", \"['Q2577184']\", \"['Q18867465']\", \"['Q162875']\", \"['Q15145593']\", \"['Q12909644']\", \"['Q1259759']\", \"['Q11703715']\", \"['Q108783631']\", '\"[\\'Q7278\\'', '\"[\\'Q167270\\'', \"['Q936518']\", \"['Q878223']\", \"['Q690840']\", \"['Q571']\", \"['Q2831984']\", \"['Q2135465']\", \"['Q194356']\", \"['Q1788582']\", \"['Q17366755']\", \"['Q17202187']\", \"['Q16887380']\", \"['Q15711994']\", \"['Q155271']\", \"['Q1499623']\", \"['Q149621']\", \"['Q1478437']\", \"['Q1400264']\", \"['Q1366722']\", \"['Q11774097']\", \"['Q11483816']\", \"['Q1078765']\", '\"[\\'Q22698\\'', '\"[\\'Q174782\\'', \"['Q8366']\", \"['Q57821']\", \"['Q57733494']\", \"['Q5358913']\", \"['Q27995042']\", \"['Q2467461']\", \"['Q204577']\", \"['Q131669']\", \"['Q1261499']\", \"['Q1128397']\", \"['Q102356']\", \"['Q1007870']\", '\"[\\'Q4229812\\'', '\"[\\'Q14562709\\'', '\"[\\'Q12813115\\'', '\"[\\'Q110\\'', \"['Q83790536']\", \"['Q38720']\", \"['Q37726']\", \"['Q3327874']\", \"['Q3117863']\", \"['Q2651004']\", \"['Q23691']\", \"['Q1631107']\", \"['Q15142889']\", \"['Q11229656']\", \"['Q107359024']\", \"['Q105756498']\", '\"[\\'Q46970\\'', '\"[\\'Q1825472\\'', '\"[\\'Q118\\'', \"['Q8072']\", \"['Q7694920']\", \"['Q744099']\", \"['Q7372078']\", \"['Q65660829']\", \"['Q613142']\", \"['Q5532181']\", \"['Q4508']\", \"['Q4117139']\", \"['Q383092']\", \"['Q2493450']\", \"['Q214252']\", \"['Q17456783']\", \"['Q15092344']\", \"['Q1362225']\", \"['Q1107679']\", '\"[\\'Q62447\\'', '\"[\\'Q35509\\'', '\"[\\'Q2488\\'', '\"[\\'Q11862829\\'', \"['Q7777573']\", \"['Q7321974']\", \"['Q60186']\", \"['Q4818021']\", \"['Q25550691']\", \"['Q23058950']\", \"['Q194203']\", \"['Q190928']\", \"['Q18654693']\", \"['Q1542966']\", \"['Q1410668']\", \"['Q12812139']\", \"['Q12131624']\", \"['Q12020836']\", \"['Q1122846']\", \"['Q10689397']\", \"['Q10497835']\", '\"[\\'Q61881926\\'', '\"[\\'Q39594\\'', '\"[\\'Q229390\\'', '\"[\\'Q21672098\\'', '\"[\\'Q15056995\\'', \"['Q855769']\", \"['Q686822']\", \"['Q55659167']\", \"['Q43483']\", \"['Q39911']\", \"['Q3253281']\", \"['Q2635894']\", \"['Q233324']\", \"['Q21070568']\", \"['Q17201685']\", \"['Q16884952']\", \"['Q1667921']\", \"['Q1595639']\", \"['Q15623926']\", \"['Q15141321']\", \"['Q142714']\", \"['Q1267632']\", \"['Q1160573']\", \"['Q107655869']\", \"['Q100773131']\", '\"[\\'Q32815\\'', '\"[\\'Q13417114\\'', '\"[\\'Q101600\\'', \"['Q7188']\", \"['Q62941437']\", \"['Q628179']\", \"['Q53060']\", \"['Q375336']\", \"['Q3685463']\", \"['Q3327920']\", \"['Q29154550']\", \"['Q2772772']\", \"['Q21980538']\", \"['Q211302']\", \"['Q20437094']\", \"['Q201658']\", \"['Q19658107']\", \"['Q192078']\", \"['Q17315159']\", \"['Q16748868']\", \"['Q167170']\", \"['Q16543169']\", \"['Q15731356']\", \"['Q141683']\", \"['Q1321960']\", \"['Q12045585']\", '\"[\\'Q310890\\'', '\"[\\'Q17524420\\'', '\"[\\'Q124\\'', '\"[\\'Q11753321\\'', \"['Q917182']\", \"['Q829080']\", \"['Q72030539']\", \"['Q699']\", \"['Q59147732']\", \"['Q51792175']\", \"['Q48731335']\", \"['Q478847']\", \"['Q3658341']\", \"['Q2755753']\", \"['Q2713747']\", \"['Q24856']\", \"['Q23905105']\", \"['Q22687']\", \"['Q2221906']\", \"['Q211748']\", \"['Q207934']\", \"['Q1760610']\", \"['Q1400565']\", \"['Q1254874']\", \"['Q1195098']\", \"['Q1107656']\", \"['Q1068842']\", \"['Q103632']\", '\"[\\'Q79324274\\'', '\"[\\'Q7075\\'', '\"[\\'Q4936952\\'', '\"[\\'Q341\\'', '\"[\\'Q2785216\\'', '\"[\\'Q26211545\\'', '\"[\\'Q233324\\'', '\"[\\'Q213441\\'', '\"[\\'Q120\\'', \"['Q6617100']\", \"['Q55670187']\", \"['Q4502119']\", \"['Q3199915']\", \"['Q31028314']\", \"['Q29028649']\", \"['Q2143825']\", \"['Q2116450']\", \"['Q179661']\", \"['Q170013']\", \"['Q1685451']\", \"['Q15921247']\", \"['Q13626398']\", \"['Q1094617']\", \"['Q105731']\", \"['Q104213567']\", '\"[\\'Q811534\\'', '\"[\\'Q2385804\\'', '\"[\\'Q2087181\\'', '\"[\\'Q191992\\'', '\"[\\'Q13217644\\'', '\"[\\'Q119\\'', \"['Q76154857']\", \"['Q66374263']\", \"['Q659563']\", \"['Q561068']\", \"['Q554211']\", \"['Q5283521']\", \"['Q47574']\", \"['Q4677783']\", \"['Q41014950']\", \"['Q1980247']\", \"['Q18534542']\", \"['Q11812394']\", \"['Q11507944']\", '\"[\\'Q8142\\'', '\"[\\'Q786820\\'', '\"[\\'Q494721\\'', '\"[\\'Q46831\\'', '\"[\\'Q40080\\'', '\"[\\'Q3231690\\'', '\"[\\'Q2001305\\'', '\"[\\'Q1990968\\'', '\"[\\'Q17156793\\'', '\"[\\'Q15416\\'', '\"[\\'Q121\\'', \"['Q84491920']\", \"['Q7930989']\", \"['Q746369']\", \"['Q523']\", \"['Q5003624']\", \"['Q483515']\", \"['Q381885']\", \"['Q33104279']\", \"['Q25391']\", \"['Q1872284']\", \"['Q18009587']\", \"['Q17737']\", \"['Q15773317']\", \"['Q1550680']\", \"['Q13218690']\", \"['Q1153376']\", \"['Q11416914']\", '\"[\\'Q88205\\'', '\"[\\'Q2198484\\'', '\"[\\'Q21191019\\'', '\"[\\'Q178561\\'', '\"[\\'Q1616075\\'', '\"[\\'Q14795564\\'', '\"[\\'Q125\\'', '\"[\\'Q12280\\'', \"['Q949616']\", \"['Q631305']\", \"['Q589282']\", \"['Q47258130']\", \"['Q428069']\", \"['Q3631092']\", \"['Q283202']\", \"['Q2661988']\", \"['Q2095']\", \"['Q20639847']\", \"['Q1968435']\", \"['Q166142']\", \"['Q158454']\", \"['Q15726209']\", \"['Q15221215']\", \"['Q137535']\", \"['Q13414759']\", \"['Q11514315']\", \"['Q1110684']\", \"['Q100775361']\", '\"[\\'Q847017\\'', '\"[\\'Q506240\\'', '\"[\\'Q3565868\\'', '\"[\\'Q18127\\'', '\"[\\'Q11344\\'', '\"[\\'Q109\\'', \"['Q959309']\", \"['Q838948']\", \"['Q7835189']\", \"['Q493522']\", \"['Q480260']\", \"['Q431603']\", \"['Q38239255']\", \"['Q28109789']\", \"['Q2566190']\", \"['Q2298305']\", \"['Q21655594']\", \"['Q209163']\", \"['Q18984099']\", \"['Q1841580']\", \"['Q1754946']\", \"['Q169872']\", \"['Q15831596']\", \"['Q15304943']\", \"['Q15079786']\", \"['Q1404150']\", \"['Q12292478']\", \"['Q115211517']\", '\"[\\'Q55818\\'', '\"[\\'Q3331189\\'', '\"[\\'Q15773317\\'', '\"[\\'Q15126161\\'', \"['Q98379923']\", \"['Q9309832']\", \"['Q755707']\", \"['Q75520']\", \"['Q75054287']\", \"['Q60176300']\", \"['Q56855534']\", \"['Q5356187']\", \"['Q5292']\", \"['Q49773']\", \"['Q482']\", \"['Q41719']\", \"['Q3277997']\", \"['Q2679045']\", \"['Q23927052']\", \"['Q234262']\", \"['Q223371']\", \"['Q20888659']\", \"['Q19930933']\", \"['Q18123741']\", \"['Q178193']\", \"['Q17318027']\", \"['Q17051104']\", \"['Q15795637']\", \"['Q15687338']\", \"['Q15324']\", \"['Q1475691']\", \"['Q1420']\", \"['Q13410447']\", \"['Q124757']\", \"['Q1062710']\", \"['Q1049757']\", '\"[\\'Q5185279\\'', '\"[\\'Q5058355\\'', '\"[\\'Q241212\\'', '\"[\\'Q18340514\\'', '\"[\\'Q176799\\'', '\"[\\'Q1093580\\'', \"['Q757292']\", \"['Q6593141']\", \"['Q64027602']\", \"['Q47913']\", \"['Q4200298']\", \"['Q40434727']\", \"['Q40006041']\", \"['Q3802482']\", \"['Q3320743']\", \"['Q27676416']\", \"['Q220898']\", \"['Q2087181']\", \"['Q2066754']\", \"['Q1906268']\", \"['Q189533']\", \"['Q17444909']\", \"['Q17172602']\", \"['Q1518096']\", \"['Q15089']\", \"['Q1500352']\", \"['Q1398920']\", \"['Q13402009']\", \"['Q1322134']\", \"['Q1229765']\", '\"[\\'Q965568\\'', '\"[\\'Q83620\\'', '\"[\\'Q815324\\'', '\"[\\'Q6999\\'', '\"[\\'Q33384\\'', \"['Q9248092']\", \"['Q79324274']\", \"['Q7830262']\", \"['Q7315155']\", \"['Q71631512']\", \"['Q625994']\", \"['Q5356184']\", \"['Q4897108']\", \"['Q4835091']\", \"['Q44377']\", \"['Q399811']\", \"['Q385337']\", \"['Q3301455']\", \"['Q32099']\", \"['Q3046146']\", \"['Q2775236']\", \"['Q2631599']\", \"['Q2616791']\", \"['Q2511322']\", \"['Q24869']\", \"['Q2301048']\", \"['Q2145163']\", \"['Q21246076']\", \"['Q20646667']\", \"['Q19944049']\", \"['Q18691599']\", \"['Q18663579']\", \"['Q13415366']\", \"['Q13410520']\", \"['Q1070912']\", '\"[\\'Q62078547\\'', '\"[\\'Q20639848\\'', \"['Q82799']\", \"['Q81505329']\", \"['Q682943']\", \"['Q54375413']\", \"['Q483247']\", \"['Q483242']\", \"['Q386208']\", \"['Q37002670']\", \"['Q26466721']\", \"['Q2389789']\", \"['Q1964689']\", \"['Q187931']\", \"['Q16858213']\", \"['Q1681353']\", \"['Q15944511']\", \"['Q15061018']\", \"['Q1427958']\", \"['Q1349648']\", \"['Q1184072']\", \"['Q1147395']\", \"['Q1144661']\", \"['Q106658']\", \"['Q10594991']\", '\"[\\'Q667509\\'', '\"[\\'Q54050\\'', '\"[\\'Q28111\\'', '\"[\\'Q23828039\\'', '\"[\\'Q1802963\\'', '\"[\\'Q15944511\\'', '\"[\\'Q14204246\\'', '\"[\\'Q13406554\\'', '\"[\\'Q122\\'', '\"[\\'Q11446\\'', \"['Q887604']\", \"['Q79602']\", \"['Q6966332']\", \"['Q693']\", \"['Q55521176']\", \"['Q47490604']\", \"['Q45364']\", \"['Q45296117']\", \"['Q41067667']\", \"['Q4']\", \"['Q23002039']\", \"['Q21170330']\", \"['Q20639848']\", \"['Q19861951']\", \"['Q18811582']\", \"['Q16831714']\", \"['Q14752149']\", \"['Q14701805']\", \"['Q1384677']\", \"['Q13634881']\", \"['Q1320047']\", \"['Q1244922']\", \"['Q11774149']\", \"['Q11387']\", '\"[\\'Q879050\\'', '\"[\\'Q7373622\\'', '\"[\\'Q3469910\\'', '\"[\\'Q18536594\\'', '\"[\\'Q174736\\'', '\"[\\'Q1499928\\'', '\"[\\'Q11448906\\'', \"['Q8463186']\", \"['Q7216840']\", \"['Q713623']\", \"['Q712597']\", \"['Q682944']\", \"['Q645466']\", \"['Q54375461']\", \"['Q3559']\", \"['Q353027']\", \"['Q31615']\", \"['Q29414133']\", \"['Q22704163']\", \"['Q220659']\", \"['Q1802963']\", \"['Q17128341']\", \"['Q1572403']\", \"['Q15303838']\", \"['Q14562709']\", \"['Q134447']\", \"['Q13226383']\", \"['Q12075477']\", \"['Q11822917']\", \"['Q11812346']\", \"['Q1156831']\", \"['Q1141470']\", \"['Q1060829']\", '\"[\\'Q902104\\'', '\"[\\'Q7365\\'', '\"[\\'Q697295\\'', '\"[\\'Q695850\\'', '\"[\\'Q3311537\\'', '\"[\\'Q3270264\\'', '\"[\\'Q28122896\\'', '\"[\\'Q2031836\\'', '\"[\\'Q17305522\\'', '\"[\\'Q15243209\\'', '\"[\\'Q1484611\\'', '\"[\\'Q13027888\\'', '\"[\\'Q11060274\\'', '\"[\\'Q106078286\\'', \"['Q92086']\", \"['Q858157']\", \"['Q74614691']\", \"['Q67101749']\", \"['Q58778']\", \"['Q56256086']\", \"['Q55558200']\", \"['Q49848']\", \"['Q39825']\", \"['Q3565868']\", \"['Q30129411']\", \"['Q30014735']\", \"['Q27780831']\", \"['Q247073']\", \"['Q2424752']\", \"['Q23983335']\", \"['Q209465']\", \"['Q19723444']\", \"['Q1852859']\", \"['Q1792372']\", \"['Q17127659']\", \"['Q16323605']\", \"['Q15725618']\", \"['Q15221373']\", \"['Q1509831']\", \"['Q1349255']\", \"['Q13411064']\", \"['Q13002315']\", \"['Q12104567']\", '\"[\\'Q917146\\'', '\"[\\'Q284578\\'', '\"[\\'Q20202352\\'', '\"[\\'Q180684\\'', '\"[\\'Q162875\\'', '\"[\\'Q12518\\'', '\"[\\'Q12488913\\'', \"['Q856234']\", \"['Q85482556']\", \"['Q81917']\", \"['Q811534']\", \"['Q785979']\", \"['Q783930']\", \"['Q6592']\", \"['Q65618976']\", \"['Q63440326']\", \"['Q6063801']\", \"['Q59773381']\", \"['Q582525']\", \"['Q56242250']\", \"['Q513550']\", \"['Q499247']\", \"['Q484692']\", \"['Q477983']\", \"['Q44494']\", \"['Q41760643']\", \"['Q40244']\", \"['Q28747937']\", \"['Q2641403']\", \"['Q239582']\", \"['Q23828039']\", \"['Q23058953']\", \"['Q22806']\", \"['Q20650540']\", \"['Q2061186']\", \"['Q20019082']\", \"['Q1984758']\", \"['Q172754']\", \"['Q12353044']\", \"['Q12178655']\", \"['Q120560']\", \"['Q11691']\", \"['Q11422536']\", \"['Q108694087']\", \"['Q1049494']\", '\"[\\'Q748149\\'', '\"[\\'Q742421\\'', '\"[\\'Q4167836\\'', '\"[\\'Q3146899\\'', '\"[\\'Q2977\\'', '\"[\\'Q22808403\\'', '\"[\\'Q192611\\'', '\"[\\'Q17450736\\'', '\"[\\'Q15921247\\'', '\"[\\'Q1365560\\'', '\"[\\'Q1154710\\'', '\"[\\'Q105543609\\'', \"['Q988108']\", \"['Q956318']\", \"['Q91312']\", \"['Q8719053']\", \"['Q850270']\", \"['Q8465']\", \"['Q63254493']\", \"['Q60147807']\", \"['Q54375467']\", \"['Q4936952']\", \"['Q483394']\", \"['Q480477']\", \"['Q464980']\", \"['Q4485156']\", \"['Q44235']\", \"['Q4204501']\", \"['Q41487']\", \"['Q370258']\", \"['Q3152824']\", \"['Q31028695']\", \"['Q26887428']\", \"['Q268592']\", \"['Q2576663']\", \"['Q22675015']\", \"['Q22669139']\", \"['Q219875']\", \"['Q19828534']\", \"['Q174989']\", \"['Q17451']\", \"['Q169336']\", \"['Q1666019']\", \"['Q1621322']\", \"['Q153562']\", \"['Q15063142']\", \"['Q1377943']\", \"['Q132364']\", \"['Q12731']\", \"['Q1251403']\", \"['Q12140']\", \"['Q11016']\", \"['Q1075']\", \"['Q1058914']\", '\"[\\'Q5123999\\'', '\"[\\'Q3497167\\'', '\"[\\'Q28564\\'', '\"[\\'Q182659\\'', '\"[\\'Q1781058\\'', '\"[\\'Q1569167\\'', '\"[\\'Q12737077\\'', '\"[\\'Q108325\\'', '\"[\\'Q10648343\\'', \"['Q907698']\", \"['Q842375']\", \"['Q627517']\", \"['Q45382']\", \"['Q42948']\", \"['Q373899']\", \"['Q35112127']\", \"['Q3497167']\", \"['Q3329412']\", \"['Q326124']\", \"['Q276173']\", \"['Q2671652']\", \"['Q2607934']\", \"['Q2472587']\", \"['Q23002054']\", \"['Q216337']\", \"['Q2080521']\", \"['Q2055880']\", \"['Q202527']\", \"['Q19361238']\", \"['Q1931388']\", \"['Q188869']\", \"['Q18043413']\", \"['Q16830604']\", \"['Q1542343']\", \"['Q1530022']\", \"['Q14978']\", \"['Q14660']\", \"['Q14296']\", \"['Q1352019']\", \"['Q13414361']\", \"['Q12178928']\", \"['Q1207505']\", \"['Q110055303']\", \"['Q1048525']\", '\"[\\'Q87576284\\'', '\"[\\'Q21191270\\'', '\"[\\'Q13100073\\'', '\"[\\'Q1094617\\'', '\"[\\'Q100341898\\'', \"['Q868698']\", \"['Q865588']\", \"['Q853854']\", \"['Q831663']\", \"['Q66817784']\", \"['Q640506']\", \"['Q56822897']\", \"['Q55075651']\", \"['Q5283531']\", \"['Q507619']\", \"['Q49776']\", \"['Q47089']\", \"['Q4201890']\", \"['Q42014143']\", \"['Q402092']\", \"['Q2927074']\", \"['Q27968043']\", \"['Q26884324']\", \"['Q2680845']\", \"['Q25379']\", \"['Q216107']\", \"['Q20136634']\", \"['Q192283']\", \"['Q18218093']\", \"['Q18199879']\", \"['Q175854']\", \"['Q17431399']\", \"['Q171318']\", \"['Q16979650']\", \"['Q1569167']\", \"['Q14846918']\", \"['Q13580678']\", \"['Q1336152']\", \"['Q131647']\", \"['Q12809484']\", \"['Q12488911']\", \"['Q1162835']\", \"['Q110010043']\", \"['Q1076105']\", \"['Q107357065']\", \"['Q106179098']\", \"['Q100710213']\", '\"[\\'Q80447738\\'', '\"[\\'Q7397\\'', '\"[\\'Q623109\\'', '\"[\\'Q618779\\'', '\"[\\'Q53764738\\'', '\"[\\'Q42744322\\'', '\"[\\'Q333291\\'', '\"[\\'Q2983893\\'', '\"[\\'Q192078\\'', '\"[\\'Q18142\\'', '\"[\\'Q17448832\\'', '\"[\\'Q17315159\\'', '\"[\\'Q168845\\'', '\"[\\'Q167346\\'', '\"[\\'Q1076486\\'', \"['Q99441966']\", \"['Q91733160']\", \"['Q856713']\", \"['Q849778']\", \"['Q8161']\", \"['Q674950']\", \"['Q67454740']\", \"['Q667276']\", \"['Q6382533']\", \"['Q6065085']\", \"['Q55463449']\", \"['Q5367899']\", \"['Q526877']\", \"['Q47358534']\", \"['Q46997958']\", \"['Q4686479']\", \"['Q466421']\", \"['Q4286337']\", \"['Q40050']\", \"['Q386724']\", \"['Q3624938']\", \"['Q35657']\", \"['Q34486']\", \"['Q32096']\", \"['Q273120']\", \"['Q2558684']\", \"['Q24333627']\", \"['Q235536']\", \"['Q2223653']\", \"['Q221409']\", \"['Q216353']\", \"['Q2089242']\", \"['Q20646668']\", \"['Q19730508']\", \"['Q18131152']\", \"['Q17156398']\", \"['Q16942515']\", \"['Q15126161']\", \"['Q140588']\", \"['Q1318941']\", \"['Q11603901']\", \"['Q1154445']\", \"['Q11204']\", \"['Q1070990']\", \"['Q1066997']\", \"['Q104666804']\", '\"[\\'Q891723\\'', '\"[\\'Q7882332\\'', '\"[\\'Q6954187\\'', '\"[\\'Q67206691\\'', '\"[\\'Q53534649\\'', '\"[\\'Q480477\\'', '\"[\\'Q2466826\\'', '\"[\\'Q219577\\'', '\"[\\'Q201658\\'', '\"[\\'Q19730508\\'', '\"[\\'Q1785071\\'', '\"[\\'Q17715832\\'', '\"[\\'Q1530705\\'', '\"[\\'Q15141625\\'', '\"[\\'Q1048525\\'', '\"[\\'Q1017546\\'', \"['Q892492']\", \"['Q87410915']\", \"['Q854845']\", \"['Q824979']\", \"['Q7925010']\", \"['Q672593']\", \"['Q665487']\", \"['Q644371']\", \"['Q63982911']\", \"['Q61016951']\", \"['Q55593624']\", \"['Q54375498']\", \"['Q54074585']\", \"['Q517820']\", \"['Q47487597']\", \"['Q40056']\", \"['Q3924474']\", \"['Q3556889']\", \"['Q30892316']\", \"['Q29883540']\", \"['Q27889498']\", \"['Q2775969']\", \"['Q2738074']\", \"['Q2659904']\", \"['Q26085352']\", \"['Q256020']\", \"['Q2379075']\", \"['Q2326815']\", \"['Q2239243']\", \"['Q20679540']\", \"['Q20646670']\", \"['Q191826']\", \"['Q18786396']\", \"['Q18704634']\", \"['Q1792379']\", \"['Q1788820']\", \"['Q1785733']\", \"['Q1751626']\", \"['Q17374546']\", \"['Q16945799']\", \"['Q167037']\", \"['Q15643578']\", \"['Q15075508']\", \"['Q13601825']\", \"['Q13410444']\", \"['Q1302471']\", \"['Q12561']\", \"['Q11722303']\", \"['Q1153191']\", \"['Q1151067']\", \"['Q1139056']\", \"['Q109607']\", \"['Q10952797']\", \"['Q10870555']\", '\"[\\'Q8719053\\'', '\"[\\'Q740752\\'', '\"[\\'Q482994\\'', '\"[\\'Q4287745\\'', '\"[\\'Q3184121\\'', '\"[\\'Q28020127\\'', '\"[\\'Q14839548\\'', '\"[\\'Q1362225\\'', '\"[\\'Q12012406\\'', \"['Q863915']\", \"['Q7963015']\", \"['Q7930614']\", \"['Q669262']\", \"['Q6465']\", \"['Q63099748']\", \"['Q5962346']\", \"['Q56344492']\", \"['Q55135234']\", \"['Q4927168']\", \"['Q48498']\", \"['Q4828724']\", \"['Q34023']\", \"['Q3252927']\", \"['Q321053']\", \"['Q3100808']\", \"['Q3076994']\", \"['Q29555881']\", \"['Q263639']\", \"['Q2547976']\", \"['Q245065']\", \"['Q2393314']\", \"['Q23894246']\", \"['Q23034867']\", \"['Q23002052']\", \"['Q20719675']\", \"['Q1936581']\", \"['Q18917976']\", \"['Q18219090']\", \"['Q18009431']\", \"['Q1756006']\", \"['Q17438413']\", \"['Q1631129']\", \"['Q159719']\", \"['Q158438']\", \"['Q15617994']\", \"['Q15072800']\", \"['Q13526752']\", \"['Q133156']\", \"['Q1307214']\", \"['Q1293220']\", \"['Q1261214']\", \"['Q1254773']\", \"['Q111722634']\", \"['Q1092939']\", \"['Q107649491']\", \"['Q1047113']\", \"['Q100709275']\", \"['Q1003207']\", '\"[\\'Q95074\\'', '\"[\\'Q82794\\'', '\"[\\'Q744296\\'', '\"[\\'Q6881511\\'', '\"[\\'Q618123\\'', '\"[\\'Q489357\\'', '\"[\\'Q45296117\\'', '\"[\\'Q21014462\\'', '\"[\\'Q185113\\'', '\"[\\'Q15284\\'', '\"[\\'Q1366722\\'', '\"[\\'Q11691\\'', '\"[\\'Q11282\\'', '\"[\\'Q1055465\\'', \"['Q979507']\", \"['Q947103']\", \"['Q917092']\", \"['Q863454']\", \"['Q839328']\", \"['Q811701']\", \"['Q778129']\", \"['Q705296']\", \"['Q6617741']\", \"['Q63044726']\", \"['Q595452']\", \"['Q578']\", \"['Q5737899']\", \"['Q5503']\", \"['Q5419824']\", \"['Q53534649']\", \"['Q5154047']\", \"['Q509686']\", \"['Q502048']\", \"['Q48336']\", \"['Q47002003']\", \"['Q423208']\", \"['Q33532284']\", \"['Q288514']\", \"['Q270791']\", \"['Q26214208']\", \"['Q2516330']\", \"['Q24024848']\", \"['Q2390458']\", \"['Q23058816']\", \"['Q23036513']\", \"['Q2281788']\", \"['Q22222786']\", \"['Q22044663']\", \"['Q2176289']\", \"['Q2155148']\", \"['Q21450877']\", \"['Q213441']\", \"['Q211872']\", \"['Q2116321']\", \"['Q20857065']\", \"['Q2008856']\", \"['Q20081524']\", \"['Q19860854']\", \"['Q188497']\", \"['Q1867183']\", \"['Q17683170']\", \"['Q16874643']\", \"['Q16735822']\", \"['Q1664428']\", \"['Q15091377']\", \"['Q15081030']\", \"['Q14623646']\", \"['Q1371037']\", \"['Q1364150']\", \"['Q13414953']\", \"['Q1298668']\", \"['Q12819564']\", \"['Q1255828']\", \"['Q1208380']\", \"['Q11939023']\", \"['Q112014']\", \"['Q10931']\", \"['Q103817']\", '\"[\\'Q878130\\'', '\"[\\'Q6270791\\'', '\"[\\'Q56436498\\'', '\"[\\'Q483453\\'', '\"[\\'Q3887\\'', '\"[\\'Q34627\\'', '\"[\\'Q249556\\'', '\"[\\'Q210272\\'', '\"[\\'Q19793988\\'', '\"[\\'Q18608871\\'', '\"[\\'Q185187\\'', '\"[\\'Q17456783\\'', '\"[\\'Q15275719\\'', '\"[\\'Q136868\\'', '\"[\\'Q13226383\\'', '\"[\\'Q1244922\\'', '\"[\\'Q12397176\\'', \"['Q8928']\", \"['Q83800887']\", \"['Q830335']\", \"['Q8068']\", \"['Q786014']\", \"['Q748331']\", \"['Q67515288']\", \"['Q66344']\", \"['Q6456916']\", \"['Q641066']\", \"['Q62933756']\", \"['Q6138528']\", \"['Q58973026']\", \"['Q570116']\", \"['Q54375510']\", \"['Q47509284']\", \"['Q3058029']\", \"['Q29982117']\", \"['Q2989421']\", \"['Q2976049']\", \"['Q269528']\", \"['Q26678373']\", \"['Q24634210']\", \"['Q2305295']\", \"['Q22999537']\", \"['Q22833327']\", \"['Q2249285']\", \"['Q21140826']\", \"['Q193946']\", \"['Q1907114']\", \"['Q190429']\", \"['Q189867']\", \"['Q184348']\", \"['Q18396864']\", \"['Q1826286']\", \"['Q18247357']\", \"['Q181623']\", \"['Q17624054']\", \"['Q17501774']\", \"['Q17272692']\", \"['Q1724017']\", \"['Q17205']\", \"['Q15726214']\", \"['Q15704239']\", \"['Q15632166']\", \"['Q15548045']\", \"['Q1478443']\", \"['Q1454583']\", \"['Q1363599']\", \"['Q13414358']\", \"['Q13410428']\", \"['Q132510']\", \"['Q11415657']\", \"['Q1128324']\", \"['Q11183017']\", \"['Q110288240']\", \"['Q10926413']\", \"['Q108465955']\", \"['Q107356781']\", \"['Q1066670']\", \"['Q1062593']\", '\"[\\'Q956318\\'', '\"[\\'Q878367\\'', '\"[\\'Q848944\\'', '\"[\\'Q784903\\'', '\"[\\'Q431289\\'', '\"[\\'Q3936950\\'', '\"[\\'Q37901\\'', '\"[\\'Q3199141\\'', '\"[\\'Q19832486\\'', '\"[\\'Q191067\\'', '\"[\\'Q1852859\\'', '\"[\\'Q1840161\\'', '\"[\\'Q1667921\\'', '\"[\\'Q15711870\\'', '\"[\\'Q15647814\\'', '\"[\\'Q15298259\\'', '\"[\\'Q15078955\\'', '\"[\\'Q1372372\\'', '\"[\\'Q1321960\\'', '\"[\\'Q1244442\\'', '\"[\\'Q10358588\\'', \"['Q9655']\", \"['Q934744']\", \"['Q909299']\", \"['Q9078534']\", \"['Q877998']\", \"['Q846706']\", \"['Q756721']\", \"['Q6936320']\", \"['Q6498663']\", \"['Q6460735']\", \"['Q61881575']\", \"['Q580499']\", \"['Q57305']\", \"['Q55725952']\", \"['Q55657615']\", \"['Q54375438']\", \"['Q53538476']\", \"['Q506219']\", \"['Q47566']\", \"['Q47018901']\", \"['Q44529188']\", \"['Q42621']\", \"['Q40482169']\", \"['Q391022']\", \"['Q3778417']\", \"['Q3744870']\", \"['Q372690']\", \"['Q3685462']\", \"['Q366301']\", \"['Q3551775']\", \"['Q3529419']\", \"['Q33513247']\", \"['Q30022']\", \"['Q28913516']\", \"['Q28455153']\", \"['Q27676524']\", \"['Q275186']\", \"['Q2711758']\", \"['Q26271642']\", \"['Q2608849']\", \"['Q24566025']\", \"['Q2418495']\", \"['Q2409750']\", \"['Q234460']\", \"['Q2210277']\", \"['Q21623879']\", \"['Q21507948']\", \"['Q20655472']\", \"['Q2057971']\", \"['Q1979154']\", \"['Q1970725']\", \"['Q1863818']\", \"['Q1788454']\", \"['Q178706']\", \"['Q1778821']\", \"['Q1723032']\", \"['Q168983']\", \"['Q162633']\", \"['Q15974311']\", \"['Q1414991']\", \"['Q1364556']\", \"['Q12833777']\", \"['Q115722011']\", \"['Q1145276']\", \"['Q1141225']\", \"['Q10884']\", \"['Q1072326']\", \"['Q1059324']\", '\"[\\'Q684740\\'', '\"[\\'Q655311\\'', '\"[\\'Q63952888\\'', '\"[\\'Q5393308\\'', '\"[\\'Q4421\\'', '\"[\\'Q3558970\\'', '\"[\\'Q3409032\\'', '\"[\\'Q303874\\'', '\"[\\'Q23038290\\'', '\"[\\'Q210167\\'', '\"[\\'Q186347\\'', '\"[\\'Q18553676\\'', '\"[\\'Q185087\\'', '\"[\\'Q1762059\\'', '\"[\\'Q158218\\'', '\"[\\'Q15092344\\'', '\"[\\'Q15056993\\'', '\"[\\'Q1187580\\'', \"['Q992253']\", \"['Q98399252']\", \"['Q937228']\", \"['Q9174']\", \"['Q891854']\", \"['Q872181']\", \"['Q8171']\", \"['Q785745']\", \"['Q7748']\", \"['Q740326']\", \"['Q738570']\", \"['Q7257872']\", \"['Q725377']\", \"['Q672490']\", \"['Q63565252']\", \"['Q622425']\", \"['Q620225']\", \"['Q6005581']\", \"['Q5774403']\", \"['Q54375424']\", \"['Q5086782']\", \"['Q498002']\", \"['Q486775']\", \"['Q46337']\", \"['Q427926']\", \"['Q4260475']\", \"['Q424857']\", \"['Q3661265']\", \"['Q36534']\", \"['Q3565075']\", \"['Q331795']\", \"['Q327496']\", \"['Q324233']\", \"['Q318727']\", \"['Q3039033']\", \"['Q299191']\", \"['Q2989470']\", \"['Q2915955']\", \"['Q26772977']\", \"['Q253555']\", \"['Q2463705']\", \"['Q24398318']\", \"['Q24249534']\", \"['Q2367508']\", \"['Q233591']\", \"['Q2324919']\", \"['Q2252176']\", \"['Q22160401']\", \"['Q2202509']\", \"['Q2179685']\", \"['Q21683299']\", \"['Q21505397']\", \"['Q21484471']\", \"['Q19886692']\", \"['Q194408']\", \"['Q190157']\", \"['Q18071983']\", \"['Q1758690']\", \"['Q170285']\", \"['Q169950']\", \"['Q16659538']\", \"['Q1652352']\", \"['Q16335296']\", \"['Q161']\", \"['Q15623573']\", \"['Q15622387']\", \"['Q1549739']\", \"['Q146591']\", \"['Q14623351']\", \"['Q14092']\", \"['Q13414760']\", \"['Q13414758']\", \"['Q13136']\", \"['Q1268865']\", \"['Q1265665']\", \"['Q1245089']\", \"['Q12368077']\", \"['Q12106333']\", \"['Q1197685']\", \"['Q105897950']\", \"['Q1046763']\", \"['Q10373548']\", '\"[\\'Q9135\\'', '\"[\\'Q87167\\'', '\"[\\'Q66715801\\'', '\"[\\'Q59541917\\'', '\"[\\'Q58483083\\'', '\"[\\'Q575759\\'', '\"[\\'Q55678\\'', '\"[\\'Q50337\\'', '\"[\\'Q47521\\'', '\"[\\'Q4671329\\'', '\"[\\'Q43501\\'', '\"[\\'Q38723\\'', '\"[\\'Q382927\\'', '\"[\\'Q328468\\'', '\"[\\'Q2389082\\'', '\"[\\'Q188860\\'', '\"[\\'Q180958\\'', '\"[\\'Q133056\\'', '\"[\\'Q12042110\\'', \"['Q99904310']\", \"['Q954501']\", \"['Q85907346']\", \"['Q858485']\", \"['Q8513']\", \"['Q815324']\", \"['Q721207']\", \"['Q6952971']\", \"['Q69506823']\", \"['Q658255']\", \"['Q637600']\", \"['Q636497']\", \"['Q60484681']\", \"['Q59191021']\", \"['Q588140']\", \"['Q559618']\", \"['Q510662']\", \"['Q502074']\", \"['Q491713']\", \"['Q4711861']\", \"['Q45762']\", \"['Q42032']\", \"['Q4174776']\", \"['Q41582469']\", \"['Q39486269']\", \"['Q37748']\", \"['Q373661']\", \"['Q357685']\", \"['Q35535']\", \"['Q329683']\", \"['Q3240715']\", \"['Q3157041']\", \"['Q281460']\", \"['Q279118']\", \"['Q2680291']\", \"['Q26540']\", \"['Q2643128']\", \"['Q26401003']\", \"['Q2602693']\", \"['Q2579179']\", \"['Q2401749']\", \"['Q23308490']\", \"['Q2232001']\", \"['Q22160105']\", \"['Q21469493']\", \"['Q21286738']\", \"['Q210999']\", \"['Q19899465']\", \"['Q1972']\", \"['Q189445']\", \"['Q1875621']\", \"['Q18618644']\", \"['Q1853398']\", \"['Q182547']\", \"['Q182545']\", \"['Q17457107']\", \"['Q173387']\", \"['Q1709894']\", \"['Q16964284']\", \"['Q166247']\", \"['Q16513904']\", \"['Q164240']\", \"['Q16070115']\", \"['Q15727816']\", \"['Q15725677']\", \"['Q1572070']\", \"['Q15276']\", \"['Q15087423']\", \"['Q14831768']\", \"['Q1406161']\", \"['Q1377575']\", \"['Q1368848']\", \"['Q1345234']\", \"['Q13415368']\", \"['Q13414757']\", \"['Q13410524']\", \"['Q13360578']\", \"['Q1321353']\", \"['Q1241568']\", \"['Q12262532']\", \"['Q11997320']\", \"['Q11774062']\", \"['Q1123526']\", \"['Q10577534']\", \"['Q105537412']\", '\"[\\'Q785466\\'', '\"[\\'Q777120\\'', '\"[\\'Q74817647\\'', '\"[\\'Q65665664\\'', '\"[\\'Q55491\\'', '\"[\\'Q4663385\\'', '\"[\\'Q46169\\'', '\"[\\'Q378427\\'', '\"[\\'Q3677932\\'', '\"[\\'Q3329412\\'', '\"[\\'Q30432511\\'', '\"[\\'Q2996394\\'', '\"[\\'Q294414\\'', '\"[\\'Q269770\\'', '\"[\\'Q2418495\\'', '\"[\\'Q22988604\\'', '\"[\\'Q215980\\'', '\"[\\'Q2088357\\'', '\"[\\'Q20638319\\'', '\"[\\'Q188025\\'', '\"[\\'Q17276484\\'', '\"[\\'Q166142\\'', '\"[\\'Q15773347\\'', '\"[\\'Q13997861\\'', '\"[\\'Q12570\\'', '\"[\\'Q12292478\\'', '\"[\\'Q12140\\'', '\"[\\'Q1210334\\'', '\"[\\'Q11455398\\'', '\"[\\'Q1143635\\'', '\"[\\'Q1128397\\'', '\"[\\'Q1123037\\'', '\"[\\'Q101497\\'', \"['Q967098']\", \"['Q957502']\", \"['Q95080679']\", \"['Q88904619']\", \"['Q8261']\", \"['Q81163']\", \"['Q80793']\", \"['Q787934']\", \"['Q7840353']\", \"['Q74359']\", \"['Q715398']\", \"['Q685935']\", \"['Q67911299']\", \"['Q649062']\", \"['Q63045323']\", \"['Q57346']\", \"['Q53542448']\", \"['Q53463']\", \"['Q5191724']\", \"['Q513691']\", \"['Q484416']\", \"['Q473932']\", \"['Q466797']\", \"['Q4220917']\", \"['Q41501164']\", \"['Q3907564']\", \"['Q374614']\", \"['Q35798']\", \"['Q353344']\", \"['Q33951']\", \"['Q33881']\", \"['Q3249551']\", \"['Q3246109']\", \"['Q3143713']\", \"['Q29654788']\", \"['Q29592127']\", \"['Q28938152']\", \"['Q28648855']\", \"['Q272231']\", \"['Q26714837']\", \"['Q2631496']\", \"['Q25906438']\", \"['Q2583015']\", \"['Q2568288']\", \"['Q25080094']\", \"['Q2465832']\", \"['Q2416217']\", \"['Q23790']\", \"['Q22652']\", \"['Q21751582']\", \"['Q21160573']\", \"['Q21077852']\", \"['Q208544']\", \"['Q206577']\", \"['Q20146776']\", \"['Q19951362']\", \"['Q19754218']\", \"['Q196600']\", \"['Q188040']\", \"['Q187588']\", \"['Q18711811']\", \"['Q18618819']\", \"['Q186165']\", \"['Q184644']\", \"['Q18325436']\", \"['Q1774587']\", \"['Q1763828']\", \"['Q1759852']\", \"['Q1756157']\", \"['Q175331']\", \"['Q17272482']\", \"['Q17210']\", \"['Q16631188']\", \"['Q16332653']\", \"['Q162986']\", \"['Q158218']\", \"['Q1565828']\", \"['Q1561418']\", \"['Q15283424']\", \"['Q15078955']\", \"['Q15054477']\", \"['Q1500932']\", \"['Q14911880']\", \"['Q142031']\", \"['Q1408288']\", \"['Q1373385']\", \"['Q13422115']\", \"['Q13212489']\", \"['Q124282']\", \"['Q12139612']\", \"['Q1193438']\", \"['Q11513034']\", \"['Q1121471']\", \"['Q108840195']\", \"['Q10843872']\", \"['Q107425']\", \"['Q1067164']\", \"['Q106078286']\", '\"[\\'Q955824\\'', '\"[\\'Q930752\\'', '\"[\\'Q868557\\'', '\"[\\'Q860582\\'', '\"[\\'Q856076\\'', '\"[\\'Q7930989\\'', '\"[\\'Q47461453\\'', '\"[\\'Q3863\\'', '\"[\\'Q3624078\\'', '\"[\\'Q355567\\'', '\"[\\'Q34228\\'', '\"[\\'Q28077\\'', '\"[\\'Q166118\\'', '\"[\\'Q160742\\'', '\"[\\'Q15089606\\'', '\"[\\'Q1497375\\'', '\"[\\'Q14276458\\'', '\"[\\'Q1366112\\'', '\"[\\'Q1353183\\'', '\"[\\'Q132137\\'', '\"[\\'Q131681\\'', '\"[\\'Q12859788\\'', '\"[\\'Q123577\\'', \"['Q976981']\", \"['Q94951']\", \"['Q890545']\", \"['Q83875']\", \"['Q835068']\", \"['Q817477']\", \"['Q752783']\", \"['Q71310524']\", \"['Q6866562']\", \"['Q6646177']\", \"['Q61702557']\", \"['Q6017969']\", \"['Q59248059']\", \"['Q5918768']\", \"['Q58339518']\", \"['Q56816954']\", \"['Q56750657']\", \"['Q55276680']\", \"['Q53642685']\", \"['Q5154936']\", \"['Q48708989']\", \"['Q4407246']\", \"['Q428602']\", \"['Q414147']\", \"['Q41207']\", \"['Q391414']\", \"['Q3910694']\", \"['Q384515']\", \"['Q37995709']\", \"['Q37989229']\", \"['Q3699460']\", \"['Q3685476']\", \"['Q357104']\", \"['Q3558430']\", \"['Q3469910']\", \"['Q3457065']\", \"['Q33829']\", \"['Q313354']\", \"['Q2920759']\", \"['Q2912397']\", \"['Q2887554']\", \"['Q28738741']\", \"['Q28108']\", \"['Q27062351']\", \"['Q26706']\", \"['Q26529']\", \"['Q2630741']\", \"['Q26279994']\", \"['Q2537537']\", \"['Q24706']\", \"['Q24577840']\", \"['Q22989102']\", \"['Q22676729']\", \"['Q207869']\", \"['Q20538317']\", \"['Q20071151']\", \"['Q20054355']\", \"['Q20027953']\", \"['Q19953632']\", \"['Q19758733']\", \"['Q19753316']\", \"['Q197204']\", \"['Q1970365']\", \"['Q1968122']\", \"['Q1936384']\", \"['Q19292005']\", \"['Q192909']\", \"['Q192093']\", \"['Q18674739']\", \"['Q186431']\", \"['Q1855011']\", \"['Q18487055']\", \"['Q184511']\", \"['Q1840161']\", \"['Q181348']\", \"['Q1754210']\", \"['Q17270000']\", \"['Q16725895']\", \"['Q166620']\", \"['Q1577547']\", \"['Q15123870']\", \"['Q1503450']\", \"['Q14701808']\", \"['Q1426035']\", \"['Q1387659']\", \"['Q137773']\", \"['Q1353183']\", \"['Q132834']\", \"['Q132137']\", \"['Q1303735']\", \"['Q1230708']\", \"['Q11790203']\", \"['Q1167393']\", \"['Q1137109']\", \"['Q110812553']\", \"['Q108028209']\", \"['Q1070290']\", \"['Q105388829']\", \"['Q10429667']\", \"['Q10373565']\", '\"[\\'Q845945\\'', '\"[\\'Q820477\\'', '\"[\\'Q54190181\\'', '\"[\\'Q483110\\'', '\"[\\'Q4438121\\'', '\"[\\'Q431603\\'', '\"[\\'Q39804\\'', '\"[\\'Q271669\\'', '\"[\\'Q24856\\'', '\"[\\'Q2485448\\'', '\"[\\'Q22808404\\'', '\"[\\'Q2141554\\'', '\"[\\'Q2095\\'', '\"[\\'Q1985797\\'', '\"[\\'Q18867465\\'', '\"[\\'Q18131152\\'', '\"[\\'Q152018\\'', '\"[\\'Q1478443\\'', '\"[\\'Q1343246\\'', '\"[\\'Q120560\\'', \"['Q953822']\", \"['Q930752']\", \"['Q921099']\", \"['Q911663']\", \"['Q908207']\", \"['Q88898524']\", \"['Q856076']\", \"['Q853614']\", \"['Q8192']\", \"['Q80797879']\", \"['Q788046']\", \"['Q7688']\", \"['Q762548']\", \"['Q757587']\", \"['Q749622']\", \"['Q7257']\", \"['Q717040']\", \"['Q697196']\", \"['Q69358181']\", \"['Q67476316']\", \"['Q66970557']\", \"['Q66666236']\", \"['Q655677']\", \"['Q63981919']\", \"['Q631229']\", \"['Q6063204']\", \"['Q572835']\", \"['Q56256173']\", \"['Q56242225']\", \"['Q55557858']\", \"['Q53538403']\", \"['Q53536964']\", \"['Q51632']\", \"['Q51481377']\", \"['Q479716']\", \"['Q472211']\", \"['Q46351685']\", \"['Q4484477']\", \"['Q429795']\", \"['Q39364723']\", \"['Q3922583']\", \"['Q37899979']\", \"['Q3498533']\", \"['Q3397335']\", \"['Q334453']\", \"['Q319141']\", \"['Q3144351']\", \"['Q28931760']\", \"['Q282472']\", \"['Q2693624']\", \"['Q26742250']\", \"['Q2662845']\", \"['Q26252880']\", \"['Q26240527']\", \"['Q26156208']\", \"['Q259776']\", \"['Q2366737']\", \"['Q231685']\", \"['Q2306612']\", \"['Q23006']\", \"['Q2300373']\", \"['Q22964785']\", \"['Q2276925']\", \"['Q22713195']\", \"['Q218653']\", \"['Q2165983']\", \"['Q215680']\", \"['Q215677']\", \"['Q20901295']\", \"['Q207338']\", \"['Q20683285']\", \"['Q20671381']\", \"['Q20642011']\", \"['Q20354035']\", \"['Q2026833']\", \"['Q200297']\", \"['Q19935939']\", \"['Q1935049']\", \"['Q190570']\", \"['Q18808440']\", \"['Q184368']\", \"['Q18325841']\", \"['Q182531']\", \"['Q1792644']\", \"['Q1792571']\", \"['Q1780506']\", \"['Q1779868']\", \"['Q1707610']\", \"['Q16832380']\", \"['Q163323']\", \"['Q1589568']\", \"['Q15629582']\", \"['Q15494038']\", \"['Q154773']\", \"['Q1534870']\", \"['Q15296520']\", \"['Q1516252']\", \"['Q1498804']\", \"['Q148578']\", \"['Q1412403']\", \"['Q1408475']\", \"['Q1365560']\", \"['Q1358919']\", \"['Q13410496']\", \"['Q13410400']\", \"['Q1320863']\", \"['Q1282870']\", \"['Q12132']\", \"['Q121117']\", \"['Q12040649']\", \"['Q11997323']\", \"['Q1198413']\", \"['Q1190435']\", \"['Q1183543']\", \"['Q1174791']\", \"['Q11688446']\", \"['Q1129743']\", \"['Q110835114']\", \"['Q110009982']\", \"['Q108526074']\", \"['Q107467117']\", \"['Q106562461']\", \"['Q105420']\", \"['Q10541491']\", \"['Q1046088']\", \"['Q104179424']\", \"['Q10283556']\", '\"[\\'Q97584729\\'', '\"[\\'Q968159\\'', '\"[\\'Q9655\\'', '\"[\\'Q93184\\'', '\"[\\'Q918230\\'', '\"[\\'Q9035798\\'', '\"[\\'Q448801\\'', '\"[\\'Q4485156\\'', '\"[\\'Q383092\\'', '\"[\\'Q3397526\\'', '\"[\\'Q31629\\'', '\"[\\'Q3089219\\'', '\"[\\'Q295469\\'', '\"[\\'Q29154515\\'', '\"[\\'Q258658\\'', '\"[\\'Q2537\\'', '\"[\\'Q24862\\'', '\"[\\'Q23726798\\'', '\"[\\'Q21503788\\'', '\"[\\'Q19656847\\'', '\"[\\'Q19595382\\'', '\"[\\'Q188055\\'', '\"[\\'Q18379650\\'', '\"[\\'Q17910379\\'', '\"[\\'Q17517379\\'', '\"[\\'Q169947\\'', '\"[\\'Q165194\\'', '\"[\\'Q164950\\'', '\"[\\'Q15911738\\'', '\"[\\'Q15643757\\'', '\"[\\'Q15104814\\'', '\"[\\'Q14350\\'', '\"[\\'Q13415370\\'', '\"[\\'Q131647\\'', '\"[\\'Q124714\\'', '\"[\\'Q11707\\'', '\"[\\'Q109607\\'', '\"[\\'Q107357104\\'', '\"[\\'Q1070990\\'', '\"[\\'Q106537557\\'', \"['Q94696559']\", \"['Q9299236']\", \"['Q89522629']\", \"['Q88291']\", \"['Q828909']\", \"['Q81054']\", \"['Q785466']\", \"['Q7694924']\", \"['Q76853179']\", \"['Q752392']\", \"['Q744745']\", \"['Q743004']\", \"['Q7410264']\", \"['Q7335033']\", \"['Q7328910']\", \"['Q732577']\", \"['Q723748']\", \"['Q69920471']\", \"['Q6954197']\", \"['Q6540697']\", \"['Q637017']\", \"['Q63100559']\", \"['Q620045']\", \"['Q61964017']\", \"['Q618200']\", \"['Q6134867']\", \"['Q612741']\", \"['Q605175']\", \"['Q6023295']\", \"['Q55558027']\", \"['Q55493']\", \"['Q55215251']\", \"['Q54375514']\", \"['Q54375446']\", \"['Q5386']\", \"['Q5300']\", \"['Q50231']\", \"['Q50198']\", \"['Q5009242']\", \"['Q50068795']\", \"['Q47103999']\", \"['Q466704']\", \"['Q4287745']\", \"['Q42523']\", \"['Q42319471']\", \"['Q4162444']\", \"['Q41362222']\", \"['Q37998360']\", \"['Q3586944']\", \"['Q3539870']\", \"['Q350723']\", \"['Q3326717']\", \"['Q3239681']\", \"['Q3176665']\", \"['Q3119075']\", \"['Q30634609']\", \"['Q30224326']\", \"['Q30198']\", \"['Q2974552']\", \"['Q29643579']\", \"['Q2962925']\", \"['Q2915776']\", \"['Q285783']\", \"['Q28542014']\", \"['Q28061975']\", \"['Q27665152']\", \"['Q272683']\", \"['Q26685543']\", \"['Q263233']\", \"['Q2625877']\", \"['Q24286894']\", \"['Q23905051']\", \"['Q22266709']\", \"['Q2225692']\", \"['Q222516']\", \"['Q216851']\", \"['Q2143781']\", \"['Q2138652']\", \"['Q21358050']\", \"['Q213369']\", \"['Q21130185']\", \"['Q21094819']\", \"['Q21092339']\", \"['Q2093358']\", \"['Q208500']\", \"['Q20819922']\", \"['Q2068214']\", \"['Q2043199']\", \"['Q20076756']\", \"['Q20071150']\", \"['Q200538']\", \"['Q2001982']\", \"['Q1994931']\", \"['Q19917774']\", \"['Q19850234']\", \"['Q19716577']\", \"['Q194166']\", \"['Q18652188']\", \"['Q185363']\", \"['Q18487018']\", \"['Q18343316']\", \"['Q1824674']\", \"['Q18189']\", \"['Q1807108']\", \"['Q1790144']\", \"['Q177626']\", \"['Q1757063']\", \"['Q1753652']\", \"['Q17305522']\", \"['Q169207']\", \"['Q165194']\", \"['Q15888']\", \"['Q1577513']\", \"['Q15711870']\", \"['Q1522839']\", \"['Q148571']\", \"['Q14454091']\", \"['Q1439691']\", \"['Q1439394']\", \"['Q1413677']\", \"['Q1396170']\", \"['Q1393724']\", \"['Q13410422']\", \"['Q1336920']\", \"['Q1330251']\", \"['Q12830429']\", \"['Q1184840']\", \"['Q11796413']\", \"['Q1144991']\", \"['Q1142930']\", \"['Q112793351']\", \"['Q112134481']\", \"['Q1109069']\", \"['Q1094196']\", \"['Q10915529']\", \"['Q108696']\", \"['Q1074121']\", \"['Q107302455']\", \"['Q10729872']\", \"['Q105445345']\", \"['Q103842693']\", \"['Q101032436']\", \"['Q1001378']\", '\"[\\'Q7543083\\'', '\"[\\'Q67015883\\'', '\"[\\'Q64062731\\'', '\"[\\'Q640364\\'', '\"[\\'Q627517\\'', '\"[\\'Q5162993\\'', '\"[\\'Q494511\\'', '\"[\\'Q47168\\'', '\"[\\'Q3647172\\'', '\"[\\'Q353027\\'', '\"[\\'Q350895\\'', '\"[\\'Q328584\\'', '\"[\\'Q3046146\\'', '\"[\\'Q277759\\'', '\"[\\'Q24046192\\'', '\"[\\'Q23894233\\'', '\"[\\'Q2057971\\'', '\"[\\'Q2023000\\'', '\"[\\'Q20019082\\'', '\"[\\'Q19776628\\'', '\"[\\'Q188913\\'', '\"[\\'Q17468533\\'', '\"[\\'Q17431399\\'', '\"[\\'Q17279032\\'', '\"[\\'Q170584\\'', '\"[\\'Q16884952\\'', '\"[\\'Q1531349\\'', '\"[\\'Q1445650\\'', '\"[\\'Q1311958\\'', '\"[\\'Q1259759\\'', '\"[\\'Q1081138\\'', '\"[\\'Q1047113\\'', '\"[\\'Q1001051\\'', \"['Q967448']\", \"['Q952037']\", \"['Q93288']\", \"['Q932268']\", \"['Q920182']\", \"['Q9134']\", \"['Q908620']\", \"['Q892554']\", \"['Q874405']\", \"['Q852231']\", \"['Q848797']\", \"['Q8425']\", \"['Q82042']\", \"['Q7888355']\", \"['Q78155096']\", \"['Q777342']\", \"['Q7625093']\", \"['Q756102']\", \"['Q728904']\", \"['Q71266741']\", \"['Q699386']\", \"['Q68295960']\", \"['Q673383']\", \"['Q6643832']\", \"['Q6576413']\", \"['Q63969188']\", \"['Q63368109']\", \"['Q625160']\", \"['Q61974339']\", \"['Q6058157']\", \"['Q59309547']\", \"['Q58001476']\", \"['Q57598']\", \"['Q574990']\", \"['Q55998242']\", \"['Q559290']\", \"['Q55430416']\", \"['Q5526694']\", \"['Q548611']\", \"['Q545769']\", \"['Q5341295']\", \"['Q529012']\", \"['Q5283']\", \"['Q51977']\", \"['Q519630']\", \"['Q5123999']\", \"['Q506572']\", \"['Q49540686']\", \"['Q486902']\", \"['Q485258']\", \"['Q446013']\", \"['Q42245028']\", \"['Q420962']\", \"['Q3965281']\", \"['Q3926693']\", \"['Q38001316']\", \"['Q37895263']\", \"['Q3722112']\", \"['Q358078']\", \"['Q3556789']\", \"['Q35456']\", \"['Q350604']\", \"['Q33992']\", \"['Q33861']\", \"['Q336144']\", \"['Q3333989']\", \"['Q33215']\", \"['Q330425']\", \"['Q3300034']\", \"['Q3249005']\", \"['Q313301']\", \"['Q30849']\", \"['Q2989457']\", \"['Q29469']\", \"['Q2944640']\", \"['Q28872924']\", \"['Q28739943']\", \"['Q28739697']\", \"['Q28223']\", \"['Q27996466']\", \"['Q2761147']\", \"['Q2749813']\", \"['Q2668072']\", \"['Q264965']\", \"['Q2620972']\", \"['Q25178247']\", \"['Q24699794']\", \"['Q2352616']\", \"['Q22984026']\", \"['Q226730']\", \"['Q2200223']\", \"['Q22001389']\", \"['Q219577']\", \"['Q2155186']\", \"['Q21125433']\", \"['Q210932']\", \"['Q21011129']\", \"['Q2094158']\", \"['Q207977']\", \"['Q20671729']\", \"['Q204324']\", \"['Q204310']\", \"['Q202570']\", \"['Q2001676']\", \"['Q1998962']\", \"['Q19845316']\", \"['Q19601543']\", \"['Q195339']\", \"['Q194188']\", \"['Q1924249']\", \"['Q1917775']\", \"['Q1916821']\", \"['Q1895097']\", \"['Q18760306']\", \"['Q18616576']\", \"['Q18609040']\", \"['Q18534049']\", \"['Q1853314']\", \"['Q18336255']\", \"['Q183288']\", \"['Q180174']\", \"['Q1785271']\", \"['Q1779157']\", \"['Q177413']\", \"['Q17505024']\", \"['Q17334923']\", \"['Q169358']\", \"['Q16685255']\", \"['Q16607186']\", \"['Q165436']\", \"['Q16017119']\", \"['Q15901936']\", \"['Q158555']\", \"['Q15770988']\", \"['Q15707521']\", \"['Q15633582']\", \"['Q1516079']\", \"['Q15140073']\", \"['Q1503072']\", \"['Q150093']\", \"['Q149537']\", \"['Q14762205']\", \"['Q144']\", \"['Q1411996']\", \"['Q138796']\", \"['Q1374075']\", \"['Q1357601']\", \"['Q1349587']\", \"['Q1349167']\", \"['Q13414763']\", \"['Q13410433']\", \"['Q13358528']\", \"['Q1331793']\", \"['Q1330776']\", \"['Q12932380']\", \"['Q12570']\", \"['Q12538685']\", \"['Q12404340']\", \"['Q12311825']\", \"['Q1224870']\", \"['Q12019965']\", \"['Q12015335']\", \"['Q1193125']\", \"['Q1191622']\", \"['Q1187580']\", \"['Q1172599']\", \"['Q114962596']\", \"['Q11484330']\", \"['Q11344']\", \"['Q1103285']\", \"['Q10871996']\", \"['Q1069313']\", \"['Q106673598']\", \"['Q10624527']\", \"['Q105839698']\", \"['Q10511371']\", '\"[\\'Q976622\\'', '\"[\\'Q925381\\'', '\"[\\'Q92026\\'', '\"[\\'Q8545897\\'', '\"[\\'Q8436\\'', '\"[\\'Q838948\\'', '\"[\\'Q82117\\'', '\"[\\'Q7840353\\'', '\"[\\'Q755017\\'', '\"[\\'Q67201586\\'', '\"[\\'Q65770283\\'', '\"[\\'Q6304550\\'', '\"[\\'Q6063204\\'', '\"[\\'Q5741069\\'', '\"[\\'Q56428020\\'', '\"[\\'Q55586529\\'', '\"[\\'Q52371\\'', '\"[\\'Q5155053\\'', '\"[\\'Q5003624\\'', '\"[\\'Q493522\\'', '\"[\\'Q48498\\'', '\"[\\'Q469900\\'', '\"[\\'Q45776\\'', '\"[\\'Q44782\\'', '\"[\\'Q42396390\\'', '\"[\\'Q417841\\'', '\"[\\'Q3936952\\'', '\"[\\'Q381885\\'', '\"[\\'Q34763\\'', '\"[\\'Q33289\\'', '\"[\\'Q327798\\'', '\"[\\'Q3276983\\'', '\"[\\'Q2630741\\'', '\"[\\'Q256020\\'', '\"[\\'Q245065\\'', '\"[\\'Q2376564\\'', '\"[\\'Q21705905\\'', '\"[\\'Q21070568\\'', '\"[\\'Q202444\\'', '\"[\\'Q20153194\\'', '\"[\\'Q189409\\'', '\"[\\'Q18608583\\'', '\"[\\'Q169930\\'', '\"[\\'Q16887380\\'', '\"[\\'Q153562\\'', '\"[\\'Q15212722\\'', '\"[\\'Q151885\\'', '\"[\\'Q15141321\\'', '\"[\\'Q13402998\\'', '\"[\\'Q1144661\\'', '\"[\\'Q113147985\\'', '\"[\\'Q10876391\\'', \"['Q994895']\", \"['Q9822982']\", \"['Q97480682']\", \"['Q973011']\", \"['Q96943524']\", \"['Q9609']\", \"['Q95592971']\", \"['Q946676']\", \"['Q928235']\", \"['Q9258947']\", \"['Q88205']\", \"['Q871419']\", \"['Q868291']\", \"['Q853565']\", \"['Q853409']\", \"['Q851830']\", \"['Q843417']\", \"['Q838718']\", \"['Q81103']\", \"['Q8032']\", \"['Q80071']\", \"['Q79529']\", \"['Q7832574']\", \"['Q7829892']\", \"['Q781132']\", \"['Q776396']\", \"['Q768307']\", \"['Q738377']\", \"['Q7212557']\", \"['Q721063']\", \"['Q720711']\", \"['Q7094076']\", \"['Q7093850']\", \"['Q7058519']\", \"['Q6954187']\", \"['Q6942574']\", \"['Q687521']\", \"['Q683570']\", \"['Q676050']\", \"['Q667575']\", \"['Q66472631']\", \"['Q655311']\", \"['Q646793']\", \"['Q64578911']\", \"['Q6428674']\", \"['Q63187345']\", \"['Q63100601']\", \"['Q63040754']\", \"['Q627272']\", \"['Q62662439']\", \"['Q617378']\", \"['Q606986']\", \"['Q604435']\", \"['Q604177']\", \"['Q594128']\", \"['Q58840819']\", \"['Q57812611']\", \"['Q575920']\", \"['Q57285129']\", \"['Q56731284']\", \"['Q5640597']\", \"['Q55850593']\", \"['Q555937']\", \"['Q55214844']\", \"['Q549775']\", \"['Q5446565']\", \"['Q54375490']\", \"['Q54375487']\", \"['Q54375430']\", \"['Q5354754']\", \"['Q509028']\", \"['Q506883']\", \"['Q503481']\", \"['Q50319430']\", \"['Q50192007']\", \"['Q49084']\", \"['Q48264']\", \"['Q4801521']\", \"['Q474']\", \"['Q473708']\", \"['Q470561']\", \"['Q46398483']\", \"['Q4611891']\", \"['Q456876']\", \"['Q44665966']\", \"['Q4358176']\", \"['Q43577']\", \"['Q4178140']\", \"['Q4150822']\", \"['Q4117798']\", \"['Q4114753']\", \"['Q39811647']\", \"['Q380093']\", \"['Q3710488']\", \"['Q37045']\", \"['Q3647172']\", \"['Q35749']\", \"['Q3550864']\", \"['Q3516862']\", \"['Q34493']\", \"['Q33937']\", \"['Q3346693']\", \"['Q321839']\", \"['Q31374404']\", \"['Q3126170']\", \"['Q309']\", \"['Q3085519']\", \"['Q2924561']\", \"['Q2919801']\", \"['Q29171']\", \"['Q28942344']\", \"['Q28942294']\", \"['Q28225717']\", \"['Q28222117']\", \"['Q28221929']\", \"['Q27491766']\", \"['Q2744064']\", \"['Q26235166']\", \"['Q25412766']\", \"['Q2531956']\", \"['Q24746']\", \"['Q2470803']\", \"['Q24017414']\", \"['Q234497']\", \"['Q22733']\", \"['Q22713289']\", \"['Q2266066']\", \"['Q225056']\", \"['Q22162827']\", \"['Q219423']\", \"['Q216704']\", \"['Q2143354']\", \"['Q214070']\", \"['Q21114371']\", \"['Q20893947']\", \"['Q20750954']\", \"['Q20744047']\", \"['Q205495']\", \"['Q2044538']\", \"['Q2023214']\", \"['Q200334']\", \"['Q199451']\", \"['Q19829908']\", \"['Q197952']\", \"['Q19475']\", \"['Q19097']\", \"['Q189819']\", \"['Q188860']\", \"['Q188686']\", \"['Q18811583']\", \"['Q187579']\", \"['Q18707678']\", \"['Q18618628']\", \"['Q1853630']\", \"['Q18493502']\", \"['Q1825472']\", \"['Q1802419']\", \"['Q17888']\", \"['Q175185']\", \"['Q174923']\", \"['Q17485079']\", \"['Q170980']\", \"['Q16858238']\", \"['Q16743958']\", \"['Q1662011']\", \"['Q1650727']\", \"['Q16363669']\", \"['Q16274795']\", \"['Q1614849']\", \"['Q161387']\", \"['Q16103215']\", \"['Q15961987']\", \"['Q15849374']\", \"['Q15809678']\", \"['Q15636229']\", \"['Q1542651']\", \"['Q15260617']\", \"['Q15234658']\", \"['Q15195406']\", \"['Q1509716']\", \"['Q15070223']\", \"['Q149789']\", \"['Q14904124']\", \"['Q14756018']\", \"['Q146083']\", \"['Q14276458']\", \"['Q1420027']\", \"['Q1373439']\", \"['Q13414754']\", \"['Q13410508']\", \"['Q1325627']\", \"['Q131746']\", \"['Q1287097']\", \"['Q12104174']\", \"['Q1201493']\", \"['Q12012855']\", \"['Q1190207']\", \"['Q1185562']\", \"['Q11743865']\", \"['Q11606456']\", \"['Q1137468']\", \"['Q113687694']\", \"['Q11348']\", \"['Q11345']\", \"['Q11282']\", \"['Q112727429']\", \"['Q11177771']\", \"['Q11166728']\", \"['Q110009901']\", \"['Q108102018']\", \"['Q1080794']\", \"['Q107274313']\", \"['Q1071482']\", \"['Q106575300']\", \"['Q106259']\", \"['Q1060455']\", \"['Q105967696']\", \"['Q105501529']\", \"['Q1051581']\", '\"[\\'Q967098\\'', '\"[\\'Q917182\\'', '\"[\\'Q856584\\'', '\"[\\'Q837800\\'', '\"[\\'Q82969709\\'', '\"[\\'Q748019\\'', '\"[\\'Q708676\\'', '\"[\\'Q708176\\'', '\"[\\'Q631305\\'', '\"[\\'Q618200\\'', '\"[\\'Q570116\\'', '\"[\\'Q56557504\\'', '\"[\\'Q5532181\\'', '\"[\\'Q549744\\'', '\"[\\'Q54935786\\'', '\"[\\'Q50053\\'', '\"[\\'Q484652\\'', '\"[\\'Q47018478\\'', '\"[\\'Q42523\\'', '\"[\\'Q40231\\'', '\"[\\'Q335806\\'', '\"[\\'Q3002150\\'', '\"[\\'Q27863646\\'', '\"[\\'Q2772772\\'', '\"[\\'Q2755753\\'', '\"[\\'Q270791\\'', '\"[\\'Q26252880\\'', '\"[\\'Q2359\\'', '\"[\\'Q2309609\\'', '\"[\\'Q23002054\\'', '\"[\\'Q22999537\\'', '\"[\\'Q22746\\'', '\"[\\'Q21745557\\'', '\"[\\'Q21010817\\'', '\"[\\'Q20290500\\'', '\"[\\'Q2022036\\'', '\"[\\'Q18691601\\'', '\"[\\'Q179700\\'', '\"[\\'Q179461\\'', '\"[\\'Q1664720\\'', '\"[\\'Q15961987\\'', '\"[\\'Q15911314\\'', '\"[\\'Q157031\\'', '\"[\\'Q1549591\\'', '\"[\\'Q15221373\\'', '\"[\\'Q1373385\\'', '\"[\\'Q13405588\\'', '\"[\\'Q1336152\\'', '\"[\\'Q132241\\'', '\"[\\'Q131734\\'', '\"[\\'Q1279564\\'', '\"[\\'Q1137109\\'', '\"[\\'Q11315\\'', '\"[\\'Q11204\\'', '\"[\\'Q109623729\\'', '\"[\\'Q1060829\\'', '\"[\\'Q105419665\\'', '\"[\\'Q101659\\'', '\"[\\'Q1015644\\'', \"['Q98961713']\", \"['Q9779']\", \"['Q97010948']\", \"['Q952885']\", \"['Q939644']\", \"['Q938236']\", \"['Q93433126']\", \"['Q93352']\", \"['Q9304767']\", \"['Q926439']\", \"['Q892562']\", \"['Q88806674']\", \"['Q875583']\", \"['Q875157']\", \"['Q851517']\", \"['Q847301']\", \"['Q844619']\", \"['Q835714']\", \"['Q832161']\", \"['Q831515']\", \"['Q828160']\", \"['Q826038']\", \"['Q81066200']\", \"['Q8081']\", \"['Q8036']\", \"['Q788104']\", \"['Q7870']\", \"['Q77115']\", \"['Q762882']\", \"['Q7437892']\", \"['Q719592']\", \"['Q702492']\", \"['Q683363']\", \"['Q6807904']\", \"['Q66747126']\", \"['Q6643834']\", \"['Q66055']\", \"['Q64062731']\", \"['Q632300']\", \"['Q62832']\", \"['Q623605']\", \"['Q615810']\", \"['Q61002']\", \"['Q59239320']\", \"['Q5828421']\", \"['Q582706']\", \"['Q57314035']\", \"['Q56290623']\", \"['Q5588651']\", \"['Q55876909']\", \"['Q5518']\", \"['Q5398059']\", \"['Q5354734']\", \"['Q5297']\", \"['Q5259432']\", \"['Q5257307']\", \"['Q5228121']\", \"['Q5177940']\", \"['Q5150814']\", \"['Q503269']\", \"['Q503186']\", \"['Q4959031']\", \"['Q4894405']\", \"['Q48351111']\", \"['Q480242']\", \"['Q447523']\", \"['Q4389100']\", \"['Q42896655']\", \"['Q428303']\", \"['Q42298422']\", \"['Q42106']\", \"['Q42055295']\", \"['Q41505469']\", \"['Q40558']\", \"['Q3777462']\", \"['Q37654']\", \"['Q375011']\", \"['Q37484']\", \"['Q36794']\", \"['Q36507']\", \"['Q3649129']\", \"['Q358']\", \"['Q3579160']\", \"['Q349']\", \"['Q34262807']\", \"['Q33970']\", \"['Q339353']\", \"['Q336']\", \"['Q33283984']\", \"['Q3215290']\", \"['Q3197706']\", \"['Q3044930']\", \"['Q2973931']\", \"['Q28942368']\", \"['Q28941950']\", \"['Q28829877']\", \"['Q28790362']\", \"['Q28783456']\", \"['Q28222160']\", \"['Q2748940']\", \"['Q2740635']\", \"['Q2696963']\", \"['Q26877490']\", \"['Q2555200']\", \"['Q2536409']\", \"['Q2500708']\", \"['Q24638']\", \"['Q24334893']\", \"['Q2424478']\", \"['Q2421044']\", \"['Q24183035']\", \"['Q2416723']\", \"['Q240854']\", \"['Q2401485']\", \"['Q23622']\", \"['Q2349866']\", \"['Q2319498']\", \"['Q2306813']\", \"['Q22815098']\", \"['Q22815096']\", \"['Q22811234']\", \"['Q22802898']\", \"['Q22695893']\", \"['Q2261202']\", \"['Q2245442']\", \"['Q2220795']\", \"['Q212057']\", \"['Q211364']\", \"['Q2112448']\", \"['Q2091969']\", \"['Q20820271']\", \"['Q207320']\", \"['Q2072238']\", \"['Q202539']\", \"['Q20168706']\", \"['Q20153779']\", \"['Q20073476']\", \"['Q20045609']\", \"['Q20034791']\", \"['Q19973770']\", \"['Q1978718']\", \"['Q19776628']\", \"['Q19563580']\", \"['Q19479037']\", \"['Q193564']\", \"['Q190752']\", \"['Q18812548']\", \"['Q1868552']\", \"['Q18654742']\", \"['Q18615718']\", \"['Q18559008']\", \"['Q18551781']\", \"['Q1828459']\", \"['Q182832']\", \"['Q1802243']\", \"['Q179872']\", \"['Q17910379']\", \"['Q1788992']\", \"['Q178743']\", \"['Q1782540']\", \"['Q1761572']\", \"['Q1761072']\", \"['Q1751513']\", \"['Q1738991']\", \"['Q17376095']\", \"['Q17279032']\", \"['Q17276484']\", \"['Q170885']\", \"['Q17072837']\", \"['Q16939528']\", \"['Q16937116']\", \"['Q1661531']\", \"['Q16513881']\", \"['Q162919']\", \"['Q160645']\", \"['Q15991790']\", \"['Q159391']\", \"['Q1587816']\", \"['Q15848826']\", \"['Q15773347']\", \"['Q15711797']\", \"['Q15706911']\", \"['Q1568283']\", \"['Q15643599']\", \"['Q15636234']\", \"['Q15401633']\", \"['Q15331236']\", \"['Q15284636']\", \"['Q1519799']\", \"['Q15145537']\", \"['Q1512109']\", \"['Q15097084']\", \"['Q15059108']\", \"['Q14869485']\", \"['Q147802']\", \"['Q146']\", \"['Q14515311']\", \"['Q1437299']\", \"['Q1435951']\", \"['Q1391517']\", \"['Q1378781']\", \"['Q1371562']\", \"['Q134161']\", \"['Q13410403']\", \"['Q13384978']\", \"['Q1324633']\", \"['Q131212']\", \"['Q1301371']\", \"['Q1284645']\", \"['Q1255087']\", \"['Q12351403']\", \"['Q12351401']\", \"['Q1231896']\", \"['Q117850']\", \"['Q11773926']\", \"['Q1166625']\", \"['Q115378877']\", \"['Q11417']\", \"['Q11411019']\", \"['Q111046447']\", \"['Q108317211']\", \"['Q108074670']\", \"['Q1062856']\", \"['Q1061151']\", \"['Q105568320']\", \"['Q1051067']\", \"['Q101244']\", \"['Q101007233']\", \"['Q1006079']\", \"['Q100269041']\", '\"[\\'Q9609\\'', '\"[\\'Q88569700\\'', '\"[\\'Q8072\\'', '\"[\\'Q744913\\'', '\"[\\'Q744099\\'', '\"[\\'Q738570\\'', '\"[\\'Q732717\\'', '\"[\\'Q67101749\\'', '\"[\\'Q595467\\'', '\"[\\'Q56242215\\'', '\"[\\'Q55774719\\'', '\"[\\'Q502074\\'', '\"[\\'Q46622\\'', '\"[\\'Q45762\\'', '\"[\\'Q4504495\\'', '\"[\\'Q4502119\\'', '\"[\\'Q4460\\'', '\"[\\'Q4443691\\'', '\"[\\'Q42045197\\'', '\"[\\'Q3950\\'', '\"[\\'Q375336\\'', '\"[\\'Q358\\'', '\"[\\'Q3498533\\'', '\"[\\'Q3278565\\'', '\"[\\'Q3249005\\'', '\"[\\'Q3055118\\'', '\"[\\'Q29168811\\'', '\"[\\'Q29045252\\'', '\"[\\'Q28653\\'', '\"[\\'Q2732840\\'', '\"[\\'Q2610482\\'', '\"[\\'Q2583015\\'', '\"[\\'Q2531\\'', '\"[\\'Q2257\\'', '\"[\\'Q20639847\\'', '\"[\\'Q18043430\\'', '\"[\\'Q1788716\\'', '\"[\\'Q178790\\'', '\"[\\'Q163446\\'', '\"[\\'Q16017119\\'', '\"[\\'Q158438\\'', '\"[\\'Q15688633\\'', '\"[\\'Q15081030\\'', '\"[\\'Q15079663\\'', '\"[\\'Q149621\\'', '\"[\\'Q1320047\\'', '\"[\\'Q1267632\\'', '\"[\\'Q1241568\\'', '\"[\\'Q12284\\'', '\"[\\'Q11789735\\'', '\"[\\'Q1134686\\'', '\"[\\'Q1107656\\'', '\"[\\'Q1080794\\'', \"['Q98540827']\", \"['Q973887']\", \"['Q94670589']\", \"['Q944816']\", \"['Q91203']\", \"['Q908908']\", \"['Q877517']\", \"['Q851587']\", \"['Q842478']\", \"['Q82749']\", \"['Q81851']\", \"['Q8019']\", \"['Q7997']\", \"['Q799209']\", \"['Q79894']\", \"['Q7954']\", \"['Q7884789']\", \"['Q786705']\", \"['Q785952']\", \"['Q7831615']\", \"['Q7777019']\", \"['Q7703797']\", \"['Q768717']\", \"['Q76438']\", \"['Q750215']\", \"['Q749565']\", \"['Q747381']\", \"['Q745877']\", \"['Q732948']\", \"['Q72986']\", \"['Q7248527']\", \"['Q72321606']\", \"['Q721067']\", \"['Q7138926']\", \"['Q702081']\", \"['Q70206617']\", \"['Q6936225']\", \"['Q66818387']\", \"['Q665247']\", \"['Q6631808']\", \"['Q659396']\", \"['Q6554101']\", \"['Q655150']\", \"['Q6503489']\", \"['Q64805944']\", \"['Q64654999']\", \"['Q63874702']\", \"['Q63383608']\", \"['Q63364175']\", \"['Q62078547']\", \"['Q618193']\", \"['Q60680430']\", \"['Q58408484']\", \"['Q5650788']\", \"['Q56116950']\", \"['Q56062113']\", \"['Q55662456']\", \"['Q55485']\", \"['Q55463514']\", \"['Q5504247']\", \"['Q550089']\", \"['Q549744']\", \"['Q54375455']\", \"['Q5177126']\", \"['Q5098']\", \"['Q50687555']\", \"['Q50337']\", \"['Q50053']\", \"['Q495430']\", \"['Q49124804']\", \"['Q476300']\", \"['Q47465437']\", \"['Q47460286']\", \"['Q47369692']\", \"['Q465434']\", \"['Q464780']\", \"['Q44710774']\", \"['Q4374872']\", \"['Q429088']\", \"['Q428875']\", \"['Q42855995']\", \"['Q41162']\", \"['Q4006']\", \"['Q388602']\", \"['Q3840711']\", \"['Q382952']\", \"['Q38058796']\", \"['Q380342']\", \"['Q379817']\", \"['Q371752']\", \"['Q3685434']\", \"['Q3677604']\", \"['Q3559024']\", \"['Q353070']\", \"['Q3505845']\", \"['Q3435924']\", \"['Q3397526']\", \"['Q336764']\", \"['Q336473']\", \"['Q3327913']\", \"['Q3327862']\", \"['Q3323149']\", \"['Q33101426']\", \"['Q330284']\", \"['Q3280746']\", \"['Q3241565']\", \"['Q322563']\", \"['Q32066628']\", \"['Q319676']\", \"['Q3149875']\", \"['Q3114762']\", \"['Q29946056']\", \"['Q2949204']\", \"['Q2914501']\", \"['Q28820001']\", \"['Q282']\", \"['Q281917']\", \"['Q2819161']\", \"['Q276548']\", \"['Q27590']\", \"['Q27491798']\", \"['Q2742167']\", \"['Q2741017']\", \"['Q26959059']\", \"['Q2678338']\", \"['Q26678366']\", \"['Q2519340']\", \"['Q2516357']\", \"['Q2499099']\", \"['Q2495862']\", \"['Q2491016']\", \"['Q24571879']\", \"['Q24017852']\", \"['Q23905071']\", \"['Q23902005']\", \"['Q2365159']\", \"['Q2334543']\", \"['Q2282602']\", \"['Q22695896']\", \"['Q2265915']\", \"['Q2207288']\", \"['Q2190251']\", \"['Q2187969']\", \"['Q2177636']\", \"['Q217327']\", \"['Q216926']\", \"['Q216200']\", \"['Q21605492']\", \"['Q21506450']\", \"['Q214196']\", \"['Q2135977']\", \"['Q2133344']\", \"['Q212805']\", \"['Q2122214']\", \"['Q21192438']\", \"['Q2115792']\", \"['Q21126229']\", \"['Q20746389']\", \"['Q2065227']\", \"['Q2063507']\", \"['Q204832']\", \"['Q20127274']\", \"['Q2003221']\", \"['Q20011319']\", \"['Q2000908']\", \"['Q19838114']\", \"['Q19823486']\", \"['Q19340794']\", \"['Q19334558']\", \"['Q190']\", \"['Q18887969']\", \"['Q18814858']\", \"['Q18534']\", \"['Q18510489']\", \"['Q184613']\", \"['Q184296']\", \"['Q18414273']\", \"['Q18328097']\", \"['Q182886']\", \"['Q1827102']\", \"['Q1813494']\", \"['Q18039177']\", \"['Q1803829']\", \"['Q18009506']\", \"['Q179461']\", \"['Q1779527']\", \"['Q17276480']\", \"['Q170483']\", \"['Q16974307']\", \"['Q1679887']\", \"['Q1655611']\", \"['Q1639780']\", \"['Q163727']\", \"['Q16349709']\", \"['Q1620914']\", \"['Q1608017']\", \"['Q159821']\", \"['Q15836337']\", \"['Q15702752']\", \"['Q1550225']\", \"['Q15411381']\", \"['Q15383322']\", \"['Q1531518']\", \"['Q15310171']\", \"['Q152810']\", \"['Q15221370']\", \"['Q15149663']\", \"['Q1502700']\", \"['Q15020931']\", \"['Q149086']\", \"['Q14897293']\", \"['Q1443933']\", \"['Q1434544']\", \"['Q1426772']\", \"['Q1426710']\", \"['Q1412205']\", \"['Q1371819']\", \"['Q1369686']\", \"['Q1364302']\", \"['Q1363750']\", \"['Q13583449']\", \"['Q1358344']\", \"['Q13516676']\", \"['Q1351282']\", \"['Q1344963']\", \"['Q13418847']\", \"['Q13414354']\", \"['Q13410438']\", \"['Q1339195']\", \"['Q133215']\", \"['Q132213']\", \"['Q131093']\", \"['Q1308121']\", \"['Q129264']\", \"['Q1262090']\", \"['Q12453']\", \"['Q1241025']\", \"['Q1238720']\", \"['Q1233637']\", \"['Q12143']\", \"['Q12037308']\", \"['Q1202091']\", \"['Q1194093']\", \"['Q1188736']\", \"['Q11832860']\", \"['Q11666901']\", \"['Q11635']\", \"['Q115473170']\", \"['Q11488158']\", \"['Q11460']\", \"['Q1143604']\", \"['Q11292']\", \"['Q1127759']\", \"['Q11276']\", \"['Q111803808']\", \"['Q1112477']\", \"['Q111161']\", \"['Q11086540']\", \"['Q11042']\", \"['Q110211119']\", \"['Q109838242']\", \"['Q1088652']\", \"['Q108822885']\", \"['Q108676140']\", \"['Q10832530']\", \"['Q1069116']\", \"['Q1065592']\", \"['Q10631691']\", \"['Q106114863']\", \"['Q10551473']\", \"['Q105190']\", \"['Q1049158']\", \"['Q104843']\", \"['Q104649845']\", \"['Q102786']\", \"['Q10269077']\", \"['Q1006357']\", \"['Q100510764']\", \"['Q1003030']\", '\"[\\'Q893775\\'', '\"[\\'Q861911\\'', '\"[\\'Q83405\\'', '\"[\\'Q81917\\'', '\"[\\'Q811430\\'', '\"[\\'Q771444\\'', '\"[\\'Q6558431\\'', '\"[\\'Q64995589\\'', '\"[\\'Q644507\\'', '\"[\\'Q6243\\'', '\"[\\'Q59658968\\'', '\"[\\'Q57831\\'', '\"[\\'Q571\\'', '\"[\\'Q558574\\'', '\"[\\'Q54086790\\'', '\"[\\'Q523166\\'', '\"[\\'Q5119\\'', '\"[\\'Q500834\\'', '\"[\\'Q494230\\'', '\"[\\'Q48204\\'', '\"[\\'Q4671286\\'', '\"[\\'Q402092\\'', '\"[\\'Q39816\\'', '\"[\\'Q382934\\'', '\"[\\'Q3685476\\'', '\"[\\'Q3685463\\'', '\"[\\'Q317623\\'', '\"[\\'Q28738741\\'', '\"[\\'Q2800\\'', '\"[\\'Q2738074\\'', '\"[\\'Q2686\\'', '\"[\\'Q26132862\\'', '\"[\\'Q2592651\\'', '\"[\\'Q2577114\\'', '\"[\\'Q2459\\'', '\"[\\'Q2458\\'', '\"[\\'Q2296\\'', '\"[\\'Q223393\\'', '\"[\\'Q220505\\'', '\"[\\'Q2178147\\'', '\"[\\'Q216353\\'', '\"[\\'Q211690\\'', '\"[\\'Q205985\\'', '\"[\\'Q19847637\\'', '\"[\\'Q1969642\\'', '\"[\\'Q18706073\\'', '\"[\\'Q18614948\\'', '\"[\\'Q17480853\\'', '\"[\\'Q17457107\\'', '\"[\\'Q17156398\\'', '\"[\\'Q1666019\\'', '\"[\\'Q15987302\\'', '\"[\\'Q1589009\\'', '\"[\\'Q1555508\\'', '\"[\\'Q15060255\\'', '\"[\\'Q1497364\\'', '\"[\\'Q1374075\\'', '\"[\\'Q1364556\\'', '\"[\\'Q13632\\'', '\"[\\'Q1349255\\'', '\"[\\'Q133156\\'', '\"[\\'Q1330776\\'', '\"[\\'Q1329623\\'', '\"[\\'Q1321353\\'', '\"[\\'Q1320863\\'', '\"[\\'Q1302471\\'', '\"[\\'Q12973014\\'', '\"[\\'Q12104174\\'', '\"[\\'Q1169748\\'', '\"[\\'Q11387\\'', '\"[\\'Q112965645\\'', '\"[\\'Q1110684\\'', '\"[\\'Q110977120\\'', '\"[\\'Q106594095\\'', '\"[\\'Q1058914\\'', \"['Q996839']\", \"['Q985834']\", \"['Q98391050']\", \"['Q97950663']\", \"['Q973560']\", \"['Q96378286']\", \"['Q96236329']\", \"['Q954007']\", \"['Q927914']\", \"['Q909906']\", \"['Q90754']\", \"['Q898830']\", \"['Q898273']\", \"['Q89578131']\", \"['Q89521']\", \"['Q89477']\", \"['Q87576284']\", \"['Q867597']\", \"['Q860290']\", \"['Q849851']\", \"['Q848197']\", \"['Q847906']\", \"['Q846882']\", \"['Q845392']\", \"['Q843214']\", \"['Q841654']\", \"['Q839546']\", \"['Q8394']\", \"['Q836688']\", \"['Q82821']\", \"['Q82414']\", \"['Q8187769']\", \"['Q8091']\", \"['Q8016240']\", \"['Q7927908']\", \"['Q7894227']\", \"['Q7876']\", \"['Q787113']\", \"['Q785486']\", \"['Q784823']\", \"['Q778575']\", \"['Q7603678']\", \"['Q75179296']\", \"['Q7468093']\", \"['Q74673301']\", \"['Q74613738']\", \"['Q7365']\", \"['Q7315176']\", \"['Q7307130']\", \"['Q728']\", \"['Q723441']\", \"['Q7123018']\", \"['Q694589']\", \"['Q6852233']\", \"['Q678146']\", \"['Q66794983']\", \"['Q66739921']\", \"['Q6664316']\", \"['Q662829']\", \"['Q657829']\", \"['Q6542557']\", \"['Q653928']\", \"['Q6500733']\", \"['Q647704']\", \"['Q64513524']\", \"['Q64025381']\", \"['Q63100584']\", \"['Q630531']\", \"['Q6293']\", \"['Q62008942']\", \"['Q61915880']\", \"['Q60895708']\", \"['Q60539481']\", \"['Q605117']\", \"['Q60377878']\", \"['Q6021560']\", \"['Q6019423']\", \"['Q5916199']\", \"['Q5890494']\", \"['Q57237926']\", \"['Q56885635']\", \"['Q56884562']\", \"['Q56856169']\", \"['Q56395958']\", \"['Q55958305']\", \"['Q557685']\", \"['Q5556082']\", \"['Q55379753']\", \"['Q55260272']\", \"['Q5436782']\", \"['Q5283500']\", \"['Q5256141']\", \"['Q5159627']\", \"['Q5150550']\", \"['Q510578']\", \"['Q507850']\", \"['Q503391']\", \"['Q49958']\", \"['Q497893']\", \"['Q4895508']\", \"['Q48796029']\", \"['Q483372']\", \"['Q47988']\", \"['Q4793813']\", \"['Q4785472']\", \"['Q47505518']\", \"['Q4739805']\", \"['Q47053']\", \"['Q468008']\", \"['Q4618']\", \"['Q45047069']\", \"['Q44844']\", \"['Q44409287']\", \"['Q4436935']\", \"['Q436435']\", \"['Q43091']\", \"['Q42880958']\", \"['Q4251375']\", \"['Q4206677']\", \"['Q4182287']\", \"['Q41806741']\", \"['Q40551']\", \"['Q40218']\", \"['Q399541']\", \"['Q3958626']\", \"['Q3952369']\", \"['Q38829']\", \"['Q38001301']\", \"['Q37998944']\", \"['Q37996118']\", \"['Q37992192']\", \"['Q37957071']\", \"['Q378508']\", \"['Q375928']\", \"['Q3705105']\", \"['Q36784']\", \"['Q3664326']\", \"['Q3586928']\", \"['Q35718073']\", \"['Q3538931']\", \"['Q3534390']\", \"['Q3523867']\", \"['Q3516872']\", \"['Q35140']\", \"['Q35034452']\", \"['Q3494357']\", \"['Q337986']\", \"['Q3327871']\", \"['Q3278565']\", \"['Q327245']\", \"['Q3241972']\", \"['Q3240227']\", \"['Q3154693']\", \"['Q3152659']\", \"['Q312466']\", \"['Q304433']\", \"['Q2991378']\", \"['Q29642901']\", \"['Q29575627']\", \"['Q29553']\", \"['Q2927789']\", \"['Q290']\", \"['Q28777651']\", \"['Q28222087']\", \"['Q28221942']\", \"['Q28060956']\", \"['Q28007428']\", \"['Q27968055']\", \"['Q27962800']\", \"['Q27949697']\", \"['Q27676420']\", \"['Q2746884']\", \"['Q274393']\", \"['Q27318']\", \"['Q27148732']\", \"['Q2714144']\", \"['Q27068180']\", \"['Q27020748']\", \"['Q2655841']\", \"['Q2554364']\", \"['Q2551525']\", \"['Q2551394']\", \"['Q25403900']\", \"['Q253893']\", \"['Q24898692']\", \"['Q2467831']\", \"['Q2452850']\", \"['Q24434794']\", \"['Q2417724']\", \"['Q23905069']\", \"['Q2381177']\", \"['Q236036']\", \"['Q2348563']\", \"['Q23019040']\", \"['Q22938576']\", \"['Q2275640']\", \"['Q2269756']\", \"['Q2264478']\", \"['Q2261863']\", \"['Q2259749']\", \"['Q2255260']\", \"['Q223706']\", \"['Q2231510']\", \"['Q22280976']\", \"['Q22276038']\", \"['Q221722']\", \"['Q22098766']\", \"['Q21682724']\", \"['Q21561328']\", \"['Q21480300']\", \"['Q214609']\", \"['Q213924']\", \"['Q2115187']\", \"['Q2111088']\", \"['Q2101619']\", \"['Q20937557']\", \"['Q2084422']\", \"['Q20784907']\", \"['Q207621']\", \"['Q207505']\", \"['Q20732405']\", \"['Q20680270']\", \"['Q20672229']\", \"['Q20603222']\", \"['Q202871']\", \"['Q2020153']\", \"['Q20087698']\", \"['Q2005696']\", \"['Q19939068']\", \"['Q19886676']\", \"['Q1976594']\", \"['Q1955280']\", \"['Q19464263']\", \"['Q1935728']\", \"['Q19335303']\", \"['Q19292144']\", \"['Q1911973']\", \"['Q18920569']\", \"['Q188734']\", \"['Q18744396']\", \"['Q18640746']\", \"['Q18632459']\", \"['Q185598']\", \"['Q18555638']\", \"['Q184973']\", \"['Q184937']\", \"['Q18449284']\", \"['Q1840368']\", \"['Q183816']\", \"['Q181860']\", \"['Q18175356']\", \"['Q181336']\", \"['Q181307']\", \"['Q180673']\", \"['Q180173']\", \"['Q180126']\", \"['Q179630']\", \"['Q1787111']\", \"['Q1778846']\", \"['Q177691']\", \"['Q1770971']\", \"['Q17620767']\", \"['Q1759559']\", \"['Q1750919']\", \"['Q17507349']\", \"['Q1748957']\", \"['Q17456916']\", \"['Q17149090']\", \"['Q17099416']\", \"['Q170087']\", \"['Q17004438']\", \"['Q1699583']\", \"['Q1684522']\", \"['Q1683169']\", \"['Q165']\", \"['Q16326794']\", \"['Q1630387']\", \"['Q162940']\", \"['Q1615742']\", \"['Q15823129']\", \"['Q15720608']\", \"['Q15584664']\", \"['Q1540633']\", \"['Q1517777']\", \"['Q15061624']\", \"['Q15052846']\", \"['Q1500615']\", \"['Q14970']\", \"['Q14942893']\", \"['Q148319']\", \"['Q14762300']\", \"['Q1474611']\", \"['Q1464916']\", \"['Q1455275']\", \"['Q1450598']\", \"['Q1434401']\", \"['Q1432092']\", \"['Q1428660']\", \"['Q1404207']\", \"['Q1401304']\", \"['Q1391145']\", \"['Q1368879']\", \"['Q13593818']\", \"['Q13473501']\", \"['Q13417250']\", \"['Q13409250']\", \"['Q13405588']\", \"['Q13365548']\", \"['Q1336099']\", \"['Q133067']\", \"['Q133004']\", \"['Q1324355']\", \"['Q13217644']\", \"['Q1321542']\", \"['Q132']\", \"['Q1318295']\", \"['Q1296040']\", \"['Q12876']\", \"['Q128234']\", \"['Q12812333']\", \"['Q12800']\", \"['Q1277221']\", \"['Q12757']\", \"['Q1266818']\", \"['Q1246128']\", \"['Q12045584']\", \"['Q12043905']\", \"['Q1195705']\", \"['Q1195448']\", \"['Q1193753']\", \"['Q1191035']\", \"['Q1190781']\", \"['Q1156854']\", \"['Q1151733']\", \"['Q11486287']\", \"['Q1143785']\", \"['Q11424384']\", \"['Q1141795']\", \"['Q11390939']\", \"['Q113627831']\", \"['Q112727422']\", \"['Q112727420']\", \"['Q112727412']\", \"['Q1121542']\", \"['Q1110056']\", \"['Q11079470']\", \"['Q109874272']\", \"['Q109551565']\", \"['Q1079196']\", \"['Q107738007']\", \"['Q107540719']\", \"['Q107487333']\", \"['Q105985']\", \"['Q105266621']\", \"['Q1050840']\", \"['Q10428845']\", \"['Q1032264']\", \"['Q10267336']\", \"['Q1021290']\", '\"[\\'Q979507\\'', '\"[\\'Q976981\\'', '\"[\\'Q877358\\'', '\"[\\'Q856234\\'', '\"[\\'Q83306\\'', '\"[\\'Q79913\\'', '\"[\\'Q687188\\'', '\"[\\'Q667092\\'', '\"[\\'Q6593033\\'', '\"[\\'Q6593031\\'', '\"[\\'Q6581615\\'', '\"[\\'Q60874\\'', '\"[\\'Q582706\\'', '\"[\\'Q56061\\'', '\"[\\'Q55876909\\'', '\"[\\'Q549775\\'', '\"[\\'Q543654\\'', '\"[\\'Q5292\\'', '\"[\\'Q49773\\'', '\"[\\'Q483242\\'', '\"[\\'Q45382\\'', '\"[\\'Q4498974\\'', '\"[\\'Q4271324\\'', '\"[\\'Q4220920\\'', '\"[\\'Q41805936\\'', '\"[\\'Q41520\\'', '\"[\\'Q375928\\'', '\"[\\'Q368290\\'', '\"[\\'Q36330215\\'', '\"[\\'Q34038\\'', '\"[\\'Q33742\\'', '\"[\\'Q3343298\\'', '\"[\\'Q3215290\\'', '\"[\\'Q3152824\\'', '\"[\\'Q3117363\\'', '\"[\\'Q309250\\'', '\"[\\'Q30022\\'', '\"[\\'Q2993\\'', '\"[\\'Q2989\\'', '\"[\\'Q29883647\\'', '\"[\\'Q2901570\\'', '\"[\\'Q2860410\\'', '\"[\\'Q285451\\'', '\"[\\'Q2831984\\'', '\"[\\'Q28140340\\'', '\"[\\'Q28045079\\'', '\"[\\'Q2777\\'', '\"[\\'Q270907\\'', '\"[\\'Q26271642\\'', '\"[\\'Q2526\\'', '\"[\\'Q25110269\\'', '\"[\\'Q2460\\'', '\"[\\'Q2403\\'', '\"[\\'Q2234\\'', '\"[\\'Q2190251\\'', '\"[\\'Q203958\\'', '\"[\\'Q19953632\\'', '\"[\\'Q1964689\\'', '\"[\\'Q1913217\\'', '\"[\\'Q18918041\\'', '\"[\\'Q1857731\\'', '\"[\\'Q17489659\\'', '\"[\\'Q15891112\\'', '\"[\\'Q15647906\\'', '\"[\\'Q15265344\\'', '\"[\\'Q1478437\\'', '\"[\\'Q14637321\\'', '\"[\\'Q142031\\'', '\"[\\'Q1365179\\'', '\"[\\'Q1353952\\'', '\"[\\'Q1348589\\'', '\"[\\'Q1345234\\'', '\"[\\'Q1325627\\'', '\"[\\'Q13212489\\'', '\"[\\'Q131186\\'', '\"[\\'Q1231888\\'', '\"[\\'Q12135\\'', '\"[\\'Q12051488\\'', '\"[\\'Q1194970\\'', '\"[\\'Q11834910\\'', '\"[\\'Q11396180\\'', '\"[\\'Q11276\\'', '\"[\\'Q1114515\\'', '\"[\\'Q1088552\\'', '\"[\\'Q10854310\\'', '\"[\\'Q10853148\\'', '\"[\\'Q108161738\\'', '\"[\\'Q105731\\'', '\"[\\'Q1051067\\'', '\"[\\'Q10438042\\'', '\"[\\'Q1040689\\'', '\"[\\'Q1007870\\'', \"['Q995347']\", \"['Q976688']\", \"['Q97380911']\", \"['Q96056561']\", \"['Q960248']\", \"['Q956300']\", \"['Q955655']\", \"['Q946725']\", \"['Q9190427']\", \"['Q917146']\", \"['Q91325574']\", \"['Q913252']\", \"['Q91315817']\", \"['Q91267389']\", \"['Q91028']\", \"['Q905929']\", \"['Q899192']\", \"['Q898712']\", \"['Q895526']\", \"['Q88397339']\", \"['Q878123']\", \"['Q852151']\", \"['Q851110']\", \"['Q850450']\", \"['Q849095']\", \"['Q848507']\", \"['Q84476898']\", \"['Q835153']\", \"['Q83267']\", \"['Q811906']\", \"['Q81064299']\", \"['Q8102']\", \"['Q8092']\", \"['Q804292']\", \"['Q7998']\", \"['Q7994']\", \"['Q7991064']\", \"['Q7937']\", \"['Q766277']\", \"['Q7604698']\", \"['Q7579839']\", \"['Q749827']\", \"['Q7366']\", \"['Q7362268']\", \"['Q7325635']\", \"['Q73060694']\", \"['Q7300165']\", \"['Q7251276']\", \"['Q7232773']\", \"['Q72286849']\", \"['Q722693']\", \"['Q7157526']\", \"['Q6981985']\", \"['Q697295']\", \"['Q67185183']\", \"['Q66786238']\", \"['Q66737903']\", \"['Q65948724']\", \"['Q6564784']\", \"['Q6554910']\", \"['Q651031']\", \"['Q6356595']\", \"['Q63383616']\", \"['Q62936413']\", \"['Q62933249']\", \"['Q628455']\", \"['Q628010']\", \"['Q622499']\", \"['Q618198']\", \"['Q617807']\", \"['Q61475894']\", \"['Q610398']\", \"['Q600236']\", \"['Q597897']\", \"['Q59772']\", \"['Q5801919']\", \"['Q5767753']\", \"['Q56887437']\", \"['Q56809587']\", \"['Q56256178']\", \"['Q56242275']\", \"['Q56190453']\", \"['Q5615133']\", \"['Q558330']\", \"['Q55774719']\", \"['Q55636096']\", \"['Q55586529']\", \"['Q55491']\", \"['Q55237813']\", \"['Q550394']\", \"['Q549728']\", \"['Q54932064']\", \"['Q54927709']\", \"['Q54375465']\", \"['Q53945096']\", \"['Q5389993']\", \"['Q5383482']\", \"['Q53607681']\", \"['Q5283513']\", \"['Q526719']\", \"['Q525504']\", \"['Q51404']\", \"['Q51280089']\", \"['Q51036091']\", \"['Q5051330']\", \"['Q50399']\", \"['Q5034013']\", \"['Q5020994']\", \"['Q494511']\", \"['Q4925355']\", \"['Q4897819']\", \"['Q48220677']\", \"['Q47486890']\", \"['Q470437']\", \"['Q469744']\", \"['Q4688003']\", \"['Q4671286']\", \"['Q466544']\", \"['Q46122817']\", \"['Q45908689']\", \"['Q4539']\", \"['Q4481787']\", \"['Q447725']\", \"['Q44512']\", \"['Q44005284']\", \"['Q4389115']\", \"['Q43791339']\", \"['Q4375340']\", \"['Q428792']\", \"['Q4284971']\", \"['Q42723927']\", \"['Q42470']\", \"['Q4240305']\", \"['Q422695']\", \"['Q4220920']\", \"['Q4192699']\", \"['Q41799425']\", \"['Q41720204']\", \"['Q40953']\", \"['Q4026292']\", \"['Q39546']\", \"['Q3927261']\", \"['Q3927245']\", \"['Q3918409']\", \"['Q3788231']\", \"['Q37756']\", \"['Q375545']\", \"['Q3754526']\", \"['Q3654350']\", \"['Q35872']\", \"['Q3586951']\", \"['Q357380']\", \"['Q3571153']\", \"['Q35080211']\", \"['Q3502482']\", \"['Q3476533']\", \"['Q34651']\", \"['Q34379419']\", \"['Q340069']\", \"['Q3356081']\", \"['Q3343298']\", \"['Q3339235']\", \"['Q329245']\", \"['Q328584']\", \"['Q328539']\", \"['Q3238851']\", \"['Q3220391']\", \"['Q3032131']\", \"['Q3032114']\", \"['Q2995263']\", \"['Q298750']\", \"['Q2973938']\", \"['Q2973801']\", \"['Q2962545']\", \"['Q2956483']\", \"['Q295469']\", \"['Q28841127']\", \"['Q2881272']\", \"['Q2878855']\", \"['Q2865779']\", \"['Q28649370']\", \"['Q2860456']\", \"['Q28222165']\", \"['Q28222073']\", \"['Q28222012']\", \"['Q28168011']\", \"['Q280783']\", \"['Q28060923']\", \"['Q28059995']\", \"['Q279479']\", \"['Q27448']\", \"['Q2728698']\", \"['Q2724542']\", \"['Q271680']\", \"['Q27031964']\", \"['Q26844382']\", \"['Q26780690']\", \"['Q2619673']\", \"['Q2617664']\", \"['Q2607197']\", \"['Q25930498']\", \"['Q25810847']\", \"['Q25796237']\", \"['Q257913']\", \"['Q2575910']\", \"['Q2570643']\", \"['Q255478']\", \"['Q25412763']\", \"['Q2537744']\", \"['Q25343631']\", \"['Q252916']\", \"['Q2527000']\", \"['Q251777']\", \"['Q2516436']\", \"['Q25036349']\", \"['Q2498986']\", \"['Q2491892']\", \"['Q249083']\", \"['Q24887161']\", \"['Q2478386']\", \"['Q24659965']\", \"['Q24659756']\", \"['Q24569309']\", \"['Q2419662']\", \"['Q24177311']\", \"['Q24050099']\", \"['Q2307291']\", \"['Q230186']\", \"['Q2300124']\", \"['Q22949126']\", \"['Q22811668']\", \"['Q22809610']\", \"['Q22704005']\", \"['Q22703992']\", \"['Q22676022']\", \"['Q2260567']\", \"['Q2231681']\", \"['Q22276080']\", \"['Q22266624']\", \"['Q22247']\", \"['Q21815201']\", \"['Q215864']\", \"['Q2154027']\", \"['Q21514702']\", \"['Q21481766']\", \"['Q2142152']\", \"['Q2141342']\", \"['Q213051']\", \"['Q2101438']\", \"['Q20898395']\", \"['Q20769287']\", \"['Q207452']\", \"['Q20725872']\", \"['Q20679883']\", \"['Q206615']\", \"['Q203904']\", \"['Q202595']\", \"['Q202008']\", \"['Q2007498']\", \"['Q20045456']\", \"['Q2001465']\", \"['Q2001330']\", \"['Q19832712']\", \"['Q19816504']\", \"['Q19691007']\", \"['Q196068']\", \"['Q19600329']\", \"['Q19529']\", \"['Q194465']\", \"['Q1939235']\", \"['Q193291']\", \"['Q1926218']\", \"['Q1917626']\", \"['Q1915979']\", \"['Q190107']\", \"['Q189977']\", \"['Q189409']\", \"['Q188628']\", \"['Q18748286']\", \"['Q187456']\", \"['Q1868541']\", \"['Q18670606']\", \"['Q1865205']\", \"['Q1863435']\", \"['Q18573970']\", \"['Q18558301']\", \"['Q18552353']\", \"['Q185357']\", \"['Q18509232']\", \"['Q184356']\", \"['Q182940']\", \"['Q182391']\", \"['Q18033462']\", \"['Q1800833']\", \"['Q1800213']\", \"['Q179875']\", \"['Q1793804']\", \"['Q177380']\", \"['Q1770249']\", \"['Q17624511']\", \"['Q17566318']\", \"['Q175263']\", \"['Q17468479']\", \"['Q1740654']\", \"['Q17276485']\", \"['Q17268368']\", \"['Q171341']\", \"['Q1708422']\", \"['Q17023673']\", \"['Q16973854']\", \"['Q16905550']\", \"['Q167903']\", \"['Q16738832']\", \"['Q166280']\", \"['Q165678']\", \"['Q16466688']\", \"['Q1643870']\", \"['Q1640824']\", \"['Q1631888']\", \"['Q162620']\", \"['Q1622062']\", \"['Q15835']\", \"['Q157811']\", \"['Q15720870']\", \"['Q15709879']\", \"['Q15673297']\", \"['Q1566035']\", \"['Q15643559']\", \"['Q15407973']\", \"['Q15262']\", \"['Q1523545']\", \"['Q15229229']\", \"['Q15146717']\", \"['Q1505841']\", \"['Q15053464']\", \"['Q1504917']\", \"['Q14941870']\", \"['Q1493054']\", \"['Q148837']\", \"['Q14755051']\", \"['Q147027']\", \"['Q14701642']\", \"['Q14694942']\", \"['Q14506045']\", \"['Q1445518']\", \"['Q1434958']\", \"['Q1433061']\", \"['Q1433006']\", \"['Q1430384']\", \"['Q1430154']\", \"['Q1406988']\", \"['Q1406318']\", \"['Q138775']\", \"['Q1386534']\", \"['Q1377841']\", \"['Q137341']\", \"['Q1371427']\", \"['Q1361980']\", \"['Q134768']\", \"['Q13439060']\", \"['Q13415365']\", \"['Q13414765']\", \"['Q1341387']\", \"['Q13410464']\", \"['Q1330892']\", \"['Q1328899']\", \"['Q1323212']\", \"['Q13220204']\", \"['Q1308274']\", \"['Q12933353']\", \"['Q12890393']\", \"['Q1288520']\", \"['Q12761956']\", \"['Q1269299']\", \"['Q1267829']\", \"['Q1262712']\", \"['Q1258086']\", \"['Q1251750']\", \"['Q124964']\", \"['Q1246258']\", \"['Q1244860']\", \"['Q12338050']\", \"['Q12307270']\", \"['Q12249051']\", \"['Q12063697']\", \"['Q12057445']\", \"['Q1194583']\", \"['Q1187704']\", \"['Q1185274']\", \"['Q11783626']\", \"['Q1169748']\", \"['Q11668898']\", \"['Q1162560']\", \"['Q1161185']\", \"['Q11587139']\", \"['Q11566792']\", \"['Q1153408']\", \"['Q114570820']\", \"['Q1144447']\", \"['Q11422']\", \"['Q1139892']\", \"['Q112727406']\", \"['Q112727381']\", \"['Q11267645']\", \"['Q111722475']\", \"['Q110977521']\", \"['Q108569739']\", \"['Q108094999']\", \"['Q108040090']\", \"['Q107968']\", \"['Q1074076']\", \"['Q1068623']\", \"['Q10624504']\", \"['Q106036966']\", \"['Q1057214']\", \"['Q1057026']\", \"['Q10564300']\", \"['Q10521078']\", \"['Q1050259']\", \"['Q1050132']\", \"['Q1049377']\", \"['Q1043939']\", \"['Q10429090']\", \"['Q1040374']\", \"['Q1039303']\", \"['Q103842783']\", \"['Q10313934']\", \"['Q10302972']\", \"['Q1024817']\", \"['Q1022469']\", \"['Q101965']\", \"['Q101687']\", \"['Q100796287']\", '\"[\\'Q973887\\'', '\"[\\'Q9143\\'', '\"[\\'Q841985\\'', '\"[\\'Q838795\\'', '\"[\\'Q811704\\'', '\"[\\'Q8047\\'', '\"[\\'Q80096233\\'', '\"[\\'Q7540126\\'', '\"[\\'Q751705\\'', '\"[\\'Q748331\\'', '\"[\\'Q7275\\'', '\"[\\'Q71631512\\'', '\"[\\'Q7094076\\'', '\"[\\'Q6954197\\'', '\"[\\'Q66344\\'', '\"[\\'Q65948724\\'', '\"[\\'Q645883\\'', '\"[\\'Q58211981\\'', '\"[\\'Q581714\\'', '\"[\\'Q56116950\\'', '\"[\\'Q55493\\'', '\"[\\'Q55043\\'', '\"[\\'Q549805\\'', '\"[\\'Q54375527\\'', '\"[\\'Q44539\\'', '\"[\\'Q43605\\'', '\"[\\'Q427926\\'', '\"[\\'Q39495\\'', '\"[\\'Q38239255\\'', '\"[\\'Q3631092\\'', '\"[\\'Q329683\\'', '\"[\\'Q312468\\'', '\"[\\'Q3062294\\'', '\"[\\'Q30061417\\'', '\"[\\'Q300007\\'', '\"[\\'Q299651\\'', '\"[\\'Q2958\\'', '\"[\\'Q29414133\\'', '\"[\\'Q28820001\\'', '\"[\\'Q2847\\'', '\"[\\'Q2828218\\'', '\"[\\'Q2811\\'', '\"[\\'Q27676416\\'', '\"[\\'Q271680\\'', '\"[\\'Q2671\\'', '\"[\\'Q26529\\'', '\"[\\'Q2579179\\'', '\"[\\'Q2528718\\'', '\"[\\'Q2511322\\'', '\"[\\'Q2511\\'', '\"[\\'Q2508\\'', '\"[\\'Q2504\\'', '\"[\\'Q2491016\\'', '\"[\\'Q2401\\'', '\"[\\'Q23790\\'', '\"[\\'Q235729\\'', '\"[\\'Q2354973\\'', '\"[\\'Q2344\\'', '\"[\\'Q2333\\'', '\"[\\'Q2301325\\'', '\"[\\'Q2210277\\'', '\"[\\'Q21127166\\'', '\"[\\'Q20858006\\'', '\"[\\'Q20679540\\'', '\"[\\'Q2035477\\'', '\"[\\'Q202866\\'', '\"[\\'Q2026833\\'', '\"[\\'Q20086263\\'', '\"[\\'Q1989945\\'', '\"[\\'Q19887775\\'', '\"[\\'Q194029\\'', '\"[\\'Q192619\\'', '\"[\\'Q186509\\'', '\"[\\'Q1863818\\'', '\"[\\'Q18611609\\'', '\"[\\'Q18534542\\'', '\"[\\'Q180516\\'', '\"[\\'Q1792372\\'', '\"[\\'Q178743\\'', '\"[\\'Q17391474\\'', '\"[\\'Q173387\\'', '\"[\\'Q169872\\'', '\"[\\'Q1681353\\'', '\"[\\'Q16735822\\'', '\"[\\'Q166735\\'', '\"[\\'Q1564373\\'', '\"[\\'Q15640053\\'', '\"[\\'Q155271\\'', '\"[\\'Q15221370\\'', '\"[\\'Q15087423\\'', '\"[\\'Q149918\\'', '\"[\\'Q14831768\\'', '\"[\\'Q14514600\\'', '\"[\\'Q1441305\\'', '\"[\\'Q1371037\\'', '\"[\\'Q13634881\\'', '\"[\\'Q13410496\\'', '\"[\\'Q13331174\\'', '\"[\\'Q13218690\\'', '\"[\\'Q1307276\\'', '\"[\\'Q130222\\'', '\"[\\'Q13002315\\'', '\"[\\'Q1260524\\'', '\"[\\'Q1223230\\'', '\"[\\'Q12106333\\'', '\"[\\'Q120676\\'', '\"[\\'Q1191622\\'', '\"[\\'Q1190435\\'', '\"[\\'Q11812394\\'', '\"[\\'Q11422536\\'', '\"[\\'Q11419619\\'', '\"[\\'Q1121471\\'', '\"[\\'Q1070912\\'', '\"[\\'Q1068842\\'', '\"[\\'Q1059324\\'', \"['Q99397804']\", \"['Q981367']\", \"['Q98017499']\", \"['Q97460675']\", \"['Q97303168']\", \"['Q96288605']\", \"['Q953806']\", \"['Q943260']\", \"['Q941501']\", \"['Q937876']\", \"['Q9357058']\", \"['Q93267']\", \"['Q930164']\", \"['Q92483361']\", \"['Q9229']\", \"['Q922203']\", \"['Q919510']\", \"['Q912196']\", \"['Q9109']\", \"['Q9096832']\", \"['Q909300']\", \"['Q90181054']\", \"['Q900800']\", \"['Q900406']\", \"['Q898771']\", \"['Q897303']\", \"['Q892368']\", \"['Q892278']\", \"['Q88556']\", \"['Q88372']\", \"['Q878249']\", \"['Q870780']\", \"['Q867570']\", \"['Q867242']\", \"['Q867143']\", \"['Q865493']\", \"['Q864866']\", \"['Q863531']\", \"['Q862597']\", \"['Q855630']\", \"['Q854429']\", \"['Q850950']\", \"['Q843360']\", \"['Q83818856']\", \"['Q8362']\", \"['Q83471']\", \"['Q8343784']\", \"['Q828827']\", \"['Q828485']\", \"['Q827572']\", \"['Q827335']\", \"['Q816829']\", \"['Q815823']\", \"['Q815448']\", \"['Q80767']\", \"['Q8059337']\", \"['Q805233']\", \"['Q80361238']\", \"['Q8024464']\", \"['Q797189']\", \"['Q79423884']\", \"['Q7935']\", \"['Q785020']\", \"['Q7814332']\", \"['Q7810129']\", \"['Q77814805']\", \"['Q77733378']\", \"['Q773944']\", \"['Q769696']\", \"['Q7692354']\", \"['Q7687464']\", \"['Q7553685']\", \"['Q755125']\", \"['Q752138']\", \"['Q75179210']\", \"['Q751030']\", \"['Q75093704']\", \"['Q75029']\", \"['Q747957']\", \"['Q7373622']\", \"['Q73501142']\", \"['Q732744']\", \"['Q73190050']\", \"['Q7315273']\", \"['Q730471']\", \"['Q729577']\", \"['Q727373']\", \"['Q727002']\", \"['Q7248542']\", \"['Q7246209']\", \"['Q7245816']\", \"['Q72070508']\", \"['Q718893']\", \"['Q7128792']\", \"['Q702842']\", \"['Q6974560']\", \"['Q692561']\", \"['Q688120']\", \"['Q6763949']\", \"['Q674775']\", \"['Q67131048']\", \"['Q66715801']\", \"['Q66664364']\", \"['Q6641762']\", \"['Q660651']\", \"['Q6600858']\", \"['Q657449']\", \"['Q655851']\", \"['Q6546372']\", \"['Q650241']\", \"['Q64995589']\", \"['Q64827141']\", \"['Q64807904']\", \"['Q647450']\", \"['Q64636958']\", \"['Q643532']\", \"['Q642961']\", \"['Q64027457']\", \"['Q636033']\", \"['Q634678']\", \"['Q63442071']\", \"['Q63100611']\", \"['Q63046488']\", \"['Q626569']\", \"['Q622521']\", \"['Q61901018']\", \"['Q618142']\", \"['Q61763947']\", \"['Q61718170']\", \"['Q615699']\", \"['Q610018']\", \"['Q60589804']\", \"['Q60539479']\", \"['Q605076']\", \"['Q60469796']\", \"['Q597286']\", \"['Q581450']\", \"['Q5803078']\", \"['Q57979411']\", \"['Q579287']\", \"['Q5783893']\", \"['Q57589544']\", \"['Q573942']\", \"['Q57315116']\", \"['Q572995']\", \"['Q5725005']\", \"['Q5707594']\", \"['Q56883667']\", \"['Q565744']\", \"['Q56439882']\", \"['Q56435743']\", \"['Q55977691']\", \"['Q558892']\", \"['Q556569']\", \"['Q55471069']\", \"['Q5531853']\", \"['Q5527082']\", \"['Q55097243']\", \"['Q55097207']\", \"['Q55030674']\", \"['Q549805']\", \"['Q549792']\", \"['Q549276']\", \"['Q549121']\", \"['Q545779']\", \"['Q54277']\", \"['Q54190181']\", \"['Q5410500']\", \"['Q5356189']\", \"['Q5307555']\", \"['Q53062420']\", \"['Q5283558']\", \"['Q5283544']\", \"['Q527395']\", \"['Q52721923']\", \"['Q5227556']\", \"['Q518350']\", \"['Q51747567']\", \"['Q5133843']\", \"['Q5116768']\", \"['Q5116010']\", \"['Q51118183']\", \"['Q511056']\", \"['Q509222']\", \"['Q503958']\", \"['Q50331459']\", \"['Q5021078']\", \"['Q499201']\", \"['Q498794']\", \"['Q49459835']\", \"['Q48995579']\", \"['Q4891503']\", \"['Q488416']\", \"['Q487654']\", \"['Q4861057']\", \"['Q4809']\", \"['Q4806271']\", \"['Q47928']\", \"['Q477795']\", \"['Q476807']\", \"['Q4752140']\", \"['Q474748']\", \"['Q47455017']\", \"['Q47451002']\", \"['Q47433']\", \"['Q473853']\", \"['Q472808']\", \"['Q47224595']\", \"['Q470137']\", \"['Q47003909']\", \"['Q469738']\", \"['Q468340']\", \"['Q466374']\", \"['Q465842']\", \"['Q4632675']\", \"['Q455647']\", \"['Q4538275']\", \"['Q44606775']\", \"['Q4433740']\", \"['Q4390543']\", \"['Q4389092']\", \"['Q43305660']\", \"['Q43197']\", \"['Q43009164']\", \"['Q42195']\", \"['Q41763771']\", \"['Q41762994']\", \"['Q41734983']\", \"['Q41426']\", \"['Q4128673']\", \"['Q408891']\", \"['Q4057659']\", \"['Q399445']\", \"['Q3982337']\", \"['Q3977906']\", \"['Q3965305']\", \"['Q3958441']\", \"['Q3931970']\", \"['Q391009']\", \"['Q3882219']\", \"['Q38672']\", \"['Q381072']\", \"['Q381045']\", \"['Q378636']\", \"['Q377262']\", \"['Q376996']\", \"['Q3729800']\", \"['Q372934']\", \"['Q371174']\", \"['Q3695082']\", \"['Q368716']\", \"['Q36728566']\", \"['Q36524']\", \"['Q36192']\", \"['Q3591588']\", \"['Q3587148']\", \"['Q35760']\", \"['Q3558938']\", \"['Q3518464']\", \"['Q3481047']\", \"['Q3477381']\", \"['Q3473026']\", \"['Q3455524']\", \"['Q3455362']\", \"['Q3455195']\", \"['Q3444249']\", \"['Q3423535']\", \"['Q34032']\", \"['Q339072']\", \"['Q338688']\", \"['Q3377406']\", \"['Q33628585']\", \"['Q3355750']\", \"['Q3354110']\", \"['Q3352369']\", \"['Q334166']\", \"['Q33294038']\", \"['Q3329375']\", \"['Q3326867']\", \"['Q331225']\", \"['Q3307748']\", \"['Q33036816']\", \"['Q328468']\", \"['Q3276909']\", \"['Q327618']\", \"['Q3257782']\", \"['Q3246603']\", \"['Q3241753']\", \"['Q3238445']\", \"['Q32178211']\", \"['Q3201814']\", \"['Q31728']\", \"['Q31603']\", \"['Q313827']\", \"['Q31087']\", \"['Q30682671']\", \"['Q3044788']\", \"['Q3032333']\", \"['Q30307328']\", \"['Q3027575']\", \"['Q30149195']\", \"['Q2997369']\", \"['Q29918292']\", \"['Q29568408']\", \"['Q29542094']\", \"['Q2943071']\", \"['Q2940297']\", \"['Q2935533']\", \"['Q29224491']\", \"['Q2916980']\", \"['Q291177']\", \"['Q2904233']\", \"['Q29023906']\", \"['Q28936014']\", \"['Q28928544']\", \"['Q28598684']\", \"['Q28491520']\", \"['Q28333164']\", \"['Q28222155']\", \"['Q28222048']\", \"['Q28203007']\", \"['Q2813537']\", \"['Q28089258']\", \"['Q28077']\", \"['Q28043022']\", \"['Q28042933']\", \"['Q2795367']\", \"['Q27676422']\", \"['Q27631499']\", \"['Q2741214']\", \"['Q2739432']\", \"['Q2739132']\", \"['Q2735929']\", \"['Q271588']\", \"['Q2709468']\", \"['Q26928534']\", \"['Q2692606']\", \"['Q26879200']\", \"['Q2638480']\", \"['Q2633744']\", \"['Q26303']\", \"['Q262478']\", \"['Q2622945']\", \"['Q261604']\", \"['Q25964111']\", \"['Q2593777']\", \"['Q2590445']\", \"['Q258313']\", \"['Q25768329']\", \"['Q25631158']\", \"['Q25582589']\", \"['Q25548021']\", \"['Q25548020']\", \"['Q25448839']\", \"['Q25412758']\", \"['Q2529274']\", \"['Q2522813']\", \"['Q252021']\", \"['Q25183395']\", \"['Q2514663']\", \"['Q24706075']\", \"['Q24566658']\", \"['Q24335959']\", \"['Q243249']\", \"['Q24262840']\", \"['Q24258416']\", \"['Q24255438']\", \"['Q2421589']\", \"['Q24194884']\", \"['Q240601']\", \"['Q23904671']\", \"['Q2386338']\", \"['Q2382953']\", \"['Q2380335']\", \"['Q23714139']\", \"['Q23702033']\", \"['Q2351962']\", \"['Q2315299']\", \"['Q2310465']\", \"['Q23058']\", \"['Q23010327']\", \"['Q22961568']\", \"['Q22936940']\", \"['Q2277441']\", \"['Q22695905']\", \"['Q22330752']\", \"['Q22266255']\", \"['Q22266213']\", \"['Q2223649']\", \"['Q220397']\", \"['Q220187']\", \"['Q2198855']\", \"['Q219760']\", \"['Q219160']\", \"['Q218616']\", \"['Q217101']\", \"['Q216916']\", \"['Q21683658']\", \"['Q21679791']\", \"['Q21664088']\", \"['Q216057']\", \"['Q215655']\", \"['Q2156421']\", \"['Q21562164']\", \"['Q2145117']\", \"['Q2140699']\", \"['Q21234891']\", \"['Q21190845']\", \"['Q2112349']\", \"['Q21100463']\", \"['Q21079439']\", \"['Q2102206']\", \"['Q21012976']\", \"['Q20972355']\", \"['Q2089936']\", \"['Q20819848']\", \"['Q20819677']\", \"['Q20741317']\", \"['Q20738667']\", \"['Q20671864']\", \"['Q20643324']\", \"['Q2057658']\", \"['Q204613']\", \"['Q2041172']\", \"['Q203443']\", \"['Q20268591']\", \"['Q19896979']\", \"['Q19887775']\", \"['Q198632']\", \"['Q19823984']\", \"['Q19801853']\", \"['Q19799634']\", \"['Q19753332']\", \"['Q1969642']\", \"['Q1967454']\", \"['Q19610271']\", \"['Q19603939']\", \"['Q1958165']\", \"['Q19509097']\", \"['Q19414242']\", \"['Q19409201']\", \"['Q19358305']\", \"['Q19357149']\", \"['Q193556']\", \"['Q193071']\", \"['Q192619']\", \"['Q191062']\", \"['Q1907525']\", \"['Q189970']\", \"['Q1899015']\", \"['Q1898583']\", \"['Q1896682']\", \"['Q189349']\", \"['Q1892098']\", \"['Q188443']\", \"['Q188219']\", \"['Q188025']\", \"['Q18783400']\", \"['Q1868572']\", \"['Q1865678']\", \"['Q18608993']\", \"['Q185698']\", \"['Q18533990']\", \"['Q18516630']\", \"['Q184876']\", \"['Q184698']\", \"['Q183366']\", \"['Q1829324']\", \"['Q18285142']\", \"['Q1812889']\", \"['Q18120378']\", \"['Q180927']\", \"['Q18087867']\", \"['Q1798641']\", \"['Q179057']\", \"['Q1789476']\", \"['Q1789452']\", \"['Q178794']\", \"['Q1785973']\", \"['Q178149']\", \"['Q177716']\", \"['Q177234']\", \"['Q17644823']\", \"['Q1761818']\", \"['Q1754568']\", \"['Q1752346']\", \"['Q1751753']\", \"['Q17489659']\", \"['Q1747906']\", \"['Q1744559']\", \"['Q17412916']\", \"['Q17317625']\", \"['Q17301072']\", \"['Q1724341']\", \"['Q1723513']\", \"['Q17197366']\", \"['Q1715155']\", \"['Q17148672']\", \"['Q17143723']\", \"['Q170984']\", \"['Q170774']\", \"['Q170477']\", \"['Q17028492']\", \"['Q17028020']\", \"['Q170207']\", \"['Q170161']\", \"['Q1701174']\", \"['Q1695783']\", \"['Q16852719']\", \"['Q16848281']\", \"['Q1683232']\", \"['Q16823155']\", \"['Q1675712']\", \"['Q1662100']\", \"['Q165044']\", \"['Q16465938']\", \"['Q164099']\", \"['Q1614512']\", \"['Q16024164']\", \"['Q1601458']\", \"['Q159954']\", \"['Q15989253']\", \"['Q15931405']\", \"['Q158683']\", \"['Q15830']\", \"['Q1578744']\", \"['Q15720793']\", \"['Q1564373']\", \"['Q15634531']\", \"['Q15629444']\", \"['Q1559394']\", \"['Q154575']\", \"['Q1541002']\", \"['Q153026']\", \"['Q15285626']\", \"['Q152732']\", \"['Q1520009']\", \"['Q15042037']\", \"['Q1501855']\", \"['Q148942']\", \"['Q14745']\", \"['Q1474493']\", \"['Q1473250']\", \"['Q14694490']\", \"['Q14693961']\", \"['Q14656']\", \"['Q1462047']\", \"['Q14552192']\", \"['Q14524820']\", \"['Q1437361']\", \"['Q1431283']\", \"['Q1428504']\", \"['Q1424583']\", \"['Q1424449']\", \"['Q1415139']\", \"['Q1414729']\", \"['Q14136353']\", \"['Q1410980']\", \"['Q1399576']\", \"['Q1399526']\", \"['Q1394653']\", \"['Q1389604']\", \"['Q1385463']\", \"['Q1384417']\", \"['Q1374122']\", \"['Q13741']\", \"['Q13691']\", \"['Q13593966']\", \"['Q1359142']\", \"['Q1355298']\", \"['Q134995']\", \"['Q1348385']\", \"['Q1348073']\", \"['Q13454063']\", \"['Q13415369']\", \"['Q13414755']\", \"['Q13408009']\", \"['Q134041']\", \"['Q133442']\", \"['Q133346']\", \"['Q1327578']\", \"['Q13156501']\", \"['Q131154']\", \"['Q130989']\", \"['Q1309431']\", \"['Q12830341']\", \"['Q12783']\", \"['Q1274559']\", \"['Q1274180']\", \"['Q126351']\", \"['Q1261230']\", \"['Q12484004']\", \"['Q1239328']\", \"['Q12343431']\", \"['Q1234255']\", \"['Q12302']\", \"['Q1228895']\", \"['Q12135']\", \"['Q121182']\", \"['Q1211146']\", \"['Q1203472']\", \"['Q1202618']\", \"['Q1191753']\", \"['Q11881845']\", \"['Q1186981']\", \"['Q1184244']\", \"['Q1169870']\", \"['Q1166178']\", \"['Q11598565']\", \"['Q115673666']\", \"['Q114768']\", \"['Q1144899']\", \"['Q114380']\", \"['Q11396408']\", \"['Q11378663']\", \"['Q11371']\", \"['Q11350418']\", \"['Q113453684']\", \"['Q1130251']\", \"['Q112727432']\", \"['Q1126006']\", \"['Q112110']\", \"['Q111796709']\", \"['Q111241092']\", \"['Q111223304']\", \"['Q111190932']\", \"['Q110798863']\", \"['Q110536225']\", \"['Q110534569']\", \"['Q110224119']\", \"['Q110220157']\", \"['Q108840205']\", \"['Q108618186']\", \"['Q108618134']\", \"['Q108586636']\", \"['Q108060568']\", \"['Q107659248']\", \"['Q1071285']\", \"['Q1068071']\", \"['Q106574913']\", \"['Q106574351']\", \"['Q1065367']\", \"['Q1061197']\", \"['Q10607894']\", \"['Q106071004']\", \"['Q105567983']\", \"['Q1055307']\", \"['Q10551516']\", \"['Q105501527']\", \"['Q105486540']\", \"['Q10509147']\", \"['Q105016636']\", \"['Q1044181']\", \"['Q104258569']\", \"['Q10416961']\", \"['Q10273077']\", \"['Q102538']\", \"['Q1021233']\", \"['Q100748418']\", \"['Q100717717']\", \"['Q1005420']\", \"['Q1003631']\", \"['Q100349043']\", '\"[\\'Q98961713\\'', '\"[\\'Q9788\\'', '\"[\\'Q952940\\'', '\"[\\'Q94483283\\'', '\"[\\'Q9212979\\'', '\"[\\'Q92062\\'', '\"[\\'Q917092\\'', '\"[\\'Q916897\\'', '\"[\\'Q9102\\'', '\"[\\'Q88291\\'', '\"[\\'Q862597\\'', '\"[\\'Q8513\\'', '\"[\\'Q842478\\'', '\"[\\'Q829080\\'', '\"[\\'Q828721\\'', '\"[\\'Q820655\\'', '\"[\\'Q81505329\\'', '\"[\\'Q811701\\'', '\"[\\'Q797476\\'', '\"[\\'Q796174\\'', '\"[\\'Q79602\\'', '\"[\\'Q782970\\'', '\"[\\'Q7725310\\'', '\"[\\'Q7694920\\'', '\"[\\'Q750215\\'', '\"[\\'Q747381\\'', '\"[\\'Q739723\\'', '\"[\\'Q736812\\'', '\"[\\'Q7315155\\'', '\"[\\'Q726\\'', '\"[\\'Q697196\\'', '\"[\\'Q68167200\\'', '\"[\\'Q667276\\'', '\"[\\'Q65943\\'', '\"[\\'Q6592\\'', '\"[\\'Q658986\\'', '\"[\\'Q6540832\\'', '\"[\\'Q653916\\'', '\"[\\'Q645924\\'', '\"[\\'Q6448147\\'', '\"[\\'Q641226\\'', '\"[\\'Q63565252\\'', '\"[\\'Q62944360\\'', '\"[\\'Q612741\\'', '\"[\\'Q609042\\'', '\"[\\'Q60457486\\'', '\"[\\'Q595452\\'', '\"[\\'Q57058\\'', '\"[\\'Q56242063\\'', '\"[\\'Q555937\\'', '\"[\\'Q55558027\\'', '\"[\\'Q5283531\\'', '\"[\\'Q5260216\\'', '\"[\\'Q494829\\'', '\"[\\'Q4886\\'', '\"[\\'Q47506\\'', '\"[\\'Q4686866\\'', '\"[\\'Q465299\\'', '\"[\\'Q461834\\'', '\"[\\'Q4363262\\'', '\"[\\'Q40244\\'', '\"[\\'Q392928\\'', '\"[\\'Q3558430\\'', '\"[\\'Q3502482\\'', '\"[\\'Q34918903\\'', '\"[\\'Q33694\\'', '\"[\\'Q33648\\'', '\"[\\'Q3270632\\'', '\"[\\'Q3248048\\'', '\"[\\'Q3240003\\'', '\"[\\'Q31615\\'', '\"[\\'Q3143713\\'', '\"[\\'Q309170\\'', '\"[\\'Q3046190\\'', '\"[\\'Q3019\\'', '\"[\\'Q2997\\'', '\"[\\'Q299685\\'', '\"[\\'Q29946056\\'', '\"[\\'Q299277\\'', '\"[\\'Q299163\\'', '\"[\\'Q2990\\'', '\"[\\'Q2955\\'', '\"[\\'Q2927\\'', '\"[\\'Q2925\\'', '\"[\\'Q2892\\'', '\"[\\'Q2778\\'', '\"[\\'Q27608973\\'', '\"[\\'Q2749813\\'', '\"[\\'Q2723\\'', '\"[\\'Q2720\\'', '\"[\\'Q2719\\'', '\"[\\'Q2692\\'', '\"[\\'Q2689\\'', '\"[\\'Q267596\\'', '\"[\\'Q26706\\'', '\"[\\'Q26540\\'', '\"[\\'Q2651004\\'', '\"[\\'Q2627\\'', '\"[\\'Q2624046\\'', '\"[\\'Q261604\\'', '\"[\\'Q2581649\\'', '\"[\\'Q2560248\\'', '\"[\\'Q2555896\\'', '\"[\\'Q2536\\'', '\"[\\'Q2534790\\'', '\"[\\'Q2520\\'', '\"[\\'Q2457\\'', '\"[\\'Q2442401\\'', '\"[\\'Q2404\\'', '\"[\\'Q2393\\'', '\"[\\'Q2392\\'', '\"[\\'Q2387974\\'', '\"[\\'Q2361\\'', '\"[\\'Q235557\\'', '\"[\\'Q23308928\\'', '\"[\\'Q2304\\'', '\"[\\'Q23002039\\'', '\"[\\'Q2298435\\'', '\"[\\'Q2282\\'', '\"[\\'Q22808320\\'', '\"[\\'Q2276\\'', '\"[\\'Q22667\\'', '\"[\\'Q2232001\\'', '\"[\\'Q2223653\\'', '\"[\\'Q219760\\'', '\"[\\'Q212198\\'', '\"[\\'Q211302\\'', '\"[\\'Q207524\\'', '\"[\\'Q20732405\\'', '\"[\\'Q20086260\\'', '\"[\\'Q2002757\\'', '\"[\\'Q19692233\\'', '\"[\\'Q19644607\\'', '\"[\\'Q194195\\'', '\"[\\'Q193622\\'', '\"[\\'Q193475\\'', '\"[\\'Q189445\\'', '\"[\\'Q18558301\\'', '\"[\\'Q18511725\\'', '\"[\\'Q184644\\'', '\"[\\'Q180126\\'', '\"[\\'Q1785733\\'', '\"[\\'Q178266\\'', '\"[\\'Q17537576\\'', '\"[\\'Q17299750\\'', '\"[\\'Q17277998\\'', '\"[\\'Q17149090\\'', '\"[\\'Q170885\\'', '\"[\\'Q169358\\'', '\"[\\'Q169336\\'', '\"[\\'Q1656682\\'', '\"[\\'Q1643932\\'', '\"[\\'Q16334295\\'', '\"[\\'Q15974311\\'', '\"[\\'Q157963\\'', '\"[\\'Q15720476\\'', '\"[\\'Q154773\\'', '\"[\\'Q15221242\\'', '\"[\\'Q15145593\\'', '\"[\\'Q14752149\\'', '\"[\\'Q14073567\\'', '\"[\\'Q1388797\\'', '\"[\\'Q1373439\\'', '\"[\\'Q1372202\\'', '\"[\\'Q1335652\\'', '\"[\\'Q13222030\\'', '\"[\\'Q131596\\'', '\"[\\'Q131263\\'', '\"[\\'Q131212\\'', '\"[\\'Q13025342\\'', '\"[\\'Q1299358\\'', '\"[\\'Q12708896\\'', '\"[\\'Q126351\\'', '\"[\\'Q1261214\\'', '\"[\\'Q12225020\\'', '\"[\\'Q11939023\\'', '\"[\\'Q1187691\\'', '\"[\\'Q11488158\\'', '\"[\\'Q1142930\\'', '\"[\\'Q1137210\\'', '\"[\\'Q1123245\\'', '\"[\\'Q109657442\\'', '\"[\\'Q10910840\\'', '\"[\\'Q10882176\\'', '\"[\\'Q107742398\\'', '\"[\\'Q107655869\\'', '\"[\\'Q107565306\\'', '\"[\\'Q105420\\'', '\"[\\'Q103813284\\'', '\"[\\'Q1021645\\'', \"['Q99934885']\", \"['Q999234']\", \"['Q989470']\", \"['Q986008']\", \"['Q98533657']\", \"['Q984063']\", \"['Q975413']\", \"['Q974968']\", \"['Q967145']\", \"['Q96354572']\", \"['Q96273743']\", \"['Q96251598']\", \"['Q96251375']\", \"['Q954187']\", \"['Q950431']\", \"['Q949819']\", \"['Q9465']\", \"['Q938560']\", \"['Q935277']\", \"['Q933870']\", \"['Q93350035']\", \"['Q93249']\", \"['Q930933']\", \"['Q9233']\", \"['Q9209474']\", \"['Q9190410']\", \"['Q91776238']\", \"['Q91752']\", \"['Q913337']\", \"['Q91285']\", \"['Q912618']\", \"['Q908870']\", \"['Q89349965']\", \"['Q892367']\", \"['Q87879655']\", \"['Q878099']\", \"['Q876274']\", \"['Q867335']\", \"['Q865422']\", \"['Q861184']\", \"['Q85942930']\", \"['Q85743062']\", \"['Q856079']\", \"['Q852190']\", \"['Q8514257']\", \"['Q848944']\", \"['Q847950']\", \"['Q847478']\", \"['Q8473']\", \"['Q847299']\", \"['Q8461']\", \"['Q84598477']\", \"['Q845739']\", \"['Q83790']\", \"['Q836985']\", \"['Q831844']\", \"['Q830528']\", \"['Q8242']\", \"['Q8195619']\", \"['Q819436']\", \"['Q81672']\", \"['Q816321']\", \"['Q813912']\", \"['Q811683']\", \"['Q809889']\", \"['Q807820']\", \"['Q806869']\", \"['Q806668']\", \"['Q806391']\", \"['Q7979513']\", \"['Q7963019']\", \"['Q796194']\", \"['Q79218']\", \"['Q7921']\", \"['Q7893160']\", \"['Q7884983']\", \"['Q7865636']\", \"['Q7860962']\", \"['Q7856853']\", \"['Q7840289']\", \"['Q782614']\", \"['Q781402']\", \"['Q778806']\", \"['Q77854728']\", \"['Q776859']\", \"['Q7766927']\", \"['Q7725310']\", \"['Q771444']\", \"['Q7695']\", \"['Q7643937']\", \"['Q7632426']\", \"['Q762048']\", \"['Q7603694']\", \"['Q76025585']\", \"['Q752003']\", \"['Q7495728']\", \"['Q748250']\", \"['Q746918']\", \"['Q74562105']\", \"['Q74539696']\", \"['Q742460']\", \"['Q741218']\", \"['Q740787']\", \"['Q7382001']\", \"['Q7380012']\", \"['Q7379880']\", \"['Q736634']\", \"['Q73610']\", \"['Q7351621']\", \"['Q735']\", \"['Q73169108']\", \"['Q73126803']\", \"['Q7302866']\", \"['Q7268308']\", \"['Q7257998']\", \"['Q7257246']\", \"['Q724060']\", \"['Q7229089']\", \"['Q722604']\", \"['Q7209526']\", \"['Q71651918']\", \"['Q7053866']\", \"['Q698783']\", \"['Q695992']\", \"['Q695469']\", \"['Q689657']\", \"['Q6857706']\", \"['Q685309']\", \"['Q681337']\", \"['Q68']\", \"['Q67304002']\", \"['Q67187625']\", \"['Q66742026']\", \"['Q665634']\", \"['Q6644696']\", \"['Q66208038']\", \"['Q6619719']\", \"['Q6619693']\", \"['Q65941449']\", \"['Q658888']\", \"['Q6573597']\", \"['Q655697']\", \"['Q65464941']\", \"['Q652965']\", \"['Q6528244']\", \"['Q651476']\", \"['Q6501447']\", \"['Q649266']\", \"['Q648681']\", \"['Q647882']\", \"['Q646754']\", \"['Q643292']\", \"['Q642682']\", \"['Q640364']\", \"['Q639030']\", \"['Q637846']\", \"['Q637776']\", \"['Q6368']\", \"['Q631425']\", \"['Q63116']\", \"['Q63101572']\", \"['Q63100595']\", \"['Q63075174']\", \"['Q63074152']\", \"['Q63049248']\", \"['Q6304550']\", \"['Q630415']\", \"['Q627436']\", \"['Q61856889']\", \"['Q61788060']\", \"['Q61697632']\", \"['Q6138323']\", \"['Q607958']\", \"['Q603715']\", \"['Q6024666']\", \"['Q60170135']\", \"['Q6001609']\", \"['Q599219']\", \"['Q59913930']\", \"['Q597075']\", \"['Q595523']\", \"['Q59341087']\", \"['Q5919191']\", \"['Q589184']\", \"['Q58841125']\", \"['Q581634']\", \"['Q57778855']\", \"['Q5756064']\", \"['Q57334497']\", \"['Q57053']\", \"['Q56885310']\", \"['Q56856618']\", \"['Q567998']\", \"['Q56670380']\", \"['Q565657']\", \"['Q56291528']\", \"['Q5614422']\", \"['Q56059']\", \"['Q558574']\", \"['Q55496607']\", \"['Q55456485']\", \"['Q54810259']\", \"['Q5470028']\", \"['Q5459929']\", \"['Q5450763']\", \"['Q54230']\", \"['Q54065060']\", \"['Q5393774']\", \"['Q53869933']\", \"['Q53490595']\", \"['Q5341296']\", \"['Q532166']\", \"['Q5264406']\", \"['Q5259261']\", \"['Q5257004']\", \"['Q524572']\", \"['Q524158']\", \"['Q52341833']\", \"['Q523166']\", \"['Q5225895']\", \"['Q519608']\", \"['Q5189488']\", \"['Q518343']\", \"['Q5115542']\", \"['Q51081147']\", \"['Q5061188']\", \"['Q505830']\", \"['Q505213']\", \"['Q50413986']\", \"['Q50329691']\", \"['Q50308749']\", \"['Q50301185']\", \"['Q501519']\", \"['Q501390']\", \"['Q496539']\", \"['Q494823']\", \"['Q49459']\", \"['Q493694']\", \"['Q49297']\", \"['Q49148153']\", \"['Q488036']\", \"['Q48783127']\", \"['Q485']\", \"['Q481289']\", \"['Q4806651']\", \"['Q480319']\", \"['Q48004378']\", \"['Q479048']\", \"['Q476075']\", \"['Q47544035']\", \"['Q47528']\", \"['Q4748200']\", \"['Q47471992']\", \"['Q47460393']\", \"['Q474157']\", \"['Q47322149']\", \"['Q4711849']\", \"['Q4697624']\", \"['Q46857']\", \"['Q468409']\", \"['Q467868']\", \"['Q467033']\", \"['Q465498']\", \"['Q4641578']\", \"['Q4639678']\", \"['Q463742']\", \"['Q461183']\", \"['Q45400320']\", \"['Q45290083']\", \"['Q451967']\", \"['Q45053817']\", \"['Q4481675']\", \"['Q4445055']\", \"['Q4440864']\", \"['Q44342']\", \"['Q44301618']\", \"['Q4404694']\", \"['Q4397537']\", \"['Q4389307']\", \"['Q4373292']\", \"['Q43514341']\", \"['Q4335775']\", \"['Q43304311']\", \"['Q43271061']\", \"['Q4316503']\", \"['Q4309761']\", \"['Q429976']\", \"['Q429699']\", \"['Q427961']\", \"['Q4266755']\", \"['Q4263830']\", \"['Q42591857']\", \"['Q4257172']\", \"['Q42421242']\", \"['Q42414514']\", \"['Q4236467']\", \"['Q42240']\", \"['Q41812345']\", \"['Q41786270']\", \"['Q41757766']\", \"['Q4157074']\", \"['Q4139977']\", \"['Q41291']\", \"['Q4057728']\", \"['Q4005760']\", \"['Q40034430']\", \"['Q3973051']\", \"['Q39699875']\", \"['Q39535649']\", \"['Q3943414']\", \"['Q39425']\", \"['Q3890208']\", \"['Q3889692']\", \"['Q3835961']\", \"['Q3814081']\", \"['Q38051384']\", \"['Q37999727']\", \"['Q37994596']\", \"['Q37994167']\", \"['Q37988355']\", \"['Q37988214']\", \"['Q37953779']\", \"['Q37930839']\", \"['Q379158']\", \"['Q3777387']\", \"['Q3775042']\", \"['Q3769299']\", \"['Q3744877']\", \"['Q3722420']\", \"['Q368290']\", \"['Q36103']\", \"['Q3586948']\", \"['Q35779580']\", \"['Q3575964']\", \"['Q3575878']\", \"['Q3575773']\", \"['Q3546112']\", \"['Q3536928']\", \"['Q3526250']\", \"['Q3519009']\", \"['Q3518514']\", \"['Q3511312']\", \"['Q35102']\", \"['Q350945']\", \"['Q350495']\", \"['Q3500933']\", \"['Q3491904']\", \"['Q3413329']\", \"['Q340846']\", \"['Q33956']\", \"['Q3391469']\", \"['Q338112']\", \"['Q337071']\", \"['Q335414']\", \"['Q3348196']\", \"['Q33260112']\", \"['Q33104069']\", \"['Q3281225']\", \"['Q327365']\", \"['Q3270632']\", \"['Q326561']\", \"['Q326277']\", \"['Q3244038']\", \"['Q3186812']\", \"['Q31796']\", \"['Q314862']\", \"['Q314024']\", \"['Q3112873']\", \"['Q31028835']\", \"['Q3090847']\", \"['Q30897648']\", \"['Q30892871']\", \"['Q3088847']\", \"['Q3082251']\", \"['Q30785519']\", \"['Q3064474']\", \"['Q3062269']\", \"['Q304918']\", \"['Q3034650']\", \"['Q3032351']\", \"['Q3032116']\", \"['Q30301495']\", \"['Q30082664']\", \"['Q3000944']\", \"['Q3000012']\", \"['Q29981662']\", \"['Q2964234']\", \"['Q29485']\", \"['Q294422']\", \"['Q29431432']\", \"['Q2910662']\", \"['Q29048319']\", \"['Q287950']\", \"['Q2872764']\", \"['Q2865305']\", \"['Q28599311']\", \"['Q285927']\", \"['Q2858704']\", \"['Q28575']\", \"['Q28538792']\", \"['Q28531312']\", \"['Q28399100']\", \"['Q2824648']\", \"['Q28222191']\", \"['Q28222171']\", \"['Q28222148']\", \"['Q28222142']\", \"['Q28222030']\", \"['Q28221971']\", \"['Q281772']\", \"['Q281643']\", \"['Q27997185']\", \"['Q27990952']\", \"['Q27927857']\", \"['Q2785355']\", \"['Q277845']\", \"['Q2755432']\", \"['Q27521']\", \"['Q27492289']\", \"['Q27491654']\", \"['Q2734958']\", \"['Q273346']\", \"['Q273182']\", \"['Q27308988']\", \"['Q271725']\", \"['Q2716508']\", \"['Q27108230']\", \"['Q2707384']\", \"['Q27043990']\", \"['Q27028153']\", \"['Q269218']\", \"['Q26907711']\", \"['Q26878762']\", \"['Q26876682']\", \"['Q26857732']\", \"['Q26763979']\", \"['Q265868']\", \"['Q265662']\", \"['Q26211803']\", \"['Q2608811']\", \"['Q25964553']\", \"['Q25930495']\", \"['Q2586205']\", \"['Q2579210']\", \"['Q2577114']\", \"['Q256408']\", \"['Q25534840']\", \"['Q25457532']\", \"['Q2542334']\", \"['Q2539769']\", \"['Q25391823']\", \"['Q25343628']\", \"['Q2532203']\", \"['Q252623']\", \"['Q2518299']\", \"['Q2516403']\", \"['Q2513995']\", \"['Q25056658']\", \"['Q2488']\", \"['Q24714461']\", \"['Q24714393']\", \"['Q24618255']\", \"['Q2458227']\", \"['Q24576816']\", \"['Q24576690']\", \"['Q24558942']\", \"['Q245260']\", \"['Q245117']\", \"['Q2442401']\", \"['Q24410897']\", \"['Q24176345']\", \"['Q241317']\", \"['Q2403977']\", \"['Q23953065']\", \"['Q2393196']\", \"['Q23929770']\", \"['Q23929070']\", \"['Q2387974']\", \"['Q23867828']\", \"['Q2383811']\", \"['Q23834194']\", \"['Q23817731']\", \"['Q23768723']\", \"['Q2373919']\", \"['Q23702035']\", \"['Q23686802']\", \"['Q2368137']\", \"['Q2366457']\", \"['Q236371']\", \"['Q23497981']\", \"['Q2348250']\", \"['Q2315359']\", \"['Q23058952']\", \"['Q22996476']\", \"['Q22984363']\", \"['Q2297602']\", \"['Q22963600']\", \"['Q2293148']\", \"['Q2288631']\", \"['Q228346']\", \"['Q2281940']\", \"['Q2280192']\", \"['Q22715']\", \"['Q22704041']\", \"['Q22696383']\", \"['Q22669535']\", \"['Q22669528']\", \"['Q2264924']\", \"['Q2249932']\", \"['Q2249297']\", \"['Q223573']\", \"['Q223557']\", \"['Q2235325']\", \"['Q22343924']\", \"['Q22333900']\", \"['Q22284407']\", \"['Q22276119']\", \"['Q22275982']\", \"['Q2217301']\", \"['Q221118']\", \"['Q220849']\", \"['Q21874278']\", \"['Q21822439']\", \"['Q2177010']\", \"['Q217691']\", \"['Q2168243']\", \"['Q2164067']\", \"['Q215844']\", \"['Q2151621']\", \"['Q215048']\", \"['Q21497886']\", \"['Q214519']\", \"['Q214339']\", \"['Q2142568']\", \"['Q214190']\", \"['Q2139657']\", \"['Q213381']\", \"['Q21177212']\", \"['Q2116008']\", \"['Q21114848']\", \"['Q2110260']\", \"['Q210815']\", \"['Q2106220']\", \"['Q210223']\", \"['Q2099680']\", \"['Q209333']\", \"['Q20830276']\", \"['Q207645']\", \"['Q20738945']\", \"['Q2072352']\", \"['Q20679033']\", \"['Q2066176']\", \"['Q2065704']\", \"['Q206287']\", \"['Q20625120']\", \"['Q205585']\", \"['Q205418']\", \"['Q20489225']\", \"['Q204107']\", \"['Q2015382']\", \"['Q200764']\", \"['Q20071160']\", \"['Q2005755']\", \"['Q200141']\", \"['Q200023']\", \"['Q19905455']\", \"['Q19883123']\", \"['Q19869268']\", \"['Q19828370']\", \"['Q19820110']\", \"['Q19791817']\", \"['Q1975546']\", \"['Q19720190']\", \"['Q1970286']\", \"['Q196538']\", \"['Q1962634']\", \"['Q1949963']\", \"['Q1938208']\", \"['Q1935136']\", \"['Q193512']\", \"['Q193395']\", \"['Q19311591']\", \"['Q1930585']\", \"['Q193010']\", \"['Q192914']\", \"['Q192624']\", \"['Q192601']\", \"['Q192525']\", \"['Q192276']\", \"['Q19152599']\", \"['Q190915']\", \"['Q190084']\", \"['Q190065']\", \"['Q1896949']\", \"['Q18918145']\", \"['Q18918041']\", \"['Q188602']\", \"['Q18810430']\", \"['Q18810091']\", \"['Q18752456']\", \"['Q186619']\", \"['Q18643213']\", \"['Q18642164']\", \"['Q186386']\", \"['Q186347']\", \"['Q18608871']\", \"['Q1860467']\", \"['Q18562479']\", \"['Q18431960']\", \"['Q18325242']\", \"['Q1826687']\", \"['Q18226756']\", \"['Q181485']\", \"['Q18058299']\", \"['Q1802369']\", \"['Q18011171']\", \"['Q1797187']\", \"['Q17951']\", \"['Q178648']\", \"['Q1780072']\", \"['Q177719']\", \"['Q1776834']\", \"['Q177634']\", \"['Q177471']\", \"['Q1773974']\", \"['Q1771902']\", \"['Q17701409']\", \"['Q1756477']\", \"['Q17537576']\", \"['Q1752939']\", \"['Q1752398']\", \"['Q175173']\", \"['Q17496318']\", \"['Q174921']\", \"['Q1745026']\", \"['Q17447455']\", \"['Q174174']\", \"['Q17377208']\", \"['Q173517']\", \"['Q17344046']\", \"['Q1734138']\", \"['Q17317594']\", \"['Q17310124']\", \"['Q1724915']\", \"['Q17199338']\", \"['Q171558']\", \"['Q17146090']\", \"['Q1710791']\", \"['Q170758']\", \"['Q170173']\", \"['Q1700154']\", \"['Q16939396']\", \"['Q16905563']\", \"['Q16850120']\", \"['Q168247']\", \"['Q1676081']\", \"['Q16708006']\", \"['Q1669338']\", \"['Q16682342']\", \"['Q16659597']\", \"['Q1665357']\", \"['Q16641394']\", \"['Q16544740']\", \"['Q16465919']\", \"['Q164419']\", \"['Q1640962']\", \"['Q1637368']\", \"['Q16338046']\", \"['Q16338']\", \"['Q16335899']\", \"['Q1628736']\", \"['Q1620126']\", \"['Q1617851']\", \"['Q16152241']\", \"['Q16145172']\", \"['Q1614140']\", \"['Q161222']\", \"['Q160696']\", \"['Q16023913']\", \"['Q15991290']\", \"['Q159675']\", \"['Q159313']\", \"['Q15900647']\", \"['Q15896596']\", \"['Q1587716']\", \"['Q1584134']\", \"['Q157963']\", \"['Q157570']\", \"['Q157475']\", \"['Q15731904']\", \"['Q15728204']\", \"['Q15726688']\", \"['Q15707583']\", \"['Q1570262']\", \"['Q15692657']\", \"['Q15627509']\", \"['Q1553482']\", \"['Q1550643']\", \"['Q1550557']\", \"['Q154547']\", \"['Q154365']\", \"['Q1542629']\", \"['Q15401756']\", \"['Q154']\", \"['Q1525']\", \"['Q15239622']\", \"['Q15222729']\", \"['Q15210668']\", \"['Q15206795']\", \"['Q1516910']\", \"['Q1515437']\", \"['Q1515229']\", \"['Q15141625']\", \"['Q15138389']\", \"['Q1513289']\", \"['Q1507281']\", \"['Q15072454']\", \"['Q15026']\", \"['Q1501958']\", \"['Q1501046']\", \"['Q1497061']\", \"['Q14952']\", \"['Q14935528']\", \"['Q14928']\", \"['Q14875255']\", \"['Q1484521']\", \"['Q14757767']\", \"['Q14701807']\", \"['Q14637321']\", \"['Q1454597']\", \"['Q14509381']\", \"['Q143912']\", \"['Q1438073']\", \"['Q1437937']\", \"['Q1437459']\", \"['Q1434274']\", \"['Q1429218']\", \"['Q1427313']\", \"['Q1424016']\", \"['Q1416278']\", \"['Q1413606']\", \"['Q1413444']\", \"['Q1400788']\", \"['Q1390618']\", \"['Q13883136']\", \"['Q1377182']\", \"['Q1376114']\", \"['Q1372384']\", \"['Q1372372']\", \"['Q1371150']\", \"['Q1371047']\", \"['Q1370841']\", \"['Q1367500']\", \"['Q1365704']\", \"['Q1364273']\", \"['Q1364']\", \"['Q1356230']\", \"['Q1348006']\", \"['Q13415367']\", \"['Q1340098']\", \"['Q133766']\", \"['Q133585']\", \"['Q1331380']\", \"['Q1330336']\", \"['Q1326900']\", \"['Q13266']\", \"['Q1322323']\", \"['Q1322161']\", \"['Q1310961']\", \"['Q131084']\", \"['Q13107184']\", \"['Q130825']\", \"['Q13058507']\", \"['Q1298292']\", \"['Q1295201']\", \"['Q12885585']\", \"['Q127771']\", \"['Q12765852']\", \"['Q12719343']\", \"['Q12708689']\", \"['Q1262438']\", \"['Q12511']\", \"['Q1248049']\", \"['Q12443800']\", \"['Q1244038']\", \"['Q1241356']\", \"['Q1240901']\", \"['Q124072']\", \"['Q12333']\", \"['Q1231888']\", \"['Q1231729']\", \"['Q1229454']\", \"['Q1228360']\", \"['Q1219394']\", \"['Q1214249']\", \"['Q1210300']\", \"['Q12056846']\", \"['Q120544']\", \"['Q1202076']\", \"['Q1199041']\", \"['Q11960248']\", \"['Q1190183']\", \"['Q11876947']\", \"['Q11832147']\", \"['Q11797473']\", \"['Q11795382']\", \"['Q11786880']\", \"['Q11663']\", \"['Q11653']\", \"['Q11612137']\", \"['Q11610935']\", \"['Q1156686']\", \"['Q1153670']\", \"['Q115291']\", \"['Q1152547']\", \"['Q11505677']\", \"['Q1149626']\", \"['Q11479807']\", \"['Q11479409']\", \"['Q11424434']\", \"['Q11424045']\", \"['Q1142281']\", \"['Q1142192']\", \"['Q11411321']\", \"['Q11396960']\", \"['Q11396180']\", \"['Q1138251']\", \"['Q113571314']\", \"['Q113303812']\", \"['Q1131329']\", \"['Q112727415']\", \"['Q112727411']\", \"['Q112727408']\", \"['Q112727373']\", \"['Q112679378']\", \"['Q112679256']\", \"['Q112679015']\", \"['Q1123217']\", \"['Q112234259']\", \"['Q111889841']\", \"['Q111188397']\", \"['Q11078958']\", \"['Q110376455']\", \"['Q11012']\", \"['Q109646600']\", \"['Q109644271']\", \"['Q109288863']\", \"['Q109288828']\", \"['Q10927673']\", \"['Q109124037']\", \"['Q108860593']\", \"['Q10874184']\", \"['Q108618194']\", \"['Q108346556']\", \"['Q108059862']\", \"['Q1078286']\", \"['Q1077784']\", \"['Q1074854']\", \"['Q1074523']\", \"['Q107285708']\", \"['Q107244961']\", \"['Q1071351']\", \"['Q1070669']\", \"['Q10673035']\", \"['Q1066330']\", \"['Q1065579']\", \"['Q1062332']\", \"['Q1058387']\", \"['Q105836175']\", \"['Q1055909']\", \"['Q105501523']\", \"['Q105438420']\", \"['Q1053463']\", \"['Q1051606']\", \"['Q1048314']\", \"['Q1048111']\", \"['Q1047698']\", \"['Q1044361']\", \"['Q10417670']\", \"['Q104018785']\", \"['Q103910453']\", \"['Q103910131']\", \"['Q10273457']\", \"['Q1021711']\", \"['Q102047']\", \"['Q1017324']\", \"['Q1015644']\", \"['Q10145']\", \"['Q101401']\", \"['Q101057139']\", \"['Q100746750']\", \"['Q100706037']\", \"['Q10065268']\", \"['Q1006074']\", '\"[\\'Q975531\\'', '\"[\\'Q973011\\'', '\"[\\'Q94993988\\'', '\"[\\'Q936518\\'', '\"[\\'Q911663\\'', '\"[\\'Q906441\\'', '\"[\\'Q89477\\'', '\"[\\'Q890545\\'', '\"[\\'Q89050960\\'', '\"[\\'Q867143\\'', '\"[\\'Q8514\\'', '\"[\\'Q850990\\'', '\"[\\'Q838761\\'', '\"[\\'Q82137\\'', '\"[\\'Q8192\\'', '\"[\\'Q778129\\'', '\"[\\'Q7766927\\'', '\"[\\'Q772547\\'', '\"[\\'Q768307\\'', '\"[\\'Q75179296\\'', '\"[\\'Q743004\\'', '\"[\\'Q7328910\\'', '\"[\\'Q728904\\'', '\"[\\'Q7212557\\'', '\"[\\'Q70107216\\'', '\"[\\'Q70106932\\'', '\"[\\'Q6979593\\'', '\"[\\'Q6784672\\'', '\"[\\'Q659396\\'', '\"[\\'Q65660829\\'', '\"[\\'Q6465\\'', '\"[\\'Q639244\\'', '\"[\\'Q6368\\'', '\"[\\'Q62049\\'', '\"[\\'Q5888666\\'', '\"[\\'Q588140\\'', '\"[\\'Q585956\\'', '\"[\\'Q5783996\\'', '\"[\\'Q57821\\'', '\"[\\'Q57346\\'', '\"[\\'Q561068\\'', '\"[\\'Q5592057\\'', '\"[\\'Q558892\\'', '\"[\\'Q55490\\'', '\"[\\'Q55485\\'', '\"[\\'Q55237413\\'', '\"[\\'Q550394\\'', '\"[\\'Q5503\\'', '\"[\\'Q549767\\'', '\"[\\'Q5356185\\'', '\"[\\'Q534426\\'', '\"[\\'Q526877\\'', '\"[\\'Q526334\\'', '\"[\\'Q524158\\'', '\"[\\'Q5163953\\'', '\"[\\'Q50846468\\'', '\"[\\'Q5069563\\'', '\"[\\'Q48473\\'', '\"[\\'Q48264\\'', '\"[\\'Q479716\\'', '\"[\\'Q47574\\'', '\"[\\'Q474\\'', '\"[\\'Q47053\\'', '\"[\\'Q46686\\'', '\"[\\'Q466797\\'', '\"[\\'Q466421\\'', '\"[\\'Q459528\\'', '\"[\\'Q45791\\'', '\"[\\'Q43742\\'', '\"[\\'Q43271061\\'', '\"[\\'Q427287\\'', '\"[\\'Q41581\\'', '\"[\\'Q4082729\\'', '\"[\\'Q40357\\'', '\"[\\'Q398141\\'', '\"[\\'Q3943414\\'', '\"[\\'Q3917681\\'', '\"[\\'Q3878446\\'', '\"[\\'Q37726\\'', '\"[\\'Q375011\\'', '\"[\\'Q37484\\'', '\"[\\'Q368860\\'', '\"[\\'Q362165\\'', '\"[\\'Q3591588\\'', '\"[\\'Q35456\\'', '\"[\\'Q3504085\\'', '\"[\\'Q33829\\'', '\"[\\'Q3333989\\'', '\"[\\'Q330284\\'', '\"[\\'Q329245\\'', '\"[\\'Q327757\\'', '\"[\\'Q3253281\\'', '\"[\\'Q321053\\'', '\"[\\'Q32066628\\'', '\"[\\'Q319496\\'', '\"[\\'Q3117863\\'', '\"[\\'Q3112873\\'', '\"[\\'Q299496\\'', '\"[\\'Q299473\\'', '\"[\\'Q299454\\'', '\"[\\'Q2992\\'', '\"[\\'Q2989421\\'', '\"[\\'Q29791211\\'', '\"[\\'Q29592127\\'', '\"[\\'Q2956\\'', '\"[\\'Q2926\\'', '\"[\\'Q28692646\\'', '\"[\\'Q2850\\'', '\"[\\'Q2849\\'', '\"[\\'Q28328984\\'', '\"[\\'Q2829\\'', '\"[\\'Q28113351\\'', '\"[\\'Q280855\\'', '\"[\\'Q28060923\\'', '\"[\\'Q276173\\'', '\"[\\'Q27590\\'', '\"[\\'Q2729\\'', '\"[\\'Q2695\\'', '\"[\\'Q2691\\'', '\"[\\'Q2690\\'', '\"[\\'Q26772977\\'', '\"[\\'Q26760286\\'', '\"[\\'Q265538\\'', '\"[\\'Q2635283\\'', '\"[\\'Q2615\\'', '\"[\\'Q2613\\'', '\"[\\'Q2612\\'', '\"[\\'Q2581\\'', '\"[\\'Q2579\\'', '\"[\\'Q25570959\\'', '\"[\\'Q2547\\'', '\"[\\'Q25379\\'', '\"[\\'Q2537874\\'', '\"[\\'Q2534\\'', '\"[\\'Q2501\\'', '\"[\\'Q2490\\'', '\"[\\'Q248952\\'', '\"[\\'Q24869\\'', '\"[\\'Q24764\\'', '\"[\\'Q2467461\\'', '\"[\\'Q2454\\'', '\"[\\'Q24434794\\'', '\"[\\'Q2435\\'', '\"[\\'Q24286894\\'', '\"[\\'Q242052\\'', '\"[\\'Q2398990\\'', '\"[\\'Q23701746\\'', '\"[\\'Q2352616\\'', '\"[\\'Q2334\\'', '\"[\\'Q2323\\'', '\"[\\'Q22674925\\'', '\"[\\'Q2255\\'', '\"[\\'Q2247\\'', '\"[\\'Q2235308\\'', '\"[\\'Q220397\\'', '\"[\\'Q220347\\'', '\"[\\'Q220142\\'', '\"[\\'Q21848887\\'', '\"[\\'Q217177\\'', '\"[\\'Q216107\\'', '\"[\\'Q21504947\\'', '\"[\\'Q2143354\\'', '\"[\\'Q21099935\\'', '\"[\\'Q20819922\\'', '\"[\\'Q207934\\'', '\"[\\'Q20738676\\'', '\"[\\'Q206984\\'', '\"[\\'Q20650540\\'', '\"[\\'Q20642011\\'', '\"[\\'Q2041702\\'', '\"[\\'Q204107\\'', '\"[\\'Q202871\\'', '\"[\\'Q202509\\'', '\"[\\'Q20085670\\'', '\"[\\'Q20027953\\'', '\"[\\'Q19951362\\'', '\"[\\'Q19887878\\'', '\"[\\'Q19757\\'', '\"[\\'Q193955\\'', '\"[\\'Q1914636\\'', '\"[\\'Q190397\\'', '\"[\\'Q1898246\\'', '\"[\\'Q18972245\\'', '\"[\\'Q188725\\'', '\"[\\'Q18674739\\'', '\"[\\'Q1865249\\'', '\"[\\'Q18609040\\'', '\"[\\'Q184356\\'', '\"[\\'Q18340550\\'', '\"[\\'Q18219090\\'', '\"[\\'Q18218093\\'', '\"[\\'Q1818761\\'', '\"[\\'Q1808129\\'', '\"[\\'Q1802243\\'', '\"[\\'Q1800213\\'', '\"[\\'Q1793804\\'', '\"[\\'Q178193\\'', '\"[\\'Q1770249\\'', '\"[\\'Q1763828\\'', '\"[\\'Q17624054\\'', '\"[\\'Q176165\\'', '\"[\\'Q17485079\\'', '\"[\\'Q17317604\\'', '\"[\\'Q17162079\\'', '\"[\\'Q1709894\\'', '\"[\\'Q170321\\'', '\"[\\'Q169534\\'', '\"[\\'Q16858213\\'', '\"[\\'Q16821845\\'', '\"[\\'Q167170\\'', '\"[\\'Q16510064\\'', '\"[\\'Q1641020\\'', '\"[\\'Q1639634\\'', '\"[\\'Q1620908\\'', '\"[\\'Q160151\\'', '\"[\\'Q1601458\\'', '\"[\\'Q15991290\\'', '\"[\\'Q15983300\\'', '\"[\\'Q159226\\'', '\"[\\'Q158555\\'', '\"[\\'Q15830667\\'', '\"[\\'Q15727816\\'', '\"[\\'Q15725677\\'', '\"[\\'Q15633582\\'', '\"[\\'Q15494038\\'', '\"[\\'Q15310171\\'', '\"[\\'Q15276\\'', '\"[\\'Q15145537\\'', '\"[\\'Q15081032\\'', '\"[\\'Q150784\\'', '\"[\\'Q15069452\\'', '\"[\\'Q1498804\\'', '\"[\\'Q149566\\'', '\"[\\'Q14750991\\'', '\"[\\'Q1457900\\'', '\"[\\'Q14454091\\'', '\"[\\'Q143912\\'', '\"[\\'Q1437459\\'', '\"[\\'Q14215551\\'', '\"[\\'Q1420\\'', '\"[\\'Q141140\\'', '\"[\\'Q1402592\\'', '\"[\\'Q1377182\\'', '\"[\\'Q1364302\\'', '\"[\\'Q1364\\'', '\"[\\'Q13593966\\'', '\"[\\'Q1348006\\'', '\"[\\'Q134447\\'', '\"[\\'Q134161\\'', '\"[\\'Q13410438\\'', '\"[\\'Q133215\\'', '\"[\\'Q1331793\\'', '\"[\\'Q132834\\'', '\"[\\'Q132821\\'', '\"[\\'Q1321542\\'', '\"[\\'Q1319755\\'', '\"[\\'Q1316337\\'', '\"[\\'Q12759805\\'', '\"[\\'Q1254874\\'', '\"[\\'Q1195942\\'', '\"[\\'Q1193438\\'', '\"[\\'Q1190183\\'', '\"[\\'Q11755880\\'', '\"[\\'Q11670533\\'', '\"[\\'Q1151125\\'', '\"[\\'Q1145276\\'', '\"[\\'Q11436\\'', '\"[\\'Q1137809\\'', '\"[\\'Q113147341\\'', '\"[\\'Q108503088\\'', '\"[\\'Q108415733\\'', '\"[\\'Q107741883\\'', '\"[\\'Q1072840\\'', '\"[\\'Q10624527\\'', '\"[\\'Q1059994\\'', '\"[\\'Q1055028\\'', '\"[\\'Q103914748\\'', '\"[\\'Q103843042\\'', '\"[\\'Q1022147\\'', \"['Q98793210']\", \"['Q987767']\", \"['Q976521']\", \"['Q97495053']\", \"['Q97210839']\", \"['Q969090']\", \"['Q96759164']\", \"['Q96757460']\", \"['Q96474603']\", \"['Q96474589']\", \"['Q96212000']\", \"['Q96146366']\", \"['Q96116695']\", \"['Q961082']\", \"['Q96057701']\", \"['Q95984744']\", \"['Q9584479']\", \"['Q956161']\", \"['Q954172']\", \"['Q954074']\", \"['Q949302']\", \"['Q946499']\", \"['Q94579592']\", \"['Q9415']\", \"['Q939871']\", \"['Q9390575']\", \"['Q938381']\", \"['Q9378373']\", \"['Q935741']\", \"['Q9357091']\", \"['Q9352238']\", \"['Q931309']\", \"['Q9305769']\", \"['Q92938359']\", \"['Q9262']\", \"['Q925509']\", \"['Q92383']\", \"['Q9227']\", \"['Q9212']\", \"['Q917441']\", \"['Q911881']\", \"['Q91122']\", \"['Q907347']\", \"['Q903985']\", \"['Q90285603']\", \"['Q902814']\", \"['Q901497']\", \"['Q90052411']\", \"['Q89969321']\", \"['Q899197']\", \"['Q898966']\", \"['Q897403']\", \"['Q896958']\", \"['Q893775']\", \"['Q892168']\", \"['Q89021600']\", \"['Q88865447']\", \"['Q88667167']\", \"['Q88598']\", \"['Q877729']\", \"['Q876852']\", \"['Q876459']\", \"['Q873512']\", \"['Q871403']\", \"['Q87058424']\", \"['Q86622']\", \"['Q864718']\", \"['Q864011']\", \"['Q856663']\", \"['Q856584']\", \"['Q856564']\", \"['Q85493040']\", \"['Q85483234']\", \"['Q854272']\", \"['Q85332736']\", \"['Q8524']\", \"['Q851387']\", \"['Q851124']\", \"['Q849706']\", \"['Q848991']\", \"['Q847109']\", \"['Q846662']\", \"['Q845538']\", \"['Q845371']\", \"['Q844727']\", \"['Q843215']\", \"['Q842332']\", \"['Q84062072']\", \"['Q839463']\", \"['Q838559']\", \"['Q83828']\", \"['Q837632']\", \"['Q83261']\", \"['Q831941']\", \"['Q831889']\", \"['Q83178864']\", \"['Q831740']\", \"['Q828414']\", \"['Q82753']\", \"['Q8274']\", \"['Q82673']\", \"['Q823196']\", \"['Q820385']\", \"['Q819435']\", \"['Q81941037']\", \"['Q81752537']\", \"['Q817056']\", \"['Q816741']\", \"['Q81669']\", \"['Q80877']\", \"['Q80831']\", \"['Q806880']\", \"['Q806493']\", \"['Q80447738']\", \"['Q80359036']\", \"['Q80056']\", \"['Q7999562']\", \"['Q799644']\", \"['Q799469']\", \"['Q798838']\", \"['Q7965']\", \"['Q7961']\", \"['Q79416466']\", \"['Q79337953']\", \"['Q7918428']\", \"['Q7896796']\", \"['Q7893898']\", \"['Q786803']\", \"['Q78634583']\", \"['Q785643']\", \"['Q785070']\", \"['Q7843791']\", \"['Q784007']\", \"['Q7834360']\", \"['Q7777570']\", \"['Q775110']\", \"['Q77418201']\", \"['Q77330535']\", \"['Q772787']\", \"['Q7708430']\", \"['Q77080538']\", \"['Q769451']\", \"['Q76941636']\", \"['Q7692360']\", \"['Q766570']\", \"['Q7654661']\", \"['Q763256']\", \"['Q76212517']\", \"['Q76163442']\", \"['Q7603882']\", \"['Q759860']\", \"['Q759783']\", \"['Q759676']\", \"['Q75837457']\", \"['Q7575673']\", \"['Q756780']\", \"['Q7540126']\", \"['Q7493941']\", \"['Q748198']\", \"['Q747810']\", \"['Q746938']\", \"['Q746628']\", \"['Q746529']\", \"['Q7451247']\", \"['Q7444736']\", \"['Q7419624']\", \"['Q741821']\", \"['Q739897']\", \"['Q7372072']\", \"['Q73493683']\", \"['Q733507']\", \"['Q731978']\", \"['Q7309100']\", \"['Q72858313']\", \"['Q727009']\", \"['Q726761']\", \"['Q7252589']\", \"['Q725169']\", \"['Q7245083']\", \"['Q72398691']\", \"['Q7239308']\", \"['Q723570']\", \"['Q721830']\", \"['Q721790']\", \"['Q72044356']\", \"['Q718570']\", \"['Q7157572']\", \"['Q71129815']\", \"['Q70007648']\", \"['Q69883']\", \"['Q6988101']\", \"['Q6942541']\", \"['Q69357900']\", \"['Q6934728']\", \"['Q688561']\", \"['Q683595']\", \"['Q6832945']\", \"['Q682697']\", \"['Q681615']\", \"['Q680933']\", \"['Q678116']\", \"['Q676977']\", \"['Q6748448']\", \"['Q673687']\", \"['Q673514']\", \"['Q672070']\", \"['Q67184216']\", \"['Q671832']\", \"['Q6708227']\", \"['Q670113']\", \"['Q668130']\", \"['Q66754793']\", \"['Q66752884']\", \"['Q667509']\", \"['Q66740226']\", \"['Q66736002']\", \"['Q66735948']\", \"['Q66711852']\", \"['Q666943']\", \"['Q66661665']\", \"['Q6636777']\", \"['Q66364343']\", \"['Q662746']\", \"['Q661702']\", \"['Q66088335']\", \"['Q66016']\", \"['Q6596424']\", \"['Q6593480']\", \"['Q6591764']\", \"['Q6589202']\", \"['Q65718039']\", \"['Q654754']\", \"['Q6537337']\", \"['Q653127']\", \"['Q6523275']\", \"['Q6516179']\", \"['Q65096167']\", \"['Q65048168']\", \"['Q65032826']\", \"['Q6498784']\", \"['Q64913082']\", \"['Q6481463']\", \"['Q6472']\", \"['Q64643615']\", \"['Q64624092']\", \"['Q644930']\", \"['Q64161']\", \"['Q641078']\", \"['Q63979268']\", \"['Q63960235']\", \"['Q6391510']\", \"['Q63585458']\", \"['Q635366']\", \"['Q634415']\", \"['Q6344036']\", \"['Q63349598']\", \"['Q63228558']\", \"['Q63188808']\", \"['Q63141557']\", \"['Q63125083']\", \"['Q63090717']\", \"['Q6302924']\", \"['Q62934264']\", \"['Q62933848']\", \"['Q62602544']\", \"['Q622645']\", \"['Q621636']\", \"['Q621080']\", \"['Q620035']\", \"['Q619300']\", \"['Q61874983']\", \"['Q61866692']\", \"['Q618618']\", \"['Q61763799']\", \"['Q61741927']\", \"['Q616981']\", \"['Q61657235']\", \"['Q613729']\", \"['Q6130291']\", \"['Q61130878']\", \"['Q608843']\", \"['Q6046311']\", \"['Q60458065']\", \"['Q604219']\", \"['Q6041983']\", \"['Q602963']\", \"['Q602884']\", \"['Q602300']\", \"['Q60171954']\", \"['Q60075825']\", \"['Q60047']\", \"['Q59861107']\", \"['Q598041']\", \"['Q595968']\", \"['Q59557805']\", \"['Q59152282']\", \"['Q59126']\", \"['Q591022']\", \"['Q590080']\", \"['Q58917']\", \"['Q5891']\", \"['Q585490']\", \"['Q5851911']\", \"['Q58481200']\", \"['Q58480509']\", \"['Q584101']\", \"['Q583208']\", \"['Q583157']\", \"['Q583152']\", \"['Q582577']\", \"['Q5791104']\", \"['Q578837']\", \"['Q5787273']\", \"['Q5780443']\", \"['Q5776580']\", \"['Q5762366']\", \"['Q573607']\", \"['Q57318']\", \"['Q57208156']\", \"['Q5691177']\", \"['Q56877122']\", \"['Q56877007']\", \"['Q56876519']\", \"['Q56753322']\", \"['Q56682555']\", \"['Q56575300']\", \"['Q56490294']\", \"['Q56478984']\", \"['Q56427813']\", \"['Q5642659']\", \"['Q56296302']\", \"['Q562930']\", \"['Q56195017']\", \"['Q56185179']\", \"['Q56055944']\", \"['Q5595257']\", \"['Q5594973']\", \"['Q5589413']\", \"['Q55791821']\", \"['Q55662548']\", \"['Q55653847']\", \"['Q55629']\", \"['Q5551966']\", \"['Q55490']\", \"['Q55454947']\", \"['Q55448359']\", \"['Q55440238']\", \"['Q55422400']\", \"['Q55341040']\", \"['Q5532382']\", \"['Q55193935']\", \"['Q55193679']\", \"['Q5518656']\", \"['Q55118684']\", \"['Q55070019']\", \"['Q549767']\", \"['Q54934129']\", \"['Q54831']\", \"['Q548126']\", \"['Q546113']\", \"['Q54592743']\", \"['Q54552']\", \"['Q5455089']\", \"['Q5448076']\", \"['Q5422193']\", \"['Q5421955']\", \"['Q5419137']\", \"['Q54097983']\", \"['Q53951823']\", \"['Q53882863']\", \"['Q5364576']\", \"['Q53585538']\", \"['Q53582403']\", \"['Q5356265']\", \"['Q5356185']\", \"['Q534342']\", \"['Q532998']\", \"['Q5290181']\", \"['Q5283524']\", \"['Q5283515']\", \"['Q527589']\", \"['Q52269333']\", \"['Q521839']\", \"['Q51932686']\", \"['Q51879476']\", \"['Q51845395']\", \"['Q5177943']\", \"['Q5177520']\", \"['Q517267']\", \"['Q5154647']\", \"['Q5151487']\", \"['Q5148198']\", \"['Q5138347']\", \"['Q5127989']\", \"['Q511866']\", \"['Q511855']\", \"['Q51122921']\", \"['Q5110343']\", \"['Q510177']\", \"['Q5100735']\", \"['Q5097104']\", \"['Q507221']\", \"['Q5063274']\", \"['Q5058981']\", \"['Q5055981']\", \"['Q50495']\", \"['Q50378760']\", \"['Q5031071']\", \"['Q501094']\", \"['Q50081413']\", \"['Q499720']\", \"['Q49956097']\", \"['Q499337']\", \"['Q499192']\", \"['Q49775']\", \"['Q4946461']\", \"['Q493016']\", \"['Q4912032']\", \"['Q489209']\", \"['Q48805843']\", \"['Q4867756']\", \"['Q485321']\", \"['Q4852737']\", \"['Q485027']\", \"['Q48279']\", \"['Q48242']\", \"['Q4817887']\", \"['Q4814017']\", \"['Q478174']\", \"['Q477544']\", \"['Q477248']\", \"['Q477202']\", \"['Q47530375']\", \"['Q47513101']\", \"['Q47506']\", \"['Q47502370']\", \"['Q474990']\", \"['Q47398']\", \"['Q471670']\", \"['Q471616']\", \"['Q47069668']\", \"['Q470491']\", \"['Q470479']\", \"['Q4691986']\", \"['Q4686866']\", \"['Q4686758']\", \"['Q468081']\", \"['Q4680764']\", \"['Q4672467']\", \"['Q466737']\", \"['Q465048']\", \"['Q464352']\", \"['Q464031']\", \"['Q459555']\", \"['Q4580231']\", \"['Q455621']\", \"['Q4538273']\", \"['Q4530848']\", \"['Q4530267']\", \"['Q452543']\", \"['Q449067']\", \"['Q44896819']\", \"['Q44753009']\", \"['Q4461020']\", \"['Q44580842']\", \"['Q4456825']\", \"['Q44565']\", \"['Q4454405']\", \"['Q4442611']\", \"['Q443767']\", \"['Q44285546']\", \"['Q44167']\", \"['Q44018216']\", \"['Q4390702']\", \"['Q438311']\", \"['Q43767888']\", \"['Q43742']\", \"['Q4370308']\", \"['Q4343']\", \"['Q431622']\", \"['Q4312761']\", \"['Q430525']\", \"['Q4303352']\", \"['Q42939539']\", \"['Q42907216']\", \"['Q428148']\", \"['Q427626']\", \"['Q42619282']\", \"['Q42486']\", \"['Q42314054']\", \"['Q42303753']\", \"['Q4226220']\", \"['Q422296']\", \"['Q420927']\", \"['Q42046473']\", \"['Q420']\", \"['Q4189293']\", \"['Q41863069']\", \"['Q41799095']\", \"['Q41770487']\", \"['Q4161250']\", \"['Q4158552']\", \"['Q41521']\", \"['Q4150646']\", \"['Q41408494']\", \"['Q4128600']\", \"['Q41263']\", \"['Q4115113']\", \"['Q41108733']\", \"['Q40843']\", \"['Q39888']\", \"['Q3965272']\", \"['Q3959904']\", \"['Q3951891']\", \"['Q39495']\", \"['Q3935690']\", \"['Q39355398']\", \"['Q393259']\", \"['Q3927262']\", \"['Q3924032']\", \"['Q3902068']\", \"['Q3895814']\", \"['Q389581']\", \"['Q388227']\", \"['Q384748']\", \"['Q3833945']\", \"['Q38001354']\", \"['Q38001335']\", \"['Q37999612']\", \"['Q37987648']\", \"['Q37956832']\", \"['Q37947353']\", \"['Q37898150']\", \"['Q3784092']\", \"['Q37761255']\", \"['Q376']\", \"['Q373315']\", \"['Q3706547']\", \"['Q370607']\", \"['Q3694']\", \"['Q3692489']\", \"['Q3679502']\", \"['Q36747']\", \"['Q3666499']\", \"['Q36539']\", \"['Q3640372']\", \"['Q3622002']\", \"['Q36161']\", \"['Q3596224']\", \"['Q3591867']\", \"['Q358976']\", \"['Q3586936']\", \"['Q3579101']\", \"['Q357121']\", \"['Q355844']\", \"['Q3529618']\", \"['Q352102']\", \"['Q3518943']\", \"['Q3516833']\", \"['Q3511443']\", \"['Q35078027']\", \"['Q350453']\", \"['Q3499307']\", \"['Q349843']\", \"['Q34982659']\", \"['Q3497768']\", \"['Q3496793']\", \"['Q34891928']\", \"['Q34876']\", \"['Q3471785']\", \"['Q3455440']\", \"['Q34274']\", \"['Q3416955']\", \"['Q341627']\", \"['Q34009']\", \"['Q338313']\", \"['Q33831']\", \"['Q337820']\", \"['Q3375722']\", \"['Q3365097']\", \"['Q33513999']\", \"['Q33289']\", \"['Q33219080']\", \"['Q3311537']\", \"['Q331130']\", \"['Q33104129']\", \"['Q3308934']\", \"['Q3308902']\", \"['Q33059434']\", \"['Q329028']\", \"['Q32859621']\", \"['Q327349']\", \"['Q327328']\", \"['Q3269648']\", \"['Q326892']\", \"['Q3254959']\", \"['Q3247516']\", \"['Q321550']\", \"['Q320347']\", \"['Q3196867']\", \"['Q3193890']\", \"['Q319120']\", \"['Q3150363']\", \"['Q314729']\", \"['Q3139487']\", \"['Q3111812']\", \"['Q3104453']\", \"['Q3103808']\", \"['Q309250']\", \"['Q3091020']\", \"['Q3070220']\", \"['Q30565277']\", \"['Q30505248']\", \"['Q3045966']\", \"['Q3032362']\", \"['Q3030513']\", \"['Q3024290']\", \"['Q3001152']\", \"['Q2997887']\", \"['Q2996700']\", \"['Q2995256']\", \"['Q2993180']\", \"['Q29901574']\", \"['Q2986807']\", \"['Q2986735']\", \"['Q29851519']\", \"['Q2972684']\", \"['Q297163']\", \"['Q29654714']\", \"['Q2961813']\", \"['Q29564129']\", \"['Q2954343']\", \"['Q2948359']\", \"['Q2920604']\", \"['Q29182']\", \"['Q2916962']\", \"['Q291240']\", \"['Q29078891']\", \"['Q28966115']\", \"['Q2895674']\", \"['Q28935764']\", \"['Q28935403']\", \"['Q28932079']\", \"['Q28872854']\", \"['Q2886620']\", \"['Q28863779']\", \"['Q28843623']\", \"['Q28810803']\", \"['Q28807042']\", \"['Q2858615']\", \"['Q28539166']\", \"['Q28480345']\", \"['Q28469843']\", \"['Q284']\", \"['Q28362371']\", \"['Q2835959']\", \"['Q28232']\", \"['Q28222179']\", \"['Q28222124']\", \"['Q28222105']\", \"['Q28222099']\", \"['Q28222080']\", \"['Q28222055']\", \"['Q28221964']\", \"['Q28221902']\", \"['Q28206753']\", \"['Q281644']\", \"['Q28109475']\", \"['Q28100286']\", \"['Q28057350']\", \"['Q2803758']\", \"['Q280275']\", \"['Q28017630']\", \"['Q28008646']\", \"['Q27994917']\", \"['Q27970162']\", \"['Q27899217']\", \"['Q277593']\", \"['Q27699276']\", \"['Q2755547']\", \"['Q27493']\", \"['Q27345018']\", \"['Q27186004']\", \"['Q27055636']\", \"['Q26971562']\", \"['Q26944983']\", \"['Q2693910']\", \"['Q2692757']\", \"['Q26821406']\", \"['Q267596']\", \"['Q26701162']\", \"['Q26678376']\", \"['Q26654367']\", \"['Q26618428']\", \"['Q2628882']\", \"['Q26279902']\", \"['Q2627975']\", \"['Q2616170']\", \"['Q2612572']\", \"['Q26110856']\", \"['Q2610712']\", \"['Q2603355']\", \"['Q2599160']\", \"['Q2596406']\", \"['Q25930744']\", \"['Q25930653']\", \"['Q2587942']\", \"['Q2584998']\", \"['Q2572794']\", \"['Q25546358']\", \"['Q25534775']\", \"['Q25467156']\", \"['Q25449331']\", \"['Q25430612']\", \"['Q2540532']\", \"['Q2537344']\", \"['Q25343650']\", \"['Q25343642']\", \"['Q25343622']\", \"['Q253309']\", \"['Q2515494']\", \"['Q25056721']\", \"['Q24952557']\", \"['Q2494324']\", \"['Q2491498']\", \"['Q24719004']\", \"['Q2470540']\", \"['Q24698']\", \"['Q24574745']\", \"['Q24567296']\", \"['Q24561417']\", \"['Q2440569']\", \"['Q24337101']\", \"['Q24337077']\", \"['Q24336031']\", \"['Q24334685']\", \"['Q2430899']\", \"['Q24180038']\", \"['Q2415599']\", \"['Q24036024']\", \"['Q24017465']\", \"['Q2398990']\", \"['Q23925382']\", \"['Q23901123']\", \"['Q23847779']\", \"['Q23827464']\", \"['Q23811269']\", \"['Q23811263']\", \"['Q2380385']\", \"['Q23759397']\", \"['Q23726798']\", \"['Q2367628']\", \"['Q2360980']\", \"['Q2355817']\", \"['Q23498202']\", \"['Q233861']\", \"['Q23384401']\", \"['Q23308176']\", \"['Q2327632']\", \"['Q2326317']\", \"['Q2322432']\", \"['Q2319551']\", \"['Q2312233']\", \"['Q2310214']\", \"['Q23090938']\", \"['Q23005233']\", \"['Q2296723']\", \"['Q2295097']\", \"['Q2294583']\", \"['Q229371']\", \"['Q22908566']\", \"['Q22811462']\", \"['Q22808404']\", \"['Q22793406']\", \"['Q22696377']\", \"['Q22696370']\", \"['Q22696274']\", \"['Q22669621']\", \"['Q22668995']\", \"['Q2250008']\", \"['Q2249234']\", \"['Q2240413']\", \"['Q223729']\", \"['Q22342211']\", \"['Q22342153']\", \"['Q22341320']\", \"['Q22298551']\", \"['Q22281036']\", \"['Q22266583']\", \"['Q2217740']\", \"['Q22160112']\", \"['Q220935']\", \"['Q21976118']\", \"['Q219239']\", \"['Q219067']\", \"['Q21814455']\", \"['Q217602']\", \"['Q21745557']\", \"['Q217438']\", \"['Q217107']\", \"['Q21705905']\", \"['Q21561350']\", \"['Q21528930']\", \"['Q2140214']\", \"['Q21369154']\", \"['Q213666']\", \"['Q21281405']\", \"['Q211969']\", \"['Q21163366']\", \"['Q21156425']\", \"['Q21146257']\", \"['Q21095053']\", \"['Q210832']\", \"['Q2105303']\", \"['Q21040876']\", \"['Q21010924']\", \"['Q21004260']\", \"['Q209928']\", \"['Q20970434']\", \"['Q209680']\", \"['Q209495']\", \"['Q209363']\", \"['Q2092603']\", \"['Q20900468']\", \"['Q20897549']\", \"['Q208820']\", \"['Q20872118']\", \"['Q20871353']\", \"['Q208628']\", \"['Q20858006']\", \"['Q2083910']\", \"['Q208361']\", \"['Q208322']\", \"['Q20825630']\", \"['Q20820102']\", \"['Q20816930']\", \"['Q207520']\", \"['Q20751022']\", \"['Q20744439']\", \"['Q20738811']\", \"['Q20738676']\", \"['Q2073093']\", \"['Q20724797']\", \"['Q20719696']\", \"['Q205805']\", \"['Q205011']\", \"['Q204894']\", \"['Q2040803']\", \"['Q2037215']\", \"['Q2028178']\", \"['Q20268453']\", \"['Q20220333']\", \"['Q202156']\", \"['Q201960']\", \"['Q2016147']\", \"['Q2016031']\", \"['Q20153194']\", \"['Q20076926']\", \"['Q20056177']\", \"['Q20053795']\", \"['Q20026879']\", \"['Q20010053']\", \"['Q20006438']\", \"['Q19979289']\", \"['Q19973795']\", \"['Q19967801']\", \"['Q19960510']\", \"['Q19902850']\", \"['Q1989839']\", \"['Q19886742']\", \"['Q19858569']\", \"['Q1985623']\", \"['Q19855418']\", \"['Q19833031']\", \"['Q1983296']\", \"['Q19832617']\", \"['Q19832479']\", \"['Q19828538']\", \"['Q1981535']\", \"['Q19793459']\", \"['Q19720191']\", \"['Q19710423']\", \"['Q197']\", \"['Q196756']\", \"['Q1961493']\", \"['Q19541']\", \"['Q194235']\", \"['Q1941618']\", \"['Q1934883']\", \"['Q193424']\", \"['Q193234']\", \"['Q19267382']\", \"['Q1926589']\", \"['Q1923855']\", \"['Q192375']\", \"['Q1920810']\", \"['Q19201596']\", \"['Q1920105']\", \"['Q191192']\", \"['Q191072']\", \"['Q189962']\", \"['Q1898357']\", \"['Q189672']\", \"['Q18961514']\", \"['Q189299']\", \"['Q188924']\", \"['Q188604']\", \"['Q1885014']\", \"['Q188460']\", \"['Q1884366']\", \"['Q188267']\", \"['Q188211']\", \"['Q18812508']\", \"['Q187939']\", \"['Q18760388']\", \"['Q18752601']\", \"['Q1868335']\", \"['Q18670161']\", \"['Q1865249']\", \"['Q186150']\", \"['Q18611609']\", \"['Q18608569']\", \"['Q18573266']\", \"['Q18564543']\", \"['Q185451']\", \"['Q1854071']\", \"['Q18511725']\", \"['Q1850936']\", \"['Q1849378']\", \"['Q184759']\", \"['Q1847518']\", \"['Q182659']\", \"['Q18248981']\", \"['Q182406']\", \"['Q182274']\", \"['Q182037']\", \"['Q18199114']\", \"['Q18195680']\", \"['Q181916']\", \"['Q1813540']\", \"['Q181266']\", \"['Q1809578']\", \"['Q1809566']\", \"['Q180712']\", \"['Q18050']\", \"['Q1802801']\", \"['Q18011172']\", \"['Q17990971']\", \"['Q179805']\", \"['Q1797381']\", \"['Q179600']\", \"['Q1790577']\", \"['Q178780']\", \"['Q178651']\", \"['Q1781513']\", \"['Q1780951']\", \"['Q178048']\", \"['Q1780353']\", \"['Q17773527']\", \"['Q1777205']\", \"['Q1776764']\", \"['Q1774898']\", \"['Q177253']\", \"['Q17682891']\", \"['Q1763090']\", \"['Q1762591']\", \"['Q1762471']\", \"['Q1760692']\", \"['Q1757209']\", \"['Q17518557']\", \"['Q17517']\", \"['Q1751323']\", \"['Q17505801']\", \"['Q17496410']\", \"['Q1744266']\", \"['Q17351671']\", \"['Q173212']\", \"['Q17305127']\", \"['Q172847']\", \"['Q17278559']\", \"['Q17277975']\", \"['Q17277366']\", \"['Q1720648']\", \"['Q17198419']\", \"['Q1718623']\", \"['Q1714375']\", \"['Q17143371']\", \"['Q1711697']\", \"['Q17115912']\", \"['Q17102188']\", \"['Q17074763']\", \"['Q170409']\", \"['Q17024704']\", \"['Q1701122']\", \"['Q16995693']\", \"['Q16981758']\", \"['Q16913666']\", \"['Q16909656']\", \"['Q16889133']\", \"['Q1681685']\", \"['Q167676']\", \"['Q16761700']\", \"['Q1675034']\", \"['Q1672817']\", \"['Q16718231']\", \"['Q16707841']\", \"['Q16705943']\", \"['Q1670208']\", \"['Q1668024']\", \"['Q16674311']\", \"['Q16659609']\", \"['Q16481820']\", \"['Q1644573']\", \"['Q1643737']\", \"['Q1641572']\", \"['Q1639168']\", \"['Q1638749']\", \"['Q163829']\", \"['Q16363493']\", \"['Q1621783']\", \"['Q1616093']\", \"['Q16148174']\", \"['Q161439']\", \"['Q16101952']\", \"['Q16000047']\", \"['Q15994170']\", \"['Q15983795']\", \"['Q15982170']\", \"['Q1593564']\", \"['Q15925165']\", \"['Q15841920']\", \"['Q15830667']\", \"['Q15812758']\", \"['Q1576693']\", \"['Q15729598']\", \"['Q15712205']\", \"['Q1569871']\", \"['Q15644465']\", \"['Q15634883']\", \"['Q15634846']\", \"['Q15632133']\", \"['Q15630895']\", \"['Q15620174']\", \"['Q155076']\", \"['Q1549591']\", \"['Q15411644']\", \"['Q15411479']\", \"['Q153936']\", \"['Q1539014']\", \"['Q1532343']\", \"['Q1529128']\", \"['Q1527462']\", \"['Q15261456']\", \"['Q152574']\", \"['Q15220407']\", \"['Q1517820']\", \"['Q15154951']\", \"['Q15141632']\", \"['Q15116915']\", \"['Q15063611']\", \"['Q1505897']\", \"['Q1504429']\", \"['Q1501']\", \"['Q15008703']\", \"['Q1499928']\", \"['Q1499496']\", \"['Q1499149']\", \"['Q1497384']\", \"['Q1497011']\", \"['Q14928320']\", \"['Q147538']\", \"['Q1474372']\", \"['Q1473381']\", \"['Q14701649']\", \"['Q1469824']\", \"['Q14694851']\", \"['Q14693998']\", \"['Q14693950']\", \"['Q1468524']\", \"['Q1464870']\", \"['Q1456099']\", \"['Q1454820']\", \"['Q14514346']\", \"['Q1450662']\", \"['Q14500296']\", \"['Q1438105']\", \"['Q1433192']\", \"['Q1433086']\", \"['Q1425352']\", \"['Q14208553']\", \"['Q142043']\", \"['Q1418147']\", \"['Q1416685']\", \"['Q1415133']\", \"['Q1414426']\", \"['Q1414262']\", \"['Q1407236']\", \"['Q1399862']\", \"['Q139677']\", \"['Q13930359']\", \"['Q1391494']\", \"['Q1391128']\", \"['Q13890']\", \"['Q1379672']\", \"['Q137823']\", \"['Q1375518']\", \"['Q1373429']\", \"['Q1372202']\", \"['Q1371789']\", \"['Q1368898']\", \"['Q1368083']\", \"['Q1365419']\", \"['Q1362124']\", \"['Q13534339']\", \"['Q13479680']\", \"['Q1347367']\", \"['Q1345528']\", \"['Q1344695']\", \"['Q13416228']\", \"['Q13414753']\", \"['Q13414369']\", \"['Q1341108']\", \"['Q1340118']\", \"['Q1339342']\", \"['Q1338914']\", \"['Q13380226']\", \"['Q13360570']\", \"['Q13358519']\", \"['Q1327300']\", \"['Q13221722']\", \"['Q13219666']\", \"['Q13218676']\", \"['Q1320217']\", \"['Q1318257']\", \"['Q1311']\", \"['Q1307348']\", \"['Q1304276']\", \"['Q130368']\", \"['Q13025342']\", \"['Q13024547']\", \"['Q1298632']\", \"['Q129558']\", \"['Q12876091']\", \"['Q1286517']\", \"['Q12813215']\", \"['Q12802']\", \"['Q12796']\", \"['Q12774']\", \"['Q1276626']\", \"['Q1276556']\", \"['Q12743']\", \"['Q12718609']\", \"['Q126807']\", \"['Q1267784']\", \"['Q1266169']\", \"['Q12661150']\", \"['Q1266076']\", \"['Q1265353']\", \"['Q1264773']\", \"['Q1261571']\", \"['Q1252971']\", \"['Q12516']\", \"['Q1250464']\", \"['Q12388486']\", \"['Q1236680']\", \"['Q12366139']\", \"['Q1233985']\", \"['Q12336407']\", \"['Q12317349']\", \"['Q1230132']\", \"['Q1230110']\", \"['Q1229071']\", \"['Q12271']\", \"['Q1221280']\", \"['Q1221145']\", \"['Q121742']\", \"['Q12160242']\", \"['Q1215981']\", \"['Q12151852']\", \"['Q12134915']\", \"['Q12132780']\", \"['Q12119802']\", \"['Q1209783']\", \"['Q1206434']\", \"['Q12054099']\", \"['Q1200701']\", \"['Q1197154']\", \"['Q11946645']\", \"['Q1193246']\", \"['Q119253']\", \"['Q1191085']\", \"['Q11909230']\", \"['Q1190275']\", \"['Q1190176']\", \"['Q1190172']\", \"['Q1188986']\", \"['Q1188223']\", \"['Q1186375']\", \"['Q1184488']\", \"['Q1179791']\", \"['Q11781066']\", \"['Q11780435']\", \"['Q11765']\", \"['Q11755853']\", \"['Q1175507']\", \"['Q1173065']\", \"['Q11643861']\", \"['Q1164267']\", \"['Q11642595']\", \"['Q11631301']\", \"['Q11626975']\", \"['Q116135']\", \"['Q1158712']\", \"['Q11582691']\", \"['Q11573537']\", \"['Q11571013']\", \"['Q115616232']\", \"['Q1156016']\", \"['Q115518']\", \"['Q115368202']\", \"['Q1151612']\", \"['Q11512972']\", \"['Q1148887']\", \"['Q114848957']\", \"['Q114827976']\", \"['Q11464930']\", \"['Q114608872']\", \"['Q11452125']\", \"['Q1141381']\", \"['Q1141321']\", \"['Q113990212']\", \"['Q1138671']\", \"['Q1138494']\", \"['Q1138456']\", \"['Q1138237']\", \"['Q1137272']\", \"['Q1137210']\", \"['Q1136963']\", \"['Q1135557']\", \"['Q11352785']\", \"['Q113517220']\", \"['Q113492540']\", \"['Q113131065']\", \"['Q1129474']\", \"['Q1129398']\", \"['Q11288']\", \"['Q112727435']\", \"['Q112727405']\", \"['Q112727404']\", \"['Q112727389']\", \"['Q112727386']\", \"['Q1127126']\", \"['Q112679158']\", \"['Q11267647']\", \"['Q112676038']\", \"['Q1125930']\", \"['Q1123037']\", \"['Q1123036']\", \"['Q112212194']\", \"['Q112149492']\", \"['Q11214']\", \"['Q112119626']\", \"['Q112109773']\", \"['Q111914880']\", \"['Q11183787']\", \"['Q111796904']\", \"['Q111628618']\", \"['Q1114515']\", \"['Q111141875']\", \"['Q1110992']\", \"['Q1110689']\", \"['Q110616917']\", \"['Q110416322']\", \"['Q110403031']\", \"['Q110401282']\", \"['Q110295396']\", \"['Q110196705']\", \"['Q11010841']\", \"['Q10943']\", \"['Q10928429']\", \"['Q10876319']\", \"['Q10868922']\", \"['Q108680062']\", \"['Q108669661']\", \"['Q10855061']\", \"['Q108458']\", \"['Q108169568']\", \"['Q108074184']\", \"['Q108040195']\", \"['Q108037652']\", \"['Q107974527']\", \"['Q1078001']\", \"['Q107715']\", \"['Q107706']\", \"['Q1076579']\", \"['Q1076291']\", \"['Q107581015']\", \"['Q107551175']\", \"['Q1074955']\", \"['Q107243694']\", \"['Q1071027']\", \"['Q107009743']\", \"['Q1069932']\", \"['Q1069300']\", \"['Q1068824']\", \"['Q10688145']\", \"['Q10669269']\", \"['Q106664582']\", \"['Q106644070']\", \"['Q1066288']\", \"['Q10617810']\", \"['Q106164813']\", \"['Q1061648']\", \"['Q1061108']\", \"['Q10605195']\", \"['Q105815710']\", \"['Q10572388']\", \"['Q105599390']\", \"['Q1055974']\", \"['Q105530558']\", \"['Q10545864']\", \"['Q1053630']\", \"['Q105322664']\", \"['Q10528974']\", \"['Q10501549']\", \"['Q104907539']\", \"['Q10480682']\", \"['Q1047443']\", \"['Q10436273']\", \"['Q104251']\", \"['Q104193250']\", \"['Q104185420']\", \"['Q104030742']\", \"['Q103903440']\", \"['Q103843052']\", \"['Q10351538']\", \"['Q1033904']\", \"['Q1030403']\", \"['Q10291405']\", \"['Q102854139']\", \"['Q1025846']\", \"['Q1025636']\", \"['Q1021106']\", \"['Q101600']\", \"['Q101497']\", \"['Q101063310']\", \"['Q100234184']\", \"['Q100166545']\", '\"[\\'Q98929991\\'', '\"[\\'Q9698159\\'', '\"[\\'Q964162\\'', '\"[\\'Q955021\\'', '\"[\\'Q93352\\'', '\"[\\'Q9208\\'', '\"[\\'Q907698\\'', '\"[\\'Q899523\\'', '\"[\\'Q899485\\'', '\"[\\'Q879146\\'', '\"[\\'Q877729\\'', '\"[\\'Q877290\\'', '\"[\\'Q86730311\\'', '\"[\\'Q856663\\'', '\"[\\'Q854845\\'', '\"[\\'Q846659\\'', '\"[\\'Q843065\\'', '\"[\\'Q8355\\'', '\"[\\'Q82414\\'', '\"[\\'Q8092\\'', '\"[\\'Q80071\\'', '\"[\\'Q78155096\\'', '\"[\\'Q781546\\'', '\"[\\'Q7787114\\'', '\"[\\'Q7748\\'', '\"[\\'Q7699221\\'', '\"[\\'Q765749\\'', '\"[\\'Q756780\\'', '\"[\\'Q756102\\'', '\"[\\'Q752783\\'', '\"[\\'Q7505806\\'', '\"[\\'Q747399\\'', '\"[\\'Q746369\\'', '\"[\\'Q727002\\'', '\"[\\'Q726492\\'', '\"[\\'Q7225113\\'', '\"[\\'Q7210356\\'', '\"[\\'Q7188\\'', '\"[\\'Q713623\\'', '\"[\\'Q7078911\\'', '\"[\\'Q707813\\'', '\"[\\'Q706447\\'', '\"[\\'Q7058673\\'', '\"[\\'Q701632\\'', '\"[\\'Q70076469\\'', '\"[\\'Q685935\\'', '\"[\\'Q66826848\\'', '\"[\\'Q6631808\\'', '\"[\\'Q6617741\\'', '\"[\\'Q65653699\\'', '\"[\\'Q655686\\'', '\"[\\'Q655677\\'', '\"[\\'Q6549533\\'', '\"[\\'Q64578911\\'', '\"[\\'Q641066\\'', '\"[\\'Q639907\\'', '\"[\\'Q632300\\'', '\"[\\'Q630830\\'', '\"[\\'Q625994\\'', '\"[\\'Q622425\\'', '\"[\\'Q607958\\'', '\"[\\'Q60484681\\'', '\"[\\'Q599219\\'', '\"[\\'Q592389\\'', '\"[\\'Q5773747\\'', '\"[\\'Q5770918\\'', '\"[\\'Q57448432\\'', '\"[\\'Q55653847\\'', '\"[\\'Q555063\\'', '\"[\\'Q55439\\'', '\"[\\'Q548611\\'', '\"[\\'Q5167149\\'', '\"[\\'Q5124642\\'', '\"[\\'Q5110343\\'', '\"[\\'Q51041800\\'', '\"[\\'Q509028\\'', '\"[\\'Q507619\\'', '\"[\\'Q503354\\'', '\"[\\'Q50331459\\'', '\"[\\'Q5015649\\'', '\"[\\'Q5009242\\'', '\"[\\'Q494588\\'', '\"[\\'Q49371\\'', '\"[\\'Q48356\\'', '\"[\\'Q4818021\\'', '\"[\\'Q47543030\\'', '\"[\\'Q475430\\'', '\"[\\'Q4677783\\'', '\"[\\'Q46587\\'', '\"[\\'Q44896819\\'', '\"[\\'Q44377\\'', '\"[\\'Q430525\\'', '\"[\\'Q428661\\'', '\"[\\'Q428069\\'', '\"[\\'Q424857\\'', '\"[\\'Q4224624\\'', '\"[\\'Q4200298\\'', '\"[\\'Q41806065\\'', '\"[\\'Q41778911\\'', '\"[\\'Q414147\\'', '\"[\\'Q40050\\'', '\"[\\'Q4\\'', '\"[\\'Q3924474\\'', '\"[\\'Q391629\\'', '\"[\\'Q382780\\'', '\"[\\'Q3535094\\'', '\"[\\'Q35273\\'', '\"[\\'Q35112127\\'', '\"[\\'Q3423162\\'', '\"[\\'Q34023\\'', '\"[\\'Q33837\\'', '\"[\\'Q33215\\'', '\"[\\'Q33146843\\'', '\"[\\'Q3302125\\'', '\"[\\'Q324233\\'', '\"[\\'Q3192808\\'', '\"[\\'Q312466\\'', '\"[\\'Q3032041\\'', '\"[\\'Q3025\\'', '\"[\\'Q3024\\'', '\"[\\'Q3022\\'', '\"[\\'Q3020\\'', '\"[\\'Q30129411\\'', '\"[\\'Q3001412\\'', '\"[\\'Q299701\\'', '\"[\\'Q299543\\'', '\"[\\'Q2995\\'', '\"[\\'Q299439\\'', '\"[\\'Q299254\\'', '\"[\\'Q299191\\'', '\"[\\'Q299147\\'', '\"[\\'Q299126\\'', '\"[\\'Q2989470\\'', '\"[\\'Q2984\\'', '\"[\\'Q29553\\'', '\"[\\'Q2952\\'', '\"[\\'Q2949\\'', '\"[\\'Q29485\\'', '\"[\\'Q2944640\\'', '\"[\\'Q2920\\'', '\"[\\'Q2896\\'', '\"[\\'Q2891\\'', '\"[\\'Q2890\\'', '\"[\\'Q2889\\'', '\"[\\'Q2886\\'', '\"[\\'Q288514\\'', '\"[\\'Q2867136\\'', '\"[\\'Q2857\\'', '\"[\\'Q2853\\'', '\"[\\'Q2840449\\'', '\"[\\'Q2832\\'', '\"[\\'Q2822\\'', '\"[\\'Q28147344\\'', '\"[\\'Q27996460\\'', '\"[\\'Q2785\\'', '\"[\\'Q27676428\\'', '\"[\\'Q274153\\'', '\"[\\'Q2730\\'', '\"[\\'Q2718\\'', '\"[\\'Q2701\\'', '\"[\\'Q2698\\'', '\"[\\'Q2697\\'', '\"[\\'Q2696\\'', '\"[\\'Q2695327\\'', '\"[\\'Q2694\\'', '\"[\\'Q2670\\'', '\"[\\'Q2660\\'', '\"[\\'Q2653\\'', '\"[\\'Q264806\\'', '\"[\\'Q2643128\\'', '\"[\\'Q2623\\'', '\"[\\'Q2618461\\'', '\"[\\'Q261636\\'', '\"[\\'Q2616\\'', '\"[\\'Q25930757\\'', '\"[\\'Q25930493\\'', '\"[\\'Q2586\\'', '\"[\\'Q2570643\\'', '\"[\\'Q25653\\'', '\"[\\'Q2556234\\'', '\"[\\'Q2545\\'', '\"[\\'Q25412763\\'', '\"[\\'Q25289192\\'', '\"[\\'Q2527\\'', '\"[\\'Q2525\\'', '\"[\\'Q2493450\\'', '\"[\\'Q2453\\'', '\"[\\'Q245260\\'', '\"[\\'Q2451577\\'', '\"[\\'Q2446662\\'', '\"[\\'Q2440569\\'', '\"[\\'Q2436738\\'', '\"[\\'Q24334893\\'', '\"[\\'Q2425489\\'', '\"[\\'Q2402\\'', '\"[\\'Q2401749\\'', '\"[\\'Q2398\\'', '\"[\\'Q2394\\'', '\"[\\'Q23691\\'', '\"[\\'Q2367441\\'', '\"[\\'Q2351962\\'', '\"[\\'Q2351\\'', '\"[\\'Q2318\\'', '\"[\\'Q2305295\\'', '\"[\\'Q23034867\\'', '\"[\\'Q2302\\'', '\"[\\'Q2301048\\'', '\"[\\'Q22964372\\'', '\"[\\'Q2292572\\'', '\"[\\'Q2289\\'', '\"[\\'Q226730\\'', '\"[\\'Q2266\\'', '\"[\\'Q2264\\'', '\"[\\'Q2260809\\'', '\"[\\'Q2260\\'', '\"[\\'Q2248\\'', '\"[\\'Q2243\\'', '\"[\\'Q223832\\'', '\"[\\'Q22075301\\'', '\"[\\'Q220659\\'', '\"[\\'Q2198855\\'', '\"[\\'Q2197893\\'', '\"[\\'Q218616\\'', '\"[\\'Q215677\\'', '\"[\\'Q2156\\'', '\"[\\'Q2145277\\'', '\"[\\'Q2145163\\'', '\"[\\'Q21451178\\'', '\"[\\'Q2142568\\'', '\"[\\'Q2138247\\'', '\"[\\'Q208500\\'', '\"[\\'Q207452\\'', '\"[\\'Q20738811\\'', '\"[\\'Q206290\\'', '\"[\\'Q20603222\\'', '\"[\\'Q205020\\'', '\"[\\'Q202686\\'', '\"[\\'Q200141\\'', '\"[\\'Q20006438\\'', '\"[\\'Q1993624\\'', '\"[\\'Q1978718\\'', '\"[\\'Q1970365\\'', '\"[\\'Q19571328\\'', '\"[\\'Q19563580\\'', '\"[\\'Q194203\\'', '\"[\\'Q18972207\\'', '\"[\\'Q18918145\\'', '\"[\\'Q18667213\\'', '\"[\\'Q185583\\'', '\"[\\'Q18556754\\'', '\"[\\'Q18347143\\'', '\"[\\'Q18328097\\'', '\"[\\'Q18089587\\'', '\"[\\'Q180673\\'', '\"[\\'Q178750\\'', '\"[\\'Q17701409\\'', '\"[\\'Q1747829\\'', '\"[\\'Q17370328\\'', '\"[\\'Q17367286\\'', '\"[\\'Q17362920\\'', '\"[\\'Q17350442\\'', '\"[\\'Q17268368\\'', '\"[\\'Q1719244\\'', '\"[\\'Q17155032\\'', '\"[\\'Q17018380\\'', '\"[\\'Q16830604\\'', '\"[\\'Q16632355\\'', '\"[\\'Q1663017\\'', '\"[\\'Q16363214\\'', '\"[\\'Q16352482\\'', '\"[\\'Q16335296\\'', '\"[\\'Q16323605\\'', '\"[\\'Q162602\\'', '\"[\\'Q1620186\\'', '\"[\\'Q161726\\'', '\"[\\'Q16103215\\'', '\"[\\'Q15978299\\'', '\"[\\'Q1595639\\'', '\"[\\'Q15924535\\'', '\"[\\'Q15893266\\'', '\"[\\'Q158454\\'', '\"[\\'Q15720625\\'', '\"[\\'Q156362\\'', '\"[\\'Q155239\\'', '\"[\\'Q154575\\'', '\"[\\'Q1542966\\'', '\"[\\'Q154224\\'', '\"[\\'Q15304628\\'', '\"[\\'Q15284634\\'', '\"[\\'Q15273785\\'', '\"[\\'Q15221215\\'', '\"[\\'Q15217609\\'', '\"[\\'Q1516079\\'', '\"[\\'Q15091377\\'', '\"[\\'Q15070223\\'', '\"[\\'Q15063384\\'', '\"[\\'Q15020890\\'', '\"[\\'Q149086\\'', '\"[\\'Q148837\\'', '\"[\\'Q14645593\\'', '\"[\\'Q144\\'', '\"[\\'Q142714\\'', '\"[\\'Q1415179\\'', '\"[\\'Q1407245\\'', '\"[\\'Q1404229\\'', '\"[\\'Q1404207\\'', '\"[\\'Q1378975\\'', '\"[\\'Q13741\\'', '\"[\\'Q1371279\\'', '\"[\\'Q13691\\'', '\"[\\'Q1350697\\'', '\"[\\'Q1344963\\'', '\"[\\'Q13411064\\'', '\"[\\'Q13410428\\'', '\"[\\'Q1339195\\'', '\"[\\'Q133492\\'', '\"[\\'Q133311\\'', '\"[\\'Q1319876\\'', '\"[\\'Q1317848\\'', '\"[\\'Q131436\\'', '\"[\\'Q131093\\'', '\"[\\'Q12985603\\'', '\"[\\'Q1292279\\'', '\"[\\'Q12909644\\'', '\"[\\'Q1288568\\'', '\"[\\'Q12870\\'', '\"[\\'Q12810851\\'', '\"[\\'Q1254933\\'', '\"[\\'Q1252971\\'', '\"[\\'Q12184\\'', '\"[\\'Q12131624\\'', '\"[\\'Q1211146\\'', '\"[\\'Q12063697\\'', '\"[\\'Q12027715\\'', '\"[\\'Q1201822\\'', '\"[\\'Q12018177\\'', '\"[\\'Q12015335\\'', '\"[\\'Q1201493\\'', '\"[\\'Q1195098\\'', '\"[\\'Q1190172\\'', '\"[\\'Q1188866\\'', '\"[\\'Q11688446\\'', '\"[\\'Q114962596\\'', '\"[\\'Q11483816\\'', '\"[\\'Q1141221\\'', '\"[\\'Q1136601\\'', '\"[\\'Q1132998\\'', '\"[\\'Q1131614\\'', '\"[\\'Q1129634\\'', '\"[\\'Q112046\\'', '\"[\\'Q1118509\\'', '\"[\\'Q1107\\'', '\"[\\'Q1104922\\'', '\"[\\'Q1094196\\'', '\"[\\'Q10884\\'', '\"[\\'Q10872630\\'', '\"[\\'Q108329152\\'', '\"[\\'Q108317211\\'', '\"[\\'Q1077817\\'', '\"[\\'Q107746165\\'', '\"[\\'Q107742145\\'', '\"[\\'Q107738607\\'', '\"[\\'Q1075664\\'', '\"[\\'Q1075\\'', '\"[\\'Q107487333\\'', '\"[\\'Q107356781\\'', '\"[\\'Q1070942\\'', '\"[\\'Q106921111\\'', '\"[\\'Q106259\\'', '\"[\\'Q106179098\\'', '\"[\\'Q105999\\'', '\"[\\'Q1049757\\'', '\"[\\'Q1025949\\'', \"['Q998672']\", \"['Q99516640']\", \"['Q99441948']\", \"['Q99318671']\", \"['Q992559']\", \"['Q992184']\", \"['Q98713506']\", \"['Q98608820']\", \"['Q98456412']\", \"['Q984179']\", \"['Q98380149']\", \"['Q97940647']\", \"['Q9769742']\", \"['Q9747038']\", \"['Q974127']\", \"['Q971831']\", \"['Q970092']\", \"['Q96982121']\", \"['Q96948740']\", \"['Q9687']\", \"['Q966260']\", \"['Q9662']\", \"['Q96619653']\", \"['Q9639292']\", \"['Q963908']\", \"['Q96316262']\", \"['Q96264607']\", \"['Q96247293']\", \"['Q9620']\", \"['Q96106207']\", \"['Q959962']\", \"['Q95977092']\", \"['Q95945728']\", \"['Q9592']\", \"['Q9557810']\", \"['Q955224']\", \"['Q95252032']\", \"['Q952053']\", \"['Q951964']\", \"['Q951799']\", \"['Q951437']\", \"['Q950249']\", \"['Q945507']\", \"['Q944588']\", \"['Q941036']\", \"['Q939473']\", \"['Q9383976']\", \"['Q936955']\", \"['Q9369203']\", \"['Q936619']\", \"['Q935773']\", \"['Q9347372']\", \"['Q9346860']\", \"['Q9339746']\", \"['Q933394']\", \"['Q9332']\", \"['Q93190']\", \"['Q930729']\", \"['Q929905']\", \"['Q92816813']\", \"['Q92634207']\", \"['Q926026']\", \"['Q925667']\", \"['Q9252000']\", \"['Q924286']\", \"['Q922942']\", \"['Q9209549']\", \"['Q9209']\", \"['Q91908084']\", \"['Q918230']\", \"['Q91759']\", \"['Q9158768']\", \"['Q91586285']\", \"['Q914711']\", \"['Q91396496']\", \"['Q913398']\", \"['Q91304']\", \"['Q912996']\", \"['Q9122']\", \"['Q91188763']\", \"['Q9117']\", \"['Q908488']\", \"['Q90786']\", \"['Q906512']\", \"['Q906278']\", \"['Q9056048']\", \"['Q904319']\", \"['Q903658']\", \"['Q900729']\", \"['Q897399']\", \"['Q896635']\", \"['Q896525']\", \"['Q89375907']\", \"['Q891055']\", \"['Q88976016']\", \"['Q88590501']\", \"['Q88556816']\", \"['Q88480']\", \"['Q883323']\", \"['Q877664']\", \"['Q875508']\", \"['Q874919']\", \"['Q874223']\", \"['Q873506']\", \"['Q87342028']\", \"['Q872']\", \"['Q868979']\", \"['Q868893']\", \"['Q868410']\", \"['Q866623']\", \"['Q866133']\", \"['Q863247']\", \"['Q861559']\", \"['Q860582']\", \"['Q85988665']\", \"['Q859170']\", \"['Q85796467']\", \"['Q856638']\", \"['Q856592']\", \"['Q855747']\", \"['Q855055']\", \"['Q854995']\", \"['Q85475422']\", \"['Q852446']\", \"['Q851990']\", \"['Q851782']\", \"['Q847773']\", \"['Q847667']\", \"['Q84669937']\", \"['Q845820']\", \"['Q845620']\", \"['Q842729']\", \"['Q842697']\", \"['Q842420']\", \"['Q841753']\", \"['Q841248']\", \"['Q841154']\", \"['Q839496']\", \"['Q836672']\", \"['Q836365']\", \"['Q835439']\", \"['Q834104']\", \"['Q83343207']\", \"['Q832778']\", \"['Q83204']\", \"['Q83197911']\", \"['Q83034']\", \"['Q829546']\", \"['Q828973']\", \"['Q828911']\", \"['Q828395']\", \"['Q827792']\", \"['Q827597']\", \"['Q826059']\", \"['Q82604']\", \"['Q82551957']\", \"['Q824650']\", \"['Q8207109']\", \"['Q8205328']\", \"['Q82036085']\", \"['Q81989119']\", \"['Q819511']\", \"['Q81947509']\", \"['Q816425']\", \"['Q815241']\", \"['Q815068']\", \"['Q814491']\", \"['Q813966']\", \"['Q811909']\", \"['Q811102']\", \"['Q8104']\", \"['Q80962']\", \"['Q8094']\", \"['Q80895']\", \"['Q80839']\", \"['Q808']\", \"['Q80798']\", \"['Q80787826']\", \"['Q80716240']\", \"['Q8068978']\", \"['Q8046440']\", \"['Q80360673']\", \"['Q8030526']\", \"['Q8025']\", \"['Q8001309']\", \"['Q799305']\", \"['Q799000']\", \"['Q79867180']\", \"['Q7978994']\", \"['Q79645112']\", \"['Q796174']\", \"['Q79424059']\", \"['Q79414634']\", \"['Q7936582']\", \"['Q7927899']\", \"['Q792542']\", \"['Q792425']\", \"['Q79226802']\", \"['Q7922']\", \"['Q7905205']\", \"['Q7904579']\", \"['Q7894996']\", \"['Q78754808']\", \"['Q786414']\", \"['Q7856']\", \"['Q785082']\", \"['Q78493']\", \"['Q784878']\", \"['Q783023']\", \"['Q7829682']\", \"['Q7826011']\", \"['Q7814330']\", \"['Q780649']\", \"['Q778305']\", \"['Q7751682']\", \"['Q77468620']\", \"['Q77347966']\", \"['Q7715973']\", \"['Q7692348']\", \"['Q7673025']\", \"['Q76397847']\", \"['Q76379517']\", \"['Q763681']\", \"['Q763590']\", \"['Q763288']\", \"['Q7631958']\", \"['Q7630601']\", \"['Q7619063']\", \"['Q7604686']\", \"['Q7603671']\", \"['Q759524']\", \"['Q75951701']\", \"['Q7593363']\", \"['Q758871']\", \"['Q7575672']\", \"['Q7575667']\", \"['Q7574919']\", \"['Q7571176']\", \"['Q7569793']\", \"['Q7568703']\", \"['Q756827']\", \"['Q756637']\", \"['Q7565973']\", \"['Q7558985']\", \"['Q754669']\", \"['Q754396']\", \"['Q7541461']\", \"['Q7535770']\", \"['Q753486']\", \"['Q752920']\", \"['Q751705']\", \"['Q75135432']\", \"['Q751191']\", \"['Q75050']\", \"['Q748998']\", \"['Q746290']\", \"['Q7460342']\", \"['Q745545']\", \"['Q745404']\", \"['Q7446128']\", \"['Q744026']\", \"['Q7433680']\", \"['Q74262765']\", \"['Q7406919']\", \"['Q7404395']\", \"['Q738723']\", \"['Q7376362']\", \"['Q736812']\", \"['Q736288']\", \"['Q734698']\", \"['Q7335248']\", \"['Q73218016']\", \"['Q7321258']\", \"['Q7313909']\", \"['Q731236']\", \"['Q7309187']\", \"['Q7303998']\", \"['Q730038']\", \"['Q729230']\", \"['Q728646']\", \"['Q728145']\", \"['Q72802508']\", \"['Q726929']\", \"['Q7252701']\", \"['Q7252624']\", \"['Q7240390']\", \"['Q7239']\", \"['Q723685']\", \"['Q7231588']\", \"['Q7228265']\", \"['Q722795']\", \"['Q722659']\", \"['Q7209617']\", \"['Q7209480']\", \"['Q72053617']\", \"['Q7203108']\", \"['Q720106']\", \"['Q71965638']\", \"['Q719645']\", \"['Q716676']\", \"['Q7163']\", \"['Q7160100']\", \"['Q71376028']\", \"['Q7133626']\", \"['Q713146']\", \"['Q7130304']\", \"['Q712378']\", \"['Q7100108']\", \"['Q707482']\", \"['Q70641669']\", \"['Q7057066']\", \"['Q7014642']\", \"['Q699405']\", \"['Q697327']\", \"['Q6973044']\", \"['Q697279']\", \"['Q696677']\", \"['Q696031']\", \"['Q695984']\", \"['Q695738']\", \"['Q695599']\", \"['Q695207']\", \"['Q69502391']\", \"['Q6949213']\", \"['Q694225']\", \"['Q693661']\", \"['Q6936301']\", \"['Q69359318']\", \"['Q692149']\", \"['Q691503']\", \"['Q689880']\", \"['Q689703']\", \"['Q68889614']\", \"['Q6888']\", \"['Q687312']\", \"['Q686534']\", \"['Q6857854']\", \"['Q685307']\", \"['Q685204']\", \"['Q684740']\", \"['Q68461428']\", \"['Q684138']\", \"['Q683835']\", \"['Q68293898']\", \"['Q682626']\", \"['Q6813432']\", \"['Q681188']\", \"['Q680458']\", \"['Q6804197']\", \"['Q6791480']\", \"['Q67914415']\", \"['Q6764141']\", \"['Q674541']\", \"['Q6718887']\", \"['Q6714735']\", \"['Q67064711']\", \"['Q6703812']\", \"['Q6671777']\", \"['Q665952']\", \"['Q665565']\", \"['Q66490764']\", \"['Q66474017']\", \"['Q66458650']\", \"['Q66436502']\", \"['Q66362695']\", \"['Q66361052']\", \"['Q6619312']\", \"['Q66088122']\", \"['Q6607']\", \"['Q660267']\", \"['Q660064']\", \"['Q6599']\", \"['Q65971239']\", \"['Q65967030']\", \"['Q65966993']\", \"['Q65947879']\", \"['Q659161']\", \"['Q658476']\", \"['Q657909']\", \"['Q657881']\", \"['Q657100']\", \"['Q656720']\", \"['Q6566978']\", \"['Q656382']\", \"['Q6560515']\", \"['Q6554043']\", \"['Q6545185']\", \"['Q6541336']\", \"['Q653916']\", \"['Q653596']\", \"['Q6532502']\", \"['Q653208']\", \"['Q6518187']\", \"['Q6517928']\", \"['Q6503358']\", \"['Q648751']\", \"['Q6485018']\", \"['Q6484284']\", \"['Q64728694']\", \"['Q64705767']\", \"['Q6459968']\", \"['Q6453643']\", \"['Q6453233']\", \"['Q645310']\", \"['Q64418']\", \"['Q643918']\", \"['Q643589']\", \"['Q640078']\", \"['Q63987304']\", \"['Q63976454']\", \"['Q639681']\", \"['Q63959448']\", \"['Q63878756']\", \"['Q636051']\", \"['Q63533016']\", \"['Q63372996']\", \"['Q63345803']\", \"['Q63188683']\", \"['Q63187384']\", \"['Q6313528']\", \"['Q63091391']\", \"['Q63091325']\", \"['Q63091179']\", \"['Q63090757']\", \"['Q63074217']\", \"['Q62927']\", \"['Q62796544']\", \"['Q62694393']\", \"['Q6266']\", \"['Q626510']\", \"['Q623525']\", \"['Q620932']\", \"['Q620749']\", \"['Q620615']\", \"['Q61927259']\", \"['Q61889487']\", \"['Q61818979']\", \"['Q61744628']\", \"['Q61718902']\", \"['Q61676930']\", \"['Q61629906']\", \"['Q61627811']\", \"['Q616151']\", \"['Q61605094']\", \"['Q6158975']\", \"['Q6148126']\", \"['Q614084']\", \"['Q613969']\", \"['Q6128115']\", \"['Q6107280']\", \"['Q610409']\", \"['Q6089033']\", \"['Q60856733']\", \"['Q60849925']\", \"['Q607608']\", \"['Q60676589']\", \"['Q60310061']\", \"['Q6017407']\", \"['Q6017200']\", \"['Q60158614']\", \"['Q5985490']\", \"['Q59847891']\", \"['Q5975766']\", \"['Q59603291']\", \"['Q595871']\", \"['Q59544']\", \"['Q5954361']\", \"['Q5932254']\", \"['Q59211454']\", \"['Q5916']\", \"['Q591259']\", \"['Q59081206']\", \"['Q58952621']\", \"['Q589481']\", \"['Q5894489']\", \"['Q58854']\", \"['Q587682']\", \"['Q58687420']\", \"['Q586821']\", \"['Q586277']\", \"['Q58481926']\", \"['Q58481270']\", \"['Q58439237']\", \"['Q5839321']\", \"['Q58318936']\", \"['Q582872']\", \"['Q581776']\", \"['Q581105']\", \"['Q57910923']\", \"['Q579036']\", \"['Q5784097']\", \"['Q57817980']\", \"['Q578109']\", \"['Q5780448']\", \"['Q57660343']\", \"['Q57655236']\", \"['Q57644089']\", \"['Q5762400']\", \"['Q57607']\", \"['Q57583712']\", \"['Q574299']\", \"['Q57416832']\", \"['Q5739135']\", \"['Q57362']\", \"['Q573573']\", \"['Q573344']\", \"['Q57248625']\", \"['Q57245935']\", \"['Q570871']\", \"['Q570']\", \"['Q5691664']\", \"['Q56850939']\", \"['Q567357']\", \"['Q56670402']\", \"['Q56670043']\", \"['Q56648173']\", \"['Q5662019']\", \"['Q56582861']\", \"['Q56561355']\", \"['Q56507866']\", \"['Q56488093']\", \"['Q56396127']\", \"['Q5639312']\", \"['Q56321344']\", \"['Q56299222']\", \"['Q56249389']\", \"['Q562166']\", \"['Q56177191']\", \"['Q5617310']\", \"['Q56055312']\", \"['Q56031668']\", \"['Q56005592']\", \"['Q55978503']\", \"['Q55978235']\", \"['Q5594968']\", \"['Q55935585']\", \"['Q55901595']\", \"['Q558325']\", \"['Q5581144']\", \"['Q55789477']\", \"['Q5575240']\", \"['Q557206']\", \"['Q5570909']\", \"['Q55650689']\", \"['Q55648788']\", \"['Q55586013']\", \"['Q55468590']\", \"['Q5535501']\", \"['Q5533772']\", \"['Q5530594']\", \"['Q55281818']\", \"['Q55215846']\", \"['Q55190325']\", \"['Q5516520']\", \"['Q5510053']\", \"['Q5495352']\", \"['Q5487333']\", \"['Q54802199']\", \"['Q5477586']\", \"['Q5470256']\", \"['Q5460060']\", \"['Q545861']\", \"['Q5456361']\", \"['Q545385']\", \"['Q5450769']\", \"['Q54485824']\", \"['Q5448077']\", \"['Q54375449']\", \"['Q5429037']\", \"['Q5420979']\", \"['Q5418962']\", \"['Q54117920']\", \"['Q54086790']\", \"['Q54065277']\", \"['Q54065034']\", \"['Q54064941']\", \"['Q54064913']\", \"['Q54047178']\", \"['Q5399932']\", \"['Q5377740']\", \"['Q5372471']\", \"['Q53710030']\", \"['Q537000']\", \"['Q5366501']\", \"['Q5357209']\", \"['Q5350543']\", \"['Q5333912']\", \"['Q5320']\", \"['Q531230']\", \"['Q5305837']\", \"['Q5284370']\", \"['Q5275']\", \"['Q52506277']\", \"['Q5244910']\", \"['Q52383']\", \"['Q52147067']\", \"['Q521458']\", \"['Q52103661']\", \"['Q52085914']\", \"['Q5198626']\", \"['Q5198623']\", \"['Q519105']\", \"['Q51780874']\", \"['Q5176452']\", \"['Q517351']\", \"['Q51647']\", \"['Q5163951']\", \"['Q5162993']\", \"['Q5162954']\", \"['Q5154933']\", \"['Q5152362']\", \"['Q5151404']\", \"['Q5151']\", \"['Q514999']\", \"['Q5148433']\", \"['Q5124708']\", \"['Q5124370']\", \"['Q5119003']\", \"['Q5119']\", \"['Q509827']\", \"['Q50847295']\", \"['Q50825543']\", \"['Q50808536']\", \"['Q507437']\", \"['Q506447']\", \"['Q506214']\", \"['Q50614237']\", \"['Q505810']\", \"['Q505804']\", \"['Q5053105']\", \"['Q504514']\", \"['Q5044604']\", \"['Q5030865']\", \"['Q5016401']\", \"['Q5015649']\", \"['Q5015587']\", \"['Q5015537']\", \"['Q5015487']\", \"['Q50091480']\", \"['Q5001853']\", \"['Q5001131']\", \"['Q4990623']\", \"['Q49850']\", \"['Q49836']\", \"['Q49833']\", \"['Q496946']\", \"['Q4959490']\", \"['Q49447']\", \"['Q4943060']\", \"['Q4940252']\", \"['Q49385']\", \"['Q4931513']\", \"['Q4931403']\", \"['Q4924608']\", \"['Q4922261']\", \"['Q491500']\", \"['Q48963']\", \"['Q4890673']\", \"['Q488444']\", \"['Q4876006']\", \"['Q486983']\", \"['Q4868359']\", \"['Q48634']\", \"['Q4861649']\", \"['Q4851250']\", \"['Q484847']\", \"['Q4847899']\", \"['Q484000']\", \"['Q48356']\", \"['Q483130']\", \"['Q4828661']\", \"['Q4825885']\", \"['Q482313']\", \"['Q4817']\", \"['Q481394']\", \"['Q48098186']\", \"['Q48085397']\", \"['Q4793045']\", \"['Q478986']\", \"['Q47883']\", \"['Q47728']\", \"['Q477195']\", \"['Q47692']\", \"['Q47530274']\", \"['Q47520603']\", \"['Q47516525']\", \"['Q47512221']\", \"['Q47486326']\", \"['Q474733']\", \"['Q47465156']\", \"['Q47464465']\", \"['Q47455701']\", \"['Q47454980']\", \"['Q47454933']\", \"['Q47315533']\", \"['Q47311934']\", \"['Q473094']\", \"['Q47272186']\", \"['Q472577']\", \"['Q471790']\", \"['Q47128']\", \"['Q471223']\", \"['Q47068459']\", \"['Q47064']\", \"['Q46982']\", \"['Q468939']\", \"['Q4686372']\", \"['Q4683575']\", \"['Q4681865']\", \"['Q467791']\", \"['Q467707']\", \"['Q46765731']\", \"['Q467011']\", \"['Q466449']\", \"['Q46587']\", \"['Q46122855']\", \"['Q46112269']\", \"['Q459297']\", \"['Q4575034']\", \"['Q45621']\", \"['Q455695']\", \"['Q452810']\", \"['Q4511568']\", \"['Q4500821']\", \"['Q4492344']\", \"['Q448998']\", \"['Q448936']\", \"['Q447877']\", \"['Q44753']\", \"['Q446828']\", \"['Q44665457']\", \"['Q44491547']\", \"['Q444456']\", \"['Q44405595']\", \"['Q4433777']\", \"['Q44234152']\", \"['Q4418639']\", \"['Q4418079']\", \"['Q4412527']\", \"['Q4392985']\", \"['Q4388320']\", \"['Q438419']\", \"['Q4382945']\", \"['Q4379644']\", \"['Q4379239']\", \"['Q43792361']\", \"['Q43791141']\", \"['Q4375520']\", \"['Q43675388']\", \"['Q43639983']\", \"['Q4363262']\", \"['Q4353479']\", \"['Q4330194']\", \"['Q43291685']\", \"['Q43183']\", \"['Q43059']\", \"['Q430551']\", \"['Q430295']\", \"['Q42961155']\", \"['Q4294273']\", \"['Q42889']\", \"['Q427087']\", \"['Q42612577']\", \"['Q42594143']\", \"['Q42577368']\", \"['Q42525933']\", \"['Q42428590']\", \"['Q42412840']\", \"['Q42372']\", \"['Q422248']\", \"['Q4212085']\", \"['Q4204495']\", \"['Q41971160']\", \"['Q41970180']\", \"['Q4191403']\", \"['Q41884']\", \"['Q4184']\", \"['Q417175']\", \"['Q41713761']\", \"['Q41694961']\", \"['Q41689629']\", \"['Q41597628']\", \"['Q4158203']\", \"['Q41499']\", \"['Q4147738']\", \"['Q41397']\", \"['Q41254']\", \"['Q4120621']\", \"['Q4120420']\", \"['Q4119870']\", \"['Q40728071']\", \"['Q4071928']\", \"['Q406699']\", \"['Q40614']\", \"['Q40588755']\", \"['Q40357935']\", \"['Q4035729']\", \"['Q40097962']\", \"['Q4002659']\", \"['Q40010370']\", \"['Q39809']\", \"['Q39690758']\", \"['Q3966']\", \"['Q3956369']\", \"['Q3953107']\", \"['Q39463']\", \"['Q3944822']\", \"['Q3936952']\", \"['Q3932296']\", \"['Q392376']\", \"['Q3918374']\", \"['Q3895619']\", \"['Q38911']\", \"['Q3885688']\", \"['Q3867179']\", \"['Q385994']\", \"['Q385457']\", \"['Q385422']\", \"['Q3851512']\", \"['Q3848936']\", \"['Q3847997']\", \"['Q3844643']\", \"['Q3815129']\", \"['Q3812928']\", \"['Q38112']\", \"['Q38000513']\", \"['Q38000321']\", \"['Q38000083']\", \"['Q37997011']\", \"['Q37994313']\", \"['Q37993903']\", \"['Q37987530']\", \"['Q379738']\", \"['Q379544']\", \"['Q37952119']\", \"['Q37947493']\", \"['Q37940980']\", \"['Q37908868']\", \"['Q378445']\", \"['Q3771738']\", \"['Q3760158']\", \"['Q3757197']\", \"['Q373822']\", \"['Q373609']\", \"['Q3732788']\", \"['Q372363']\", \"['Q371804']\", \"['Q37038']\", \"['Q3687318']\", \"['Q36835995']\", \"['Q368281']\", \"['Q367293']\", \"['Q3644666']\", \"['Q36378425']\", \"['Q3625329']\", \"['Q36218176']\", \"['Q3621673']\", \"['Q362165']\", \"['Q3591583']\", \"['Q3590573']\", \"['Q3588250']\", \"['Q3587541']\", \"['Q3587386']\", \"['Q35784031']\", \"['Q3578166']\", \"['Q3573216']\", \"['Q356055']\", \"['Q3559003']\", \"['Q355699']\", \"['Q35516']\", \"['Q3550873']\", \"['Q3547518']\", \"['Q3546121']\", \"['Q353659']\", \"['Q3533693']\", \"['Q3533467']\", \"['Q35273']\", \"['Q3520135']\", \"['Q3516847']\", \"['Q3516658']\", \"['Q350929']\", \"['Q34984790']\", \"['Q3498109']\", \"['Q349772']\", \"['Q3491994']\", \"['Q3490443']\", \"['Q3488547']\", \"['Q3482695']\", \"['Q3478786']\", \"['Q3455586']\", \"['Q3454786']\", \"['Q34545040']\", \"['Q3446003']\", \"['Q34394']\", \"['Q3423162']\", \"['Q34213200']\", \"['Q3406098']\", \"['Q3395377']\", \"['Q3394564']\", \"['Q339452']\", \"['Q339152']\", \"['Q338']\", \"['Q337912']\", \"['Q337060']\", \"['Q33694']\", \"['Q3368243']\", \"['Q3364923']\", \"['Q3363945']\", \"['Q336164']\", \"['Q3345345']\", \"['Q334383']\", \"['Q3333855']\", \"['Q3332417']\", \"['Q3329663']\", \"['Q3327521']\", \"['Q3323691']\", \"['Q3318733']\", \"['Q3318059']\", \"['Q3317612']\", \"['Q331644']\", \"['Q3312129']\", \"['Q33104303']\", \"['Q33082993']\", \"['Q33027691']\", \"['Q330039']\", \"['Q3284399']\", \"['Q3276983']\", \"['Q327611']\", \"['Q3275872']\", \"['Q327541']\", \"['Q327280']\", \"['Q3270419']\", \"['Q3263368']\", \"['Q3258494']\", \"['Q325668']\", \"['Q3251043']\", \"['Q3250652']\", \"['Q3250615']\", \"['Q3244175']\", \"['Q3242920']\", \"['Q324254']\", \"['Q3242063']\", \"['Q3238833']\", \"['Q3238324']\", \"['Q3233738']\", \"['Q3222002']\", \"['Q3216918']\", \"['Q32164125']\", \"['Q3215913']\", \"['Q32059']\", \"['Q320501']\", \"['Q320289']\", \"['Q3199141']\", \"['Q31983622']\", \"['Q318296']\", \"['Q31808206']\", \"['Q3138724']\", \"['Q31338769']\", \"['Q312457']\", \"['Q3118017']\", \"['Q3113848']\", \"['Q31049169']\", \"['Q31029044']\", \"['Q3098879']\", \"['Q30941437']\", \"['Q309170']\", \"['Q308229']\", \"['Q30754717']\", \"['Q30674761']\", \"['Q3058576']\", \"['Q3055347']\", \"['Q30544343']\", \"['Q3054261']\", \"['Q30515']\", \"['Q3044799']\", \"['Q303811']\", \"['Q303618']\", \"['Q303039']\", \"['Q30301632']\", \"['Q3027462']\", \"['Q3024789']\", \"['Q3024331']\", \"['Q30143872']\", \"['Q30106829']\", \"['Q3010369']\", \"['Q30103121']\", \"['Q30103']\", \"['Q3007530']\", \"['Q30059']\", \"['Q30046560']\", \"['Q3003415']\", \"['Q3002772']\", \"['Q3001292']\", \"['Q29982285']\", \"['Q2992500']\", \"['Q2992463']\", \"['Q2991491']\", \"['Q2989682']\", \"['Q298742']\", \"['Q2986739']\", \"['Q2986700']\", \"['Q298553']\", \"['Q2985090']\", \"['Q2983016']\", \"['Q2967706']\", \"['Q2954924']\", \"['Q2954804']\", \"['Q2954437']\", \"['Q2949180']\", \"['Q2948561']\", \"['Q2948379']\", \"['Q2945522']\", \"['Q2945301']\", \"['Q29430681']\", \"['Q2938159']\", \"['Q29380']\", \"['Q2935978']\", \"['Q2932238']\", \"['Q29300714']\", \"['Q2920963']\", \"['Q29206932']\", \"['Q2919327']\", \"['Q2912707']\", \"['Q29102902']\", \"['Q29098093']\", \"['Q2908791']\", \"['Q29044175']\", \"['Q29032784']\", \"['Q29006203']\", \"['Q2897058']\", \"['Q28933155']\", \"['Q28913834']\", \"['Q28855038']\", \"['Q28823']\", \"['Q2874694']\", \"['Q28737012']\", \"['Q286576']\", \"['Q28653']\", \"['Q2864107']\", \"['Q2856464']\", \"['Q28525375']\", \"['Q28521933']\", \"['Q28455561']\", \"['Q283977']\", \"['Q28371991']\", \"['Q28333430']\", \"['Q2822246']\", \"['Q28222187']\", \"['Q28222136']\", \"['Q28222111']\", \"['Q28222066']\", \"['Q28222036']\", \"['Q28222001']\", \"['Q28221987']\", \"['Q28221976']\", \"['Q28221947']\", \"['Q28221916']\", \"['Q28221910']\", \"['Q28167864']\", \"['Q28152398']\", \"['Q28129994']\", \"['Q28122896']\", \"['Q28113351']\", \"['Q28109781']\", \"['Q28109487']\", \"['Q28106586']\", \"['Q28100907']\", \"['Q28061934']\", \"['Q28058114']\", \"['Q28055269']\", \"['Q27996460']\", \"['Q27973511']\", \"['Q27954955']\", \"['Q27925057']\", \"['Q278485']\", \"['Q2783852']\", \"['Q2776067']\", \"['Q277511']\", \"['Q27670147']\", \"['Q27600974']\", \"['Q27560760']\", \"['Q27555265']\", \"['Q27554677']\", \"['Q27517483']\", \"['Q2743357']\", \"['Q2738925']\", \"['Q273789']\", \"['Q2736610']\", \"['Q273341']\", \"['Q273320']\", \"['Q2731185']\", \"['Q27308875']\", \"['Q272937']\", \"['Q272574']\", \"['Q27254666']\", \"['Q27250']\", \"['Q271977']\", \"['Q2714624']\", \"['Q27120684']\", \"['Q27095213']\", \"['Q2705493']\", \"['Q2704271']\", \"['Q2703920']\", \"['Q26958726']\", \"['Q26944999']\", \"['Q26904132']\", \"['Q26836222']\", \"['Q267276']\", \"['Q26720885']\", \"['Q2666883']\", \"['Q266328']\", \"['Q2655298']\", \"['Q2654450']\", \"['Q2630831']\", \"['Q26279855']\", \"['Q26262548']\", \"['Q26241072']\", \"['Q2623243']\", \"['Q2621126']\", \"['Q2620513']\", \"['Q2617766']\", \"['Q261755']\", \"['Q26156310']\", \"['Q261335']\", \"['Q2613100']\", \"['Q2593744']\", \"['Q25930757']\", \"['Q25930740']\", \"['Q25930719']\", \"['Q2591905']\", \"['Q259037']\", \"['Q2578402']\", \"['Q2571972']\", \"['Q25631864']\", \"['Q2560570']\", \"['Q2556222']\", \"['Q255595']\", \"['Q25532438']\", \"['Q25512007']\", \"['Q2550720']\", \"['Q2549179']\", \"['Q25477438']\", \"['Q25467527']\", \"['Q254554']\", \"['Q254450']\", \"['Q25438362']\", \"['Q2540029']\", \"['Q25397890']\", \"['Q2538889']\", \"['Q25383554']\", \"['Q25367968']\", \"['Q25363097']\", \"['Q25343648']\", \"['Q2532223']\", \"['Q25302965']\", \"['Q25289192']\", \"['Q2522738']\", \"['Q2520735']\", \"['Q2516426']\", \"['Q25099037']\", \"['Q2507750']\", \"['Q25066782']\", \"['Q2506352']\", \"['Q25043590']\", \"['Q2503273']\", \"['Q2502622']\", \"['Q250050']\", \"['Q24943410']\", \"['Q2479200']\", \"['Q24723']\", \"['Q24718627']\", \"['Q24718538']\", \"['Q24715377']\", \"['Q24713744']\", \"['Q24713657']\", \"['Q24713572']\", \"['Q24713353']\", \"['Q24649']\", \"['Q245829']\", \"['Q24577212']\", \"['Q24571886']\", \"['Q24570142']\", \"['Q2447975']\", \"['Q2446662']\", \"['Q2445047']\", \"['Q244326']\", \"['Q2441645']\", \"['Q2441427']\", \"['Q24384']\", \"['Q2434238']\", \"['Q242663']\", \"['Q24205147']\", \"['Q24182685']\", \"['Q24178659']\", \"['Q24178042']\", \"['Q24091098']\", \"['Q24060707']\", \"['Q24045394']\", \"['Q24031608']\", \"['Q240313']\", \"['Q23925379']\", \"['Q23904672']\", \"['Q23901273']\", \"['Q23900202']\", \"['Q2388904']\", \"['Q2388270']\", \"['Q2387050']\", \"['Q2386606']\", \"['Q238602']\", \"['Q23841351']\", \"['Q23810017']\", \"['Q23808']\", \"['Q23759293']\", \"['Q23745']\", \"['Q2367733']\", \"['Q2367344']\", \"['Q2360219']\", \"['Q2357674']\", \"['Q2356542']\", \"['Q234869']\", \"['Q2345080']\", \"['Q23442338']\", \"['Q2336402']\", \"['Q2333258']\", \"['Q2329']\", \"['Q230752']\", \"['Q23058959']\", \"['Q2304397']\", \"['Q2303329']\", \"['Q23017336']\", \"['Q2301325']\", \"['Q2301224']\", \"['Q23011975']\", \"['Q23005954']\", \"['Q2300494']\", \"['Q229973']\", \"['Q2298537']\", \"['Q22981316']\", \"['Q2297714']\", \"['Q22970505']\", \"['Q2296548']\", \"['Q22965162']\", \"['Q22965078']\", \"['Q22964476']\", \"['Q22958233']\", \"['Q22948347']\", \"['Q229390']\", \"['Q2293362']\", \"['Q22911714']\", \"['Q2290276']\", \"['Q2288051']\", \"['Q2282872']\", \"['Q2279488']\", \"['Q227857']\", \"['Q2272475']\", \"['Q22713629']\", \"['Q22706']\", \"['Q22703240']\", \"['Q22696414']\", \"['Q22679796']\", \"['Q22678605']\", \"['Q2267705']\", \"['Q22669606']\", \"['Q22669585']\", \"['Q22669547']\", \"['Q22669525']\", \"['Q22669427']\", \"['Q22669381']\", \"['Q22666610']\", \"['Q22664']\", \"['Q22580836']\", \"['Q2250229']\", \"['Q22442774']\", \"['Q22442634']\", \"['Q2240172']\", \"['Q22343980']\", \"['Q22341315']\", \"['Q22332141']\", \"['Q22330922']\", \"['Q222912']\", \"['Q22276331']\", \"['Q22276008']\", \"['Q22275938']\", \"['Q22275878']\", \"['Q22269333']\", \"['Q22266214']\", \"['Q2225003']\", \"['Q222405']\", \"['Q222249']\", \"['Q2217259']\", \"['Q2216217']\", \"['Q221259']\", \"['Q2208411']\", \"['Q2207370']\", \"['Q2202754']\", \"['Q2200288']\", \"['Q22001390']\", \"['Q22001361']\", \"['Q21993397']\", \"['Q2197893']\", \"['Q219087']\", \"['Q21851888']\", \"['Q2180497']\", \"['Q2178278']\", \"['Q21751045']\", \"['Q217123']\", \"['Q21711025']\", \"['Q2169973']\", \"['Q21683788']\", \"['Q216759']\", \"['Q216323']\", \"['Q216212']\", \"['Q21608359']\", \"['Q2158576']\", \"['Q21584825']\", \"['Q21577192']\", \"['Q21551063']\", \"['Q21550515']\", \"['Q2151613']\", \"['Q2146862']\", \"['Q21457810']\", \"['Q21451536']\", \"['Q21451178']\", \"['Q2142464']\", \"['Q214090']\", \"['Q2140646']\", \"['Q2140450']\", \"['Q2139493']\", \"['Q2138622']\", \"['Q2137251']\", \"['Q2134726']\", \"['Q21281028']\", \"['Q2125867']\", \"['Q2125374']\", \"['Q21191150']\", \"['Q21177394']\", \"['Q2117459']\", \"['Q21162604']\", \"['Q2115530']\", \"['Q211351']\", \"['Q2110788']\", \"['Q21101734']\", \"['Q210707']\", \"['Q21061279']\", \"['Q210588']\", \"['Q2105663']\", \"['Q210499']\", \"['Q21036993']\", \"['Q210337']\", \"['Q21032902']\", \"['Q210112']\", \"['Q21010817']\", \"['Q20994454']\", \"['Q20980449']\", \"['Q2097233']\", \"['Q20967942']\", \"['Q20962530']\", \"['Q209556']\", \"['Q209440']\", \"['Q20926517']\", \"['Q20888711']\", \"['Q2088660']\", \"['Q208791']\", \"['Q2087865']\", \"['Q208674']\", \"['Q20830278']\", \"['Q20829075']\", \"['Q208281']\", \"['Q2082774']\", \"['Q20825972']\", \"['Q20821044']\", \"['Q20816013']\", \"['Q208128']\", \"['Q2080650']\", \"['Q20743921']\", \"['Q2074370']\", \"['Q20739115']\", \"['Q20737420']\", \"['Q20730707']\", \"['Q207299']\", \"['Q20724701']\", \"['Q2072285']\", \"['Q20717263']\", \"['Q2070019']\", \"['Q2069781']\", \"['Q20683493']\", \"['Q20683371']\", \"['Q20671152']\", \"['Q2066197']\", \"['Q20656220']\", \"['Q20638319']\", \"['Q205665']\", \"['Q205647']\", \"['Q205555']\", \"['Q20540385']\", \"['Q205020']\", \"['Q2048934']\", \"['Q20488347']\", \"['Q2040905']\", \"['Q203863']\", \"['Q203784']\", \"['Q203712']\", \"['Q203609']\", \"['Q2035651']\", \"['Q2035494']\", \"['Q2030469']\", \"['Q202833']\", \"['Q20155966']\", \"['Q20151226']\", \"['Q20110574']\", \"['Q2008904']\", \"['Q20088085']\", \"['Q2006324']\", \"['Q20060955']\", \"['Q200539']\", \"['Q20035766']\", \"['Q20031543']\", \"['Q20027951']\", \"['Q2001879']\", \"['Q20011823']\", \"['Q19945036']\", \"['Q19941854']\", \"['Q19914123']\", \"['Q1990987']\", \"['Q1990968']\", \"['Q19900542']\", \"['Q198982']\", \"['Q19885984']\", \"['Q19862317']\", \"['Q19860625']\", \"['Q19850578']\", \"['Q19847385']\", \"['Q19838115']\", \"['Q19833170']\", \"['Q19829914']\", \"['Q1981156']\", \"['Q1978556']\", \"['Q1976393']\", \"['Q19757']\", \"['Q19753730']\", \"['Q19753333']\", \"['Q1971694']\", \"['Q1970243']\", \"['Q19698023']\", \"['Q19681253']\", \"['Q19659292']\", \"['Q196294']\", \"['Q19595415']\", \"['Q1959314']\", \"['Q19588327']\", \"['Q1956484']\", \"['Q1954948']\", \"['Q1951366']\", \"['Q1949268']\", \"['Q19478619']\", \"['Q19476593']\", \"['Q194502']\", \"['Q1944068']\", \"['Q194172']\", \"['Q194029']\", \"['Q19386377']\", \"['Q1937431']\", \"['Q19347489']\", \"['Q1934189']\", \"['Q1932812']\", \"['Q1930418']\", \"['Q192581']\", \"['Q192532']\", \"['Q1925224']\", \"['Q1923776']\", \"['Q1923257']\", \"['Q192234']\", \"['Q1922243']\", \"['Q190686']\", \"['Q190403']\", \"['Q190397']\", \"['Q1902763']\", \"['Q1900326']\", \"['Q189771']\", \"['Q1897589']\", \"['Q18972207']\", \"['Q189720']\", \"['Q1897017']\", \"['Q18956797']\", \"['Q189233']\", \"['Q18916020']\", \"['Q18888037']\", \"['Q1887569']\", \"['Q188619']\", \"['Q1881775']\", \"['Q18814068']\", \"['Q1881195']\", \"['Q18811462']\", \"['Q18810687']\", \"['Q1880737']\", \"['Q188063']\", \"['Q187997']\", \"['Q187947']\", \"['Q1875618']\", \"['Q18752016']\", \"['Q18729324']\", \"['Q18713168']\", \"['Q186637']\", \"['Q186427']\", \"['Q18638297']\", \"['Q186361']\", \"['Q18631232']\", \"['Q18616317']\", \"['Q18609875']\", \"['Q18596079']\", \"['Q18592633']\", \"['Q18592472']\", \"['Q18591647']\", \"['Q185785']\", \"['Q18563354']\", \"['Q18544860']\", \"['Q18534571']\", \"['Q1852178']\", \"['Q1852166']\", \"['Q1851937']\", \"['Q18515478']\", \"['Q18511800']\", \"['Q1849110']\", \"['Q184872']\", \"['Q1848211']\", \"['Q184754']\", \"['Q184554']\", \"['Q18449828']\", \"['Q184452']\", \"['Q18408740']\", \"['Q18405001']\", \"['Q18387135']\", \"['Q1836494']\", \"['Q18359031']\", \"['Q18358548']\", \"['Q18347143']\", \"['Q183302']\", \"['Q18328084']\", \"['Q183257']\", \"['Q1827']\", \"['Q182084']\", \"['Q182060']\", \"['Q181648']\", \"['Q18133227']\", \"['Q1812109']\", \"['Q181175']\", \"['Q181156']\", \"['Q1810858']\", \"['Q180997']\", \"['Q18054608']\", \"['Q180537']\", \"['Q1803690']\", \"['Q18028617']\", \"['Q1802712']\", \"['Q1802186']\", \"['Q18011141']\", \"['Q18009650']\", \"['Q17991521']\", \"['Q17987422']\", \"['Q179792']\", \"['Q179723']\", \"['Q1797194']\", \"['Q1797122']\", \"['Q17955']\", \"['Q179405']\", \"['Q179348']\", \"['Q1792374']\", \"['Q1791709']\", \"['Q179076']\", \"['Q178550']\", \"['Q1783234']\", \"['Q178059']\", \"['Q1778118']\", \"['Q1777951']\", \"['Q1777138']\", \"['Q1776037']\", \"['Q1774662']\", \"['Q17736']\", \"['Q177305']\", \"['Q17634997']\", \"['Q176165']\", \"['Q1760704']\", \"['Q17558136']\", \"['Q17542873']\", \"['Q1752797']\", \"['Q1752434']\", \"['Q1751757']\", \"['Q1750854']\", \"['Q1750458']\", \"['Q1749541']\", \"['Q174945']\", \"['Q17488292']\", \"['Q17484780']\", \"['Q17480853']\", \"['Q174713']\", \"['Q17421658']\", \"['Q17379835']\", \"['Q17375963']\", \"['Q17364572']\", \"['Q1734578']\", \"['Q17319258']\", \"['Q17312283']\", \"['Q1728198']\", \"['Q17260369']\", \"['Q172587']\", \"['Q1725370']\", \"['Q17232649']\", \"['Q1723154']\", \"['Q1722815']\", \"['Q17189483']\", \"['Q17155515']\", \"['Q17146139']\", \"['Q171441']\", \"['Q171308']\", \"['Q1712663']\", \"['Q1711403']\", \"['Q17105874']\", \"['Q171']\", \"['Q170877']\", \"['Q17062980']\", \"['Q17050251']\", \"['Q17019545']\", \"['Q17015796']\", \"['Q17014622']\", \"['Q17012118']\", \"['Q170090']\", \"['Q17000324']\", \"['Q16997861']\", \"['Q16986400']\", \"['Q1697305']\", \"['Q169489']\", \"['Q16917889']\", \"['Q1690563']\", \"['Q168827']\", \"['Q168210']\", \"['Q16817']\", \"['Q1679821']\", \"['Q1678467']\", \"['Q1678285']\", \"['Q1674283']\", \"['Q16716832']\", \"['Q1671288']\", \"['Q167035']\", \"['Q16699887']\", \"['Q1669071']\", \"['Q1668049']\", \"['Q16675435']\", \"['Q1666255']\", \"['Q16632615']\", \"['Q16632355']\", \"['Q1662089']\", \"['Q1661706']\", \"['Q166140']\", \"['Q16567729']\", \"['Q1656379']\", \"['Q16540464']\", \"['Q165363']\", \"['Q16519632']\", \"['Q16514343']\", \"['Q164848']\", \"['Q16463']\", \"['Q164307']\", \"['Q1639378']\", \"['Q1637740']\", \"['Q16361747']\", \"['Q1631470']\", \"['Q162827']\", \"['Q1626942']\", \"['Q1626805']\", \"['Q1625987']\", \"['Q1624034']\", \"['Q16220775']\", \"['Q1621967']\", \"['Q16214696']\", \"['Q161973']\", \"['Q16191831']\", \"['Q1618899']\", \"['Q16146522']\", \"['Q1612699']\", \"['Q161161']\", \"['Q160342']\", \"['Q15986354']\", \"['Q15985282']\", \"['Q15983930']\", \"['Q15979307']\", \"['Q15975450']\", \"['Q159535']\", \"['Q15911581']\", \"['Q15904441']\", \"['Q15893266']\", \"['Q1589077']\", \"['Q1585022']\", \"['Q15847440']\", \"['Q15839299']\", \"['Q1581509']\", \"['Q1581130']\", \"['Q1579590']\", \"['Q15783838']\", \"['Q1574516']\", \"['Q15738686']\", \"['Q15727673']\", \"['Q1572600']\", \"['Q1572121']\", \"['Q15720873']\", \"['Q15720641']\", \"['Q1571814']\", \"['Q1571674']\", \"['Q1571667']\", \"['Q15715406']\", \"['Q15709969']\", \"['Q15708736']\", \"['Q1569856']\", \"['Q15688633']\", \"['Q156428']\", \"['Q15642599']\", \"['Q15631887']\", \"['Q15631336']\", \"['Q15630906']\", \"['Q15629587']\", \"['Q1557948']\", \"['Q1554407']\", \"['Q155234']\", \"['Q1551983']\", \"['Q1549731']\", \"['Q1546073']\", \"['Q1542838']\", \"['Q154250']\", \"['Q1542394']\", \"['Q1542187']\", \"['Q15407956']\", \"['Q15407649']\", \"['Q154015']\", \"['Q153918']\", \"['Q1537371']\", \"['Q1536607']\", \"['Q1534992']\", \"['Q1534713']\", \"['Q15343039']\", \"['Q15328']\", \"['Q15326']\", \"['Q153068']\", \"['Q15304917']\", \"['Q1530361']\", \"['Q1529']\", \"['Q15275192']\", \"['Q15259995']\", \"['Q15253857']\", \"['Q15253354']\", \"['Q1522620']\", \"['Q15206070']\", \"['Q1519566']\", \"['Q15156455']\", \"['Q15105893']\", \"['Q1509934']\", \"['Q1509758']\", \"['Q15078695']\", \"['Q15069452']\", \"['Q15068311']\", \"['Q1505882']\", \"['Q1502887']\", \"['Q1501619']\", \"['Q1501212']\", \"['Q15008061']\", \"['Q1498464']\", \"['Q1498024']\", \"['Q14942782']\", \"['Q14942770']\", \"['Q149377']\", \"['Q14915208']\", \"['Q1486662']\", \"['Q14851978']\", \"['Q1483341']\", \"['Q1480166']\", \"['Q1478783']\", \"['Q1475455']\", \"['Q1474418']\", \"['Q14740334']\", \"['Q1472600']\", \"['Q1472288']\", \"['Q1470460']\", \"['Q14694931']\", \"['Q14694923']\", \"['Q1468865']\", \"['Q1468088']\", \"['Q1465684']\", \"['Q1465101']\", \"['Q146505']\", \"['Q14639']\", \"['Q14624995']\", \"['Q1457501']\", \"['Q1456832']\", \"['Q1451652']\", \"['Q1439559']\", \"['Q1438040']\", \"['Q1433032']\", \"['Q1431958']\", \"['Q1428239']\", \"['Q1418979']\", \"['Q1417728']\", \"['Q1417470']\", \"['Q1414611']\", \"['Q1414135']\", \"['Q1412219']\", \"['Q1410110']\", \"['Q14083157']\", \"['Q1407225']\", \"['Q1406331']\", \"['Q14037025']\", \"['Q1401195']\", \"['Q1401142']\", \"['Q1399868']\", \"['Q1399692']\", \"['Q1398821']\", \"['Q1395324']\", \"['Q1394476']\", \"['Q1394441']\", \"['Q1391583']\", \"['Q1391417']\", \"['Q1391154']\", \"['Q1391153']\", \"['Q1390124']\", \"['Q138619']\", \"['Q1382893']\", \"['Q13821074']\", \"['Q1378470']\", \"['Q1370617']\", \"['Q1370598']\", \"['Q1370420']\", \"['Q1370324']\", \"['Q136932']\", \"['Q1368262']\", \"['Q136689']\", \"['Q1366274']\", \"['Q1365924']\", \"['Q1364157']\", \"['Q13641190']\", \"['Q13641126']\", \"['Q1363241']\", \"['Q1362483']\", \"['Q1362373']\", \"['Q1361559']\", \"['Q1361229']\", \"['Q1360597']\", \"['Q13603535']\", \"['Q13600188']\", \"['Q1358324']\", \"['Q13582682']\", \"['Q13537604']\", \"['Q13533330']\", \"['Q1353169']\", \"['Q1352230']\", \"['Q1350230']\", \"['Q135010']\", \"['Q1348351']\", \"['Q134390']\", \"['Q134219']\", \"['Q13414761']\", \"['Q13406837']\", \"['Q1339359']\", \"['Q1338983']\", \"['Q1334738']\", \"['Q132911']\", \"['Q1326624']\", \"['Q132539']\", \"['Q132325']\", \"['Q1322005']\", \"['Q13217186']\", \"['Q1321050']\", \"['Q1320847']\", \"['Q1320830']\", \"['Q1317754']\", \"['Q1317590']\", \"['Q13164546']\", \"['Q131510']\", \"['Q1313442']\", \"['Q13132631']\", \"['Q131183']\", \"['Q1311670']\", \"['Q1310239']\", \"['Q1309027']\", \"['Q130788']\", \"['Q1307777']\", \"['Q1307560']\", \"['Q1307466']\", \"['Q1307218']\", \"['Q1303814']\", \"['Q13023500']\", \"['Q1301203']\", \"['Q1298801']\", \"['Q12927362']\", \"['Q1292119']\", \"['Q1292111']\", \"['Q1291694']\", \"['Q12894677']\", \"['Q1286790']\", \"['Q1283129']\", \"['Q1281153']\", \"['Q1281105']\", \"['Q1280061']\", \"['Q1278791']\", \"['Q1278383']\", \"['Q12765855']\", \"['Q1276346']\", \"['Q12759805']\", \"['Q1262732']\", \"['Q12607437']\", \"['Q125992']\", \"['Q12593969']\", \"['Q12584798']\", \"['Q12573007']\", \"['Q12558574']\", \"['Q1254596']\", \"['Q1254335']\", \"['Q12539352']\", \"['Q1250640']\", \"['Q1250390']\", \"['Q1248874']\", \"['Q12408871']\", \"['Q12407601']\", \"['Q12403873']\", \"['Q12341378']\", \"['Q12334344']\", \"['Q12327290']\", \"['Q12306381']\", \"['Q1229659']\", \"['Q12277']\", \"['Q1227249']\", \"['Q1226318']\", \"['Q1226252']\", \"['Q12254339']\", \"['Q1225300']\", \"['Q1221156']\", \"['Q1220959']\", \"['Q12202238']\", \"['Q12117']\", \"['Q12112184']\", \"['Q1208366']\", \"['Q120804']\", \"['Q1207909']\", \"['Q1203773']\", \"['Q12002092']\", \"['Q11992175']\", \"['Q1197588']\", \"['Q1196722']\", \"['Q11959973']\", \"['Q11954567']\", \"['Q1194240']\", \"['Q1193650']\", \"['Q11931634']\", \"['Q11919687']\", \"['Q1191610']\", \"['Q1191380']\", \"['Q1191150']\", \"['Q1190993']\", \"['Q11903158']\", \"['Q11900212']\", \"['Q1189816']\", \"['Q1188866']\", \"['Q1188693']\", \"['Q1188673']\", \"['Q1188480']\", \"['Q11880367']\", \"['Q1187667']\", \"['Q11875349']\", \"['Q1185865']\", \"['Q1181413']\", \"['Q1180970']\", \"['Q1180262']\", \"['Q11801536']\", \"['Q11781252']\", \"['Q11771944']\", \"['Q117704']\", \"['Q11734477']\", \"['Q117247']\", \"['Q1172284']\", \"['Q11696608']\", \"['Q11672698']\", \"['Q11670533']\", \"['Q11665557']\", \"['Q116634']\", \"['Q11660700']\", \"['Q11625243']\", \"['Q11611056']\", \"['Q1157068']\", \"['Q1156402']\", \"['Q1156329']\", \"['Q11562971']\", \"['Q115620712']\", \"['Q11559043']\", \"['Q11556633']\", \"['Q1154859']\", \"['Q1152708']\", \"['Q11524038']\", \"['Q1152399']\", \"['Q1151284']\", \"['Q115110263']\", \"['Q1151014']\", \"['Q1151009']\", \"['Q1151000']\", \"['Q115089']\", \"['Q1150070']\", \"['Q11499981']\", \"['Q11499334']\", \"['Q1149621']\", \"['Q114952']\", \"['Q1149324']\", \"['Q11481825']\", \"['Q11481818']\", \"['Q1147171']\", \"['Q1146429']\", \"['Q11461']\", \"['Q1146001']\", \"['Q11446438']\", \"['Q1144504']\", \"['Q11442']\", \"['Q1143706']\", \"['Q114354462']\", \"['Q1143070']\", \"['Q11427']\", \"['Q11424753']\", \"['Q11424100']\", \"['Q11420275']\", \"['Q11412380']\", \"['Q1140575']\", \"['Q1140224']\", \"['Q1140115']\", \"['Q1139917']\", \"['Q113952023']\", \"['Q1138815']\", \"['Q113805953']\", \"['Q1137441']\", \"['Q113671358']\", \"['Q1136342']\", \"['Q11358']\", \"['Q113496174']\", \"['Q11345724']\", \"['Q1133961']\", \"['Q11331347']\", \"['Q11313284']\", \"['Q113126851']\", \"['Q1130994']\", \"['Q1130491']\", \"['Q1130239']\", \"['Q11298947']\", \"['Q112983']\", \"['Q112948076']\", \"['Q11285599']\", \"['Q1128340']\", \"['Q112827555']\", \"['Q11274709']\", \"['Q112727425']\", \"['Q112727424']\", \"['Q112727421']\", \"['Q112727419']\", \"['Q112727414']\", \"['Q112727410']\", \"['Q112727407']\", \"['Q112727401']\", \"['Q112727397']\", \"['Q112727392']\", \"['Q112727391']\", \"['Q112727384']\", \"['Q112727378']\", \"['Q112709981']\", \"['Q11269813']\", \"['Q112679286']\", \"['Q112265308']\", \"['Q112110101']\", \"['Q112074700']\", \"['Q111737478']\", \"['Q111594067']\", \"['Q11119902']\", \"['Q111180070']\", \"['Q11114344']\", \"['Q11090465']\", \"['Q110874']\", \"['Q110826383']\", \"['Q110706912']\", \"['Q1107']\", \"['Q11066204']\", \"['Q110529992']\", \"['Q11052733']\", \"['Q110517766']\", \"['Q110417190']\", \"['Q1103825']\", \"['Q11025270']\", \"['Q110251539']\", \"['Q11000047']\", \"['Q109924081']\", \"['Q10977433']\", \"['Q109672300']\", \"['Q109659781']\", \"['Q109623729']\", \"['Q109473326']\", \"['Q1094496']\", \"['Q109445423']\", \"['Q109413679']\", \"['Q1093436']\", \"['Q1092499']\", \"['Q1092177']\", \"['Q108841485']\", \"['Q108840273']\", \"['Q1087786']\", \"['Q1087471']\", \"['Q108603785']\", \"['Q1085860']\", \"['Q10854310']\", \"['Q108462987']\", \"['Q108395614']\", \"['Q108379543']\", \"['Q108107367']\", \"['Q1080406']\", \"['Q1076970']\", \"['Q107547950']\", \"['Q107538843']\", \"['Q1075106']\", \"['Q107494101']\", \"['Q10748583']\", \"['Q107471022']\", \"['Q1073949']\", \"['Q107393743']\", \"['Q1073735']\", \"['Q1073307']\", \"['Q1071822']\", \"['Q1071233']\", \"['Q1071162']\", \"['Q1071160']\", \"['Q1071015']\", \"['Q1070521']\", \"['Q1069']\", \"['Q1068763']\", \"['Q106793561']\", \"['Q106776175']\", \"['Q106772341']\", \"['Q10676514']\", \"['Q106760956']\", \"['Q106691665']\", \"['Q106690375']\", \"['Q1066707']\", \"['Q10655185']\", \"['Q106548776']\", \"['Q106435710']\", \"['Q1063430']\", \"['Q106043413']\", \"['Q1060092']\", \"['Q1059048']\", \"['Q1058891']\", \"['Q105765949']\", \"['Q105765460']\", \"['Q105754856']\", \"['Q105727509']\", \"['Q10571400']\", \"['Q10553309']\", \"['Q105502389']\", \"['Q1054782']\", \"['Q105389481']\", \"['Q1053399']\", \"['Q1052621']\", \"['Q105210']\", \"['Q10514115']\", \"['Q105036901']\", \"['Q105036777']\", \"['Q105025707']\", \"['Q105000']\", \"['Q1049733']\", \"['Q104927923']\", \"['Q104886628']\", \"['Q104775758']\", \"['Q1047683']\", \"['Q104764681']\", \"['Q104698']\", \"['Q104637874']\", \"['Q1046315']\", \"['Q104624828']\", \"['Q1045608']\", \"['Q104529478']\", \"['Q104454065']\", \"['Q104212151']\", \"['Q1039648']\", \"['Q10395989']\", \"['Q10395987']\", \"['Q103813668']\", \"['Q1036748']\", \"['Q1035294']\", \"['Q10322320']\", \"['Q10316200']\", \"['Q1030329']\", \"['Q1030048']\", \"['Q1029418']\", \"['Q10284194']\", \"['Q102335849']\", \"['Q1021488']\", \"['Q1016853']\", \"['Q101430687']\", \"['Q101423053']\", \"['Q101244523']\", \"['Q100886746']\", \"['Q100775856']\", \"['Q1007311']\", \"['Q100731037']\", \"['Q100724091']\", \"['Q100721610']\", \"['Q100589423']\", \"['Q1004887']\", \"['Q1004391']\", \"['Q100434640']\", \"['Q100324105']\", \"['Q1002812']\", \"['Q100268926']\", \"['Q100165600']\", \"['Q1001051']\", \"['Q1000809']\", \"['Q1000371']\", '\"[\\'Q98645843\\'', '\"[\\'Q97480682\\'', '\"[\\'Q9651979\\'', '\"[\\'Q96474691\\'', '\"[\\'Q960739\\'', '\"[\\'Q956165\\'', '\"[\\'Q95463156\\'', '\"[\\'Q949525\\'', '\"[\\'Q938236\\'', '\"[\\'Q9262\\'', '\"[\\'Q919472\\'', '\"[\\'Q911142\\'', '\"[\\'Q910967\\'', '\"[\\'Q905666\\'', '\"[\\'Q88555103\\'', '\"[\\'Q88552181\\'', '\"[\\'Q88097886\\'', '\"[\\'Q87058424\\'', '\"[\\'Q865588\\'', '\"[\\'Q85907346\\'', '\"[\\'Q8572111\\'', '\"[\\'Q856713\\'', '\"[\\'Q855747\\'', '\"[\\'Q853854\\'', '\"[\\'Q852190\\'', '\"[\\'Q8496\\'', '\"[\\'Q849359\\'', '\"[\\'Q847109\\'', '\"[\\'Q8463186\\'', '\"[\\'Q844619\\'', '\"[\\'Q838159\\'', '\"[\\'Q831663\\'', '\"[\\'Q828803\\'', '\"[\\'Q819426\\'', '\"[\\'Q816829\\'', '\"[\\'Q816759\\'', '\"[\\'Q806880\\'', '\"[\\'Q7983\\'', '\"[\\'Q7978994\\'', '\"[\\'Q79423884\\'', '\"[\\'Q79218\\'', '\"[\\'Q785486\\'', '\"[\\'Q7835189\\'', '\"[\\'Q7814330\\'', '\"[\\'Q778575\\'', '\"[\\'Q7755\\'', '\"[\\'Q772497\\'', '\"[\\'Q77133429\\'', '\"[\\'Q757292\\'', '\"[\\'Q7565966\\'', '\"[\\'Q754897\\'', '\"[\\'Q75178934\\'', '\"[\\'Q747074\\'', '\"[\\'Q744691\\'', '\"[\\'Q744544\\'', '\"[\\'Q740445\\'', '\"[\\'Q7362268\\'', '\"[\\'Q735160\\'', '\"[\\'Q732680\\'', '\"[\\'Q72406516\\'', '\"[\\'Q721830\\'', '\"[\\'Q71965638\\'', '\"[\\'Q70107186\\'', '\"[\\'Q70106895\\'', '\"[\\'Q695207\\'', '\"[\\'Q689657\\'', '\"[\\'Q682943\\'', '\"[\\'Q6815100\\'', '\"[\\'Q68\\'', '\"[\\'Q676050\\'', '\"[\\'Q674950\\'', '\"[\\'Q674541\\'', '\"[\\'Q67376938\\'', '\"[\\'Q668065\\'', '\"[\\'Q667186\\'', '\"[\\'Q662914\\'', '\"[\\'Q6619312\\'', '\"[\\'Q658255\\'', '\"[\\'Q6554043\\'', '\"[\\'Q654772\\'', '\"[\\'Q6453007\\'', '\"[\\'Q64161\\'', '\"[\\'Q6382533\\'', '\"[\\'Q63440326\\'', '\"[\\'Q634099\\'', '\"[\\'Q63099748\\'', '\"[\\'Q630638\\'', '\"[\\'Q628505\\'', '\"[\\'Q6266\\'', '\"[\\'Q61980413\\'', '\"[\\'Q61826171\\'', '\"[\\'Q61788060\\'', '\"[\\'Q61718170\\'', '\"[\\'Q615794\\'', '\"[\\'Q6154783\\'', '\"[\\'Q61220733\\'', '\"[\\'Q611855\\'', '\"[\\'Q610579\\'', '\"[\\'Q61002\\'', '\"[\\'Q607241\\'', '\"[\\'Q606396\\'', '\"[\\'Q604435\\'', '\"[\\'Q6019423\\'', '\"[\\'Q5926864\\'', '\"[\\'Q58632302\\'', '\"[\\'Q5797488\\'', '\"[\\'Q57812611\\'', '\"[\\'Q574990\\'', '\"[\\'Q572835\\'', '\"[\\'Q570871\\'', '\"[\\'Q56754679\\'', '\"[\\'Q56697283\\'', '\"[\\'Q56242235\\'', '\"[\\'Q56195017\\'', '\"[\\'Q56019\\'', '\"[\\'Q55983715\\'', '\"[\\'Q55713973\\'', '\"[\\'Q5474524\\'', '\"[\\'Q5469884\\'', '\"[\\'Q54074585\\'', '\"[\\'Q5354754\\'', '\"[\\'Q5297\\'', '\"[\\'Q521983\\'', '\"[\\'Q5146212\\'', '\"[\\'Q51404\\'', '\"[\\'Q5135744\\'', '\"[\\'Q512399\\'', '\"[\\'Q51036091\\'', '\"[\\'Q51031626\\'', '\"[\\'Q508867\\'', '\"[\\'Q5061188\\'', '\"[\\'Q50320283\\'', '\"[\\'Q49376\\'', '\"[\\'Q490329\\'', '\"[\\'Q482\\'', '\"[\\'Q4801521\\'', '\"[\\'Q47928\\'', '\"[\\'Q47530375\\'', '\"[\\'Q475061\\'', '\"[\\'Q47154513\\'', '\"[\\'Q4711849\\'', '\"[\\'Q46190676\\'', '\"[\\'Q45971958\\'', '\"[\\'Q442927\\'', '\"[\\'Q4360\\'', '\"[\\'Q43305660\\'', '\"[\\'Q4313794\\'', '\"[\\'Q43009164\\'', '\"[\\'Q42998\\'', '\"[\\'Q42414514\\'', '\"[\\'Q4240305\\'', '\"[\\'Q42195\\'', '\"[\\'Q4184\\'', '\"[\\'Q4182287\\'', '\"[\\'Q417175\\'', '\"[\\'Q41487\\'', '\"[\\'Q41426\\'', '\"[\\'Q41207\\'', '\"[\\'Q4117406\\'', '\"[\\'Q4117139\\'', '\"[\\'Q4113741\\'', '\"[\\'Q4008465\\'', '\"[\\'Q399495\\'', '\"[\\'Q39811647\\'', '\"[\\'Q39690758\\'', '\"[\\'Q3946397\\'', '\"[\\'Q3851468\\'', '\"[\\'Q3835961\\'', '\"[\\'Q3788231\\'', '\"[\\'Q370607\\'', '\"[\\'Q37045\\'', '\"[\\'Q3700011\\'', '\"[\\'Q368461\\'', '\"[\\'Q3664326\\'', '\"[\\'Q3661311\\'', '\"[\\'Q3634199\\'', '\"[\\'Q35798\\'', '\"[\\'Q3559024\\'', '\"[\\'Q3551775\\'', '\"[\\'Q354239\\'', '\"[\\'Q3534358\\'', '\"[\\'Q353344\\'', '\"[\\'Q3516862\\'', '\"[\\'Q3511280\\'', '\"[\\'Q35054\\'', '\"[\\'Q350495\\'', '\"[\\'Q3491088\\'', '\"[\\'Q349084\\'', '\"[\\'Q3475015\\'', '\"[\\'Q3464665\\'', '\"[\\'Q336473\\'', '\"[\\'Q3353695\\'', '\"[\\'Q3353513\\'', '\"[\\'Q3327862\\'', '\"[\\'Q3326717\\'', '\"[\\'Q3320743\\'', '\"[\\'Q331570\\'', '\"[\\'Q33104279\\'', '\"[\\'Q3297186\\'', '\"[\\'Q32880\\'', '\"[\\'Q3243765\\'', '\"[\\'Q3240715\\'', '\"[\\'Q3208559\\'', '\"[\\'Q319845\\'', '\"[\\'Q314729\\'', '\"[\\'Q3141478\\'', '\"[\\'Q313414\\'', '\"[\\'Q31028695\\'', '\"[\\'Q30634609\\'', '\"[\\'Q3028\\'', '\"[\\'Q3021\\'', '\"[\\'Q3010392\\'', '\"[\\'Q30062554\\'', '\"[\\'Q299950\\'', '\"[\\'Q299783\\'', '\"[\\'Q299740\\'', '\"[\\'Q299706\\'', '\"[\\'Q299622\\'', '\"[\\'Q2996\\'', '\"[\\'Q299517\\'', '\"[\\'Q299432\\'', '\"[\\'Q299425\\'', '\"[\\'Q299409\\'', '\"[\\'Q299402\\'', '\"[\\'Q299220\\'', '\"[\\'Q299176\\'', '\"[\\'Q299174\\'', '\"[\\'Q299125\\'', '\"[\\'Q2988\\'', '\"[\\'Q2974552\\'', '\"[\\'Q2972684\\'', '\"[\\'Q2961\\'', '\"[\\'Q29547399\\'', '\"[\\'Q2949331\\'', '\"[\\'Q294422\\'', '\"[\\'Q2931\\'', '\"[\\'Q2928\\'', '\"[\\'Q2924\\'', '\"[\\'Q2921\\'', '\"[\\'Q2919\\'', '\"[\\'Q2913\\'', '\"[\\'Q2912176\\'', '\"[\\'Q2911266\\'', '\"[\\'Q2901\\'', '\"[\\'Q2893\\'', '\"[\\'Q28853922\\'', '\"[\\'Q2883\\'', '\"[\\'Q2881\\'', '\"[\\'Q2878855\\'', '\"[\\'Q28783456\\'', '\"[\\'Q2856\\'', '\"[\\'Q28542014\\'', '\"[\\'Q2821\\'', '\"[\\'Q28206753\\'', '\"[\\'Q2812\\'', '\"[\\'Q27968055\\'', '\"[\\'Q2788\\'', '\"[\\'Q2786\\'', '\"[\\'Q2784\\'', '\"[\\'Q2781\\'', '\"[\\'Q2775969\\'', '\"[\\'Q2774\\'', '\"[\\'Q27560760\\'', '\"[\\'Q2750108\\'', '\"[\\'Q27303706\\'', '\"[\\'Q272975\\'', '\"[\\'Q2728\\'', '\"[\\'Q2725\\'', '\"[\\'Q2715\\'', '\"[\\'Q2705481\\'', '\"[\\'Q2705\\'', '\"[\\'Q27020748\\'', '\"[\\'Q269949\\'', '\"[\\'Q26874537\\'', '\"[\\'Q26789694\\'', '\"[\\'Q2659\\'', '\"[\\'Q2657\\'', '\"[\\'Q265609\\'', '\"[\\'Q26553\\'', '\"[\\'Q264965\\'', '\"[\\'Q2625\\'', '\"[\\'Q2621\\'', '\"[\\'Q2620\\'', '\"[\\'Q2608849\\'', '\"[\\'Q2608811\\'', '\"[\\'Q25930759\\'', '\"[\\'Q25930495\\'', '\"[\\'Q2589\\'', '\"[\\'Q2587\\'', '\"[\\'Q2584\\'', '\"[\\'Q2583\\'', '\"[\\'Q2574\\'', '\"[\\'Q2560\\'', '\"[\\'Q255595\\'', '\"[\\'Q25537377\\'', '\"[\\'Q2553644\\'', '\"[\\'Q2550\\'', '\"[\\'Q2544\\'', '\"[\\'Q2537975\\'', '\"[\\'Q2537936\\'', '\"[\\'Q25339974\\'', '\"[\\'Q25235\\'', '\"[\\'Q2519\\'', '\"[\\'Q2516426\\'', '\"[\\'Q2507\\'', '\"[\\'Q2506\\'', '\"[\\'Q2505\\'', '\"[\\'Q2500\\'', '\"[\\'Q2498345\\'', '\"[\\'Q2472587\\'', '\"[\\'Q24649\\'', '\"[\\'Q24569309\\'', '\"[\\'Q2438\\'', '\"[\\'Q2433\\'', '\"[\\'Q2430899\\'', '\"[\\'Q24258416\\'', '\"[\\'Q2422\\'', '\"[\\'Q2421044\\'', '\"[\\'Q2399\\'', '\"[\\'Q239582\\'', '\"[\\'Q23894246\\'', '\"[\\'Q23866334\\'', '\"[\\'Q2379075\\'', '\"[\\'Q23759293\\'', '\"[\\'Q23719064\\'', '\"[\\'Q23622\\'', '\"[\\'Q2362\\'', '\"[\\'Q23541388\\'', '\"[\\'Q2340\\'', '\"[\\'Q23384401\\'', '\"[\\'Q2335\\'', '\"[\\'Q2332\\'', '\"[\\'Q2329596\\'', '\"[\\'Q2325\\'', '\"[\\'Q2322\\'', '\"[\\'Q2319498\\'', '\"[\\'Q23173209\\'', '\"[\\'Q2315359\\'', '\"[\\'Q2303\\'', '\"[\\'Q23012917\\'', '\"[\\'Q22978151\\'', '\"[\\'Q2297\\'', '\"[\\'Q22947\\'', '\"[\\'Q2293362\\'', '\"[\\'Q2288051\\'', '\"[\\'Q2284\\'', '\"[\\'Q2282602\\'', '\"[\\'Q22811668\\'', '\"[\\'Q2277441\\'', '\"[\\'Q22721\\'', '\"[\\'Q22676729\\'', '\"[\\'Q22670030\\'', '\"[\\'Q2267\\'', '\"[\\'Q2259749\\'', '\"[\\'Q22247\\'', '\"[\\'Q222379\\'', '\"[\\'Q22160105\\'', '\"[\\'Q2183520\\'', '\"[\\'Q21752084\\'', '\"[\\'Q21674818\\'', '\"[\\'Q21664088\\'', '\"[\\'Q21554854\\'', '\"[\\'Q21550442\\'', '\"[\\'Q2150\\'', '\"[\\'Q2146417\\'', '\"[\\'Q2143825\\'', '\"[\\'Q214339\\'', '\"[\\'Q2133344\\'', '\"[\\'Q212441\\'', '\"[\\'Q21156425\\'', '\"[\\'Q2110788\\'', '\"[\\'Q210832\\'', '\"[\\'Q21008908\\'', '\"[\\'Q209465\\'', '\"[\\'Q209363\\'', '\"[\\'Q209163\\'', '\"[\\'Q207977\\'', '\"[\\'Q20715189\\'', '\"[\\'Q2066031\\'', '\"[\\'Q20656604\\'', '\"[\\'Q20653563\\'', '\"[\\'Q2063507\\'', '\"[\\'Q2061186\\'', '\"[\\'Q2043199\\'', '\"[\\'Q203273\\'', '\"[\\'Q20146776\\'', '\"[\\'Q20081524\\'', '\"[\\'Q20010800\\'', '\"[\\'Q1999796\\'', '\"[\\'Q19979289\\'', '\"[\\'Q1997853\\'', '\"[\\'Q19969128\\'', '\"[\\'Q19967801\\'', '\"[\\'Q19847189\\'', '\"[\\'Q19844914\\'', '\"[\\'Q19842659\\'', '\"[\\'Q19832914\\'', '\"[\\'Q1983265\\'', '\"[\\'Q198\\'', '\"[\\'Q19689753\\'', '\"[\\'Q196600\\'', '\"[\\'Q1959427\\'', '\"[\\'Q1936384\\'', '\"[\\'Q1935728\\'', '\"[\\'Q193237\\'', '\"[\\'Q193071\\'', '\"[\\'Q192909\\'', '\"[\\'Q192299\\'', '\"[\\'Q191851\\'', '\"[\\'Q1917775\\'', '\"[\\'Q190928\\'', '\"[\\'Q1907114\\'', '\"[\\'Q189533\\'', '\"[\\'Q18867064\\'', '\"[\\'Q187971\\'', '\"[\\'Q187931\\'', '\"[\\'Q1877461\\'', '\"[\\'Q18761202\\'', '\"[\\'Q18729324\\'', '\"[\\'Q18654742\\'', '\"[\\'Q18642164\\'', '\"[\\'Q18618644\\'', '\"[\\'Q18618628\\'', '\"[\\'Q18608569\\'', '\"[\\'Q18573970\\'', '\"[\\'Q1855174\\'', '\"[\\'Q18543139\\'', '\"[\\'Q18534049\\'', '\"[\\'Q18449828\\'', '\"[\\'Q184453\\'', '\"[\\'Q184358\\'', '\"[\\'Q184348\\'', '\"[\\'Q18341341\\'', '\"[\\'Q18327510\\'', '\"[\\'Q18325841\\'', '\"[\\'Q183039\\'', '\"[\\'Q182832\\'', '\"[\\'Q1827405\\'', '\"[\\'Q182531\\'', '\"[\\'Q182391\\'', '\"[\\'Q181916\\'', '\"[\\'Q181348\\'', '\"[\\'Q18091489\\'', '\"[\\'Q18089617\\'', '\"[\\'Q1807108\\'', '\"[\\'Q180570\\'', '\"[\\'Q1803820\\'', '\"[\\'Q179057\\'', '\"[\\'Q1790144\\'', '\"[\\'Q1787111\\'', '\"[\\'Q1786517\\'', '\"[\\'Q1785271\\'', '\"[\\'Q1783329\\'', '\"[\\'Q1782540\\'', '\"[\\'Q177471\\'', '\"[\\'Q1774587\\'', '\"[\\'Q17680584\\'', '\"[\\'Q1759852\\'', '\"[\\'Q1758037\\'', '\"[\\'Q1756477\\'', '\"[\\'Q17560936\\'', '\"[\\'Q17518557\\'', '\"[\\'Q1751626\\'', '\"[\\'Q1748957\\'', '\"[\\'Q174211\\'', '\"[\\'Q17351671\\'', '\"[\\'Q17348758\\'', '\"[\\'Q17205\\'', '\"[\\'Q17175676\\'', '\"[\\'Q1715155\\'', '\"[\\'Q171341\\'', '\"[\\'Q170090\\'', '\"[\\'Q170063\\'', '\"[\\'Q17004976\\'', '\"[\\'Q1690980\\'', '\"[\\'Q16831714\\'', '\"[\\'Q16748868\\'', '\"[\\'Q167037\\'', '\"[\\'Q1666523\\'', '\"[\\'Q166542\\'', '\"[\\'Q16543169\\'', '\"[\\'Q164240\\'', '\"[\\'Q1640824\\'', '\"[\\'Q1640168\\'', '\"[\\'Q1639354\\'', '\"[\\'Q1638045\\'', '\"[\\'Q1631129\\'', '\"[\\'Q1627961\\'', '\"[\\'Q1620945\\'', '\"[\\'Q1612985\\'', '\"[\\'Q16089878\\'', '\"[\\'Q16070115\\'', '\"[\\'Q159979\\'', '\"[\\'Q15925549\\'', '\"[\\'Q15915771\\'', '\"[\\'Q15847997\\'', '\"[\\'Q15720793\\'', '\"[\\'Q1572070\\'', '\"[\\'Q156097\\'', '\"[\\'Q1549739\\'', '\"[\\'Q1542681\\'', '\"[\\'Q1530022\\'', '\"[\\'Q15293315\\'', '\"[\\'Q15284824\\'', '\"[\\'Q152841\\'', '\"[\\'Q1526999\\'', '\"[\\'Q15263377\\'', '\"[\\'Q15238777\\'', '\"[\\'Q15229229\\'', '\"[\\'Q15210668\\'', '\"[\\'Q152005\\'', '\"[\\'Q15079786\\'', '\"[\\'Q1500350\\'', '\"[\\'Q14927600\\'', '\"[\\'Q14911880\\'', '\"[\\'Q1486662\\'', '\"[\\'Q148578\\'', '\"[\\'Q14656\\'', '\"[\\'Q1463076\\'', '\"[\\'Q14623646\\'', '\"[\\'Q14623204\\'', '\"[\\'Q1439691\\'', '\"[\\'Q1437299\\'', '\"[\\'Q1434544\\'', '\"[\\'Q1431283\\'', '\"[\\'Q1415691\\'', '\"[\\'Q1413677\\'', '\"[\\'Q1411929\\'', '\"[\\'Q1408475\\'', '\"[\\'Q1406161\\'', '\"[\\'Q1401142\\'', '\"[\\'Q1400264\\'', '\"[\\'Q13890\\'', '\"[\\'Q138825\\'', '\"[\\'Q13862071\\'', '\"[\\'Q137535\\'', '\"[\\'Q1371562\\'', '\"[\\'Q1368848\\'', '\"[\\'Q1367500\\'', '\"[\\'Q1364157\\'', '\"[\\'Q13626398\\'', '\"[\\'Q1358344\\'', '\"[\\'Q1352019\\'', '\"[\\'Q134856\\'', '\"[\\'Q13466456\\'', '\"[\\'Q1346396\\'', '\"[\\'Q13427623\\'', '\"[\\'Q13414763\\'', '\"[\\'Q13410400\\'', '\"[\\'Q13360713\\'', '\"[\\'Q1330336\\'', '\"[\\'Q1330251\\'', '\"[\\'Q13222012\\'', '\"[\\'Q131449\\'', '\"[\\'Q131299\\'', '\"[\\'Q1311569\\'', '\"[\\'Q1310653\\'', '\"[\\'Q1307329\\'', '\"[\\'Q1307214\\'', '\"[\\'Q1303167\\'', '\"[\\'Q1289426\\'', '\"[\\'Q12827391\\'', '\"[\\'Q12819564\\'', '\"[\\'Q12731\\'', '\"[\\'Q1268865\\'', '\"[\\'Q12684\\'', '\"[\\'Q1266087\\'', '\"[\\'Q1261499\\'', '\"[\\'Q12538685\\'', '\"[\\'Q1251403\\'', '\"[\\'Q12453\\'', '\"[\\'Q1245089\\'', '\"[\\'Q1235413\\'', '\"[\\'Q1234255\\'', '\"[\\'Q12340140\\'', '\"[\\'Q1221156\\'', '\"[\\'Q121702\\'', '\"[\\'Q12139612\\'', '\"[\\'Q1213562\\'', '\"[\\'Q12104567\\'', '\"[\\'Q1208453\\'', '\"[\\'Q1202402\\'', '\"[\\'Q12020836\\'', '\"[\\'Q12019965\\'', '\"[\\'Q1197685\\'', '\"[\\'Q1195705\\'', '\"[\\'Q1194093\\'', '\"[\\'Q1190554\\'', '\"[\\'Q1179189\\'', '\"[\\'Q11774097\\'', '\"[\\'Q1166625\\'', '\"[\\'Q1161519\\'', '\"[\\'Q116\\'', '\"[\\'Q115492574\\'', '\"[\\'Q115278\\'', '\"[\\'Q11514315\\'', '\"[\\'Q11507944\\'', '\"[\\'Q1149652\\'', '\"[\\'Q1149626\\'', '\"[\\'Q11453226\\'', '\"[\\'Q1145012\\'', '\"[\\'Q11433351\\'', '\"[\\'Q11416914\\'', '\"[\\'Q1141225\\'', '\"[\\'Q1138414\\'', '\"[\\'Q11358\\'', '\"[\\'Q113551581\\'', '\"[\\'Q1134740\\'', '\"[\\'Q11331347\\'', '\"[\\'Q113056217\\'', '\"[\\'Q1129743\\'', '\"[\\'Q112793351\\'', '\"[\\'Q1123526\\'', '\"[\\'Q11183787\\'', '\"[\\'Q10929058\\'', '\"[\\'Q10862618\\'', '\"[\\'Q108028209\\'', '\"[\\'Q1079023\\'', '\"[\\'Q1077701\\'', '\"[\\'Q107413232\\'', '\"[\\'Q107390\\'', '\"[\\'Q107274313\\'', '\"[\\'Q10689397\\'', '\"[\\'Q1065118\\'', '\"[\\'Q106036966\\'', '\"[\\'Q105982157\\'', '\"[\\'Q10594991\\'', '\"[\\'Q105839698\\'', '\"[\\'Q1056408\\'', '\"[\\'Q105389481\\'', '\"[\\'Q10517054\\'', '\"[\\'Q1050840\\'', '\"[\\'Q1050259\\'', '\"[\\'Q1049494\\'', '\"[\\'Q10429667\\'', '\"[\\'Q10428845\\'', '\"[\\'Q10416961\\'', '\"[\\'Q103813440\\'', '\"[\\'Q10313934\\'', '\"[\\'Q10269077\\'', '\"[\\'Q1007356\\'', \"['Q99973598']\", \"['Q99880596']\", \"['Q998421']\", \"['Q997267']\", \"['Q99662445']\", \"['Q996525']\", \"['Q996370']\", \"['Q99602118']\", \"['Q995595']\", \"['Q99536263']\", \"['Q994122']\", \"['Q99252497']\", \"['Q992060']\", \"['Q98804020']\", \"['Q98675100']\", \"['Q986172']\", \"['Q98579904']\", \"['Q98543464']\", \"['Q98438431']\", \"['Q98426739']\", \"['Q98426442']\", \"['Q98415732']\", \"['Q983696']\", \"['Q98116669']\", \"['Q981009']\", \"['Q98066215']\", \"['Q98059111']\", \"['Q98038492']\", \"['Q980357']\", \"['Q97669839']\", \"['Q976622']\", \"['Q97579135']\", \"['Q975128']\", \"['Q97457565']\", \"['Q97379116']\", \"['Q97375967']\", \"['Q973740']\", \"['Q97312698']\", \"['Q971045']\", \"['Q9698181']\", \"['Q96952903']\", \"['Q96916100']\", \"['Q968233']\", \"['Q967719']\", \"['Q966789']\", \"['Q96676757']\", \"['Q96635145']\", \"['Q96602509']\", \"['Q96474691']\", \"['Q96474677']\", \"['Q96474676']\", \"['Q964162']\", \"['Q96386155']\", \"['Q96377522']\", \"['Q963760']\", \"['Q963729']\", \"['Q96371632']\", \"['Q96354653']\", \"['Q96353874']\", \"['Q962715']\", \"['Q96253971']\", \"['Q962460']\", \"['Q96219228']\", \"['Q96196475']\", \"['Q960844']\", \"['Q96083918']\", \"['Q960484']\", \"['Q96019931']\", \"['Q959782']\", \"['Q95612266']\", \"['Q956034']\", \"['Q955920']\", \"['Q95576998']\", \"['Q95463156']\", \"['Q953045']\", \"['Q95121499']\", \"['Q95000087']\", \"['Q948516']\", \"['Q946790']\", \"['Q94617066']\", \"['Q946033']\", \"['Q945524']\", \"['Q944896']\", \"['Q94255074']\", \"['Q9418']\", \"['Q941081']\", \"['Q941043']\", \"['Q939029']\", \"['Q938993']\", \"['Q9381142']\", \"['Q936821']\", \"['Q93661']\", \"['Q9357527']\", \"['Q9356285']\", \"['Q9347306']\", \"['Q9346811']\", \"['Q933530']\", \"['Q9332842']\", \"['Q93301']\", \"['Q932522']\", \"['Q93165']\", \"['Q931510']\", \"['Q9305214']\", \"['Q92919790']\", \"['Q926230']\", \"['Q922448']\", \"['Q921543']\", \"['Q9214']\", \"['Q92107']\", \"['Q918457']\", \"['Q91818']\", \"['Q918088']\", \"['Q917824']\", \"['Q917730']\", \"['Q91733790']\", \"['Q914019']\", \"['Q9137']\", \"['Q91308861']\", \"['Q910409']\", \"['Q9088760']\", \"['Q908828']\", \"['Q908784']\", \"['Q908430']\", \"['Q90808178']\", \"['Q9067642']\", \"['Q906520']\", \"['Q906356']\", \"['Q905286']\", \"['Q9050568']\", \"['Q9046617']\", \"['Q9036']\", \"['Q90315569']\", \"['Q903055']\", \"['Q90280577']\", \"['Q901711']\", \"['Q89938']\", \"['Q899204']\", \"['Q89918337']\", \"['Q898987']\", \"['Q897404']\", \"['Q897395']\", \"['Q896575']\", \"['Q896009']\", \"['Q895060']\", \"['Q894853']\", \"['Q894571']\", \"['Q894436']\", \"['Q893555']\", \"['Q893210']\", \"['Q893035']\", \"['Q890886']\", \"['Q89037156']\", \"['Q890055']\", \"['Q88469696']\", \"['Q881942']\", \"['Q881937']\", \"['Q88173204']\", \"['Q8795']\", \"['Q879208']\", \"['Q878077']\", \"['Q878040']\", \"['Q877342']\", \"['Q877290']\", \"['Q87715130']\", \"['Q87706289']\", \"['Q877017']\", \"['Q87655476']\", \"['Q87487749']\", \"['Q874821']\", \"['Q873368']\", \"['Q87267402']\", \"['Q87196290']\", \"['Q871232']\", \"['Q871217']\", \"['Q870455']\", \"['Q869042']\", \"['Q86860']\", \"['Q867707']\", \"['Q867094']\", \"['Q866472']\", \"['Q864737']\", \"['Q863970']\", \"['Q863906']\", \"['Q862880']\", \"['Q862571']\", \"['Q862562']\", \"['Q862454']\", \"['Q86212165']\", \"['Q861941']\", \"['Q861437']\", \"['Q860792']\", \"['Q860447']\", \"['Q859482']\", \"['Q859477']\", \"['Q85833489']\", \"['Q85820578']\", \"['Q858177']\", \"['Q857968']\", \"['Q856976']\", \"['Q8567987']\", \"['Q8563702']\", \"['Q8561193']\", \"['Q856']\", \"['Q8545897']\", \"['Q854550']\", \"['Q854459']\", \"['Q853725']\", \"['Q852215']\", \"['Q849814']\", \"['Q848813']\", \"['Q847935']\", \"['Q847843']\", \"['Q846785']\", \"['Q8463304']\", \"['Q8463']\", \"['Q84582639']\", \"['Q8454']\", \"['Q845300']\", \"['Q844531']\", \"['Q844482']\", \"['Q844450']\", \"['Q84431525']\", \"['Q843886']\", \"['Q843256']\", \"['Q843227']\", \"['Q84310035']\", \"['Q843065']\", \"['Q84266627']\", \"['Q842400']\", \"['Q842293']\", \"['Q841983']\", \"['Q841818']\", \"['Q84153645']\", \"['Q84056303']\", \"['Q840482']\", \"['Q840019']\", \"['Q839864']\", \"['Q8396']\", \"['Q838794']\", \"['Q838625']\", \"['Q8386']\", \"['Q83856136']\", \"['Q838549']\", \"['Q838159']\", \"['Q837910']\", \"['Q837766']\", \"['Q837718']\", \"['Q837556']\", \"['Q836943']\", \"['Q836795']\", \"['Q835803']\", \"['Q8348978']\", \"['Q83471536']\", \"['Q83425186']\", \"['Q834028']\", \"['Q83376']\", \"['Q832003']\", \"['Q83172']\", \"['Q831366']\", \"['Q830382']\", \"['Q830340']\", \"['Q83020']\", \"['Q82969709']\", \"['Q8294850']\", \"['Q82942190']\", \"['Q828962']\", \"['Q828803']\", \"['Q8287445']\", \"['Q827989']\", \"['Q8275050']\", \"['Q8269924']\", \"['Q82614']\", \"['Q8247090']\", \"['Q822054']\", \"['Q8217193']\", \"['Q82137']\", \"['Q82101']\", \"['Q820243']\", \"['Q820144']\", \"['Q82']\", \"['Q819955']\", \"['Q81986407']\", \"['Q819577']\", \"['Q819426']\", \"['Q8192354']\", \"['Q818882']\", \"['Q8183']\", \"['Q81801249']\", \"['Q81741']\", \"['Q81707']\", \"['Q816747']\", \"['Q816335']\", \"['Q816265']\", \"['Q815962']\", \"['Q815500']\", \"['Q815488']\", \"['Q81392']\", \"['Q811930']\", \"['Q811593']\", \"['Q8108818']\", \"['Q810524']\", \"['Q8096']\", \"['Q80923943']\", \"['Q808329']\", \"['Q8082']\", \"['Q80793969']\", \"['Q807020']\", \"['Q8070']\", \"['Q80697083']\", \"['Q806824']\", \"['Q806737']\", \"['Q806528']\", \"['Q80591556']\", \"['Q8047']\", \"['Q80446812']\", \"['Q8042351']\", \"['Q80418413']\", \"['Q8034980']\", \"['Q8015548']\", \"['Q8000']\", \"['Q79979740']\", \"['Q799450']\", \"['Q799422']\", \"['Q799376']\", \"['Q798436']\", \"['Q7980']\", \"['Q7978067']\", \"['Q7973769']\", \"['Q79696253']\", \"['Q7969215']\", \"['Q7967318']\", \"['Q7966607']\", \"['Q7946342']\", \"['Q7942182']\", \"['Q793688']\", \"['Q792929']\", \"['Q7920194']\", \"['Q791801']\", \"['Q791183']\", \"['Q790016']\", \"['Q78987']\", \"['Q789783']\", \"['Q7888495']\", \"['Q7882332']\", \"['Q7881']\", \"['Q7878545']\", \"['Q78782478']\", \"['Q7876952']\", \"['Q78758464']\", \"['Q787497']\", \"['Q787078']\", \"['Q7865637']\", \"['Q7858339']\", \"['Q785653']\", \"['Q7849']\", \"['Q78471778']\", \"['Q783866']\", \"['Q7833250']\", \"['Q7833114']\", \"['Q782984']\", \"['Q782015']\", \"['Q781528']\", \"['Q781413']\", \"['Q7814110']\", \"['Q7813355']\", \"['Q78129048']\", \"['Q780687']\", \"['Q7802']\", \"['Q779038']\", \"['Q77872752']\", \"['Q7779855']\", \"['Q775129']\", \"['Q7743']\", \"['Q773829']\", \"['Q772636']\", \"['Q7724161']\", \"['Q771712']\", \"['Q770881']\", \"['Q7708485']\", \"['Q7708397']\", \"['Q7691226']\", \"['Q76905520']\", \"['Q7683500']\", \"['Q7681174']\", \"['Q7679101']\", \"['Q767728']\", \"['Q766875']\", \"['Q766366']\", \"['Q76515363']\", \"['Q7650353']\", \"['Q7649718']\", \"['Q763508']\", \"['Q7631016']\", \"['Q7630629']\", \"['Q7627887']\", \"['Q7627838']\", \"['Q7624088']\", \"['Q76213979']\", \"['Q762042']\", \"['Q7604387']\", \"['Q7603925']\", \"['Q760348']\", \"['Q7603363']\", \"['Q759853']\", \"['Q7590']\", \"['Q758891']\", \"['Q758870']\", \"['Q7579940']\", \"['Q7575676']\", \"['Q7575668']\", \"['Q757554']\", \"['Q757549']\", \"['Q756952']\", \"['Q7565978']\", \"['Q7565159']\", \"['Q7558495']\", \"['Q7558104']\", \"['Q755673']\", \"['Q7556729']\", \"['Q7554349']\", \"['Q7551933']\", \"['Q755017']\", \"['Q754984']\", \"['Q754501']\", \"['Q7544417']\", \"['Q7541349']\", \"['Q753784']\", \"['Q75338598']\", \"['Q7533204']\", \"['Q752404']\", \"['Q752080']\", \"['Q75156092']\", \"['Q7512598']\", \"['Q749316']\", \"['Q749151']\", \"['Q748757']\", \"['Q748349']\", \"['Q746958']\", \"['Q746937']\", \"['Q746398']\", \"['Q7462837']\", \"['Q745881']\", \"['Q74574']\", \"['Q744967']\", \"['Q7448010']\", \"['Q744778']\", \"['Q7447672']\", \"['Q7445643']\", \"['Q7444723']\", \"['Q7434']\", \"['Q7433672']\", \"['Q743074']\", \"['Q7430']\", \"['Q7429804']\", \"['Q7417956']\", \"['Q7417064']\", \"['Q7410456']\", \"['Q740437']\", \"['Q7378']\", \"['Q7374547']\", \"['Q737312']\", \"['Q7370451']\", \"['Q7368619']\", \"['Q73671237']\", \"['Q736556']\", \"['Q7361709']\", \"['Q735881']\", \"['Q7353823']\", \"['Q735160']\", \"['Q73501146']\", \"['Q734174']\", \"['Q73364223']\", \"['Q7335381']\", \"['Q73343954']\", \"['Q7333267']\", \"['Q732970']\", \"['Q731966']\", \"['Q7315485']\", \"['Q7315424']\", \"['Q7314108']\", \"['Q7309309']\", \"['Q7309198']\", \"['Q7308408']\", \"['Q7305510']\", \"['Q729477']\", \"['Q72943202']\", \"['Q72926449']\", \"['Q72904836']\", \"['Q728943']\", \"['Q72867640']\", \"['Q728410']\", \"['Q7275']\", \"['Q727359']\", \"['Q727096']\", \"['Q727028']\", \"['Q7270']\", \"['Q7269458']\", \"['Q726870']\", \"['Q726235']\", \"['Q7258780']\", \"['Q7258040']\", \"['Q7257282']\", \"['Q7257249']\", \"['Q7256338']\", \"['Q7252594']\", \"['Q7251477']\", \"['Q7248116']\", \"['Q7247749']\", \"['Q7246143']\", \"['Q7234752']\", \"['Q7233751']\", \"['Q7233267']\", \"['Q722080']\", \"['Q721747']\", \"['Q721094']\", \"['Q7210312']\", \"['Q72084637']\", \"['Q72081958']\", \"['Q7203506']\", \"['Q7201373']\", \"['Q719987']\", \"['Q71965429']\", \"['Q7187943']\", \"['Q71875404']\", \"['Q718608']\", \"['Q7184903']\", \"['Q71748508']\", \"['Q7174']\", \"['Q7170688']\", \"['Q7157512']\", \"['Q715625']\", \"['Q715223']\", \"['Q715055']\", \"['Q7142499']\", \"['Q7133633']\", \"['Q712868']\", \"['Q7096323']\", \"['Q7085670']\", \"['Q7075127']\", \"['Q70709008']\", \"['Q706447']\", \"['Q7062022']\", \"['Q7051624']\", \"['Q702875']\", \"['Q701165']\", \"['Q6999']\", \"['Q699797']\", \"['Q69964246']\", \"['Q69960115']\", \"['Q6978245']\", \"['Q6972269']\", \"['Q6971810']\", \"['Q697175']\", \"['Q696819']\", \"['Q696710']\", \"['Q696667']\", \"['Q6958747']\", \"['Q6958514']\", \"['Q6954191']\", \"['Q69502940']\", \"['Q693906']\", \"['Q693690']\", \"['Q693369']\", \"['Q69316638']\", \"['Q692412']\", \"['Q6918183']\", \"['Q69106233']\", \"['Q690175']\", \"['Q690084']\", \"['Q68926185']\", \"['Q687737']\", \"['Q68685']\", \"['Q6867185']\", \"['Q6865694']\", \"['Q6853326']\", \"['Q6843620']\", \"['Q684154']\", \"['Q683992']\", \"['Q682386']\", \"['Q6813020']\", \"['Q680838']\", \"['Q680455']\", \"['Q6796435']\", \"['Q679206']\", \"['Q679106']\", \"['Q678774']\", \"['Q67776928']\", \"['Q677466']\", \"['Q675824']\", \"['Q675594']\", \"['Q67472109']\", \"['Q6747099']\", \"['Q673218']\", \"['Q6730945']\", \"['Q672603']\", \"['Q672598']\", \"['Q67205788']\", \"['Q67200784']\", \"['Q67200518']\", \"['Q67184635']\", \"['Q67182947']\", \"['Q67179750']\", \"['Q671735']\", \"['Q67145856']\", \"['Q67131190']\", \"['Q671079']\", \"['Q670985']\", \"['Q67097832']\", \"['Q670787']\", \"['Q67035425']\", \"['Q670265']\", \"['Q66891602']\", \"['Q6686945']\", \"['Q668500']\", \"['Q6683669']\", \"['Q668349']\", \"['Q66762677']\", \"['Q667471']\", \"['Q66746269']\", \"['Q66737615']\", \"['Q66735957']\", \"['Q6672512']\", \"['Q667186']\", \"['Q66712772']\", \"['Q667018']\", \"['Q6667200']\", \"['Q66604755']\", \"['Q6659501']\", \"['Q6657015']\", \"['Q6648345']\", \"['Q66480449']\", \"['Q6647667']\", \"['Q6647660']\", \"['Q66310125']\", \"['Q6629955']\", \"['Q662914']\", \"['Q6621272']\", \"['Q660668']\", \"['Q660460']\", \"['Q660398']\", \"['Q65963104']\", \"['Q65942781']\", \"['Q659390']\", \"['Q6593035']\", \"['Q6593033']\", \"['Q6592593']\", \"['Q6586445']\", \"['Q6576792']\", \"['Q656586']\", \"['Q6565769']\", \"['Q65651503']\", \"['Q65611482']\", \"['Q655951']\", \"['Q65532949']\", \"['Q655089']\", \"['Q654772']\", \"['Q6545590']\", \"['Q654476']\", \"['Q6539177']\", \"['Q653848']\", \"['Q6516983']\", \"['Q651019']\", \"['Q6501028']\", \"['Q65010179']\", \"['Q6499736']\", \"['Q6498959']\", \"['Q649107']\", \"['Q648405']\", \"['Q648191']\", \"['Q648116']\", \"['Q64779402']\", \"['Q64732777']\", \"['Q64732764']\", \"['Q646049']\", \"['Q64601']\", \"['Q6458277']\", \"['Q64520857']\", \"['Q64514542']\", \"['Q6448147']\", \"['Q6448126']\", \"['Q644264']\", \"['Q64374896']\", \"['Q6431764']\", \"['Q642683']\", \"['Q64250307']\", \"['Q6423319']\", \"['Q64167531']\", \"['Q641406']\", \"['Q64139068']\", \"['Q64093742']\", \"['Q6406128']\", \"['Q64034451']\", \"['Q640262']\", \"['Q64015453']\", \"['Q640040']\", \"['Q639907']\", \"['Q63981612']\", \"['Q63959446']\", \"['Q639140']\", \"['Q63876926']\", \"['Q63869263']\", \"['Q638']\", \"['Q63676707']\", \"['Q636581']\", \"['Q635719']\", \"['Q63539947']\", \"['Q635346']\", \"['Q635130']\", \"['Q6349925']\", \"['Q6348103']\", \"['Q63435698']\", \"['Q63375575']\", \"['Q633506']\", \"['Q63241909']\", \"['Q63208555']\", \"['Q63171186']\", \"['Q63171169']\", \"['Q6313217']\", \"['Q6311682']\", \"['Q63101934']\", \"['Q63090850']\", \"['Q6304166']\", \"['Q63040602']\", \"['Q630055']\", \"['Q62968288']\", \"['Q62933934']\", \"['Q628967']\", \"['Q628523']\", \"['Q628505']\", \"['Q628080']\", \"['Q627537']\", \"['Q627236']\", \"['Q62710810']\", \"['Q62685721']\", \"['Q62677859']\", \"['Q62671000']\", \"['Q624240']\", \"['Q624114']\", \"['Q623344']\", \"['Q623319']\", \"['Q623149']\", \"['Q622812']\", \"['Q622666']\", \"['Q622550']\", \"['Q622416']\", \"['Q622370']\", \"['Q622358']\", \"['Q621985']\", \"['Q62129143']\", \"['Q621184']\", \"['Q62097898']\", \"['Q620920']\", \"['Q620681']\", \"['Q62067106']\", \"['Q62059383']\", \"['Q62018250']\", \"['Q61996437']\", \"['Q61943417']\", \"['Q6190035']\", \"['Q61881926']\", \"['Q61809711']\", \"['Q617839']\", \"['Q61719000']\", \"['Q61710689']\", \"['Q61685689']\", \"['Q61653556']\", \"['Q6163190']\", \"['Q61612084']\", \"['Q61508291']\", \"['Q614593']\", \"['Q61453609']\", \"['Q61452302']\", \"['Q613611']\", \"['Q6134925']\", \"['Q613366']\", \"['Q612780']\", \"['Q6126497']\", \"['Q611465']\", \"['Q610140']\", \"['Q60983064']\", \"['Q60981043']\", \"['Q6092436']\", \"['Q6090654']\", \"['Q608152']\", \"['Q608']\", \"['Q60797']\", \"['Q607460']\", \"['Q60723717']\", \"['Q6071413']\", \"['Q60676597']\", \"['Q60673395']\", \"['Q60668879']\", \"['Q60668107']\", \"['Q60667167']\", \"['Q606619']\", \"['Q6063']\", \"['Q60586343']\", \"['Q60531252']\", \"['Q60520']\", \"['Q60491487']\", \"['Q60484687']\", \"['Q60474521']\", \"['Q60469337']\", \"['Q60442637']\", \"['Q603773']\", \"['Q60376011']\", \"['Q60309051']\", \"['Q6029127']\", \"['Q602446']\", \"['Q6006']\", \"['Q6005015']\", \"['Q60031086']\", \"['Q59864470']\", \"['Q59818562']\", \"['Q59817677']\", \"['Q597260']\", \"['Q59680832']\", \"['Q59678118']\", \"['Q596321']\", \"['Q5961276']\", \"['Q5961257']\", \"['Q59387148']\", \"['Q593485']\", \"['Q592856']\", \"['Q59284']\", \"['Q59281']\", \"['Q59274594']\", \"['Q59259626']\", \"['Q591942']\", \"['Q59136']\", \"['Q59134440']\", \"['Q5913321']\", \"['Q59130377']\", \"['Q590992']\", \"['Q5908002']\", \"['Q590490']\", \"['Q590232']\", \"['Q589183']\", \"['Q58911074']\", \"['Q58854609']\", \"['Q5883492']\", \"['Q5882053']\", \"['Q587992']\", \"['Q587743']\", \"['Q58734']\", \"['Q58621988']\", \"['Q58483088']\", \"['Q58483009']\", \"['Q584529']\", \"['Q5844636']\", \"['Q5839622']\", \"['Q58325316']\", \"['Q5827419']\", \"['Q58211981']\", \"['Q58210857']\", \"['Q58207797']\", \"['Q58148573']\", \"['Q5810820']\", \"['Q58092637']\", \"['Q580750']\", \"['Q58017']\", \"['Q579440']\", \"['Q578794']\", \"['Q578521']\", \"['Q5784108']\", \"['Q5782827']\", \"['Q577764']\", \"['Q57775518']\", \"['Q57655309']\", \"['Q576342']\", \"['Q57633168']\", \"['Q57608327']\", \"['Q57605562']\", \"['Q575259']\", \"['Q5739064']\", \"['Q5737']\", \"['Q57368']\", \"['Q57305027']\", \"['Q573']\", \"['Q572784']\", \"['Q570948']\", \"['Q570554']\", \"['Q5702145']\", \"['Q569500']\", \"['Q56877494']\", \"['Q56876983']\", \"['Q56876960']\", \"['Q568765']\", \"['Q56875841']\", \"['Q568041']\", \"['Q567559']\", \"['Q56697283']\", \"['Q5666613']\", \"['Q56583453']\", \"['Q5657629']\", \"['Q56561357']\", \"['Q565428']\", \"['Q565410']\", \"['Q5647631']\", \"['Q5645760']\", \"['Q56406134']\", \"['Q56405473']\", \"['Q56395672']\", \"['Q563787']\", \"['Q56352703']\", \"['Q56312706']\", \"['Q56299558']\", \"['Q56297767']\", \"['Q56296786']\", \"['Q56247931']\", \"['Q56242235']\", \"['Q56242045']\", \"['Q5618454']\", \"['Q56139']\", \"['Q5610543']\", \"['Q56044492']\", \"['Q560361']\", \"['Q560311']\", \"['Q559856']\", \"['Q55964554']\", \"['Q55945694']\", \"['Q55936932']\", \"['Q5592057']\", \"['Q55915575']\", \"['Q5589761']\", \"['Q5589178']\", \"['Q55863584']\", \"['Q55850643']\", \"['Q55771109']\", \"['Q55720514']\", \"['Q55713852']\", \"['Q55713039']\", \"['Q55687066']\", \"['Q5567094']\", \"['Q55655722']\", \"['Q55645123']\", \"['Q555097']\", \"['Q55504191']\", \"['Q55484']\", \"['Q55471289']\", \"['Q55470156']\", \"['Q55454831']\", \"['Q55442818']\", \"['Q554394']\", \"['Q55436365']\", \"['Q5531821']\", \"['Q552345']\", \"['Q5522364']\", \"['Q55208590']\", \"['Q55190113']\", \"['Q5518574']\", \"['Q55177716']\", \"['Q55116']\", \"['Q55102916']\", \"['Q5508804']\", \"['Q55084935']\", \"['Q55078692']\", \"['Q54989186']\", \"['Q54933017']\", \"['Q548988']\", \"['Q54856282']\", \"['Q5466190']\", \"['Q5465517']\", \"['Q5463697']\", \"['Q5456378']\", \"['Q5451981']\", \"['Q5449702']\", \"['Q5447188']\", \"['Q5443203']\", \"['Q54375527']\", \"['Q54375427']\", \"['Q54360657']\", \"['Q543151']\", \"['Q543127']\", \"['Q543']\", \"['Q5429679']\", \"['Q542549']\", \"['Q5421990']\", \"['Q5421159']\", \"['Q541947']\", \"['Q540724']\", \"['Q54065003']\", \"['Q54064774']\", \"['Q54064541']\", \"['Q540439']\", \"['Q53996674']\", \"['Q53843792']\", \"['Q53815']\", \"['Q537929']\", \"['Q537460']\", \"['Q53731850']\", \"['Q5370895']\", \"['Q53706']\", \"['Q5365803']\", \"['Q5365066']\", \"['Q53649729']\", \"['Q535695']\", \"['Q5353623']\", \"['Q53444003']\", \"['Q5335686']\", \"['Q53354763']\", \"['Q53336805']\", \"['Q5333253']\", \"['Q5327509']\", \"['Q5322166']\", \"['Q531953']\", \"['Q5318']\", \"['Q5307593']\", \"['Q53068025']\", \"['Q5302681']\", \"['Q5295526']\", \"['Q52948']\", \"['Q5294']\", \"['Q529029']\", \"['Q5289813']\", \"['Q528634']\", \"['Q5283344']\", \"['Q5283295']\", \"['Q5282311']\", \"['Q5278332']\", \"['Q527091']\", \"['Q52688389']\", \"['Q5258439']\", \"['Q52572620']\", \"['Q52446673']\", \"['Q52368907']\", \"['Q52362967']\", \"['Q52326383']\", \"['Q522786']\", \"['Q5215430']\", \"['Q52152418']\", \"['Q52063204']\", \"['Q5204199']\", \"['Q519924']\", \"['Q5198662']\", \"['Q5195043']\", \"['Q5195029']\", \"['Q5193392']\", \"['Q5189716']\", \"['Q5188437']\", \"['Q51879475']\", \"['Q51845466']\", \"['Q518261']\", \"['Q5177805']\", \"['Q5177802']\", \"['Q517760']\", \"['Q5176530']\", \"['Q517614']\", \"['Q5176129']\", \"['Q517596']\", \"['Q5172823']\", \"['Q5167149']\", \"['Q5164321']\", \"['Q5163925']\", \"['Q5162950']\", \"['Q516239']\", \"['Q5155053']\", \"['Q5155040']\", \"['Q5154967']\", \"['Q5150900']\", \"['Q5146929']\", \"['Q514480']\", \"['Q5141550']\", \"['Q5141248']\", \"['Q51330213']\", \"['Q5124028']\", \"['Q512399']\", \"['Q5122907']\", \"['Q512129']\", \"['Q51118821']\", \"['Q510854']\", \"['Q510628']\", \"['Q510255']\", \"['Q5099912']\", \"['Q50963']\", \"['Q509037']\", \"['Q5088917']\", \"['Q508867']\", \"['Q50809253']\", \"['Q5078274']\", \"['Q507443']\", \"['Q50675']\", \"['Q506412']\", \"['Q505799']\", \"['Q50513']\", \"['Q504874']\", \"['Q50414774']\", \"['Q503847']\", \"['Q50380591']\", \"['Q5034552']\", \"['Q503354']\", \"['Q5032604']\", \"['Q5030766']\", \"['Q502895']\", \"['Q5021202']\", \"['Q5019056']\", \"['Q5015574']\", \"['Q5015563']\", \"['Q5015526']\", \"['Q5015499']\", \"['Q500669']\", \"['Q50060886']\", \"['Q50002046']\", \"['Q499916']\", \"['Q4994137']\", \"['Q498661']\", \"['Q4972100']\", \"['Q49695242']\", \"['Q496341']\", \"['Q49614']\", \"['Q494311']\", \"['Q4942158']\", \"['Q494002']\", \"['Q49374']\", \"['Q493169']\", \"['Q4931504']\", \"['Q492042']\", \"['Q4919932']\", \"['Q4915239']\", \"['Q4915012']\", \"['Q4895393']\", \"['Q489523']\", \"['Q48907157']\", \"['Q4887441']\", \"['Q488654']\", \"['Q488383']\", \"['Q488094']\", \"['Q48790109']\", \"['Q4876617']\", \"['Q486547']\", \"['Q486245']\", \"['Q4861943']\", \"['Q48473']\", \"['Q4846867']\", \"['Q484215']\", \"['Q484083']\", \"['Q4833830']\", \"['Q483373']\", \"['Q48298065']\", \"['Q4824511']\", \"['Q4815989']\", \"['Q4806618']\", \"['Q4797221']\", \"['Q479448']\", \"['Q479257']\", \"['Q4792460']\", \"['Q4787327']\", \"['Q478679']\", \"['Q478328']\", \"['Q478128']\", \"['Q477155']\", \"['Q4764963']\", \"['Q476190']\", \"['Q475699']\", \"['Q47568']\", \"['Q47559677']\", \"['Q47513792']\", \"['Q47512172']\", \"['Q47495113']\", \"['Q47486824']\", \"['Q47485959']\", \"['Q47484406']\", \"['Q47475585']\", \"['Q474698']\", \"['Q47468610']\", \"['Q47464451']\", \"['Q47459256']\", \"['Q47454928']\", \"['Q474534']\", \"['Q47450979']\", \"['Q474090']\", \"['Q4740894']\", \"['Q47407008']\", \"['Q47405126']\", \"['Q4737473']\", \"['Q47315']\", \"['Q47272804']\", \"['Q472538']\", \"['Q47252234']\", \"['Q47229483']\", \"['Q47223']\", \"['Q471894']\", \"['Q471855']\", \"['Q471771']\", \"['Q47167051']\", \"['Q47092681']\", \"['Q4708579']\", \"['Q47041']\", \"['Q47034896']\", \"['Q469900']\", \"['Q4698330']\", \"['Q46980']\", \"['Q468882']\", \"['Q468801']\", \"['Q468595']\", \"['Q467938']\", \"['Q46614560']\", \"['Q465909']\", \"['Q464852']\", \"['Q46433']\", \"['Q46335']\", \"['Q462100']\", \"['Q46124']\", \"['Q460338']\", \"['Q460178']\", \"['Q45999579']\", \"['Q459798']\", \"['Q45971958']\", \"['Q45897634']\", \"['Q4576564']\", \"['Q45713']\", \"['Q455403']\", \"['Q4538278']\", \"['Q4538276']\", \"['Q4536544']\", \"['Q4536542']\", \"['Q4530436']\", \"['Q452440']\", \"['Q4510080']\", \"['Q4505959']\", \"['Q45045176']\", \"['Q45045']\", \"['Q4502142']\", \"['Q4501454']\", \"['Q44854']\", \"['Q4481771']\", \"['Q44696264']\", \"['Q4469598']\", \"['Q4469293']\", \"['Q4468368']\", \"['Q44665130']\", \"['Q4460810']\", \"['Q44597158']\", \"['Q4451216']\", \"['Q4451214']\", \"['Q44497']\", \"['Q44481679']\", \"['Q444789']\", \"['Q444706']\", \"['Q443802']\", \"['Q4426538']\", \"['Q44223635']\", \"['Q4406616']\", \"['Q4393107']\", \"['Q4388799']\", \"['Q4386060']\", \"['Q4383245']\", \"['Q4375510']\", \"['Q43702']\", \"['Q4364290']\", \"['Q43616']\", \"['Q4357531']\", \"['Q43554495']\", \"['Q4350754']\", \"['Q4349921']\", \"['Q4349624']\", \"['Q4349497']\", \"['Q4348600']\", \"['Q4345591']\", \"['Q4338251']\", \"['Q4338148']\", \"['Q43371093']\", \"['Q43307012']\", \"['Q43302']\", \"['Q4329280']\", \"['Q432536']\", \"['Q4321471']\", \"['Q431858']\", \"['Q4316623']\", \"['Q4315021']\", \"['Q4314478']\", \"['Q431064']\", \"['Q43100730']\", \"['Q43099500']\", \"['Q4306036']\", \"['Q4306024']\", \"['Q429896']\", \"['Q4298922']\", \"['Q4290']\", \"['Q428759']\", \"['Q428162']\", \"['Q42750320']\", \"['Q4274059']\", \"['Q42661374']\", \"['Q42643444']\", \"['Q42613239']\", \"['Q42527']\", \"['Q42515']\", \"['Q424204']\", \"['Q42396390']\", \"['Q42346390']\", \"['Q42336871']\", \"['Q42264828']\", \"['Q422007']\", \"['Q42195763']\", \"['Q4216603']\", \"['Q421281']\", \"['Q42058516']\", \"['Q41952404']\", \"['Q41872']\", \"['Q41867']\", \"['Q41812751']\", \"['Q41812406']\", \"['Q41798684']\", \"['Q41796']\", \"['Q41791795']\", \"['Q41751']\", \"['Q41746281']\", \"['Q4168092']\", \"['Q4168000']\", \"['Q4166005']\", \"['Q4162386']\", \"['Q41597955']\", \"['Q415766']\", \"['Q4156067']\", \"['Q41553020']\", \"['Q4153440']\", \"['Q4146861']\", \"['Q41408440']\", \"['Q41401699']\", \"['Q4138087']\", \"['Q4131030']\", \"['Q413']\", \"['Q4128863']\", \"['Q4128590']\", \"['Q4114763']\", \"['Q41118032']\", \"['Q4101440']\", \"['Q409205']\", \"['Q40831']\", \"['Q4072190']\", \"['Q4070702']\", \"['Q4070280']\", \"['Q406957']\", \"['Q405155']\", \"['Q4048349']\", \"['Q404785']\", \"['Q4044246']\", \"['Q4009273']\", \"['Q400704']\", \"['Q4005772']\", \"['Q4002650']\", \"['Q3991682']\", \"['Q3979448']\", \"['Q3977918']\", \"['Q3976659']\", \"['Q3966286']\", \"['Q39658032']\", \"['Q3962']\", \"['Q3953379']\", \"['Q3951961']\", \"['Q3935703']\", \"['Q3931963']\", \"['Q3927244']\", \"['Q3927239']\", \"['Q392371']\", \"['Q392316']\", \"['Q3922925']\", \"['Q3918404']\", \"['Q3918368']\", \"['Q3906880']\", \"['Q390585']\", \"['Q3901990']\", \"['Q39015397']\", \"['Q389459']\", \"['Q38936']\", \"['Q3892442']\", \"['Q3884033']\", \"['Q3881042']\", \"['Q3880375']\", \"['Q3879678']\", \"['Q387834']\", \"['Q387025']\", \"['Q38695']\", \"['Q38618822']\", \"['Q385870']\", \"['Q385853']\", \"['Q38516']\", \"['Q3851468']\", \"['Q3847476']\", \"['Q384003']\", \"['Q3839081']\", \"['Q3834389']\", \"['Q3831968']\", \"['Q38272177']\", \"['Q3824506']\", \"['Q3822604']\", \"['Q38216979']\", \"['Q3818443']\", \"['Q3816838']\", \"['Q38126804']\", \"['Q3807410']\", \"['Q380552']\", \"['Q380356']\", \"['Q380068']\", \"['Q38001342']\", \"['Q38001326']\", \"['Q38001307']\", \"['Q37999851']\", \"['Q37994673']\", \"['Q37994041']\", \"['Q379845']\", \"['Q379231']\", \"['Q378806']\", \"['Q37800986']\", \"['Q3775635']\", \"['Q3773693']\", \"['Q3772949']\", \"['Q3771516']\", \"['Q376799']\", \"['Q376431']\", \"['Q3756431']\", \"['Q375471']\", \"['Q3753913']\", \"['Q374814']\", \"['Q3744866']\", \"['Q37447']\", \"['Q372923']\", \"['Q372881']\", \"['Q3726309']\", \"['Q37260']\", \"['Q3721']\", \"['Q37152856']\", \"['Q3714546']\", \"['Q37144']\", \"['Q371385']\", \"['Q3707571']\", \"['Q3705329']\", \"['Q3704243']\", \"['Q370330']\", \"['Q3698852']\", \"['Q369730']\", \"['Q369385']\", \"['Q369330']\", \"['Q3683633']\", \"['Q367914']\", \"['Q36774']\", \"['Q3663773']\", \"['Q366134']\", \"['Q3660535']\", \"['Q366']\", \"['Q36570165']\", \"['Q365627']\", \"['Q3653995']\", \"['Q3652334']\", \"['Q36496']\", \"['Q36378899']\", \"['Q3630770']\", \"['Q3629395']\", \"['Q36279']\", \"['Q361909']\", \"['Q361665']\", \"['Q3611912']\", \"['Q3610510']\", \"['Q3593580']\", \"['Q3590900']\", \"['Q3588149']\", \"['Q3587397']\", \"['Q3587380']\", \"['Q3587147']\", \"['Q358648']\", \"['Q3585697']\", \"['Q358148']\", \"['Q3579158']\", \"['Q3578796']\", \"['Q3575871']\", \"['Q3569918']\", \"['Q356847']\", \"['Q3567586']\", \"['Q3566966']\", \"['Q3558965']\", \"['Q3558349']\", \"['Q3558198']\", \"['Q3556994']\", \"['Q3550897']\", \"['Q3547603']\", \"['Q35473']\", \"['Q3542199']\", \"['Q354136']\", \"['Q35409']\", \"['Q3540478']\", \"['Q3535487']\", \"['Q3534196']\", \"['Q353396']\", \"['Q3528749']\", \"['Q352858']\", \"['Q35245']\", \"['Q352293']\", \"['Q352222']\", \"['Q35197']\", \"['Q3518810']\", \"['Q3517779']\", \"['Q3515348']\", \"['Q3507268']\", \"['Q3505887']\", \"['Q3503315']\", \"['Q350176']\", \"['Q3497659']\", \"['Q3497165']\", \"['Q3492039']\", \"['Q3491088']\", \"['Q3490295']\", \"['Q3487908']\", \"['Q3486472']\", \"['Q34841310']\", \"['Q3480271']\", \"['Q348']\", \"['Q3475773']\", \"['Q3475123']\", \"['Q34698']\", \"['Q3467906']\", \"['Q3459291']\", \"['Q3457526']\", \"['Q3457162']\", \"['Q3456497']\", \"['Q3455658']\", \"['Q34508']\", \"['Q3449457']\", \"['Q3447871']\", \"['Q3444700']\", \"['Q34396']\", \"['Q34379']\", \"['Q34336']\", \"['Q34315358']\", \"['Q3428753']\", \"['Q34228']\", \"['Q3421644']\", \"['Q3412193']\", \"['Q34095']\", \"['Q3409269']\", \"['Q3407658']\", \"['Q3402326']\", \"['Q3401774']\", \"['Q3398676']\", \"['Q3397516']\", \"['Q3395121']\", \"['Q3388233']\", \"['Q3382900']\", \"['Q337907']\", \"['Q337807']\", \"['Q3374262']\", \"['Q33685']\", \"['Q336514']\", \"['Q3364296']\", \"['Q336371']\", \"['Q336172']\", \"['Q3356664']\", \"['Q3356149']\", \"['Q3355775']\", \"['Q3354958']\", \"['Q3354468']\", \"['Q335225']\", \"['Q334600']\", \"['Q334516']\", \"['Q334451']\", \"['Q334401']\", \"['Q3342546']\", \"['Q3333265']\", \"['Q333016']\", \"['Q333']\", \"['Q332784']\", \"['Q332506']\", \"['Q3317976']\", \"['Q331769']\", \"['Q33163']\", \"['Q331586']\", \"['Q331357']\", \"['Q33129345']\", \"['Q3312438']\", \"['Q3307578']\", \"['Q3306046']\", \"['Q3302947']\", \"['Q3302125']\", \"['Q329484']\", \"['Q3294251']\", \"['Q32859534']\", \"['Q3284499']\", \"['Q32766']\", \"['Q327394']\", \"['Q32738']\", \"['Q3273544']\", \"['Q327269']\", \"['Q3270361']\", \"['Q3268757']\", \"['Q3266850']\", \"['Q326259']\", \"['Q3257518']\", \"['Q3255372']\", \"['Q325358']\", \"['Q3250715']\", \"['Q324926']\", \"['Q32489']\", \"['Q3244156']\", \"['Q32435']\", \"['Q3241052']\", \"['Q3241045']\", \"['Q32385']\", \"['Q3214330']\", \"['Q3209941']\", \"['Q32090']\", \"['Q32015063']\", \"['Q3201456']\", \"['Q319845']\", \"['Q3196771']\", \"['Q3196553']\", \"['Q31841013']\", \"['Q318028']\", \"['Q317671']\", \"['Q31566']\", \"['Q3151392']\", \"['Q3150005']\", \"['Q315']\", \"['Q3147563']\", \"['Q31407679']\", \"['Q3122827']\", \"['Q3117772']\", \"['Q3117735']\", \"['Q3112604']\", \"['Q3110808']\", \"['Q3109696']\", \"['Q3107744']\", \"['Q3099732']\", \"['Q3097744']\", \"['Q3095365']\", \"['Q3095068']\", \"['Q309481']\", \"['Q30935442']\", \"['Q309314']\", \"['Q308905']\", \"['Q308857']\", \"['Q3084961']\", \"['Q3083079']\", \"['Q3080343']\", \"['Q3079027']\", \"['Q3079022']\", \"['Q3078732']\", \"['Q3077423']\", \"['Q3075898']\", \"['Q3074486']\", \"['Q3074244']\", \"['Q3074']\", \"['Q3072863']\", \"['Q3071701']\", \"['Q3071343']\", \"['Q3070242']\", \"['Q3068975']\", \"['Q3067433']\", \"['Q30612']\", \"['Q3059502']\", \"['Q30592710']\", \"['Q3059255']\", \"['Q3058675']\", \"['Q30559504']\", \"['Q30524056']\", \"['Q3052382']\", \"['Q30504418']\", \"['Q3050136']\", \"['Q3048444']\", \"['Q3044808']\", \"['Q30339232']\", \"['Q3033613']\", \"['Q30336093']\", \"['Q30329227']\", \"['Q30313989']\", \"['Q30301644']\", \"['Q30301498']\", \"['Q3029797']\", \"['Q3026787']\", \"['Q3023711']\", \"['Q30234158']\", \"['Q301869']\", \"['Q30178840']\", \"['Q30129212']\", \"['Q301292']\", \"['Q30111082']\", \"['Q30103545']\", \"['Q30070439']\", \"['Q30059018']\", \"['Q30032916']\", \"['Q30020391']\", \"['Q2999641']\", \"['Q2998536']\", \"['Q2998465']\", \"['Q29969011']\", \"['Q2996615']\", \"['Q2995808']\", \"['Q2995644']\", \"['Q2994640']\", \"['Q2993760']\", \"['Q2993090']\", \"['Q29925']\", \"['Q29918328']\", \"['Q29918287']\", \"['Q29902221']\", \"['Q2989771']\", \"['Q2989770']\", \"['Q2989369']\", \"['Q2988930']\", \"['Q2988353']\", \"['Q2983548']\", \"['Q2982272']\", \"['Q2976606']\", \"['Q2972109']\", \"['Q2964429']\", \"['Q29639345']\", \"['Q29587254']\", \"['Q29561638']\", \"['Q2955753']\", \"['Q2955393']\", \"['Q295472']\", \"['Q2954514']\", \"['Q2953911']\", \"['Q29527347']\", \"['Q29518746']\", \"['Q29517555']\", \"['Q29467088']\", \"['Q2945945']\", \"['Q2945309']\", \"['Q2945282']\", \"['Q2945053']\", \"['Q294440']\", \"['Q29439175']\", \"['Q2943040']\", \"['Q29428373']\", \"['Q2932373']\", \"['Q2922943']\", \"['Q2917176']\", \"['Q29168169']\", \"['Q2915275']\", \"['Q29149990']\", \"['Q2914427']\", \"['Q2914277']\", \"['Q29137']\", \"['Q2912687']\", \"['Q2907833']\", \"['Q29063418']\", \"['Q29048893']\", \"['Q29045252']\", \"['Q29043181']\", \"['Q29043077']\", \"['Q2904257']\", \"['Q2903810']\", \"['Q29025902']\", \"['Q290178']\", \"['Q28971984']\", \"['Q28966302']\", \"['Q28954851']\", \"['Q2895132']\", \"['Q28942392']\", \"['Q28942311']\", \"['Q28942']\", \"['Q2892580']\", \"['Q28923']\", \"['Q28922083']\", \"['Q2890064']\", \"['Q28890616']\", \"['Q28885102']\", \"['Q2887441']\", \"['Q28873665']\", \"['Q2887138']\", \"['Q28864185']\", \"['Q2885819']\", \"['Q28854784']\", \"['Q28845870']\", \"['Q28843552']\", \"['Q28834983']\", \"['Q2883346']\", \"['Q28813620']\", \"['Q2881199']\", \"['Q28797']\", \"['Q2877653']\", \"['Q28730356']\", \"['Q287']\", \"['Q28692623']\", \"['Q28667158']\", \"['Q2866472']\", \"['Q286300']\", \"['Q286228']\", \"['Q286203']\", \"['Q28607652']\", \"['Q2860136']\", \"['Q28597527']\", \"['Q285852']\", \"['Q2856460']\", \"['Q28545697']\", \"['Q28532565']\", \"['Q28531129']\", \"['Q285181']\", \"['Q28492208']\", \"['Q28480407']\", \"['Q284742']\", \"['Q2845944']\", \"['Q28455120']\", \"['Q284279']\", \"['Q28398102']\", \"['Q2828716']\", \"['Q2826641']\", \"['Q2824639']\", \"['Q28231530']\", \"['Q28222130']\", \"['Q28222060']\", \"['Q28221935']\", \"['Q28221923']\", \"['Q282049']\", \"['Q2818080']\", \"['Q2815625']\", \"['Q2814066']\", \"['Q28121404']\", \"['Q28109769']\", \"['Q28106049']\", \"['Q28104992']\", \"['Q28100918']\", \"['Q281']\", \"['Q28057489']\", \"['Q28057030']\", \"['Q28054047']\", \"['Q2804589']\", \"['Q28026737']\", \"['Q28020127']\", \"['Q2801262']\", \"['Q27998638']\", \"['Q27995043']\", \"['Q27979885']\", \"['Q2795827']\", \"['Q27951514']\", \"['Q27949687']\", \"['Q27919']\", \"['Q27917249']\", \"['Q27916659']\", \"['Q27876082']\", \"['Q27869508']\", \"['Q277875']\", \"['Q27702623']\", \"['Q27654220']\", \"['Q27587207']\", \"['Q2758248']\", \"['Q2757473']\", \"['Q2752214']\", \"['Q2751586']\", \"['Q27494256']\", \"['Q2746934']\", \"['Q27464969']\", \"['Q27450']\", \"['Q2743']\", \"['Q2739328']\", \"['Q2739123']\", \"['Q273666']\", \"['Q2736535']\", \"['Q273339']\", \"['Q2727213']\", \"['Q2723540']\", \"['Q271855']\", \"['Q2717322']\", \"['Q2714042']\", \"['Q27132946']\", \"['Q2710737']\", \"['Q2708515']\", \"['Q27077627']\", \"['Q27067659']\", \"['Q2706302']\", \"['Q27062253']\", \"['Q27062006']\", \"['Q27058']\", \"['Q27032392']\", \"['Q27032363']\", \"['Q27031827']\", \"['Q27031009']\", \"['Q2703']\", \"['Q27002']\", \"['Q2699757']\", \"['Q2699419']\", \"['Q26958661']\", \"['Q26936080']\", \"['Q26924395']\", \"['Q26913948']\", \"['Q268626']\", \"['Q2683596']\", \"['Q26830017']\", \"['Q2682286']\", \"['Q26789694']\", \"['Q267628']\", \"['Q2674461']\", \"['Q2670999']\", \"['Q26706967']\", \"['Q26644852']\", \"['Q26643']\", \"['Q266237']\", \"['Q265424']\", \"['Q265158']\", \"['Q2650083']\", \"['Q264542']\", \"['Q2643369']\", \"['Q26430975']\", \"['Q2642184']\", \"['Q264024']\", \"['Q2636077']\", \"['Q263443']\", \"['Q26343751']\", \"['Q263274']\", \"['Q2632641']\", \"['Q2632224']\", \"['Q2630733']\", \"['Q2630707']\", \"['Q26280629']\", \"['Q262775']\", \"['Q2627400']\", \"['Q26267864']\", \"['Q26263487']\", \"['Q26260402']\", \"['Q26256810']\", \"['Q2623817']\", \"['Q2623733']\", \"['Q26204053']\", \"['Q2616578']\", \"['Q26160672']\", \"['Q2613048']\", \"['Q261023']\", \"['Q260866']\", \"['Q260703']\", \"['Q2604618']\", \"['Q2602337']\", \"['Q260161']\", \"['Q2600838']\", \"['Q25999']\", \"['Q259864']\", \"['Q2596997']\", \"['Q2596525']\", \"['Q2596245']\", \"['Q2594143']\", \"['Q2593517']\", \"['Q25930814']\", \"['Q25930811']\", \"['Q25930806']\", \"['Q25930759']\", \"['Q25930752']\", \"['Q25930717']\", \"['Q25930532']\", \"['Q25930490']\", \"['Q25917154']\", \"['Q25894868']\", \"['Q2581063']\", \"['Q2578249']\", \"['Q2577883']\", \"['Q2572122']\", \"['Q2568890']\", \"['Q256812']\", \"['Q256752']\", \"['Q2565995']\", \"['Q2565355']\", \"['Q2558591']\", \"['Q25579312']\", \"['Q2556234']\", \"['Q255592']\", \"['Q2554632']\", \"['Q25516866']\", \"['Q25516818']\", \"['Q25499441']\", \"['Q25456031']\", \"['Q25446687']\", \"['Q2543279']\", \"['Q25430613']\", \"['Q25424534']\", \"['Q25422198']\", \"['Q25416091']\", \"['Q2540626']\", \"['Q25404888']\", \"['Q25392373']\", \"['Q25385946']\", \"['Q25381219']\", \"['Q25377652']\", \"['Q25372']\", \"['Q2537']\", \"['Q25367878']\", \"['Q25363518']\", \"['Q253590']\", \"['Q2535180']\", \"['Q253481']\", \"['Q2534790']\", \"['Q25345660']\", \"['Q25343621']\", \"['Q253302']\", \"['Q253270']\", \"['Q253137']\", \"['Q25261']\", \"['Q252189']\", \"['Q2520412']\", \"['Q2519914']\", \"['Q251958']\", \"['Q2517684']\", \"['Q2516180']\", \"['Q2516121']\", \"['Q2515553']\", \"['Q251355']\", \"['Q2512624']\", \"['Q25113035']\", \"['Q25110567']\", \"['Q250840']\", \"['Q2505632']\", \"['Q25036877']\", \"['Q2503193']\", \"['Q2502537']\", \"['Q2500378']\", \"['Q2494447']\", \"['Q2493431']\", \"['Q2492313']\", \"['Q2491985']\", \"['Q2490']\", \"['Q2489759']\", \"['Q24879106']\", \"['Q2485480']\", \"['Q24853940']\", \"['Q24834073']\", \"['Q2479824']\", \"['Q2473512']\", \"['Q24718981']\", \"['Q24715318']\", \"['Q24713040']\", \"['Q24712693']\", \"['Q2466889']\", \"['Q2466826']\", \"['Q2464602']\", \"['Q2463598']\", \"['Q2462003']\", \"['Q2460422']\", \"['Q245962']\", \"['Q24581379']\", \"['Q24579448']\", \"['Q2457528']\", \"['Q2453629']\", \"['Q24533670']\", \"['Q2452550']\", \"['Q2445527']\", \"['Q24451526']\", \"['Q24444087']\", \"['Q2443965']\", \"['Q2442470']\", \"['Q2437424']\", \"['Q24335742']\", \"['Q24335595']\", \"['Q24334299']\", \"['Q243330']\", \"['Q2430594']\", \"['Q24288']\", \"['Q24284215']\", \"['Q24279']\", \"['Q2421212']\", \"['Q2421000']\", \"['Q241871']\", \"['Q24183876']\", \"['Q24176296']\", \"['Q2412834']\", \"['Q241212']\", \"['Q240911']\", \"['Q240831']\", \"['Q24081327']\", \"['Q24054178']\", \"['Q2404958']\", \"['Q2404861']\", \"['Q24045957']\", \"['Q2404296']\", \"['Q24041781']\", \"['Q240141']\", \"['Q2399482']\", \"['Q2397992']\", \"['Q2393673']\", \"['Q23931359']\", \"['Q23905265']\", \"['Q23905083']\", \"['Q23905068']\", \"['Q23905067']\", \"['Q23904673']\", \"['Q23901137']\", \"['Q23870569']\", \"['Q23868001']\", \"['Q2385513']\", \"['Q238354']\", \"['Q23833580']\", \"['Q23828031']\", \"['Q23827730']\", \"['Q238137']\", \"['Q23811264']\", \"['Q23811261']\", \"['Q2380836']\", \"['Q23807345']\", \"['Q2380447']\", \"['Q2372330']\", \"['Q23722468']\", \"['Q2371837']\", \"['Q23712']\", \"['Q23688115']\", \"['Q2368560']\", \"['Q2368508']\", \"['Q23681152']\", \"['Q2367171']\", \"['Q23670565']\", \"['Q23657135']\", \"['Q2364632']\", \"['Q23583615']\", \"['Q23541388']\", \"['Q235352']\", \"['Q2352365']\", \"['Q2351849']\", \"['Q235113']\", \"['Q2350183']\", \"['Q234870']\", \"['Q2345125']\", \"['Q234343']\", \"['Q2341429']\", \"['Q23394']\", \"['Q2333944']\", \"['Q2323517']\", \"['Q2312838']\", \"['Q2312129']\", \"['Q231204']\", \"['Q2311958']\", \"['Q231039']\", \"['Q2308614']\", \"['Q2306215']\", \"['Q2305901']\", \"['Q2305602']\", \"['Q2305567']\", \"['Q2305441']\", \"['Q2304313']\", \"['Q2304194']\", \"['Q23034955']\", \"['Q2302208']\", \"['Q23012297']\", \"['Q22988631']\", \"['Q22988603']\", \"['Q22984512']\", \"['Q2298412']\", \"['Q22978151']\", \"['Q22969563']\", \"['Q22961938']\", \"['Q22950320']\", \"['Q2294542']\", \"['Q22935148']\", \"['Q2292993']\", \"['Q2292849']\", \"['Q22908']\", \"['Q2289151']\", \"['Q2288723']\", \"['Q2283121']\", \"['Q2276525']\", \"['Q22721']\", \"['Q2270606']\", \"['Q22703997']\", \"['Q22696407']\", \"['Q22696395']\", \"['Q22696329']\", \"['Q22687823']\", \"['Q22678370']\", \"['Q22674930']\", \"['Q22671115']\", \"['Q22669632']\", \"['Q22669601']\", \"['Q22669521']\", \"['Q22657']\", \"['Q2265431']\", \"['Q2264838']\", \"['Q2259176']\", \"['Q225672']\", \"['Q2254764']\", \"['Q2252077']\", \"['Q2251595']\", \"['Q2250943']\", \"['Q2250551']\", \"['Q2249794']\", \"['Q2243978']\", \"['Q2243695']\", \"['Q2243243']\", \"['Q2240146']\", \"['Q2239533']\", \"['Q223638']\", \"['Q22348500']\", \"['Q22342957']\", \"['Q22342312']\", \"['Q22341433']\", \"['Q22341330']\", \"['Q22341286']\", \"['Q22338592']\", \"['Q22338585']\", \"['Q22333339']\", \"['Q22330909']\", \"['Q22328415']\", \"['Q2230328']\", \"['Q2229782']\", \"['Q22283539']\", \"['Q22283516']\", \"['Q22276316']\", \"['Q22268901']\", \"['Q2223631']\", \"['Q22231119']\", \"['Q221911']\", \"['Q2216973']\", \"['Q221662']\", \"['Q22160593']\", \"['Q22137478']\", \"['Q221295']\", \"['Q22091865']\", \"['Q22075301']\", \"['Q22029360']\", \"['Q2196898']\", \"['Q219557']\", \"['Q219538']\", \"['Q21945604']\", \"['Q2192508']\", \"['Q2191999']\", \"['Q21836433']\", \"['Q21804540']\", \"['Q2180428']\", \"['Q217972']\", \"['Q2178284']\", \"['Q21782627']\", \"['Q21772656']\", \"['Q2177040']\", \"['Q2177020']\", \"['Q217199']\", \"['Q217175']\", \"['Q217012']\", \"['Q2169635']\", \"['Q216931']\", \"['Q2168991']\", \"['Q216797']\", \"['Q216665']\", \"['Q216653']\", \"['Q2164862']\", \"['Q2164499']\", \"['Q216285']\", \"['Q216048']\", \"['Q21593165']\", \"['Q215857']\", \"['Q21583365']\", \"['Q215627']\", \"['Q21561306']\", \"['Q215605']\", \"['Q21550976']\", \"['Q21550629']\", \"['Q215495']\", \"['Q2154740']\", \"['Q2153735']\", \"['Q2153495']\", \"['Q21521438']\", \"['Q215088']\", \"['Q2150504']\", \"['Q21503788']\", \"['Q21493801']\", \"['Q2149189']\", \"['Q2148210']\", \"['Q21479969']\", \"['Q21479178']\", \"['Q2146417']\", \"['Q214334']\", \"['Q2142766']\", \"['Q214267']\", \"['Q214183']\", \"['Q2141554']\", \"['Q2139567']\", \"['Q2138556']\", \"['Q2137768']\", \"['Q2135361']\", \"['Q2135331']\", \"['Q213283']\", \"['Q212971']\", \"['Q21281409']\", \"['Q212458']\", \"['Q21224061']\", \"['Q212238']\", \"['Q212136']\", \"['Q21213456']\", \"['Q2121057']\", \"['Q21202185']\", \"['Q2120129']\", \"['Q2119819']\", \"['Q2119531']\", \"['Q21191134']\", \"['Q21188110']\", \"['Q211790']\", \"['Q211584']\", \"['Q21157076']\", \"['Q211554']\", \"['Q2114846']\", \"['Q2114712']\", \"['Q2113743']\", \"['Q21129801']\", \"['Q211201']\", \"['Q2111762']\", \"['Q21115902']\", \"['Q21115023']\", \"['Q2111434']\", \"['Q2111165']\", \"['Q21092604']\", \"['Q21086734']\", \"['Q21079854']\", \"['Q21076217']\", \"['Q2107094']\", \"['Q21070598']\", \"['Q21062380']\", \"['Q21042623']\", \"['Q2104072']\", \"['Q210390']\", \"['Q21029893']\", \"['Q21020440']\", \"['Q2101791']\", \"['Q2101700']\", \"['Q2101564']\", \"['Q210077']\", \"['Q21006406']\", \"['Q2098419']\", \"['Q2098373']\", \"['Q20968950']\", \"['Q20968646']\", \"['Q209542']\", \"['Q209190']\", \"['Q20888925']\", \"['Q2088753']\", \"['Q2087773']\", \"['Q20871196']\", \"['Q20867284']\", \"['Q208631']\", \"['Q20860083']\", \"['Q20857085']\", \"['Q20856087']\", \"['Q2085515']\", \"['Q2084929']\", \"['Q208478']\", \"['Q208467']\", \"['Q20828805']\", \"['Q20826981']\", \"['Q20826189']\", \"['Q20826063']\", \"['Q20826013']\", \"['Q20825628']\", \"['Q20824104']\", \"['Q208165']\", \"['Q208145']\", \"['Q208109']\", \"['Q2081003']\", \"['Q208030']\", \"['Q20793164']\", \"['Q207822']\", \"['Q207652']\", \"['Q207549']\", \"['Q20749395']\", \"['Q20743510']\", \"['Q20742776']\", \"['Q20740204']\", \"['Q20726407']\", \"['Q2072630']\", \"['Q207184']\", \"['Q207170']\", \"['Q2071567']\", \"['Q207137']\", \"['Q2070623']\", \"['Q2069494']\", \"['Q206943']\", \"['Q2069086']\", \"['Q206864']\", \"['Q20669447']\", \"['Q20667393']\", \"['Q20667187']\", \"['Q2066623']\", \"['Q20652655']\", \"['Q2064236']\", \"['Q2064133']\", \"['Q20639925']\", \"['Q20626607']\", \"['Q2062594']\", \"['Q20616831']\", \"['Q2061228']\", \"['Q205961']\", \"['Q205892']\", \"['Q20588290']\", \"['Q2054507']\", \"['Q2052852']\", \"['Q204910']\", \"['Q2048022']\", \"['Q204698']\", \"['Q204012']\", \"['Q2037699']\", \"['Q203441']\", \"['Q203415']\", \"['Q2032782']\", \"['Q2030064']\", \"['Q202509']\", \"['Q2024454']\", \"['Q2024265']\", \"['Q202344']\", \"['Q2021515']\", \"['Q2021478']\", \"['Q20203727']\", \"['Q20202982']\", \"['Q201919']\", \"['Q20180855']\", \"['Q20170565']\", \"['Q201676']\", \"['Q20153912']\", \"['Q201486']\", \"['Q201413']\", \"['Q201411']\", \"['Q201339']\", \"['Q2009686']\", \"['Q20089147']\", \"['Q200779']\", \"['Q20076707']\", \"['Q200726']\", \"['Q200547']\", \"['Q2005425']\", \"['Q20052016']\", \"['Q20026918']\", \"['Q200230']\", \"['Q2002016']\", \"['Q19984037']\", \"['Q19979618']\", \"['Q19969488']\", \"['Q19969434']\", \"['Q199655']\", \"['Q1995305']\", \"['Q19944120']\", \"['Q19934856']\", \"['Q19913602']\", \"['Q198952']\", \"['Q19890860']\", \"['Q19884438']\", \"['Q198614']\", \"['Q19845304']\", \"['Q19833736']\", \"['Q1983265']\", \"['Q19828548']\", \"['Q19826161']\", \"['Q19803443']\", \"['Q19799938']\", \"['Q19799']\", \"['Q1977131']\", \"['Q19760483']\", \"['Q19754825']\", \"['Q19753331']\", \"['Q1975176']\", \"['Q1974542']\", \"['Q1973056']\", \"['Q19720404']\", \"['Q19708506']\", \"['Q19693318']\", \"['Q1968664']\", \"['Q1967459']\", \"['Q1966910']\", \"['Q1965390']\", \"['Q19644607']\", \"['Q1962840']\", \"['Q19627817']\", \"['Q19610511']\", \"['Q19602404']\", \"['Q19600600']\", \"['Q19594662']\", \"['Q19563262']\", \"['Q1953305']\", \"['Q194980']\", \"['Q194796']\", \"['Q19464251']\", \"['Q1944346']\", \"['Q194428']\", \"['Q1941921']\", \"['Q1940809']\", \"['Q1940786']\", \"['Q193983']\", \"['Q1939471']\", \"['Q193886']\", \"['Q19369201']\", \"['Q193692']\", \"['Q193663']\", \"['Q19360703']\", \"['Q193605']\", \"['Q1935979']\", \"['Q19355445']\", \"['Q1935147']\", \"['Q1934961']\", \"['Q19344578']\", \"['Q193427']\", \"['Q1933026']\", \"['Q193231']\", \"['Q193220']\", \"['Q19316447']\", \"['Q1931107']\", \"['Q19292071']\", \"['Q192851']\", \"['Q1926305']\", \"['Q192425']\", \"['Q192161']\", \"['Q192150']\", \"['Q192127']\", \"['Q1920219']\", \"['Q191893']\", \"['Q191865']\", \"['Q191851']\", \"['Q1916382']\", \"['Q19162210']\", \"['Q191431']\", \"['Q191413']\", \"['Q191360']\", \"['Q191355']\", \"['Q1913217']\", \"['Q19116554']\", \"['Q191110']\", \"['Q190812']\", \"['Q1907150']\", \"['Q190652']\", \"['Q190438']\", \"['Q190399']\", \"['Q1901234']\", \"['Q190087']\", \"['Q1900755']\", \"['Q189994']\", \"['Q1899632']\", \"['Q1898464']\", \"['Q1898332']\", \"['Q1898246']\", \"['Q189760']\", \"['Q1894516']\", \"['Q189210']\", \"['Q189156']\", \"['Q188889']\", \"['Q188823']\", \"['Q1887898']\", \"['Q18870689']\", \"['Q188689']\", \"['Q18867064']\", \"['Q1886349']\", \"['Q188589']\", \"['Q188504']\", \"['Q18845744']\", \"['Q188298']\", \"['Q1882522']\", \"['Q18819626']\", \"['Q18815011']\", \"['Q18810488']\", \"['Q18810322']\", \"['Q187956']\", \"['Q187934']\", \"['Q18772252']\", \"['Q187685']\", \"['Q18762344']\", \"['Q187432']\", \"['Q1874098']\", \"['Q18711682']\", \"['Q18706315']\", \"['Q187051']\", \"['Q18703581']\", \"['Q18697071']\", \"['Q1867977']\", \"['Q18677266']\", \"['Q18674678']\", \"['Q186649']\", \"['Q18646933']\", \"['Q186408']\", \"['Q1864008']\", \"['Q18615527']\", \"['Q186081']\", \"['Q18603729']\", \"['Q186030']\", \"['Q18602415']\", \"['Q1859468']\", \"['Q18592110']\", \"['Q18577275']\", \"['Q18572946']\", \"['Q1856617']\", \"['Q18560545']\", \"['Q185600']\", \"['Q185583']\", \"['Q1855128']\", \"['Q18544917']\", \"['Q18543139']\", \"['Q18536349']\", \"['Q18536323']\", \"['Q18534366']\", \"['Q18524061']\", \"['Q1852119']\", \"['Q185091']\", \"['Q1850612']\", \"['Q1850410']\", \"['Q184932']\", \"['Q184870']\", \"['Q1848041']\", \"['Q1845']\", \"['Q184485']\", \"['Q184439']\", \"['Q184303']\", \"['Q18419119']\", \"['Q1841634']\", \"['Q18411786']\", \"['Q18406374']\", \"['Q18406306']\", \"['Q183770']\", \"['Q183482']\", \"['Q18343076']\", \"['Q18342738']\", \"['Q183427']\", \"['Q18330146']\", \"['Q18327510']\", \"['Q18325460']\", \"['Q183186']\", \"['Q183122']\", \"['Q183061']\", \"['Q183039']\", \"['Q182985']\", \"['Q182780']\", \"['Q1827414']\", \"['Q182683']\", \"['Q182661']\", \"['Q182529']\", \"['Q18230293']\", \"['Q182103']\", \"['Q18208034']\", \"['Q18201623']\", \"['Q1818058']\", \"['Q1817883']\", \"['Q181787']\", \"['Q1817684']\", \"['Q1817235']\", \"['Q18168594']\", \"['Q181469']\", \"['Q1814442']\", \"['Q1814351']\", \"['Q1813474']\", \"['Q1813287']\", \"['Q181298']\", \"['Q18117167']\", \"['Q18116579']\", \"['Q18114025']\", \"['Q18109']\", \"['Q181066']\", \"['Q18105680']\", \"['Q1810278']\", \"['Q180987']\", \"['Q18089186']\", \"['Q1807175']\", \"['Q1805337']\", \"['Q180481']\", \"['Q1804506']\", \"['Q180382']\", \"['Q1803360']\", \"['Q18028614']\", \"['Q1802611']\", \"['Q1802417']\", \"['Q1802386']\", \"['Q1802087']\", \"['Q18009853']\", \"['Q1800229']\", \"['Q1798603']\", \"['Q1798450']\", \"['Q179831']\", \"['Q1797308']\", \"['Q179651']\", \"['Q1795024']\", \"['Q1793170']\", \"['Q17928402']\", \"['Q1792623']\", \"['Q1791429']\", \"['Q1790374']\", \"['Q178921']\", \"['Q1785288']\", \"['Q178476']\", \"['Q178470']\", \"['Q1784695']\", \"['Q178401']\", \"['Q1783121']\", \"['Q1782649']\", \"['Q1781367']\", \"['Q1781180']\", \"['Q1781069']\", \"['Q1779930']\", \"['Q1779838']\", \"['Q1779653']\", \"['Q1779569']\", \"['Q1779319']\", \"['Q1778788']\", \"['Q1778235']\", \"['Q1777515']\", \"['Q17773756']\", \"['Q1776397']\", \"['Q177414']\", \"['Q177190']\", \"['Q17710980']\", \"['Q1770849']\", \"['Q1770467']\", \"['Q1770203']\", \"['Q1763545']\", \"['Q17627207']\", \"['Q1762621']\", \"['Q17623265']\", \"['Q17622327']\", \"['Q1760328']\", \"['Q176006']\", \"['Q1759167']\", \"['Q1759104']\", \"['Q1758383']\", \"['Q1758354']\", \"['Q1757539']\", \"['Q1757070']\", \"['Q17560478']\", \"['Q1755512']\", \"['Q1755420']\", \"['Q1753792']\", \"['Q1753584']\", \"['Q1753200']\", \"['Q1753063']\", \"['Q1752223']\", \"['Q175208']\", \"['Q17518870']\", \"['Q1751770']\", \"['Q1750982']\", \"['Q1750705']\", \"['Q174984']\", \"['Q17493956']\", \"['Q17487523']\", \"['Q1747681']\", \"['Q1747121']\", \"['Q17468125']\", \"['Q17463976']\", \"['Q17455058']\", \"['Q1744497']\", \"['Q17442550']\", \"['Q1743327']\", \"['Q174211']\", \"['Q1742059']\", \"['Q17416980']\", \"['Q1740966']\", \"['Q1739217']\", \"['Q1738742']\", \"['Q17376908']\", \"['Q1736393']\", \"['Q17361329']\", \"['Q17351697']\", \"['Q17351672']\", \"['Q173366']\", \"['Q17335294']\", \"['Q173271']\", \"['Q173227']\", \"['Q17310537']\", \"['Q17308967']\", \"['Q172937']\", \"['Q1729207']\", \"['Q17290932']\", \"['Q172896']\", \"['Q1728107']\", \"['Q17279753']\", \"['Q172778']\", \"['Q17271186']\", \"['Q1726780']\", \"['Q17259945']\", \"['Q172378']\", \"['Q172331']\", \"['Q17222820']\", \"['Q1721055']\", \"['Q17198524']\", \"['Q1718673']\", \"['Q17176533']\", \"['Q17176508']\", \"['Q1717246']\", \"['Q17166802']\", \"['Q17166701']\", \"['Q171650']\", \"['Q17152453']\", \"['Q17148655']\", \"['Q17147746']\", \"['Q17135847']\", \"['Q171251']\", \"['Q17098551']\", \"['Q17084016']\", \"['Q1707847']\", \"['Q1707496']\", \"['Q170593']\", \"['Q17054892']\", \"['Q170544']\", \"['Q170474']\", \"['Q170404']\", \"['Q1702612']\", \"['Q170156']\", \"['Q17009195']\", \"['Q17006838']\", \"['Q1700470']\", \"['Q16993367']\", \"['Q16989249']\", \"['Q1698619']\", \"['Q16980762']\", \"['Q16980']\", \"['Q16976589']\", \"['Q16966']\", \"['Q16947796']\", \"['Q16945583']\", \"['Q16938385']\", \"['Q1693568']\", \"['Q16933860']\", \"['Q16920758']\", \"['Q1690211']\", \"['Q16895517']\", \"['Q168845']\", \"['Q16874635']\", \"['Q16874408']\", \"['Q1686959']\", \"['Q168678']\", \"['Q168658']\", \"['Q16860836']\", \"['Q1685869']\", \"['Q1684034']\", \"['Q16837104']\", \"['Q1683601']\", \"['Q1683319']\", \"['Q16830339']\", \"['Q16821845']\", \"['Q16798524']\", \"['Q1678137']\", \"['Q16751551']\", \"['Q16744570']\", \"['Q1673189']\", \"['Q16725889']\", \"['Q1671228']\", \"['Q16710795']\", \"['Q16707691']\", \"['Q16705798']\", \"['Q1668151']\", \"['Q16675884']\", \"['Q1664256']\", \"['Q1663557']\", \"['Q16627165']\", \"['Q1662123']\", \"['Q1661080']\", \"['Q1660801']\", \"['Q16605260']\", \"['Q1660104']\", \"['Q1659844']\", \"['Q165970']\", \"['Q165938']\", \"['Q16585744']\", \"['Q16550252']\", \"['Q1653619']\", \"['Q16533']\", \"['Q165052']\", \"['Q16481994']\", \"['Q1647142']\", \"['Q1645999']\", \"['Q1644277']\", \"['Q1642488']\", \"['Q1641851']\", \"['Q164142']\", \"['Q1640829']\", \"['Q1640717']\", \"['Q1640496']\", \"['Q1639395']\", \"['Q16387']\", \"['Q1638287']\", \"['Q163687']\", \"['Q16361793']\", \"['Q163301']\", \"['Q16324495']\", \"['Q1632256']\", \"['Q1631154']\", \"['Q1630695']\", \"['Q1630279']\", \"['Q1628220']\", \"['Q1626693']\", \"['Q16266378']\", \"['Q1626609']\", \"['Q162378']\", \"['Q16236249']\", \"['Q1623035']\", \"['Q1622132']\", \"['Q1621649']\", \"['Q162157']\", \"['Q1621034']\", \"['Q16209265']\", \"['Q1620797']\", \"['Q16186061']\", \"['Q161524']\", \"['Q1614239']\", \"['Q16142131']\", \"['Q161410']\", \"['Q161380']\", \"['Q161179']\", \"['Q160845']\", \"['Q1607801']\", \"['Q16070574']\", \"['Q160683']\", \"['Q16056693']\", \"['Q1604564']\", \"['Q16039348']\", \"['Q16038801']\", \"['Q160151']\", \"['Q1598329']\", \"['Q159810']\", \"['Q1597991']\", \"['Q15978876']\", \"['Q15976349']\", \"['Q15974353']\", \"['Q159595']\", \"['Q1595418']\", \"['Q15943603']\", \"['Q15925542']\", \"['Q15921300']\", \"['Q15909505']\", \"['Q15908445']\", \"['Q15904214']\", \"['Q15895974']\", \"['Q15894910']\", \"['Q158626']\", \"['Q1585442']\", \"['Q15848142']\", \"['Q15841019']\", \"['Q15839082']\", \"['Q15831577']\", \"['Q15817877']\", \"['Q15813069']\", \"['Q15810910']\", \"['Q15795874']\", \"['Q15784703']\", \"['Q1573963']\", \"['Q15733039']\", \"['Q15731648']\", \"['Q15731190']\", \"['Q15728610']\", \"['Q15726290']\", \"['Q1572415']\", \"['Q15720625']\", \"['Q15710038']\", \"['Q15706467']\", \"['Q15706459']\", \"['Q1570561']\", \"['Q15704878']\", \"['Q1570182']\", \"['Q15701038']\", \"['Q1570005']\", \"['Q1569963']\", \"['Q156849']\", \"['Q156744']\", \"['Q1567371']\", \"['Q15671253']\", \"['Q1566']\", \"['Q15649510']\", \"['Q15648574']\", \"['Q15647906']\", \"['Q15646510']\", \"['Q15635173']\", \"['Q15634581']\", \"['Q15630943']\", \"['Q15629585']\", \"['Q15629323']\", \"['Q15623448']\", \"['Q1560906']\", \"['Q155930']\", \"['Q15590336']\", \"['Q1558054']\", \"['Q15562063']\", \"['Q15548076']\", \"['Q1553864']\", \"['Q1552924']\", \"['Q1552255']\", \"['Q1551763']\", \"['Q1551671']\", \"['Q1548839']\", \"['Q1548761']\", \"['Q1548436']\", \"['Q1544524']\", \"['Q1544383']\", \"['Q1542711']\", \"['Q1542672']\", \"['Q1541735']\", \"['Q1541226']\", \"['Q15410549']\", \"['Q1541043']\", \"['Q1541041']\", \"['Q1540416']\", \"['Q154038']\", \"['Q153938']\", \"['Q1538570']\", \"['Q153652']\", \"['Q1534477']\", \"['Q1533036']\", \"['Q1531833']\", \"['Q15313730']\", \"['Q15298259']\", \"['Q15281035']\", \"['Q1526627']\", \"['Q15242449']\", \"['Q152281']\", \"['Q15220419']\", \"['Q1521410']\", \"['Q152065']\", \"['Q15205937']\", \"['Q1520311']\", \"['Q151957']\", \"['Q15194024']\", \"['Q1519385']\", \"['Q1517550']\", \"['Q1517419']\", \"['Q1516975']\", \"['Q1516659']\", \"['Q1515156']\", \"['Q1514741']\", \"['Q151411']\", \"['Q1512291']\", \"['Q15104915']\", \"['Q15101896']\", \"['Q1510056']\", \"['Q150986']\", \"['Q15090615']\", \"['Q1507104']\", \"['Q1507004']\", \"['Q15068450']\", \"['Q15066925']\", \"['Q1506469']\", \"['Q1506443']\", \"['Q1505803']\", \"['Q1503784']\", \"['Q15031575']\", \"['Q1502863']\", \"['Q1501660']\", \"['Q1501543']\", \"['Q1501336']\", \"['Q149985']\", \"['Q1498487']\", \"['Q1497584']\", \"['Q149757']\", \"['Q1497090']\", \"['Q14944825']\", \"['Q14942777']\", \"['Q1493752']\", \"['Q14920651']\", \"['Q14907192']\", \"['Q1484064']\", \"['Q148401']\", \"['Q1483833']\", \"['Q14819856']\", \"['Q1479879']\", \"['Q1479822']\", \"['Q1478478']\", \"['Q1477711']\", \"['Q14775294']\", \"['Q1475848']\", \"['Q14755054']\", \"['Q14752696']\", \"['Q14748']\", \"['Q1474001']\", \"['Q1473346']\", \"['Q1472255']\", \"['Q1471749']\", \"['Q1470705']\", \"['Q14701803']\", \"['Q1469053']\", \"['Q1468807']\", \"['Q1468664']\", \"['Q14646875']\", \"['Q14623204']\", \"['Q1461523']\", \"['Q146071']\", \"['Q1459574']\", \"['Q1459367']\", \"['Q1458163']\", \"['Q1457145']\", \"['Q14551995']\", \"['Q14551324']\", \"['Q14545639']\", \"['Q1454477']\", \"['Q1453431']\", \"['Q14524070']\", \"['Q14523332']\", \"['Q1451906']\", \"['Q14518765']\", \"['Q14516417']\", \"['Q14508849']\", \"['Q14472063']\", \"['Q14455864']\", \"['Q1444957']\", \"['Q1444']\", \"['Q1442496']\", \"['Q1441762']\", \"['Q1441324']\", \"['Q1436376']\", \"['Q1436181']\", \"['Q1435994']\", \"['Q1434805']\", \"['Q143467']\", \"['Q14318472']\", \"['Q1431554']\", \"['Q1430652']\", \"['Q1430466']\", \"['Q1429889']\", \"['Q1428339']\", \"['Q1427844']\", \"['Q1426380']\", \"['Q14250007']\", \"['Q1424805']\", \"['Q1422709']\", \"['Q1422653']\", \"['Q1422253']\", \"['Q1421899']\", \"['Q1420024']\", \"['Q1419683']\", \"['Q1417609']\", \"['Q1417217']\", \"['Q141716']\", \"['Q1416696']\", \"['Q1416310']\", \"['Q1415423']\", \"['Q1415208']\", \"['Q1415017']\", \"['Q1414773']\", \"['Q1413083']\", \"['Q1413045']\", \"['Q1412224']\", \"['Q1409719']\", \"['Q1408581']\", \"['Q140774']\", \"['Q1407219']\", \"['Q1407042']\", \"['Q1405085']\", \"['Q1404229']\", \"['Q1403016']\", \"['Q1402739']\", \"['Q1402344']\", \"['Q1401183']\", \"['Q1400881']\", \"['Q14001']\", \"['Q1397416']\", \"['Q13968659']\", \"['Q1394738']\", \"['Q13928782']\", \"['Q1391390']\", \"['Q1389311']\", \"['Q1388464']\", \"['Q1387258']\", \"['Q1386235']\", \"['Q1385360']\", \"['Q1384277']\", \"['Q1381931']\", \"['Q1381335']\", \"['Q1378400']\", \"['Q1377447']\", \"['Q1377163']\", \"['Q1377111']\", \"['Q1376777']\", \"['Q1376517']\", \"['Q13744019']\", \"['Q13743995']\", \"['Q1372628']\", \"['Q1372205']\", \"['Q1370853']\", \"['Q1370727']\", \"['Q13698']\", \"['Q1369344']\", \"['Q136868']\", \"['Q1368']\", \"['Q1367']\", \"['Q1365916']\", \"['Q1365207']\", \"['Q1363585']\", \"['Q13632559']\", \"['Q13632']\", \"['Q1361551']\", \"['Q1361400']\", \"['Q1361086']\", \"['Q1359104']\", \"['Q13582281']\", \"['Q1358044']\", \"['Q13580385']\", \"['Q13578361']\", \"['Q13567935']\", \"['Q13557472']\", \"['Q1354045']\", \"['Q1353040']\", \"['Q1352795']\", \"['Q13504537']\", \"['Q1350359']\", \"['Q13499']\", \"['Q1349657']\", \"['Q1349088']\", \"['Q1349065']\", \"['Q1348305']\", \"['Q13482869']\", \"['Q13479982']\", \"['Q134737']\", \"['Q1347298']\", \"['Q13460321']\", \"['Q134550']\", \"['Q1345239']\", \"['Q1343205']\", \"['Q1343179']\", \"['Q13427116']\", \"['Q13425848']\", \"['Q13425820']\", \"['Q13425811']\", \"['Q13425794']\", \"['Q1342377']\", \"['Q134194']\", \"['Q1341478']\", \"['Q13402998']\", \"['Q1339459']\", \"['Q1339146']\", \"['Q1335878']\", \"['Q133182']\", \"['Q1329578']\", \"['Q1328914']\", \"['Q13276']\", \"['Q1327327']\", \"['Q1326966']\", \"['Q132612']\", \"['Q1323572']\", \"['Q13233284']\", \"['Q1323314']\", \"['Q1322850']\", \"['Q13220372']\", \"['Q1321978']\", \"['Q1321781']\", \"['Q131841']\", \"['Q131790']\", \"['Q1317637']\", \"['Q131748']\", \"['Q1317260']\", \"['Q1317251']\", \"['Q1315945']\", \"['Q131557']\", \"['Q13141862']\", \"['Q13138621']\", \"['Q131295']\", \"['Q13127659']\", \"['Q1312529']\", \"['Q1311569']\", \"['Q131130']\", \"['Q131087']\", \"['Q1307796']\", \"['Q1306755']\", \"['Q13033698']\", \"['Q1302299']\", \"['Q13017629']\", \"['Q13012970']\", \"['Q13012667']\", \"['Q1300787']\", \"['Q1299714']\", \"['Q1299358']\", \"['Q1298239']\", \"['Q12979']\", \"['Q1294983']\", \"['Q1294035']\", \"['Q1291195']\", \"['Q12902861']\", \"['Q129010']\", \"['Q128952']\", \"['Q1289455']\", \"['Q1288449']\", \"['Q12870']\", \"['Q12858101']\", \"['Q1285444']\", \"['Q12827256']\", \"['Q1280834']\", \"['Q12806962']\", \"['Q12806826']\", \"['Q12803172']\", \"['Q12799318']\", \"['Q127933']\", \"['Q12791']\", \"['Q12778795']\", \"['Q12772819']\", \"['Q12763914']\", \"['Q12760618']\", \"['Q12760']\", \"['Q1272194']\", \"['Q127197']\", \"['Q12716802']\", \"['Q12712991']\", \"['Q1269627']\", \"['Q12684']\", \"['Q1267889']\", \"['Q12673554']\", \"['Q126701']\", \"['Q1266946']\", \"['Q1266087']\", \"['Q12645496']\", \"['Q12621161']\", \"['Q12617875']\", \"['Q1261210']\", \"['Q1259977']\", \"['Q12592413']\", \"['Q12592372']\", \"['Q12592037']\", \"['Q12585051']\", \"['Q1257171']\", \"['Q12513145']\", \"['Q1250916']\", \"['Q12494403']\", \"['Q1246687']\", \"['Q1243603']\", \"['Q1243409']\", \"['Q1243341']\", \"['Q12433046']\", \"['Q12413618']\", \"['Q12408563']\", \"['Q12408338']\", \"['Q12405827']\", \"['Q1238775']\", \"['Q12385831']\", \"['Q12379557']\", \"['Q12376478']\", \"['Q12373247']\", \"['Q12373090']\", \"['Q1236923']\", \"['Q12361363']\", \"['Q1235532']\", \"['Q1235427']\", \"['Q12348913']\", \"['Q12345701']\", \"['Q12340140']\", \"['Q12336629']\", \"['Q12336613']\", \"['Q1233094']\", \"['Q123266']\", \"['Q1232319']\", \"['Q12322522']\", \"['Q1230759']\", \"['Q12301708']\", \"['Q12298619']\", \"['Q122653']\", \"['Q1225034']\", \"['Q12249052']\", \"['Q12241709']\", \"['Q1223242']\", \"['Q1221119']\", \"['Q1221033']\", \"['Q1220872']\", \"['Q12206807']\", \"['Q12189625']\", \"['Q12161100']\", \"['Q12149220']\", \"['Q12138894']\", \"['Q121359']\", \"['Q12116124']\", \"['Q1209180']\", \"['Q12079191']\", \"['Q1207757']\", \"['Q12068123']\", \"['Q1206437']\", \"['Q12055124']\", \"['Q12051488']\", \"['Q12050410']\", \"['Q12049098']\", \"['Q12047512']\", \"['Q12046766']\", \"['Q12042092']\", \"['Q1203964']\", \"['Q12039044']\", \"['Q1203713']\", \"['Q1203320']\", \"['Q12029081']\", \"['Q1202390']\", \"['Q12018179']\", \"['Q12018177']\", \"['Q12014176']\", \"['Q1201097']\", \"['Q1200957']\", \"['Q12003526']\", \"['Q11994509']\", \"['Q11992167']\", \"['Q11992144']\", \"['Q1198521']\", \"['Q1197552']\", \"['Q1197120']\", \"['Q11970585']\", \"['Q11968694']\", \"['Q11962746']\", \"['Q1196258']\", \"['Q1196126']\", \"['Q1196123']\", \"['Q1194788']\", \"['Q1194268']\", \"['Q1193236']\", \"['Q1192063']\", \"['Q11920609']\", \"['Q11914866']\", \"['Q11914211']\", \"['Q1191303']\", \"['Q11910414']\", \"['Q1190985']\", \"['Q11906839']\", \"['Q11906196']\", \"['Q11903334']\", \"['Q11903030']\", \"['Q11901695']\", \"['Q1190017']\", \"['Q11895083']\", \"['Q11888579']\", \"['Q1186978']\", \"['Q1186471']\", \"['Q1186029']\", \"['Q11835431']\", \"['Q1179112']\", \"['Q11788924']\", \"['Q11781064']\", \"['Q11775750']\", \"['Q11755860']\", \"['Q11748378']\", \"['Q11742076']\", \"['Q11741739']\", \"['Q11741382']\", \"['Q11723795']\", \"['Q11722177']\", \"['Q11702690']\", \"['Q11698422']\", \"['Q11692312']\", \"['Q11680313']\", \"['Q11664239']\", \"['Q1165944']\", \"['Q1165822']\", \"['Q11651156']\", \"['Q11650']\", \"['Q1164991']\", \"['Q11642']\", \"['Q11639620']\", \"['Q11639602']\", \"['Q11637770']\", \"['Q11633']\", \"['Q11631440']\", \"['Q1162751']\", \"['Q11626449']\", \"['Q11625999']\", \"['Q11611265']\", \"['Q1160621']\", \"['Q1159457']\", \"['Q11594379']\", \"['Q11588275']\", \"['Q11587546']\", \"['Q11570731']\", \"['Q115693088']\", \"['Q1156811']\", \"['Q11562938']\", \"['Q1156073']\", \"['Q11559533']\", \"['Q1155772']\", \"['Q1155622']\", \"['Q11554415']\", \"['Q1154868']\", \"['Q11545869']\", \"['Q115410539']\", \"['Q11539889']\", \"['Q1153558']\", \"['Q115326498']\", \"['Q115326462']\", \"['Q1153025']\", \"['Q1153014']\", \"['Q115300823']\", \"['Q115255122']\", \"['Q1152199']\", \"['Q11519483']\", \"['Q115192344']\", \"['Q1151643']\", \"['Q11510930']\", \"['Q11505291']\", \"['Q115044473']\", \"['Q1149963']\", \"['Q1149405']\", \"['Q11492812']\", \"['Q1149061']\", \"['Q114897837']\", \"['Q1148747']\", \"['Q114836246']\", \"['Q11481119']\", \"['Q1147633']\", \"['Q114728972']\", \"['Q11469']\", \"['Q1146627']\", \"['Q114567014']\", \"['Q1145153']\", \"['Q11448896']\", \"['Q11448145']\", \"['Q1144345']\", \"['Q11441818']\", \"['Q114392939']\", \"['Q11438578']\", \"['Q11435']\", \"['Q11434248']\", \"['Q1143046']\", \"['Q11425913']\", \"['Q11425']\", \"['Q11424433']\", \"['Q11424381']\", \"['Q11424232']\", \"['Q1141323']\", \"['Q114124381']\", \"['Q1141208']\", \"['Q1141166']\", \"['Q1140677']\", \"['Q11404566']\", \"['Q11404']\", \"['Q113995901']\", \"['Q113990375']\", \"['Q11397947']\", \"['Q1139665']\", \"['Q1139659']\", \"['Q11396401']\", \"['Q1139493']\", \"['Q11394606']\", \"['Q1139327']\", \"['Q1138826']\", \"['Q1138737']\", \"['Q1138414']\", \"['Q1138178']\", \"['Q11377515']\", \"['Q1137656']\", \"['Q1137570']\", \"['Q11374182']\", \"['Q11371169']\", \"['Q113673861']\", \"['Q1136730']\", \"['Q1136525']\", \"['Q11364']\", \"['Q11362400']\", \"['Q113558']\", \"['Q113551581']\", \"['Q11352']\", \"['Q1134237']\", \"['Q1134131']\", \"['Q1133705']\", \"['Q11334882']\", \"['Q1132998']\", \"['Q113292621']\", \"['Q1131614']\", \"['Q113141092']\", \"['Q113133046']\", \"['Q113040113']\", \"['Q1130160']\", \"['Q112960770']\", \"['Q1129448']\", \"['Q112869585']\", \"['Q11284677']\", \"['Q1128255']\", \"['Q11280995']\", \"['Q112727434']\", \"['Q112727431']\", \"['Q112727430']\", \"['Q112727427']\", \"['Q112727418']\", \"['Q112727403']\", \"['Q112727396']\", \"['Q112727393']\", \"['Q112727388']\", \"['Q112727385']\", \"['Q112727382']\", \"['Q112727379']\", \"['Q112727375']\", \"['Q112688641']\", \"['Q112679272']\", \"['Q112667618']\", \"['Q1125321']\", \"['Q1124012']\", \"['Q1123401']\", \"['Q1123245']\", \"['Q112229208']\", \"['Q11221827']\", \"['Q112183379']\", \"['Q11210']\", \"['Q111972893']\", \"['Q11190']\", \"['Q11189']\", \"['Q111792889']\", \"['Q11174202']\", \"['Q11150157']\", \"['Q111474217']\", \"['Q111437445']\", \"['Q111425780']\", \"['Q111352']\", \"['Q111235985']\", \"['Q11121294']\", \"['Q111141428']\", \"['Q1110379']\", \"['Q11101']\", \"['Q110976965']\", \"['Q1109500']\", \"['Q110930015']\", \"['Q110867755']\", \"['Q11086742']\", \"['Q11086567']\", \"['Q110857263']\", \"['Q110805611']\", \"['Q110609500']\", \"['Q110535774']\", \"['Q110534846']\", \"['Q110526701']\", \"['Q1104915']\", \"['Q110430875']\", \"['Q110407926']\", \"['Q110372546']\", \"['Q110300851']\", \"['Q11023']\", \"['Q110013395']\", \"['Q110010218']\", \"['Q109927108']\", \"['Q109874977']\", \"['Q109662605']\", \"['Q109659725']\", \"['Q109658711']\", \"['Q109646550']\", \"['Q109570442']\", \"['Q109540762']\", \"['Q10947886']\", \"['Q1094729']\", \"['Q109471870']\", \"['Q1094440']\", \"['Q1093954']\", \"['Q109392731']\", \"['Q109391']\", \"['Q1093833']\", \"['Q109354529']\", \"['Q1092661']\", \"['Q10926511']\", \"['Q109239160']\", \"['Q10916116']\", \"['Q109122706']\", \"['Q10910840']\", \"['Q1088910']\", \"['Q10888573']\", \"['Q1088759']\", \"['Q108860927']\", \"['Q108841058']\", \"['Q108838260']\", \"['Q108822950']\", \"['Q1088157']\", \"['Q10879990']\", \"['Q108792154']\", \"['Q10876320']\", \"['Q1087624']\", \"['Q10872630']\", \"['Q108699495']\", \"['Q108692698']\", \"['Q108659272']\", \"['Q10864048']\", \"['Q108632433']\", \"['Q108604560']\", \"['Q108585989']\", \"['Q10858537']\", \"['Q10858355']\", \"['Q10857288']\", \"['Q108532703']\", \"['Q108466181']\", \"['Q108460239']\", \"['Q10840669']\", \"['Q108377574']\", \"['Q1083752']\", \"['Q108320110']\", \"['Q108319959']\", \"['Q10831626']\", \"['Q1082815']\", \"['Q108255949']\", \"['Q10822464']\", \"['Q108163']\", \"['Q108117266']\", \"['Q108060572']\", \"['Q108059873']\", \"['Q108059870']\", \"['Q108059851']\", \"['Q1080438']\", \"['Q1080137']\", \"['Q1077857']\", \"['Q1077480']\", \"['Q107736918']\", \"['Q1077135']\", \"['Q1077064']\", \"['Q107685861']\", \"['Q107637441']\", \"['Q107600990']\", \"['Q107581410']\", \"['Q1075664']\", \"['Q1075546']\", \"['Q1075310']\", \"['Q107478770']\", \"['Q1074158']\", \"['Q107394355']\", \"['Q10737']\", \"['Q1073535']\", \"['Q107343049']\", \"['Q10734']\", \"['Q107285953']\", \"['Q1072166']\", \"['Q107154516']\", \"['Q1071357']\", \"['Q107095432']\", \"['Q107044002']\", \"['Q1070414']\", \"['Q107024302']\", \"['Q107009735']\", \"['Q107']\", \"['Q106978496']\", \"['Q106959701']\", \"['Q106959691']\", \"['Q1069525']\", \"['Q1069267']\", \"['Q1068673']\", \"['Q1068473']\", \"['Q106834231']\", \"['Q106833']\", \"['Q106817283']\", \"['Q1067867']\", \"['Q10675206']\", \"['Q106719627']\", \"['Q106713297']\", \"['Q106706063']\", \"['Q106695446']\", \"['Q106691645']\", \"['Q106687570']\", \"['Q106678098']\", \"['Q10666337']\", \"['Q106651444']\", \"['Q106651372']\", \"['Q106650967']\", \"['Q106635272']\", \"['Q106634743']\", \"['Q106594095']\", \"['Q106594041']\", \"['Q106576055']\", \"['Q1065656']\", \"['Q1064858']\", \"['Q1064538']\", \"['Q1064392']\", \"['Q10638782']\", \"['Q10638581']\", \"['Q106357527']\", \"['Q1063558']\", \"['Q1062990']\", \"['Q1062352']\", \"['Q10616388']\", \"['Q106106']\", \"['Q1061002']\", \"['Q1060855']\", \"['Q1060846']\", \"['Q106043376']\", \"['Q1058792']\", \"['Q105835597']\", \"['Q105819240']\", \"['Q105768262']\", \"['Q105763033']\", \"['Q105758208']\", \"['Q105729508']\", \"['Q1056378']\", \"['Q105593003']\", \"['Q105576559']\", \"['Q105576421']\", \"['Q105571050']\", \"['Q105550462']\", \"['Q1055465']\", \"['Q10553904']\", \"['Q1055303']\", \"['Q10550013']\", \"['Q105499501']\", \"['Q105483186']\", \"['Q105426967']\", \"['Q105394821']\", \"['Q105394812']\", \"['Q105392465']\", \"['Q105360482']\", \"['Q105338594']\", \"['Q105322523']\", \"['Q1052919']\", \"['Q1052804']\", \"['Q105271891']\", \"['Q1052001']\", \"['Q10514237']\", \"['Q105131']\", \"['Q105100160']\", \"['Q105080440']\", \"['Q105046283']\", \"['Q1049358']\", \"['Q104918361']\", \"['Q104917667']\", \"['Q104776655']\", \"['Q104758804']\", \"['Q1047299']\", \"['Q104707222']\", \"['Q1046926']\", \"['Q1046648']\", \"['Q104645948']\", \"['Q104633321']\", \"['Q104630756']\", \"['Q1045860']\", \"['Q1044204']\", \"['Q104419518']\", \"['Q1043639']\", \"['Q10432278']\", \"['Q10427676']\", \"['Q10426']\", \"['Q10408306']\", \"['Q104083']\", \"['Q104058296']\", \"['Q104018996']\", \"['Q10400865']\", \"['Q10396778']\", \"['Q103813670']\", \"['Q103813440']\", \"['Q10361123']\", \"['Q1033951']\", \"['Q103284341']\", \"['Q1032372']\", \"['Q103229495']\", \"['Q103076']\", \"['Q10298081']\", \"['Q10296503']\", \"['Q10271630']\", \"['Q10259870']\", \"['Q102356063']\", \"['Q1022147']\", \"['Q1021128']\", \"['Q101843']\", \"['Q101420143']\", \"['Q101413621']\", \"['Q101244256']\", \"['Q101072']\", \"['Q101040848']\", \"['Q100973183']\", \"['Q100973182']\", \"['Q100775261']\", \"['Q1007356']\", \"['Q1007336']\", \"['Q100707163']\", \"['Q100689072']\", \"['Q1006733']\", \"['Q1006311']\", \"['Q1006283']\", \"['Q1006082']\", \"['Q1006048']\", \"['Q100509052']\", \"['Q100271038']\", \"['Q100195948']\", \"['Q1000858']\", \"['Q1000660']\", '\"[\\'Q99541706\\'', '\"[\\'Q994895\\'', '\"[\\'Q990488\\'', '\"[\\'Q985488\\'', '\"[\\'Q979943\\'', '\"[\\'Q9644\\'', '\"[\\'Q961537\\'', '\"[\\'Q96019931\\'', '\"[\\'Q956214\\'', '\"[\\'Q95612266\\'', '\"[\\'Q952274\\'', '\"[\\'Q950431\\'', '\"[\\'Q946596\\'', '\"[\\'Q937228\\'', '\"[\\'Q9369429\\'', '\"[\\'Q935277\\'', '\"[\\'Q930866\\'', '\"[\\'Q930164\\'', '\"[\\'Q92755865\\'', '\"[\\'Q924684\\'', '\"[\\'Q922203\\'', '\"[\\'Q918088\\'', '\"[\\'Q91312\\'', '\"[\\'Q902814\\'', '\"[\\'Q900729\\'', '\"[\\'Q898771\\'', '\"[\\'Q897303\\'', '\"[\\'Q891854\\'', '\"[\\'Q891055\\'', '\"[\\'Q8889\\'', '\"[\\'Q88590505\\'', '\"[\\'Q877998\\'', '\"[\\'Q876102\\'', '\"[\\'Q875016\\'', '\"[\\'Q867738\\'', '\"[\\'Q864553\\'', '\"[\\'Q860676\\'', '\"[\\'Q848797\\'', '\"[\\'Q848197\\'', '\"[\\'Q847935\\'', '\"[\\'Q847906\\'', '\"[\\'Q847478\\'', '\"[\\'Q840482\\'', '\"[\\'Q83790\\'', '\"[\\'Q836950\\'', '\"[\\'Q835400\\'', '\"[\\'Q833590\\'', '\"[\\'Q832435\\'', '\"[\\'Q831844\\'', '\"[\\'Q818882\\'', '\"[\\'Q817477\\'', '\"[\\'Q813672\\'', '\"[\\'Q811683\\'', '\"[\\'Q810308\\'', '\"[\\'Q8096\\'', '\"[\\'Q8081\\'', '\"[\\'Q80467551\\'', '\"[\\'Q8010730\\'', '\"[\\'Q7997\\'', '\"[\\'Q79529\\'', '\"[\\'Q79424059\\'', '\"[\\'Q7905814\\'', '\"[\\'Q7884789\\'', '\"[\\'Q787934\\'', '\"[\\'Q785979\\'', '\"[\\'Q781402\\'', '\"[\\'Q7810129\\'', '\"[\\'Q7777019\\'', '\"[\\'Q777342\\'', '\"[\\'Q7642168\\'', '\"[\\'Q76223357\\'', '\"[\\'Q7604686\\'', '\"[\\'Q756944\\'', '\"[\\'Q7565954\\'', '\"[\\'Q755707\\'', '\"[\\'Q755314\\'', '\"[\\'Q75520\\'', '\"[\\'Q746654\\'', '\"[\\'Q746549\\'', '\"[\\'Q746310\\'', '\"[\\'Q741226\\'', '\"[\\'Q738584\\'', '\"[\\'Q7372078\\'', '\"[\\'Q737125\\'', '\"[\\'Q736917\\'', '\"[\\'Q7302866\\'', '\"[\\'Q728085\\'', '\"[\\'Q7257461\\'', '\"[\\'Q725531\\'', '\"[\\'Q7251477\\'', '\"[\\'Q7248116\\'', '\"[\\'Q7248071\\'', '\"[\\'Q7246209\\'', '\"[\\'Q722547\\'', '\"[\\'Q720609\\'', '\"[\\'Q7193800\\'', '\"[\\'Q7129610\\'', '\"[\\'Q7075127\\'', '\"[\\'Q703941\\'', '\"[\\'Q702492\\'', '\"[\\'Q70114578\\'', '\"[\\'Q70114566\\'', '\"[\\'Q70106993\\'', '\"[\\'Q70106836\\'', '\"[\\'Q70106635\\'', '\"[\\'Q697304\\'', '\"[\\'Q696794\\'', '\"[\\'Q695793\\'', '\"[\\'Q693\\'', '\"[\\'Q690851\\'', '\"[\\'Q690175\\'', '\"[\\'Q6882870\\'', '\"[\\'Q68800046\\'', '\"[\\'Q677678\\'', '\"[\\'Q6710098\\'', '\"[\\'Q6685041\\'', '\"[\\'Q66739921\\'', '\"[\\'Q66715753\\'', '\"[\\'Q6636777\\'', '\"[\\'Q6619693\\'', '\"[\\'Q660668\\'', '\"[\\'Q659103\\'', '\"[\\'Q6576792\\'', '\"[\\'Q656720\\'', '\"[\\'Q654476\\'', '\"[\\'Q6518196\\'', '\"[\\'Q6503489\\'', '\"[\\'Q650241\\'', '\"[\\'Q6501447\\'', '\"[\\'Q646754\\'', '\"[\\'Q64447720\\'', '\"[\\'Q644264\\'', '\"[\\'Q6431149\\'', '\"[\\'Q641769\\'', '\"[\\'Q63869263\\'', '\"[\\'Q637866\\'', '\"[\\'Q63412991\\'', '\"[\\'Q63125083\\'', '\"[\\'Q62968288\\'', '\"[\\'Q628759\\'', '\"[\\'Q628455\\'', '\"[\\'Q62832\\'', '\"[\\'Q627272\\'', '\"[\\'Q625160\\'', '\"[\\'Q62391930\\'', '\"[\\'Q6190055\\'', '\"[\\'Q61881945\\'', '\"[\\'Q617807\\'', '\"[\\'Q615810\\'', '\"[\\'Q610559\\'', '\"[\\'Q61016841\\'', '\"[\\'Q610038\\'', '\"[\\'Q6083496\\'', '\"[\\'Q60754876\\'', '\"[\\'Q607463\\'', '\"[\\'Q60733114\\'', '\"[\\'Q6058157\\'', '\"[\\'Q6049561\\'', '\"[\\'Q6024707\\'', '\"[\\'Q5962346\\'', '\"[\\'Q59191021\\'', '\"[\\'Q59134402\\'', '\"[\\'Q5903178\\'', '\"[\\'Q58973026\\'', '\"[\\'Q589183\\'', '\"[\\'Q58795659\\'', '\"[\\'Q5871\\'', '\"[\\'Q5864\\'', '\"[\\'Q58480509\\'', '\"[\\'Q5810820\\'', '\"[\\'Q580499\\'', '\"[\\'Q579569\\'', '\"[\\'Q5774403\\'', '\"[\\'Q5767753\\'', '\"[\\'Q57644089\\'', '\"[\\'Q573344\\'', '\"[\\'Q57315116\\'', '\"[\\'Q56580326\\'', '\"[\\'Q56005592\\'', '\"[\\'Q55915575\\'', '\"[\\'Q558225\\'', '\"[\\'Q557728\\'', '\"[\\'Q557083\\'', '\"[\\'Q55521176\\'', '\"[\\'Q55511472\\'', '\"[\\'Q55430416\\'', '\"[\\'Q55190325\\'', '\"[\\'Q55130081\\'', '\"[\\'Q5487333\\'', '\"[\\'Q547823\\'', '\"[\\'Q5465500\\'', '\"[\\'Q53463\\'', '\"[\\'Q5244910\\'', '\"[\\'Q52154375\\'', '\"[\\'Q52103661\\'', '\"[\\'Q5198626\\'', '\"[\\'Q5188437\\'', '\"[\\'Q517820\\'', '\"[\\'Q5173771\\'', '\"[\\'Q5162954\\'', '\"[\\'Q5154933\\'', '\"[\\'Q513550\\'', '\"[\\'Q5116768\\'', '\"[\\'Q5109325\\'', '\"[\\'Q510578\\'', '\"[\\'Q51049922\\'', '\"[\\'Q509827\\'', '\"[\\'Q508838\\'', '\"[\\'Q507437\\'', '\"[\\'Q506883\\'', '\"[\\'Q505782\\'', '\"[\\'Q5051330\\'', '\"[\\'Q503481\\'', '\"[\\'Q5028741\\'', '\"[\\'Q502048\\'', '\"[\\'Q4992609\\'', '\"[\\'Q498267\\'', '\"[\\'Q4946461\\'', '\"[\\'Q493179\\'', '\"[\\'Q493169\\'', '\"[\\'Q48815697\\'', '\"[\\'Q486983\\'', '\"[\\'Q484692\\'', '\"[\\'Q4839801\\'', '\"[\\'Q483372\\'', '\"[\\'Q483279\\'', '\"[\\'Q4828724\\'', '\"[\\'Q4826921\\'', '\"[\\'Q48091\\'', '\"[\\'Q480319\\'', '\"[\\'Q479901\\'', '\"[\\'Q476068\\'', '\"[\\'Q475476\\'', '\"[\\'Q47513101\\'', '\"[\\'Q47403752\\'', '\"[\\'Q47358534\\'', '\"[\\'Q472808\\'', '\"[\\'Q47232\\'', '\"[\\'Q47002003\\'', '\"[\\'Q4688003\\'', '\"[\\'Q467578\\'', '\"[\\'Q4618\\'', '\"[\\'Q46135307\\'', '\"[\\'Q46112269\\'', '\"[\\'Q459297\\'', '\"[\\'Q45400320\\'', '\"[\\'Q4502129\\'', '\"[\\'Q4489569\\'', '\"[\\'Q446013\\'', '\"[\\'Q44529188\\'', '\"[\\'Q443802\\'', '\"[\\'Q44342\\'', '\"[\\'Q4418079\\'', '\"[\\'Q4400636\\'', '\"[\\'Q4375340\\'', '\"[\\'Q4364339\\'', '\"[\\'Q4358176\\'', '\"[\\'Q429785\\'', '\"[\\'Q42948\\'', '\"[\\'Q429292\\'', '\"[\\'Q428759\\'', '\"[\\'Q427626\\'', '\"[\\'Q423208\\'', '\"[\\'Q42245028\\'', '\"[\\'Q422211\\'', '\"[\\'Q4220917\\'', '\"[\\'Q421360\\'', '\"[\\'Q421\\'', '\"[\\'Q41768382\\'', '\"[\\'Q4129217\\'', '\"[\\'Q4128863\\'', '\"[\\'Q4057659\\'', '\"[\\'Q4045891\\'', '\"[\\'Q4024918\\'', '\"[\\'Q40218\\'', '\"[\\'Q4020075\\'', '\"[\\'Q4017348\\'', '\"[\\'Q4013974\\'', '\"[\\'Q40056\\'', '\"[\\'Q399811\\'', '\"[\\'Q3991146\\'', '\"[\\'Q39835986\\'', '\"[\\'Q3982337\\'', '\"[\\'Q3981270\\'', '\"[\\'Q3958022\\'', '\"[\\'Q3937969\\'', '\"[\\'Q39364723\\'', '\"[\\'Q392933\\'', '\"[\\'Q392385\\'', '\"[\\'Q3883247\\'', '\"[\\'Q38829\\'', '\"[\\'Q386724\\'', '\"[\\'Q386362\\'', '\"[\\'Q3843655\\'', '\"[\\'Q3815974\\'', '\"[\\'Q3813127\\'', '\"[\\'Q3812756\\'', '\"[\\'Q3807410\\'', '\"[\\'Q3799953\\'', '\"[\\'Q37993793\\'', '\"[\\'Q37899979\\'', '\"[\\'Q378508\\'', '\"[\\'Q3760014\\'', '\"[\\'Q376\\'', '\"[\\'Q3742740\\'', '\"[\\'Q372363\\'', '\"[\\'Q371752\\'', '\"[\\'Q369385\\'', '\"[\\'Q3689421\\'', '\"[\\'Q3678424\\'', '\"[\\'Q36774\\'', '\"[\\'Q3661265\\'', '\"[\\'Q366\\'', '\"[\\'Q3652986\\'', '\"[\\'Q3651832\\'', '\"[\\'Q36279\\'', '\"[\\'Q3618768\\'', '\"[\\'Q3602172\\'', '\"[\\'Q35989030\\'', '\"[\\'Q3595457\\'', '\"[\\'Q3580134\\'', '\"[\\'Q3579158\\'', '\"[\\'Q355437\\'', '\"[\\'Q35535\\'', '\"[\\'Q3539533\\'', '\"[\\'Q353070\\'', '\"[\\'Q3529419\\'', '\"[\\'Q352102\\'', '\"[\\'Q351113\\'', '\"[\\'Q35032\\'', '\"[\\'Q349843\\'', '\"[\\'Q349772\\'', '\"[\\'Q3473026\\'', '\"[\\'Q34651\\'', '\"[\\'Q34009\\'', '\"[\\'Q33992\\'', '\"[\\'Q3398676\\'', '\"[\\'Q339784\\'', '\"[\\'Q3395377\\'', '\"[\\'Q33881\\'', '\"[\\'Q33861\\'', '\"[\\'Q337912\\'', '\"[\\'Q3375722\\'', '\"[\\'Q337567\\'', '\"[\\'Q33685\\'', '\"[\\'Q3365097\\'', '\"[\\'Q334383\\'', '\"[\\'Q3327521\\'', '\"[\\'Q332225\\'', '\"[\\'Q3317612\\'', '\"[\\'Q331644\\'', '\"[\\'Q33125444\\'', '\"[\\'Q331225\\'', '\"[\\'Q3294251\\'', '\"[\\'Q32851726\\'', '\"[\\'Q327110\\'', '\"[\\'Q3247351\\'', '\"[\\'Q3240227\\'', '\"[\\'Q3220391\\'', '\"[\\'Q3201814\\'', '\"[\\'Q3199915\\'', '\"[\\'Q319141\\'', '\"[\\'Q3184737\\'', '\"[\\'Q3180027\\'', '\"[\\'Q3157041\\'', '\"[\\'Q3124902\\'', '\"[\\'Q3119075\\'', '\"[\\'Q3095365\\'', '\"[\\'Q3085683\\'', '\"[\\'Q3027575\\'', '\"[\\'Q30174967\\'', '\"[\\'Q3009575\\'', '\"[\\'Q3000614\\'', '\"[\\'Q300031\\'', '\"[\\'Q299821\\'', '\"[\\'Q299729\\'', '\"[\\'Q299714\\'', '\"[\\'Q299668\\'', '\"[\\'Q299617\\'', '\"[\\'Q299603\\'', '\"[\\'Q299561\\'', '\"[\\'Q299541\\'', '\"[\\'Q299499\\'', '\"[\\'Q299384\\'', '\"[\\'Q299382\\'', '\"[\\'Q2992127\\'', '\"[\\'Q299206\\'', '\"[\\'Q299193\\'', '\"[\\'Q299189\\'', '\"[\\'Q299144\\'', '\"[\\'Q2990963\\'', '\"[\\'Q2989649\\'', '\"[\\'Q2987\\'', '\"[\\'Q2976277\\'', '\"[\\'Q29654788\\'', '\"[\\'Q29643579\\'', '\"[\\'Q29628876\\'', '\"[\\'Q2950\\'', '\"[\\'Q29469\\'', '\"[\\'Q2945655\\'', '\"[\\'Q2930220\\'', '\"[\\'Q2930\\'', '\"[\\'Q2923\\'', '\"[\\'Q29197\\'', '\"[\\'Q2919327\\'', '\"[\\'Q2916980\\'', '\"[\\'Q2912\\'', '\"[\\'Q2910675\\'', '\"[\\'Q28935764\\'', '\"[\\'Q28923\\'', '\"[\\'Q28869447\\'', '\"[\\'Q2885\\'', '\"[\\'Q2881642\\'', '\"[\\'Q28747937\\'', '\"[\\'Q28667158\\'', '\"[\\'Q2860319\\'', '\"[\\'Q2858\\'', '\"[\\'Q28371991\\'', '\"[\\'Q283202\\'', '\"[\\'Q2830532\\'', '\"[\\'Q28203007\\'', '\"[\\'Q2816\\'', '\"[\\'Q28147500\\'', '\"[\\'Q28060956\\'', '\"[\\'Q28054019\\'', '\"[\\'Q279800\\'', '\"[\\'Q27968043\\'', '\"[\\'Q27951364\\'', '\"[\\'Q2780\\'', '\"[\\'Q2779\\'', '\"[\\'Q277760\\'', '\"[\\'Q27654220\\'', '\"[\\'Q2761147\\'', '\"[\\'Q27598544\\'', '\"[\\'Q2740635\\'', '\"[\\'Q2739132\\'', '\"[\\'Q2733412\\'', '\"[\\'Q273057\\'', '\"[\\'Q27303776\\'', '\"[\\'Q2727\\'', '\"[\\'Q272447\\'', '\"[\\'Q272231\\'', '\"[\\'Q2716\\'', '\"[\\'Q2714144\\'', '\"[\\'Q2713614\\'', '\"[\\'Q27055636\\'', '\"[\\'Q27055621\\'', '\"[\\'Q2695280\\'', '\"[\\'Q269528\\'', '\"[\\'Q2693624\\'', '\"[\\'Q26897352\\'', '\"[\\'Q2688\\'', '\"[\\'Q2680845\\'', '\"[\\'Q2679157\\'', '\"[\\'Q2676\\'', '\"[\\'Q26726974\\'', '\"[\\'Q2669\\'', '\"[\\'Q2665324\\'', '\"[\\'Q2662845\\'', '\"[\\'Q265868\\'', '\"[\\'Q265764\\'', '\"[\\'Q265662\\'', '\"[\\'Q2637056\\'', '\"[\\'Q263478\\'', '\"[\\'Q2632546\\'', '\"[\\'Q2631496\\'', '\"[\\'Q26266059\\'', '\"[\\'Q26236450\\'', '\"[\\'Q2622340\\'', '\"[\\'Q26156310\\'', '\"[\\'Q2607934\\'', '\"[\\'Q260161\\'', '\"[\\'Q2593777\\'', '\"[\\'Q25930814\\'', '\"[\\'Q25930811\\'', '\"[\\'Q25930653\\'', '\"[\\'Q25930490\\'', '\"[\\'Q2590631\\'', '\"[\\'Q2588\\'', '\"[\\'Q2576\\'', '\"[\\'Q2558684\\'', '\"[\\'Q2554364\\'', '\"[\\'Q2537831\\'', '\"[\\'Q2537751\\'', '\"[\\'Q2535\\'', '\"[\\'Q2527950\\'', '\"[\\'Q2516330\\'', '\"[\\'Q2509255\\'', '\"[\\'Q25047682\\'', '\"[\\'Q2502622\\'', '\"[\\'Q2499\\'', '\"[\\'Q249027\\'', '\"[\\'Q2485480\\'', '\"[\\'Q2465832\\'', '\"[\\'Q24633899\\'', '\"[\\'Q2455\\'', '\"[\\'Q2454570\\'', '\"[\\'Q245016\\'', '\"[\\'Q24452\\'', '\"[\\'Q244179\\'', '\"[\\'Q24243801\\'', '\"[\\'Q2423417\\'', '\"[\\'Q2416217\\'', '\"[\\'Q2413\\'', '\"[\\'Q241045\\'', '\"[\\'Q24027556\\'', '\"[\\'Q2401485\\'', '\"[\\'Q2395\\'', '\"[\\'Q23905105\\'', '\"[\\'Q23904673\\'', '\"[\\'Q23900202\\'', '\"[\\'Q2383\\'', '\"[\\'Q23828031\\'', '\"[\\'Q2382\\'', '\"[\\'Q2356542\\'', '\"[\\'Q234460\\'', '\"[\\'Q233591\\'', '\"[\\'Q2327632\\'', '\"[\\'Q2326815\\'', '\"[\\'Q2324919\\'', '\"[\\'Q2315\\'', '\"[\\'Q2313\\'', '\"[\\'Q2310\\'', '\"[\\'Q23015336\\'', '\"[\\'Q2301\\'', '\"[\\'Q2296548\\'', '\"[\\'Q22914759\\'', '\"[\\'Q2291158\\'', '\"[\\'Q22806\\'', '\"[\\'Q2269756\\'', '\"[\\'Q22652\\'', '\"[\\'Q2239243\\'', '\"[\\'Q2238\\'', '\"[\\'Q2225692\\'', '\"[\\'Q2221906\\'', '\"[\\'Q220898\\'', '\"[\\'Q2204848\\'', '\"[\\'Q2202509\\'', '\"[\\'Q2201212\\'', '\"[\\'Q22003134\\'', '\"[\\'Q2200223\\'', '\"[\\'Q21996535\\'', '\"[\\'Q21945604\\'', '\"[\\'Q21815132\\'', '\"[\\'Q21777259\\'', '\"[\\'Q2168243\\'', '\"[\\'Q216712\\'', '\"[\\'Q2164323\\'', '\"[\\'Q216048\\'', '\"[\\'Q21577192\\'', '\"[\\'Q2154519\\'', '\"[\\'Q21528930\\'', '\"[\\'Q21521438\\'', '\"[\\'Q2151621\\'', '\"[\\'Q2151\\'', '\"[\\'Q215048\\'', '\"[\\'Q214519\\'', '\"[\\'Q214252\\'', '\"[\\'Q213930\\'', '\"[\\'Q213924\\'', '\"[\\'Q2135465\\'', '\"[\\'Q2125658\\'', '\"[\\'Q2122052\\'', '\"[\\'Q211748\\'', '\"[\\'Q21130185\\'', '\"[\\'Q21125433\\'', '\"[\\'Q2112202\\'', '\"[\\'Q210999\\'', '\"[\\'Q21077852\\'', '\"[\\'Q210337\\'', '\"[\\'Q21009831\\'', '\"[\\'Q2099270\\'', '\"[\\'Q20973135\\'', '\"[\\'Q2089242\\'', '\"[\\'Q208820\\'', '\"[\\'Q208469\\'', '\"[\\'Q207697\\'', '\"[\\'Q20769160\\'', '\"[\\'Q207599\\'', '\"[\\'Q20750954\\'', '\"[\\'Q207436\\'', '\"[\\'Q20725872\\'', '\"[\\'Q2072352\\'', '\"[\\'Q2069999\\'', '\"[\\'Q2069494\\'', '\"[\\'Q20687684\\'', '\"[\\'Q20653566\\'', '\"[\\'Q20643955\\'', '\"[\\'Q205901\\'', '\"[\\'Q2055880\\'', '\"[\\'Q20541692\\'', '\"[\\'Q204324\\'', '\"[\\'Q204194\\'', '\"[\\'Q2039348\\'', '\"[\\'Q2037281\\'', '\"[\\'Q202744\\'', '\"[\\'Q2026594\\'', '\"[\\'Q202595\\'', '\"[\\'Q200764\\'', '\"[\\'Q20071160\\'', '\"[\\'Q20071150\\'', '\"[\\'Q2004692\\'', '\"[\\'Q200334\\'', '\"[\\'Q2001879\\'', '\"[\\'Q2001385\\'', '\"[\\'Q20008620\\'', '\"[\\'Q1989839\\'', '\"[\\'Q19861951\\'', '\"[\\'Q19832712\\'', '\"[\\'Q19831431\\'', '\"[\\'Q1980247\\'', '\"[\\'Q19753730\\'', '\"[\\'Q1969448\\'', '\"[\\'Q1969226\\'', '\"[\\'Q1966034\\'', '\"[\\'Q196068\\'', '\"[\\'Q19588431\\'', '\"[\\'Q19479037\\'', '\"[\\'Q19464263\\'', '\"[\\'Q1940040\\'', '\"[\\'Q19389637\\'', '\"[\\'Q1934961\\'', '\"[\\'Q1930585\\'', '\"[\\'Q192601\\'', '\"[\\'Q1925406\\'', '\"[\\'Q192350\\'', '\"[\\'Q192283\\'', '\"[\\'Q1922704\\'', '\"[\\'Q1922243\\'', '\"[\\'Q190967\\'', '\"[\\'Q190915\\'', '\"[\\'Q190429\\'', '\"[\\'Q189970\\'', '\"[\\'Q1899015\\'', '\"[\\'Q189898\\'', '\"[\\'Q1896949\\'', '\"[\\'Q18887969\\'', '\"[\\'Q188494\\'', '\"[\\'Q188468\\'', '\"[\\'Q188267\\'', '\"[\\'Q18763157\\'', '\"[\\'Q18761864\\'', '\"[\\'Q18759100\\'', '\"[\\'Q18748286\\'', '\"[\\'Q187456\\'', '\"[\\'Q18744396\\'', '\"[\\'Q1872284\\'', '\"[\\'Q18670161\\'', '\"[\\'Q18663566\\'', '\"[\\'Q18564289\\'', '\"[\\'Q18509232\\'', '\"[\\'Q184296\\'', '\"[\\'Q1841580\\'', '\"[\\'Q18325436\\'', '\"[\\'Q182068\\'', '\"[\\'Q181860\\'', '\"[\\'Q1817107\\'', '\"[\\'Q181593\\'', '\"[\\'Q1814442\\'', '\"[\\'Q1813287\\'', '\"[\\'Q1812109\\'', '\"[\\'Q18047834\\'', '\"[\\'Q18043413\\'', '\"[\\'Q180174\\'', '\"[\\'Q18011171\\'', '\"[\\'Q18009431\\'', '\"[\\'Q17990971\\'', '\"[\\'Q1799072\\'', '\"[\\'Q1797194\\'', '\"[\\'Q1792379\\'', '\"[\\'Q17907810\\'', '\"[\\'Q178921\\'', '\"[\\'Q1788582\\'', '\"[\\'Q1778846\\'', '\"[\\'Q17781690\\'', '\"[\\'Q177413\\'', '\"[\\'Q1770971\\'', '\"[\\'Q17633526\\'', '\"[\\'Q1760610\\'', '\"[\\'Q1758856\\'', '\"[\\'Q1758383\\'', '\"[\\'Q1754946\\'', '\"[\\'Q175331\\'', '\"[\\'Q17521458\\'', '\"[\\'Q17504823\\'', '\"[\\'Q17489160\\'', '\"[\\'Q17489143\\'', '\"[\\'Q174814\\'', '\"[\\'Q17468479\\'', '\"[\\'Q1744497\\'', '\"[\\'Q17377208\\'', '\"[\\'Q17364638\\'', '\"[\\'Q173603\\'', '\"[\\'Q17310311\\'', '\"[\\'Q172760\\'', '\"[\\'Q17275629\\'', '\"[\\'Q17232649\\'', '\"[\\'Q1723154\\'', '\"[\\'Q17202187\\'', '\"[\\'Q17198545\\'', '\"[\\'Q17146139\\'', '\"[\\'Q1713379\\'', '\"[\\'Q171187\\'', '\"[\\'Q170980\\'', '\"[\\'Q169956\\'', '\"[\\'Q16979650\\'', '\"[\\'Q16948009\\'', '\"[\\'Q16945799\\'', '\"[\\'Q16874643\\'', '\"[\\'Q16837104\\'', '\"[\\'Q16823155\\'', '\"[\\'Q1678467\\'', '\"[\\'Q16710795\\'', '\"[\\'Q16705943\\'', '\"[\\'Q16695773\\'', '\"[\\'Q16626768\\'', '\"[\\'Q1652352\\'', '\"[\\'Q165\\'', '\"[\\'Q16465941\\'', '\"[\\'Q1642895\\'', '\"[\\'Q1642267\\'', '\"[\\'Q1640829\\'', '\"[\\'Q1638287\\'', '\"[\\'Q1634719\\'', '\"[\\'Q16338046\\'', '\"[\\'Q1630622\\'', '\"[\\'Q1625378\\'', '\"[\\'Q1624034\\'', '\"[\\'Q16149276\\'', '\"[\\'Q161179\\'', '\"[\\'Q16101952\\'', '\"[\\'Q1608017\\'', '\"[\\'Q160645\\'', '\"[\\'Q159184\\'', '\"[\\'Q15902866\\'', '\"[\\'Q15896596\\'', '\"[\\'Q158626\\'', '\"[\\'Q15849374\\'', '\"[\\'Q15836568\\'', '\"[\\'Q15823129\\'', '\"[\\'Q1573906\\'', '\"[\\'Q15712205\\'', '\"[\\'Q15702752\\'', '\"[\\'Q1569871\\'', '\"[\\'Q15698310\\'', '\"[\\'Q1568942\\'', '\"[\\'Q15631872\\'', '\"[\\'Q15631817\\'', '\"[\\'Q15623926\\'', '\"[\\'Q15618781\\'', '\"[\\'Q15548076\\'', '\"[\\'Q15504389\\'', '\"[\\'Q15501937\\'', '\"[\\'Q1548518\\'', '\"[\\'Q1546359\\'', '\"[\\'Q154253\\'', '\"[\\'Q1542343\\'', '\"[\\'Q1541036\\'', '\"[\\'Q153936\\'', '\"[\\'Q1536607\\'', '\"[\\'Q15303456\\'', '\"[\\'Q152450\\'', '\"[\\'Q1519966\\'', '\"[\\'Q1517445\\'', '\"[\\'Q1517334\\'', '\"[\\'Q1516252\\'', '\"[\\'Q15155051\\'', '\"[\\'Q15140073\\'', '\"[\\'Q15110\\'', '\"[\\'Q1509831\\'', '\"[\\'Q1509716\\'', '\"[\\'Q15097084\\'', '\"[\\'Q15075508\\'', '\"[\\'Q15072800\\'', '\"[\\'Q15071808\\'', '\"[\\'Q1497649\\'', '\"[\\'Q1493533\\'', '\"[\\'Q14916829\\'', '\"[\\'Q148942\\'', '\"[\\'Q14763041\\'', '\"[\\'Q147538\\'', '\"[\\'Q1469824\\'', '\"[\\'Q14660\\'', '\"[\\'Q14659\\'', '\"[\\'Q14552192\\'', '\"[\\'Q14551987\\'', '\"[\\'Q1451876\\'', '\"[\\'Q1450662\\'', '\"[\\'Q1440300\\'', '\"[\\'Q144019\\'', '\"[\\'Q1429218\\'', '\"[\\'Q1428357\\'', '\"[\\'Q1426710\\'', '\"[\\'Q1426271\\'', '\"[\\'Q1426035\\'', '\"[\\'Q1424449\\'', '\"[\\'Q141683\\'', '\"[\\'Q1414991\\'', '\"[\\'Q1412403\\'', '\"[\\'Q1410881\\'', '\"[\\'Q140774\\'', '\"[\\'Q140588\\'', '\"[\\'Q1404150\\'', '\"[\\'Q1394657\\'', '\"[\\'Q1394476\\'', '\"[\\'Q1393724\\'', '\"[\\'Q1391842\\'', '\"[\\'Q1391517\\'', '\"[\\'Q13883136\\'', '\"[\\'Q1387659\\'', '\"[\\'Q1378781\\'', '\"[\\'Q1373429\\'', '\"[\\'Q1372205\\'', '\"[\\'Q1371849\\'', '\"[\\'Q1363599\\'', '\"[\\'Q13583449\\'', '\"[\\'Q1358324\\'', '\"[\\'Q13539802\\'', '\"[\\'Q13530412\\'', '\"[\\'Q1349088\\'', '\"[\\'Q1348155\\'', '\"[\\'Q134626\\'', '\"[\\'Q13427619\\'', '\"[\\'Q13422698\\'', '\"[\\'Q13410422\\'', '\"[\\'Q13360739\\'', '\"[\\'Q13360724\\'', '\"[\\'Q13360692\\'', '\"[\\'Q1331380\\'', '\"[\\'Q1322802\\'', '\"[\\'Q13218676\\'', '\"[\\'Q1318941\\'', '\"[\\'Q131669\\'', '\"[\\'Q1311060\\'', '\"[\\'Q13060354\\'', '\"[\\'Q13032118\\'', '\"[\\'Q130003\\'', '\"[\\'Q1298668\\'', '\"[\\'Q127843\\'', '\"[\\'Q12708689\\'', '\"[\\'Q1259977\\'', '\"[\\'Q1248874\\'', '\"[\\'Q1243157\\'', '\"[\\'Q12413618\\'', '\"[\\'Q123991\\'', '\"[\\'Q1238720\\'', '\"[\\'Q12351401\\'', '\"[\\'Q12317349\\'', '\"[\\'Q12262532\\'', '\"[\\'Q1221126\\'', '\"[\\'Q1210950\\'', '\"[\\'Q120544\\'', '\"[\\'Q12043905\\'', '\"[\\'Q12029081\\'', '\"[\\'Q1197552\\'', '\"[\\'Q1196126\\'', '\"[\\'Q1194583\\'', '\"[\\'Q1194240\\'', '\"[\\'Q11920609\\'', '\"[\\'Q1190207\\'', '\"[\\'Q11826511\\'', '\"[\\'Q11796413\\'', '\"[\\'Q11790203\\'', '\"[\\'Q117827\\'', '\"[\\'Q11774771\\'', '\"[\\'Q11755959\\'', '\"[\\'Q11637089\\'', '\"[\\'Q1156831\\'', '\"[\\'Q11549282\\'', '\"[\\'Q115492598\\'', '\"[\\'Q1153376\\'', '\"[\\'Q1153257\\'', '\"[\\'Q11519483\\'', '\"[\\'Q1151284\\'', '\"[\\'Q11486287\\'', '\"[\\'Q1147475\\'', '\"[\\'Q1141470\\'', '\"[\\'Q1141208\\'', '\"[\\'Q11410\\'', '\"[\\'Q11396960\\'', '\"[\\'Q113805953\\'', '\"[\\'Q1137833\\'', '\"[\\'Q11353\\'', '\"[\\'Q1134214\\'', '\"[\\'Q112826905\\'', '\"[\\'Q11280995\\'', '\"[\\'Q1127434\\'', '\"[\\'Q11229656\\'', '\"[\\'Q1122492\\'', '\"[\\'Q11221827\\'', '\"[\\'Q112149470\\'', '\"[\\'Q111986502\\'', '\"[\\'Q111161\\'', '\"[\\'Q110403031\\'', '\"[\\'Q1103285\\'', '\"[\\'Q109641212\\'', '\"[\\'Q109551565\\'', '\"[\\'Q10943\\'', '\"[\\'Q109379965\\'', '\"[\\'Q109329953\\'', '\"[\\'Q10843872\\'', '\"[\\'Q108403040\\'', '\"[\\'Q108059851\\'', '\"[\\'Q1077784\\'', '\"[\\'Q107773608\\'', '\"[\\'Q107690284\\'', '\"[\\'Q107425\\'', '\"[\\'Q10726579\\'', '\"[\\'Q107211056\\'', '\"[\\'Q106834231\\'', '\"[\\'Q106720965\\'', '\"[\\'Q1066707\\'', '\"[\\'Q1066670\\'', '\"[\\'Q1065656\\'', '\"[\\'Q1065592\\'', '\"[\\'Q106319018\\'', '\"[\\'Q10631691\\'', '\"[\\'Q1061197\\'', '\"[\\'Q10605195\\'', '\"[\\'Q1059407\\'', '\"[\\'Q10590726\\'', '\"[\\'Q105849914\\'', '\"[\\'Q105568810\\'', '\"[\\'Q1054813\\'', '\"[\\'Q105097234\\'', '\"[\\'Q10509147\\'', '\"[\\'Q104868059\\'', '\"[\\'Q1043939\\'', '\"[\\'Q10387689\\'', '\"[\\'Q103817\\'', '\"[\\'Q10354598\\'', '\"[\\'Q1035294\\'', '\"[\\'Q10284194\\'', '\"[\\'Q102496\\'', '\"[\\'Q101965\\'', '\"[\\'Q100775361\\'', '\"[\\'Q10065268\\'', '\"[\\'Q1005420\\'', '\"[\\'Q100135295\\'']\n"
          ]
        }
      ]
    },
    {
      "cell_type": "code",
      "source": [
        "deduplicated = subset[~subset[\"text\"].duplicated()]"
      ],
      "metadata": {
        "id": "992Aq62Lhg_e"
      },
      "id": "992Aq62Lhg_e",
      "execution_count": null,
      "outputs": []
    },
    {
      "cell_type": "code",
      "source": [
        "deduplicated.head()"
      ],
      "metadata": {
        "colab": {
          "base_uri": "https://localhost:8080/",
          "height": 206
        },
        "id": "Or5wF_vRT_5h",
        "outputId": "a298c8ea-2c7e-4d4f-b349-8d1724f96098"
      },
      "id": "Or5wF_vRT_5h",
      "execution_count": null,
      "outputs": [
        {
          "output_type": "execute_result",
          "data": {
            "text/plain": [
              "  wikiid                                               text  \\\n",
              "0    Q23  \"[ 472 1936    0    0    0    0    0    0    0...   \n",
              "1    Q23  \"[4190  241   52    0    0    0    0    0    0...   \n",
              "2    Q23  \"[  271 52038     0     0     0     0     0   ...   \n",
              "4    Q24  \"[ 3292 11408     0     0     0     0     0   ...   \n",
              "5    Q42  \"[2921 1934    0    0    0    0    0    0    0...   \n",
              "\n",
              "                wikilabel  \n",
              "0                    [Q5]  \n",
              "1                    [Q5]  \n",
              "2                    [Q5]  \n",
              "4  [Q15632617, Q15773317]  \n",
              "5                    [Q5]  "
            ],
            "text/html": [
              "\n",
              "  <div id=\"df-630542f8-1e30-4187-ba48-cc9d71723fd4\">\n",
              "    <div class=\"colab-df-container\">\n",
              "      <div>\n",
              "<style scoped>\n",
              "    .dataframe tbody tr th:only-of-type {\n",
              "        vertical-align: middle;\n",
              "    }\n",
              "\n",
              "    .dataframe tbody tr th {\n",
              "        vertical-align: top;\n",
              "    }\n",
              "\n",
              "    .dataframe thead th {\n",
              "        text-align: right;\n",
              "    }\n",
              "</style>\n",
              "<table border=\"1\" class=\"dataframe\">\n",
              "  <thead>\n",
              "    <tr style=\"text-align: right;\">\n",
              "      <th></th>\n",
              "      <th>wikiid</th>\n",
              "      <th>text</th>\n",
              "      <th>wikilabel</th>\n",
              "    </tr>\n",
              "  </thead>\n",
              "  <tbody>\n",
              "    <tr>\n",
              "      <th>0</th>\n",
              "      <td>Q23</td>\n",
              "      <td>\"[ 472 1936    0    0    0    0    0    0    0...</td>\n",
              "      <td>[Q5]</td>\n",
              "    </tr>\n",
              "    <tr>\n",
              "      <th>1</th>\n",
              "      <td>Q23</td>\n",
              "      <td>\"[4190  241   52    0    0    0    0    0    0...</td>\n",
              "      <td>[Q5]</td>\n",
              "    </tr>\n",
              "    <tr>\n",
              "      <th>2</th>\n",
              "      <td>Q23</td>\n",
              "      <td>\"[  271 52038     0     0     0     0     0   ...</td>\n",
              "      <td>[Q5]</td>\n",
              "    </tr>\n",
              "    <tr>\n",
              "      <th>4</th>\n",
              "      <td>Q24</td>\n",
              "      <td>\"[ 3292 11408     0     0     0     0     0   ...</td>\n",
              "      <td>[Q15632617, Q15773317]</td>\n",
              "    </tr>\n",
              "    <tr>\n",
              "      <th>5</th>\n",
              "      <td>Q42</td>\n",
              "      <td>\"[2921 1934    0    0    0    0    0    0    0...</td>\n",
              "      <td>[Q5]</td>\n",
              "    </tr>\n",
              "  </tbody>\n",
              "</table>\n",
              "</div>\n",
              "      <button class=\"colab-df-convert\" onclick=\"convertToInteractive('df-630542f8-1e30-4187-ba48-cc9d71723fd4')\"\n",
              "              title=\"Convert this dataframe to an interactive table.\"\n",
              "              style=\"display:none;\">\n",
              "        \n",
              "  <svg xmlns=\"http://www.w3.org/2000/svg\" height=\"24px\"viewBox=\"0 0 24 24\"\n",
              "       width=\"24px\">\n",
              "    <path d=\"M0 0h24v24H0V0z\" fill=\"none\"/>\n",
              "    <path d=\"M18.56 5.44l.94 2.06.94-2.06 2.06-.94-2.06-.94-.94-2.06-.94 2.06-2.06.94zm-11 1L8.5 8.5l.94-2.06 2.06-.94-2.06-.94L8.5 2.5l-.94 2.06-2.06.94zm10 10l.94 2.06.94-2.06 2.06-.94-2.06-.94-.94-2.06-.94 2.06-2.06.94z\"/><path d=\"M17.41 7.96l-1.37-1.37c-.4-.4-.92-.59-1.43-.59-.52 0-1.04.2-1.43.59L10.3 9.45l-7.72 7.72c-.78.78-.78 2.05 0 2.83L4 21.41c.39.39.9.59 1.41.59.51 0 1.02-.2 1.41-.59l7.78-7.78 2.81-2.81c.8-.78.8-2.07 0-2.86zM5.41 20L4 18.59l7.72-7.72 1.47 1.35L5.41 20z\"/>\n",
              "  </svg>\n",
              "      </button>\n",
              "      \n",
              "  <style>\n",
              "    .colab-df-container {\n",
              "      display:flex;\n",
              "      flex-wrap:wrap;\n",
              "      gap: 12px;\n",
              "    }\n",
              "\n",
              "    .colab-df-convert {\n",
              "      background-color: #E8F0FE;\n",
              "      border: none;\n",
              "      border-radius: 50%;\n",
              "      cursor: pointer;\n",
              "      display: none;\n",
              "      fill: #1967D2;\n",
              "      height: 32px;\n",
              "      padding: 0 0 0 0;\n",
              "      width: 32px;\n",
              "    }\n",
              "\n",
              "    .colab-df-convert:hover {\n",
              "      background-color: #E2EBFA;\n",
              "      box-shadow: 0px 1px 2px rgba(60, 64, 67, 0.3), 0px 1px 3px 1px rgba(60, 64, 67, 0.15);\n",
              "      fill: #174EA6;\n",
              "    }\n",
              "\n",
              "    [theme=dark] .colab-df-convert {\n",
              "      background-color: #3B4455;\n",
              "      fill: #D2E3FC;\n",
              "    }\n",
              "\n",
              "    [theme=dark] .colab-df-convert:hover {\n",
              "      background-color: #434B5C;\n",
              "      box-shadow: 0px 1px 3px 1px rgba(0, 0, 0, 0.15);\n",
              "      filter: drop-shadow(0px 1px 2px rgba(0, 0, 0, 0.3));\n",
              "      fill: #FFFFFF;\n",
              "    }\n",
              "  </style>\n",
              "\n",
              "      <script>\n",
              "        const buttonEl =\n",
              "          document.querySelector('#df-630542f8-1e30-4187-ba48-cc9d71723fd4 button.colab-df-convert');\n",
              "        buttonEl.style.display =\n",
              "          google.colab.kernel.accessAllowed ? 'block' : 'none';\n",
              "\n",
              "        async function convertToInteractive(key) {\n",
              "          const element = document.querySelector('#df-630542f8-1e30-4187-ba48-cc9d71723fd4');\n",
              "          const dataTable =\n",
              "            await google.colab.kernel.invokeFunction('convertToInteractive',\n",
              "                                                     [key], {});\n",
              "          if (!dataTable) return;\n",
              "\n",
              "          const docLinkHtml = 'Like what you see? Visit the ' +\n",
              "            '<a target=\"_blank\" href=https://colab.research.google.com/notebooks/data_table.ipynb>data table notebook</a>'\n",
              "            + ' to learn more about interactive tables.';\n",
              "          element.innerHTML = '';\n",
              "          dataTable['output_type'] = 'display_data';\n",
              "          await google.colab.output.renderOutput(dataTable, element);\n",
              "          const docLink = document.createElement('div');\n",
              "          docLink.innerHTML = docLinkHtml;\n",
              "          element.appendChild(docLink);\n",
              "        }\n",
              "      </script>\n",
              "    </div>\n",
              "  </div>\n",
              "  "
            ]
          },
          "metadata": {},
          "execution_count": 46
        }
      ]
    },
    {
      "cell_type": "code",
      "source": [
        "deduplicated.to_csv('model_input.csv', mode='a', index=False, header=False)"
      ],
      "metadata": {
        "id": "yC9e0p3-VeZ3"
      },
      "id": "yC9e0p3-VeZ3",
      "execution_count": null,
      "outputs": []
    },
    {
      "cell_type": "code",
      "source": [
        "!zip model_input.zip model_input.csv"
      ],
      "metadata": {
        "colab": {
          "base_uri": "https://localhost:8080/"
        },
        "id": "3kFPj_LSjrgN",
        "outputId": "80343633-441d-48f9-e76e-15fde917de3d"
      },
      "id": "3kFPj_LSjrgN",
      "execution_count": null,
      "outputs": [
        {
          "output_type": "stream",
          "name": "stdout",
          "text": [
            "  adding: model_input.csv (deflated 87%)\n"
          ]
        }
      ]
    },
    {
      "cell_type": "code",
      "source": [
        "!sudo apt install libtcmalloc-minimal4\n",
        "\n"
      ],
      "metadata": {
        "colab": {
          "base_uri": "https://localhost:8080/"
        },
        "id": "-_FB9L5S6RIX",
        "outputId": "016d4b58-f7e6-4df1-8614-2b8031bf3415"
      },
      "id": "-_FB9L5S6RIX",
      "execution_count": null,
      "outputs": [
        {
          "output_type": "stream",
          "name": "stdout",
          "text": [
            "Reading package lists... Done\n",
            "Building dependency tree       \n",
            "Reading state information... Done\n",
            "libtcmalloc-minimal4 is already the newest version (2.7-1ubuntu2).\n",
            "libtcmalloc-minimal4 set to manually installed.\n",
            "0 upgraded, 0 newly installed, 0 to remove and 22 not upgraded.\n"
          ]
        }
      ]
    },
    {
      "cell_type": "code",
      "source": [
        "!export LD_PRELOAD=/usr/lib/x86_64-linux-gnu/libtcmalloc_minimal.so.4"
      ],
      "metadata": {
        "id": "5_DHDMoL6Xyp"
      },
      "id": "5_DHDMoL6Xyp",
      "execution_count": 15,
      "outputs": []
    },
    {
      "cell_type": "code",
      "source": [
        "#cp model_input.zip /content/drive/MyDrive/iproject/\n",
        "\n",
        "!cp /content/drive/MyDrive/iproject/model_input.zip ."
      ],
      "metadata": {
        "id": "Lej2U22HjxR5"
      },
      "id": "Lej2U22HjxR5",
      "execution_count": 16,
      "outputs": []
    },
    {
      "cell_type": "code",
      "source": [
        "!unzip model_input.zip model_input.csv"
      ],
      "metadata": {
        "colab": {
          "base_uri": "https://localhost:8080/"
        },
        "id": "J4jMov0IkIWF",
        "outputId": "f2cee028-9f3f-40a1-8297-832803cfb951"
      },
      "id": "J4jMov0IkIWF",
      "execution_count": 17,
      "outputs": [
        {
          "output_type": "stream",
          "name": "stdout",
          "text": [
            "Archive:  model_input.zip\n",
            "  inflating: model_input.csv         \n"
          ]
        }
      ]
    },
    {
      "cell_type": "code",
      "source": [
        "model_input_chk = pd.read_csv('model_input.csv', names=['wikiid', 'text', 'wikilabel'],error_bad_lines=False, chunksize= 100000)\n",
        "\n",
        "model_input = next(model_input_chk)\n",
        "model_input[\"wikilabel\"] = model_input[\"wikilabel\"].apply(\n",
        "    lambda x: ast.literal_eval(x)\n",
        ")\n",
        "\n"
      ],
      "metadata": {
        "id": "gz2FeKyck77n"
      },
      "id": "gz2FeKyck77n",
      "execution_count": 18,
      "outputs": []
    },
    {
      "cell_type": "code",
      "source": [
        "model_input.head()"
      ],
      "metadata": {
        "colab": {
          "base_uri": "https://localhost:8080/",
          "height": 206
        },
        "id": "YVx-_Ym5yQLc",
        "outputId": "7a002ffd-bf04-4919-95a0-e02b3a922df5"
      },
      "id": "YVx-_Ym5yQLc",
      "execution_count": 19,
      "outputs": [
        {
          "output_type": "execute_result",
          "data": {
            "text/plain": [
              "  wikiid                                               text  \\\n",
              "0    Q23  \"[ 472 1936    0    0    0    0    0    0    0...   \n",
              "1    Q23  \"[4190  241   52    0    0    0    0    0    0...   \n",
              "2    Q23  \"[  271 52038     0     0     0     0     0   ...   \n",
              "3    Q24  \"[ 3292 11408     0     0     0     0     0   ...   \n",
              "4    Q42  \"[2921 1934    0    0    0    0    0    0    0...   \n",
              "\n",
              "                wikilabel  \n",
              "0                    [Q5]  \n",
              "1                    [Q5]  \n",
              "2                    [Q5]  \n",
              "3  [Q15632617, Q15773317]  \n",
              "4                    [Q5]  "
            ],
            "text/html": [
              "\n",
              "  <div id=\"df-55033b7d-f5b7-4995-9357-555b6444f9d4\">\n",
              "    <div class=\"colab-df-container\">\n",
              "      <div>\n",
              "<style scoped>\n",
              "    .dataframe tbody tr th:only-of-type {\n",
              "        vertical-align: middle;\n",
              "    }\n",
              "\n",
              "    .dataframe tbody tr th {\n",
              "        vertical-align: top;\n",
              "    }\n",
              "\n",
              "    .dataframe thead th {\n",
              "        text-align: right;\n",
              "    }\n",
              "</style>\n",
              "<table border=\"1\" class=\"dataframe\">\n",
              "  <thead>\n",
              "    <tr style=\"text-align: right;\">\n",
              "      <th></th>\n",
              "      <th>wikiid</th>\n",
              "      <th>text</th>\n",
              "      <th>wikilabel</th>\n",
              "    </tr>\n",
              "  </thead>\n",
              "  <tbody>\n",
              "    <tr>\n",
              "      <th>0</th>\n",
              "      <td>Q23</td>\n",
              "      <td>\"[ 472 1936    0    0    0    0    0    0    0...</td>\n",
              "      <td>[Q5]</td>\n",
              "    </tr>\n",
              "    <tr>\n",
              "      <th>1</th>\n",
              "      <td>Q23</td>\n",
              "      <td>\"[4190  241   52    0    0    0    0    0    0...</td>\n",
              "      <td>[Q5]</td>\n",
              "    </tr>\n",
              "    <tr>\n",
              "      <th>2</th>\n",
              "      <td>Q23</td>\n",
              "      <td>\"[  271 52038     0     0     0     0     0   ...</td>\n",
              "      <td>[Q5]</td>\n",
              "    </tr>\n",
              "    <tr>\n",
              "      <th>3</th>\n",
              "      <td>Q24</td>\n",
              "      <td>\"[ 3292 11408     0     0     0     0     0   ...</td>\n",
              "      <td>[Q15632617, Q15773317]</td>\n",
              "    </tr>\n",
              "    <tr>\n",
              "      <th>4</th>\n",
              "      <td>Q42</td>\n",
              "      <td>\"[2921 1934    0    0    0    0    0    0    0...</td>\n",
              "      <td>[Q5]</td>\n",
              "    </tr>\n",
              "  </tbody>\n",
              "</table>\n",
              "</div>\n",
              "      <button class=\"colab-df-convert\" onclick=\"convertToInteractive('df-55033b7d-f5b7-4995-9357-555b6444f9d4')\"\n",
              "              title=\"Convert this dataframe to an interactive table.\"\n",
              "              style=\"display:none;\">\n",
              "        \n",
              "  <svg xmlns=\"http://www.w3.org/2000/svg\" height=\"24px\"viewBox=\"0 0 24 24\"\n",
              "       width=\"24px\">\n",
              "    <path d=\"M0 0h24v24H0V0z\" fill=\"none\"/>\n",
              "    <path d=\"M18.56 5.44l.94 2.06.94-2.06 2.06-.94-2.06-.94-.94-2.06-.94 2.06-2.06.94zm-11 1L8.5 8.5l.94-2.06 2.06-.94-2.06-.94L8.5 2.5l-.94 2.06-2.06.94zm10 10l.94 2.06.94-2.06 2.06-.94-2.06-.94-.94-2.06-.94 2.06-2.06.94z\"/><path d=\"M17.41 7.96l-1.37-1.37c-.4-.4-.92-.59-1.43-.59-.52 0-1.04.2-1.43.59L10.3 9.45l-7.72 7.72c-.78.78-.78 2.05 0 2.83L4 21.41c.39.39.9.59 1.41.59.51 0 1.02-.2 1.41-.59l7.78-7.78 2.81-2.81c.8-.78.8-2.07 0-2.86zM5.41 20L4 18.59l7.72-7.72 1.47 1.35L5.41 20z\"/>\n",
              "  </svg>\n",
              "      </button>\n",
              "      \n",
              "  <style>\n",
              "    .colab-df-container {\n",
              "      display:flex;\n",
              "      flex-wrap:wrap;\n",
              "      gap: 12px;\n",
              "    }\n",
              "\n",
              "    .colab-df-convert {\n",
              "      background-color: #E8F0FE;\n",
              "      border: none;\n",
              "      border-radius: 50%;\n",
              "      cursor: pointer;\n",
              "      display: none;\n",
              "      fill: #1967D2;\n",
              "      height: 32px;\n",
              "      padding: 0 0 0 0;\n",
              "      width: 32px;\n",
              "    }\n",
              "\n",
              "    .colab-df-convert:hover {\n",
              "      background-color: #E2EBFA;\n",
              "      box-shadow: 0px 1px 2px rgba(60, 64, 67, 0.3), 0px 1px 3px 1px rgba(60, 64, 67, 0.15);\n",
              "      fill: #174EA6;\n",
              "    }\n",
              "\n",
              "    [theme=dark] .colab-df-convert {\n",
              "      background-color: #3B4455;\n",
              "      fill: #D2E3FC;\n",
              "    }\n",
              "\n",
              "    [theme=dark] .colab-df-convert:hover {\n",
              "      background-color: #434B5C;\n",
              "      box-shadow: 0px 1px 3px 1px rgba(0, 0, 0, 0.15);\n",
              "      filter: drop-shadow(0px 1px 2px rgba(0, 0, 0, 0.3));\n",
              "      fill: #FFFFFF;\n",
              "    }\n",
              "  </style>\n",
              "\n",
              "      <script>\n",
              "        const buttonEl =\n",
              "          document.querySelector('#df-55033b7d-f5b7-4995-9357-555b6444f9d4 button.colab-df-convert');\n",
              "        buttonEl.style.display =\n",
              "          google.colab.kernel.accessAllowed ? 'block' : 'none';\n",
              "\n",
              "        async function convertToInteractive(key) {\n",
              "          const element = document.querySelector('#df-55033b7d-f5b7-4995-9357-555b6444f9d4');\n",
              "          const dataTable =\n",
              "            await google.colab.kernel.invokeFunction('convertToInteractive',\n",
              "                                                     [key], {});\n",
              "          if (!dataTable) return;\n",
              "\n",
              "          const docLinkHtml = 'Like what you see? Visit the ' +\n",
              "            '<a target=\"_blank\" href=https://colab.research.google.com/notebooks/data_table.ipynb>data table notebook</a>'\n",
              "            + ' to learn more about interactive tables.';\n",
              "          element.innerHTML = '';\n",
              "          dataTable['output_type'] = 'display_data';\n",
              "          await google.colab.output.renderOutput(dataTable, element);\n",
              "          const docLink = document.createElement('div');\n",
              "          docLink.innerHTML = docLinkHtml;\n",
              "          element.appendChild(docLink);\n",
              "        }\n",
              "      </script>\n",
              "    </div>\n",
              "  </div>\n",
              "  "
            ]
          },
          "metadata": {},
          "execution_count": 19
        }
      ]
    },
    {
      "cell_type": "code",
      "source": [
        "def process_vector(line):\n",
        "    line = str(line)\n",
        "    linef = \"\"\n",
        "    line = re.sub(r\"[^A-Za-z0-9]\",\" \", line)\n",
        "    #line = re.sub(r\"[^p{L}]\",\" \", line)\n",
        "    line = re.sub(r\"^\\W*\",\"\", line)\n",
        "    line = re.sub(r\"\\W+\",\" \", line)\n",
        "    line = re.sub(r\"$\\W*\",\"\", line)\n",
        "    splitted = str(line).split(\" \")[:10]\n",
        "    line = \" \".join(splitted)\n",
        "    return line\n",
        "    #return num_list"
      ],
      "metadata": {
        "id": "vQrX5tqNIBfR"
      },
      "id": "vQrX5tqNIBfR",
      "execution_count": 20,
      "outputs": []
    },
    {
      "cell_type": "code",
      "source": [
        "model_input[\"text\"] = model_input[\"text\"].apply(\n",
        "    lambda x: process_vector(x)\n",
        ")"
      ],
      "metadata": {
        "id": "fYZZ9w_a6Y3d"
      },
      "id": "fYZZ9w_a6Y3d",
      "execution_count": 21,
      "outputs": []
    },
    {
      "cell_type": "code",
      "source": [
        "model_input.rename(columns={'text':'x-text-feature','wikilabel':'y-wikitype-multiclass'}).head(10)"
      ],
      "metadata": {
        "colab": {
          "base_uri": "https://localhost:8080/",
          "height": 363
        },
        "id": "tvRKlhfXHVY6",
        "outputId": "6bca93f8-5cef-4a26-8b76-a8ed115bb7cc"
      },
      "id": "tvRKlhfXHVY6",
      "execution_count": 22,
      "outputs": [
        {
          "output_type": "execute_result",
          "data": {
            "text/plain": [
              "  wikiid                     x-text-feature   y-wikitype-multiclass\n",
              "0    Q23           472 1936 0 0 0 0 0 0 0 0                    [Q5]\n",
              "1    Q23          4190 241 52 0 0 0 0 0 0 0                    [Q5]\n",
              "2    Q23          271 52038 0 0 0 0 0 0 0 0                    [Q5]\n",
              "3    Q24         3292 11408 0 0 0 0 0 0 0 0  [Q15632617, Q15773317]\n",
              "4    Q42          2921 1934 0 0 0 0 0 0 0 0                    [Q5]\n",
              "5    Q42         2921 44 1934 0 0 0 0 0 0 0                    [Q5]\n",
              "6    Q42               96 0 0 0 0 0 0 0 0 0                    [Q5]\n",
              "7  Q1868         818 418123 0 0 0 0 0 0 0 0                    [Q5]\n",
              "8  Q1868  818 1276 51510 418123 0 0 0 0 0 0                    [Q5]\n",
              "9  Q1868      818 1276 418123 0 0 0 0 0 0 0                    [Q5]"
            ],
            "text/html": [
              "\n",
              "  <div id=\"df-fcab9051-ce71-47bb-9567-db00a81a82bf\">\n",
              "    <div class=\"colab-df-container\">\n",
              "      <div>\n",
              "<style scoped>\n",
              "    .dataframe tbody tr th:only-of-type {\n",
              "        vertical-align: middle;\n",
              "    }\n",
              "\n",
              "    .dataframe tbody tr th {\n",
              "        vertical-align: top;\n",
              "    }\n",
              "\n",
              "    .dataframe thead th {\n",
              "        text-align: right;\n",
              "    }\n",
              "</style>\n",
              "<table border=\"1\" class=\"dataframe\">\n",
              "  <thead>\n",
              "    <tr style=\"text-align: right;\">\n",
              "      <th></th>\n",
              "      <th>wikiid</th>\n",
              "      <th>x-text-feature</th>\n",
              "      <th>y-wikitype-multiclass</th>\n",
              "    </tr>\n",
              "  </thead>\n",
              "  <tbody>\n",
              "    <tr>\n",
              "      <th>0</th>\n",
              "      <td>Q23</td>\n",
              "      <td>472 1936 0 0 0 0 0 0 0 0</td>\n",
              "      <td>[Q5]</td>\n",
              "    </tr>\n",
              "    <tr>\n",
              "      <th>1</th>\n",
              "      <td>Q23</td>\n",
              "      <td>4190 241 52 0 0 0 0 0 0 0</td>\n",
              "      <td>[Q5]</td>\n",
              "    </tr>\n",
              "    <tr>\n",
              "      <th>2</th>\n",
              "      <td>Q23</td>\n",
              "      <td>271 52038 0 0 0 0 0 0 0 0</td>\n",
              "      <td>[Q5]</td>\n",
              "    </tr>\n",
              "    <tr>\n",
              "      <th>3</th>\n",
              "      <td>Q24</td>\n",
              "      <td>3292 11408 0 0 0 0 0 0 0 0</td>\n",
              "      <td>[Q15632617, Q15773317]</td>\n",
              "    </tr>\n",
              "    <tr>\n",
              "      <th>4</th>\n",
              "      <td>Q42</td>\n",
              "      <td>2921 1934 0 0 0 0 0 0 0 0</td>\n",
              "      <td>[Q5]</td>\n",
              "    </tr>\n",
              "    <tr>\n",
              "      <th>5</th>\n",
              "      <td>Q42</td>\n",
              "      <td>2921 44 1934 0 0 0 0 0 0 0</td>\n",
              "      <td>[Q5]</td>\n",
              "    </tr>\n",
              "    <tr>\n",
              "      <th>6</th>\n",
              "      <td>Q42</td>\n",
              "      <td>96 0 0 0 0 0 0 0 0 0</td>\n",
              "      <td>[Q5]</td>\n",
              "    </tr>\n",
              "    <tr>\n",
              "      <th>7</th>\n",
              "      <td>Q1868</td>\n",
              "      <td>818 418123 0 0 0 0 0 0 0 0</td>\n",
              "      <td>[Q5]</td>\n",
              "    </tr>\n",
              "    <tr>\n",
              "      <th>8</th>\n",
              "      <td>Q1868</td>\n",
              "      <td>818 1276 51510 418123 0 0 0 0 0 0</td>\n",
              "      <td>[Q5]</td>\n",
              "    </tr>\n",
              "    <tr>\n",
              "      <th>9</th>\n",
              "      <td>Q1868</td>\n",
              "      <td>818 1276 418123 0 0 0 0 0 0 0</td>\n",
              "      <td>[Q5]</td>\n",
              "    </tr>\n",
              "  </tbody>\n",
              "</table>\n",
              "</div>\n",
              "      <button class=\"colab-df-convert\" onclick=\"convertToInteractive('df-fcab9051-ce71-47bb-9567-db00a81a82bf')\"\n",
              "              title=\"Convert this dataframe to an interactive table.\"\n",
              "              style=\"display:none;\">\n",
              "        \n",
              "  <svg xmlns=\"http://www.w3.org/2000/svg\" height=\"24px\"viewBox=\"0 0 24 24\"\n",
              "       width=\"24px\">\n",
              "    <path d=\"M0 0h24v24H0V0z\" fill=\"none\"/>\n",
              "    <path d=\"M18.56 5.44l.94 2.06.94-2.06 2.06-.94-2.06-.94-.94-2.06-.94 2.06-2.06.94zm-11 1L8.5 8.5l.94-2.06 2.06-.94-2.06-.94L8.5 2.5l-.94 2.06-2.06.94zm10 10l.94 2.06.94-2.06 2.06-.94-2.06-.94-.94-2.06-.94 2.06-2.06.94z\"/><path d=\"M17.41 7.96l-1.37-1.37c-.4-.4-.92-.59-1.43-.59-.52 0-1.04.2-1.43.59L10.3 9.45l-7.72 7.72c-.78.78-.78 2.05 0 2.83L4 21.41c.39.39.9.59 1.41.59.51 0 1.02-.2 1.41-.59l7.78-7.78 2.81-2.81c.8-.78.8-2.07 0-2.86zM5.41 20L4 18.59l7.72-7.72 1.47 1.35L5.41 20z\"/>\n",
              "  </svg>\n",
              "      </button>\n",
              "      \n",
              "  <style>\n",
              "    .colab-df-container {\n",
              "      display:flex;\n",
              "      flex-wrap:wrap;\n",
              "      gap: 12px;\n",
              "    }\n",
              "\n",
              "    .colab-df-convert {\n",
              "      background-color: #E8F0FE;\n",
              "      border: none;\n",
              "      border-radius: 50%;\n",
              "      cursor: pointer;\n",
              "      display: none;\n",
              "      fill: #1967D2;\n",
              "      height: 32px;\n",
              "      padding: 0 0 0 0;\n",
              "      width: 32px;\n",
              "    }\n",
              "\n",
              "    .colab-df-convert:hover {\n",
              "      background-color: #E2EBFA;\n",
              "      box-shadow: 0px 1px 2px rgba(60, 64, 67, 0.3), 0px 1px 3px 1px rgba(60, 64, 67, 0.15);\n",
              "      fill: #174EA6;\n",
              "    }\n",
              "\n",
              "    [theme=dark] .colab-df-convert {\n",
              "      background-color: #3B4455;\n",
              "      fill: #D2E3FC;\n",
              "    }\n",
              "\n",
              "    [theme=dark] .colab-df-convert:hover {\n",
              "      background-color: #434B5C;\n",
              "      box-shadow: 0px 1px 3px 1px rgba(0, 0, 0, 0.15);\n",
              "      filter: drop-shadow(0px 1px 2px rgba(0, 0, 0, 0.3));\n",
              "      fill: #FFFFFF;\n",
              "    }\n",
              "  </style>\n",
              "\n",
              "      <script>\n",
              "        const buttonEl =\n",
              "          document.querySelector('#df-fcab9051-ce71-47bb-9567-db00a81a82bf button.colab-df-convert');\n",
              "        buttonEl.style.display =\n",
              "          google.colab.kernel.accessAllowed ? 'block' : 'none';\n",
              "\n",
              "        async function convertToInteractive(key) {\n",
              "          const element = document.querySelector('#df-fcab9051-ce71-47bb-9567-db00a81a82bf');\n",
              "          const dataTable =\n",
              "            await google.colab.kernel.invokeFunction('convertToInteractive',\n",
              "                                                     [key], {});\n",
              "          if (!dataTable) return;\n",
              "\n",
              "          const docLinkHtml = 'Like what you see? Visit the ' +\n",
              "            '<a target=\"_blank\" href=https://colab.research.google.com/notebooks/data_table.ipynb>data table notebook</a>'\n",
              "            + ' to learn more about interactive tables.';\n",
              "          element.innerHTML = '';\n",
              "          dataTable['output_type'] = 'display_data';\n",
              "          await google.colab.output.renderOutput(dataTable, element);\n",
              "          const docLink = document.createElement('div');\n",
              "          docLink.innerHTML = docLinkHtml;\n",
              "          element.appendChild(docLink);\n",
              "        }\n",
              "      </script>\n",
              "    </div>\n",
              "  </div>\n",
              "  "
            ]
          },
          "metadata": {},
          "execution_count": 22
        }
      ]
    },
    {
      "cell_type": "markdown",
      "source": [
        "**split the data **"
      ],
      "metadata": {
        "id": "GtUSqk7qX8N-"
      },
      "id": "GtUSqk7qX8N-"
    },
    {
      "cell_type": "code",
      "source": [
        "test_split = 0.33\n",
        "\n",
        "# Initial train and test split.\n",
        "train_df, test_df = train_test_split(\n",
        "    model_input,\n",
        "    test_size=test_split\n",
        ")\n",
        "\n",
        "# Splitting the test set further into validation\n",
        "# and new test sets.\n",
        "val_df = test_df.sample(frac=0.5)\n",
        "test_df.drop(val_df.index, inplace=True)\n",
        "\n",
        "print(f\"Number of rows in training set: {len(train_df)}\")\n",
        "print(f\"Number of rows in validation set: {len(val_df)}\")\n",
        "print(f\"Number of rows in test set: {len(test_df)}\")"
      ],
      "metadata": {
        "colab": {
          "base_uri": "https://localhost:8080/"
        },
        "id": "hJ8wBwMBVSIT",
        "outputId": "25c5d43c-a9c8-4db2-8cc3-bb2b499256a6"
      },
      "id": "hJ8wBwMBVSIT",
      "execution_count": 23,
      "outputs": [
        {
          "output_type": "stream",
          "name": "stdout",
          "text": [
            "Number of rows in training set: 67000\n",
            "Number of rows in validation set: 16500\n",
            "Number of rows in test set: 16500\n"
          ]
        }
      ]
    },
    {
      "cell_type": "code",
      "source": [
        "wikilabel = tf.ragged.constant(train_df[\"wikilabel\"].values)\n",
        "lookup = tf.keras.layers.StringLookup(output_mode=\"multi_hot\")\n",
        "lookup.adapt(wikilabel)\n",
        "vocab = lookup.get_vocabulary()\n",
        "\n",
        "\n",
        "def invert_multi_hot(encoded_labels):\n",
        "    \"\"\"Reverse a single multi-hot encoded label to a tuple of vocab terms.\"\"\"\n",
        "    hot_indices = np.argwhere(encoded_labels == 1.0)[..., 0]\n",
        "    return np.take(vocab, hot_indices)\n",
        "\n",
        "\n",
        "print(\"Vocabulary:\\n\")\n",
        "print(vocab)\n",
        "print(len(vocab))"
      ],
      "metadata": {
        "colab": {
          "base_uri": "https://localhost:8080/"
        },
        "id": "w2ROAo_-5f1d",
        "outputId": "d8b6893c-f74f-4302-ab14-5ee2c19db394"
      },
      "id": "w2ROAo_-5f1d",
      "execution_count": 24,
      "outputs": [
        {
          "output_type": "stream",
          "name": "stdout",
          "text": [
            "Vocabulary:\n",
            "\n",
            "['[UNK]', 'Q5', 'Q4167410', 'Q16521', 'Q11173', 'Q484170', 'Q3863', 'Q747074', 'Q11424', 'Q34770', 'Q1288568', 'Q4022', 'Q70208', 'Q476028', 'Q12140', 'Q262166', 'Q1093829', 'Q4830453', 'Q22808320', 'Q13406463', 'Q532', 'Q486972', 'Q1549591', 'Q27020041', 'Q112193867', 'Q515', 'Q15056993', 'Q482994', 'Q215380', 'Q8054', 'Q3957', 'Q113681859', 'Q26213387', 'Q23038290', 'Q253019', 'Q41710', 'Q94993988', 'Q105543609', 'Q7725634', 'Q1248784', 'Q8502', 'Q34442', 'Q24764', 'Q23442', 'Q3558970', 'Q7889', 'Q42744322', 'Q6881511', 'Q14795564', 'Q577', 'Q55488', 'Q5398426', 'Q15127012', 'Q19832486', 'Q15056995', 'Q891723', 'Q5153359', 'Q29964144', 'Q644371', 'Q35456', 'Q134556', 'Q62049', 'Q67206691', 'Q929833', 'Q7278', 'Q112826905', 'Q1131296', 'Q12089225', 'Q7930989', 'Q67015883', 'Q685309', 'Q15142894', 'Q3191695', 'Q188451', 'Q46970', 'Q2074737', 'Q178561', 'Q928830', 'Q47461344', 'Q6784672', 'Q839954', 'Q523', 'Q186516', 'Q16970', 'Q3146899', 'Q3186692', 'Q205985', 'Q193430', 'Q2590631', 'Q15632617', 'Q475061', 'Q33146843', 'Q43229', 'Q39367', 'Q112965645', 'Q18608583', 'Q23397', 'Q72941151', 'Q3231690', 'Q12308941', 'Q34038', 'Q561431', 'Q1154710', 'Q82794', 'Q667509', 'Q3257686', 'Q55662747', 'Q3918', 'Q22808403', 'Q127448', 'Q498162', 'Q101352', 'Q11774097', 'Q2996394', 'Q728937', 'Q47154513', 'Q4167836', 'Q198', 'Q190903', 'Q11862829', 'Q786820', 'Q1637706', 'Q4498974', 'Q4164871', 'Q1115575', 'Q6979593', 'Q151885', 'Q58483083', 'Q33384', 'Q3305213', 'Q21869758', 'Q3024240', 'Q192287', 'Q11879590', 'Q8142', 'Q494721', 'Q46169', 'Q10876391', 'Q875538', 'Q33506', 'Q184188', 'Q46831', 'Q39594', 'Q11344', 'Q10929058', 'Q480477', 'Q23413', 'Q2247863', 'Q15944511', 'Q755707', 'Q65943', 'Q3184121', 'Q28640', 'Q234262', 'Q21191270', 'Q18340514', 'Q13410520', 'Q828569', 'Q45400320', 'Q41298', 'Q21198342', 'Q207694', 'Q15711994', 'Q15089', 'Q12136', 'Q10497835', 'Q27676416', 'Q2039348', 'Q15991303', 'Q13415368', 'Q12737077', 'Q1110794', 'Q5084', 'Q41176', 'Q38058796', 'Q13415366', 'Q131569', 'Q1002697', 'Q42303753', 'Q25295', 'Q17343829', 'Q15773317', 'Q13417114', 'Q11032', 'Q101600', 'Q7366', 'Q478847', 'Q23691', 'Q21070568', 'Q483110', 'Q45762', 'Q2198484', 'Q20643955', 'Q13410447', 'Q100341898', 'Q847017', 'Q811704', 'Q618779', 'Q506240', 'Q47345468', 'Q34763', 'Q13414759', 'Q11812346', 'Q1147395', 'Q108861375', 'Q902814', 'Q740752', 'Q63434442', 'Q5741069', 'Q5058355', 'Q3685476', 'Q310890', 'Q2755753', 'Q22988604', 'Q18618819', 'Q13414361', 'Q13393265', 'Q9135', 'Q748149', 'Q645466', 'Q47443726', 'Q46190676', 'Q17524420', 'Q163740', 'Q1426271', 'Q13217644', 'Q12178655', 'Q11774149', 'Q11303', 'Q89487741', 'Q751708', 'Q59199015', 'Q3700011', 'Q341', 'Q18536594', 'Q1840161', 'Q18127', 'Q15087423', 'Q13410444', 'Q123705', 'Q5633421', 'Q562061', 'Q44613', 'Q187661', 'Q180684', 'Q1802801', 'Q174782', 'Q1134686', 'Q90834785', 'Q8928', 'Q623109', 'Q417841', 'Q29028649', 'Q26132862', 'Q22808404', 'Q15773347', 'Q15416', 'Q15303838', 'Q1065118', 'Q820477', 'Q56061', 'Q559026', 'Q3924474', 'Q3658341', 'Q2488', 'Q2138576', 'Q1768043', 'Q176799', 'Q17305522', 'Q160742', 'Q849778', 'Q7187', 'Q7058673', 'Q54935504', 'Q47018478', 'Q39715', 'Q21199', 'Q2085381', 'Q18123741', 'Q17544377', 'Q62078547', 'Q5123999', 'Q39816', 'Q3464665', 'Q30688752', 'Q223393', 'Q1616075', 'Q15334', 'Q13410496', 'Q13410428', 'Q13218391', 'Q1194951', 'Q11774062', 'Q1047113', 'Q979507', 'Q695850', 'Q493522', 'Q4671286', 'Q46622', 'Q35127', 'Q31629', 'Q22807280', 'Q2118866', 'Q1931185', 'Q192691', 'Q189118', 'Q169534', 'Q1620908', 'Q157957', 'Q14204246', 'Q1320047', 'Q12178928', 'Q12131624', 'Q11446', 'Q110288240', 'Q98645843', 'Q958314', 'Q9189940', 'Q79007', 'Q772547', 'Q7397', 'Q6465', 'Q63952888', 'Q50707', 'Q35657', 'Q2065736', 'Q14659', 'Q1353183', 'Q134626', 'Q13410524', 'Q1289426', 'Q1149652', 'Q109189047', 'Q84467700', 'Q811979', 'Q53844', 'Q4936952', 'Q42032', 'Q39911', 'Q378871', 'Q3623867', 'Q31615', 'Q19833170', 'Q1799072', 'Q169930', 'Q1445650', 'Q14350', 'Q134856', 'Q13414758', 'Q13212489', 'Q11387', 'Q1049757', 'Q879146', 'Q67101749', 'Q39614', 'Q3504085', 'Q3249005', 'Q3199141', 'Q317623', 'Q29048322', 'Q2616791', 'Q245065', 'Q2338524', 'Q2312410', 'Q210167', 'Q19723451', 'Q1972', 'Q193237', 'Q1852859', 'Q18524218', 'Q17310777', 'Q15647906', 'Q15142889', 'Q13410400', 'Q13406554', 'Q13218690', 'Q12284', 'Q105390172', 'Q968159', 'Q952274', 'Q925381', 'Q854845', 'Q74817647', 'Q679692', 'Q56557504', 'Q558330', 'Q48708989', 'Q47069735', 'Q424525', 'Q39804', 'Q378427', 'Q355567', 'Q318', 'Q25412763', 'Q2235308', 'Q222174', 'Q188025', 'Q179461', 'Q165436', 'Q15217609', 'Q1402592', 'Q13422115', 'Q13415370', 'Q13410438', 'Q13410422', 'Q13410403', 'Q12813115', 'Q106078286', 'Q9212979', 'Q87167', 'Q7897276', 'Q7830213', 'Q752783', 'Q67476316', 'Q581714', 'Q55990535', 'Q50198', 'Q48336', 'Q37901', 'Q34841063', 'Q3311537', 'Q33104279', 'Q29168811', 'Q29154430', 'Q27968055', 'Q233591', 'Q21672098', 'Q19776628', 'Q188509', 'Q1762059', 'Q17272482', 'Q16858213', 'Q16334295', 'Q15275719', 'Q15057020', 'Q13414763', 'Q13414757', 'Q13414358', 'Q13366104', 'Q131681', 'Q1114461', 'Q640364', 'Q625298', 'Q6243', 'Q61089180', 'Q57058', 'Q55983715', 'Q537127', 'Q47913', 'Q448801', 'Q44559', 'Q428661', 'Q373074', 'Q33837', 'Q31855', 'Q23847174', 'Q19828', 'Q1914636', 'Q18611609', 'Q178266', 'Q13414760', 'Q1040689', 'Q9019918', 'Q868557', 'Q8436', 'Q82414', 'Q755992', 'Q699', 'Q62447', 'Q61878', 'Q56019', 'Q55491', 'Q55427776', 'Q3841820', 'Q327333', 'Q29946056', 'Q2983893', 'Q2976049', 'Q2742167', 'Q26887310', 'Q2537537', 'Q249556', 'Q24869', 'Q2315359', 'Q22698', 'Q216337', 'Q21009055', 'Q20871353', 'Q20076756', 'Q193622', 'Q18691599', 'Q18663579', 'Q179872', 'Q1767829', 'Q17431399', 'Q15991290', 'Q15978299', 'Q15901936', 'Q15836568', 'Q12909644', 'Q1266818', 'Q12262532', 'Q12037308', 'Q107655869', 'Q902638', 'Q85482556', 'Q81505329', 'Q8036', 'Q756721', 'Q751876', 'Q737498', 'Q641226', 'Q54935786', 'Q543654', 'Q5119', 'Q47521', 'Q4438121', 'Q431289', 'Q4120211', 'Q36330215', 'Q355304', 'Q34843301', 'Q33289', 'Q2989398', 'Q2547976', 'Q2537', 'Q24354', 'Q210272', 'Q20202352', 'Q1931388', 'Q181322', 'Q180673', 'Q177911', 'Q17737', 'Q17155032', 'Q15830667', 'Q15661340', 'Q15284', 'Q15221623', 'Q1500352', 'Q149918', 'Q148837', 'Q1478437', 'Q13414754', 'Q11282', 'Q107357104', 'Q9655', 'Q902104', 'Q856076', 'Q7944', 'Q777120', 'Q74047', 'Q67201586', 'Q65988187', 'Q634099', 'Q61476', 'Q47018901', 'Q465299', 'Q4504495', 'Q44539', 'Q42295', 'Q3914', 'Q38723', 'Q313301', 'Q2990963', 'Q27686', 'Q24862', 'Q24746', 'Q24034552', 'Q23002054', 'Q2267705', 'Q220505', 'Q2154519', 'Q20074337', 'Q19958368', 'Q19861951', 'Q192078', 'Q188055', 'Q17376095', 'Q17339814', 'Q169358', 'Q167270', 'Q16024164', 'Q15720476', 'Q15711870', 'Q15079663', 'Q14406742', 'Q13890', 'Q13410433', 'Q12518', 'Q1137109', 'Q113547302', 'Q109911294', 'Q109910560', 'Q936518', 'Q917284', 'Q82047057', 'Q8072', 'Q788046', 'Q773668', 'Q713623', 'Q707813', 'Q7075', 'Q697196', 'Q681277', 'Q61702557', 'Q500834', 'Q50053', 'Q4460', 'Q41014950', 'Q36784', 'Q3624078', 'Q3117863', 'Q29045252', 'Q2748940', 'Q273057', 'Q26540', 'Q258658', 'Q2514025', 'Q2385804', 'Q235690', 'Q235684', 'Q235680', 'Q23002039', 'Q22687', 'Q20888659', 'Q201658', 'Q192611', 'Q192093', 'Q187579', 'Q185113', 'Q178790', 'Q1785071', 'Q1747829', 'Q171318', 'Q17127659', 'Q16979650', 'Q164950', 'Q15273785', 'Q15265344', 'Q1478443', 'Q13539802', 'Q13417250', 'Q13414354', 'Q13410508', 'Q133311', 'Q13220204', 'Q1307214', 'Q11691', 'Q115211517', 'Q11514315', 'Q113813711', 'Q11276', 'Q111722634', 'Q10931', 'Q1070990', 'Q877358', 'Q845945', 'Q814648', 'Q8019', 'Q80096233', 'Q7841907', 'Q744913', 'Q63040754', 'Q63032896', 'Q578', 'Q55490', 'Q54050', 'Q5341295', 'Q51049922', 'Q48204', 'Q4485156', 'Q42523', 'Q4004706', 'Q34627', 'Q3062294', 'Q29517555', 'Q28783456', 'Q26817508', 'Q26529', 'Q261636', 'Q2555896', 'Q2485448', 'Q235676', 'Q23058', 'Q23006', 'Q2221906', 'Q21518270', 'Q213907', 'Q21125433', 'Q21009059', 'Q2001305', 'Q19953632', 'Q19793988', 'Q1936581', 'Q185087', 'Q182676', 'Q182545', 'Q1779157', 'Q17715832', 'Q1748957', 'Q17315159', 'Q17198620', 'Q17051044', 'Q16874643', 'Q166142', 'Q16560', 'Q159821', 'Q158683', 'Q15640053', 'Q155271', 'Q15219655', 'Q15149663', 'Q15105893', 'Q15060255', 'Q14831768', 'Q14752696', 'Q1401304', 'Q1348589', 'Q131669', 'Q1268865', 'Q1254933', 'Q1254773', 'Q12323', 'Q11410', 'Q11315', 'Q11266439', 'Q107540719', 'Q106658', 'Q106517174', 'Q103632', 'Q9102', 'Q835714', 'Q83306', 'Q8042974', 'Q79324274', 'Q7888355', 'Q7840353', 'Q7819319', 'Q78155096', 'Q75179296', 'Q7188', 'Q694589', 'Q6882870', 'Q6266', 'Q61002', 'Q6058157', 'Q605291', 'Q59658968', 'Q568683', 'Q56290623', 'Q55818', 'Q53463', 'Q485258', 'Q483247', 'Q466421', 'Q43501', 'Q428830', 'Q4182287', 'Q41162', 'Q407212', 'Q38033430', 'Q3551775', 'Q35509', 'Q3491915', 'Q328584', 'Q2992826', 'Q27787439', 'Q27780831', 'Q2412834', 'Q240601', 'Q2376564', 'Q236036', 'Q235687', 'Q235673', 'Q22811234', 'Q21009057', 'Q207326', 'Q18487018', 'Q1840368', 'Q18142', 'Q18091489', 'Q180126', 'Q17444909', 'Q17325781', 'Q172754', 'Q1667921', 'Q165', 'Q16155707', 'Q15893266', 'Q15221373', 'Q14839548', 'Q142031', 'Q14073567', 'Q1365179', 'Q13415365', 'Q13366129', 'Q133156', 'Q133056', 'Q1308274', 'Q13002315', 'Q1299291', 'Q124734', 'Q1190554', 'Q11881845', 'Q11688446', 'Q11670533', 'Q1123245', 'Q112144412', 'Q107356781', 'Q107274313', 'Q10648343', 'Q106071004', 'Q1049158', 'Q104635718', 'Q104213567', 'Q960800', 'Q954172', 'Q930752', 'Q87576284', 'Q8463186', 'Q839470', 'Q80447738', 'Q7997', 'Q7994', 'Q7755', 'Q735428', 'Q72802508', 'Q7210356', 'Q71651918', 'Q692561', 'Q66472631', 'Q66344', 'Q6489113', 'Q641066', 'Q63046488', 'Q6256', 'Q61697632', 'Q58840819', 'Q5185279', 'Q5098', 'Q50337', 'Q502074', 'Q50068795', 'Q4989906', 'Q49773', 'Q484652', 'Q473853', 'Q472538', 'Q4656150', 'Q45776', 'Q4436935', 'Q4363262', 'Q43577', 'Q41426', 'Q3958626', 'Q378636', 'Q375355', 'Q3705105', 'Q34228', 'Q3320743', 'Q3144351', 'Q2882257', 'Q28747937', 'Q28328984', 'Q282472', 'Q2824648', 'Q2772772', 'Q2747456', 'Q271669', 'Q2695280', 'Q2679157', 'Q26763979', 'Q24856', 'Q2472587', 'Q247073', 'Q24434794', 'Q2383811', 'Q2379075', 'Q2354973', 'Q22999537', 'Q22989102', 'Q22675015', 'Q226730', 'Q2177636', 'Q2088357', 'Q20738811', 'Q19935939', 'Q19917774', 'Q196600', 'Q194203', 'Q192283', 'Q184644', 'Q184246', 'Q179661', 'Q17376093', 'Q17299750', 'Q17146090', 'Q169336', 'Q167346', 'Q1666019', 'Q1664720', 'Q165194', 'Q1615742', 'Q1595408', 'Q15936437', 'Q15911738', 'Q1569167', 'Q15688633', 'Q1529096', 'Q148578', 'Q14770218', 'Q14645593', 'Q13414953', 'Q13414369', 'Q1322134', 'Q131734', 'Q1261499', 'Q126', 'Q12020836', 'Q11861249', 'Q11773926', 'Q1156831', 'Q11448906', 'Q11177771', 'Q108161738', 'Q107487333', 'Q1063547', 'Q10590726', 'Q105388829', 'Q10517054', 'Q98374631', 'Q95993050', 'Q94696559', 'Q9398093', 'Q934744', 'Q91028', 'Q88904619', 'Q8776398', 'Q863531', 'Q861184', 'Q860861', 'Q8514', 'Q851110', 'Q848197', 'Q846882', 'Q82042', 'Q7998', 'Q7961', 'Q7954', 'Q783794', 'Q7748', 'Q75054287', 'Q746549', 'Q73187956', 'Q6949213', 'Q674541', 'Q6617741', 'Q66010158', 'Q658255', 'Q645883', 'Q6428674', 'Q641347', 'Q636497', 'Q63368109', 'Q58778', 'Q570116', 'Q56436498', 'Q561068', 'Q55677', 'Q55102916', 'Q53945096', 'Q5281800', 'Q49848', 'Q494829', 'Q49297', 'Q476068', 'Q47566', 'Q47487597', 'Q47358534', 'Q47103999', 'Q46135307', 'Q45242174', 'Q4508', 'Q4502119', 'Q44782', 'Q43648', 'Q431603', 'Q42211429', 'Q4220920', 'Q41799425', 'Q41253', 'Q4085712', 'Q40050', 'Q3890208', 'Q383092', 'Q3523867', 'Q3505887', 'Q3505845', 'Q3397526', 'Q33881', 'Q336473', 'Q3239681', 'Q3215913', 'Q32066628', 'Q3192808', 'Q317557', 'Q2974552', 'Q2911266', 'Q28653', 'Q28491520', 'Q28122896', 'Q27863646', 'Q2785216', 'Q2738074', 'Q27062351', 'Q263639', 'Q26085352', 'Q2566190', 'Q25235', 'Q24249534', 'Q23905105', 'Q2389789', 'Q23702035', 'Q235729', 'Q229390', 'Q22704163', 'Q223371', 'Q221409', 'Q2175765', 'Q217026', 'Q2152', 'Q2135465', 'Q20971972', 'Q207977', 'Q20738676', 'Q20650540', 'Q20643324', 'Q2055880', 'Q2023214', 'Q2005696', 'Q1969448', 'Q19603939', 'Q19335303', 'Q189867', 'Q189004', 'Q18867465', 'Q186165', 'Q18509232', 'Q18343316', 'Q1758856', 'Q1751753', 'Q17517379', 'Q174989', 'Q17205621', 'Q17156793', 'Q16913666', 'Q16831714', 'Q167170', 'Q16510064', 'Q163323', 'Q162620', 'Q162602', 'Q158438', 'Q15731356', 'Q15729598', 'Q156362', 'Q15632166', 'Q15617994', 'Q152559', 'Q15229207', 'Q1501855', 'Q1500932', 'Q1497375', 'Q1497364', 'Q146083', 'Q14083', 'Q1406161', 'Q134447', 'Q13415369', 'Q132241', 'Q131436', 'Q13136', 'Q13027888', 'Q1293220', 'Q1267632', 'Q1260524', 'Q120560', 'Q11921029', 'Q11488158', 'Q1145012', 'Q11422536', 'Q113147985', 'Q1109069', 'Q110055303', 'Q109607', 'Q108886259', 'Q108650539', 'Q106643740', 'Q104937092', 'Q103914748', 'Q1021645', 'Q101563126', 'Q1001378', 'Q98961713', 'Q944816', 'Q93352', 'Q9299236', 'Q917092', 'Q9134', 'Q9109', 'Q9035798', 'Q88898524', 'Q88291', 'Q88205', 'Q878367', 'Q862597', 'Q861911', 'Q848031', 'Q846659', 'Q8465', 'Q8452914', 'Q843214', 'Q838795', 'Q82673', 'Q8092', 'Q8047', 'Q79913', 'Q79529', 'Q7876', 'Q759421', 'Q751705', 'Q748019', 'Q742421', 'Q738570', 'Q7365', 'Q7216840', 'Q721067', 'Q72091636', 'Q71798788', 'Q717040', 'Q71310524', 'Q7094076', 'Q708676', 'Q702842', 'Q702492', 'Q679165', 'Q667276', 'Q66010153', 'Q66010126', 'Q650241', 'Q630531', 'Q62391930', 'Q61883', 'Q605175', 'Q60484681', 'Q5982983', 'Q59773381', 'Q59239320', 'Q59134440', 'Q587089', 'Q57831', 'Q57821', 'Q573344', 'Q572664', 'Q57053', 'Q56816954', 'Q56256086', 'Q56242215', 'Q55662548', 'Q55649849', 'Q5264406', 'Q525504', 'Q5116010', 'Q50399', 'Q498002', 'Q495430', 'Q4925355', 'Q4897819', 'Q47530375', 'Q473972', 'Q47053', 'Q465960', 'Q465842', 'Q45364', 'Q447523', 'Q44409287', 'Q43742', 'Q4366834', 'Q436240', 'Q4271324', 'Q42314054', 'Q422687', 'Q4204501', 'Q41581', 'Q41362222', 'Q40244', 'Q3965281', 'Q368716', 'Q368290', 'Q3664326', 'Q35769', 'Q3559024', 'Q353344', 'Q33861', 'Q33742', 'Q3348196', 'Q331130', 'Q3300034', 'Q32815', 'Q327618', 'Q319141', 'Q3046146', 'Q2989470', 'Q29370670', 'Q28942344', 'Q288514', 'Q28542014', 'Q2831984', 'Q27971968', 'Q277759', 'Q27600974', 'Q27119779', 'Q2692606', 'Q26742250', 'Q2671652', 'Q265662', 'Q2643128', 'Q25906438', 'Q257978', 'Q25570959', 'Q25412766', 'Q2531956', 'Q24698', 'Q24529780', 'Q24040733', 'Q22806', 'Q22721', 'Q2250008', 'Q22330909', 'Q220659', 'Q219577', 'Q2179958', 'Q217034', 'Q217024', 'Q216353', 'Q2154459', 'Q21506450', 'Q2138167', 'Q2122052', 'Q211690', 'Q2106220', 'Q208469', 'Q20741022', 'Q20642011', 'Q204910', 'Q202866', 'Q202595', 'Q202156', 'Q20026879', 'Q20011823', 'Q1998962', 'Q1968435', 'Q193556', 'Q193512', 'Q191992', 'Q1916821', 'Q190928', 'Q190429', 'Q189819', 'Q187931', 'Q18786396', 'Q187588', 'Q18706073', 'Q1863435', 'Q18325242', 'Q183039', 'Q182547', 'Q180454', 'Q1788820', 'Q1788716', 'Q1763828', 'Q1756157', 'Q17537576', 'Q17317604', 'Q17205', 'Q17074763', 'Q16887380', 'Q1656379', 'Q163446', 'Q1631888', 'Q1631129', 'Q1620186', 'Q16145172', 'Q159979', 'Q15925549', 'Q1573906', 'Q157031', 'Q15634846', 'Q15630895', 'Q1542343', 'Q15081032', 'Q15078955', 'Q14514600', 'Q14455864', 'Q1438073', 'Q1428357', 'Q14116', 'Q140588', 'Q1384677', 'Q1371037', 'Q1365560', 'Q13593966', 'Q13522376', 'Q1345528', 'Q1344695', 'Q13414765', 'Q1339195', 'Q133346', 'Q1333366', 'Q1328899', 'Q132364', 'Q1303415', 'Q130003', 'Q12819564', 'Q1254874', 'Q12443800', 'Q124', 'Q12151852', 'Q1210300', 'Q1207505', 'Q12045585', 'Q12042110', 'Q120', 'Q1175522', 'Q115518', 'Q114962596', 'Q114581', 'Q11417', 'Q113990212', 'Q1138251', 'Q1130251', 'Q111161', 'Q110315658', 'Q109583240', 'Q107745617', 'Q1076486', 'Q1075', 'Q10689397', 'Q1062710', 'Q105989562', 'Q1049494', 'Q104782082', 'Q104666804', 'Q104602244', 'Q10358588', 'Q99541706', 'Q98533657', 'Q976981', 'Q97460675', 'Q95945728', 'Q955824', 'Q953822', 'Q937876', 'Q93288', 'Q926439', 'Q908207', 'Q89969321', 'Q871419', 'Q860582', 'Q85493040', 'Q85483234', 'Q85332736', 'Q843215', 'Q8366', 'Q82821', 'Q82117', 'Q81986208', 'Q81917', 'Q815823', 'Q811701', 'Q80071', 'Q7965', 'Q796174', 'Q7886778', 'Q785486', 'Q782614', 'Q779239', 'Q7777573', 'Q769603', 'Q76154857', 'Q7579839', 'Q754831', 'Q7543008', 'Q7437892', 'Q73364223', 'Q732744', 'Q7303998', 'Q730038', 'Q72803622', 'Q72070508', 'Q719592', 'Q71266741', 'Q69197847', 'Q68618328', 'Q67454740', 'Q67376938', 'Q66747126', 'Q66739921', 'Q66010119', 'Q659563', 'Q65770283', 'Q6566418', 'Q6519277', 'Q64801076', 'Q6472', 'Q6456916', 'Q64027599', 'Q63998451', 'Q63188683', 'Q630830', 'Q620225', 'Q61881926', 'Q61881575', 'Q61856889', 'Q61220733', 'Q60534895', 'Q6041983', 'Q595452', 'Q59541917', 'Q590080', 'Q589481', 'Q588784', 'Q57812611', 'Q5725005', 'Q56256178', 'Q56242250', 'Q56059', 'Q56055944', 'Q55958305', 'Q5551966', 'Q55511472', 'Q55440238', 'Q55097207', 'Q55070019', 'Q5503', 'Q54114', 'Q54074585', 'Q5393308', 'Q5300', 'Q5272330', 'Q5256141', 'Q5115542', 'Q506883', 'Q506219', 'Q501094', 'Q5009242', 'Q49459', 'Q494511', 'Q49371', 'Q4931403', 'Q4922261', 'Q49008', 'Q4886', 'Q48242', 'Q4809', 'Q47574', 'Q474733', 'Q46865913', 'Q464235', 'Q463742', 'Q461834', 'Q44753', 'Q44301618', 'Q4389307', 'Q429088', 'Q4240305', 'Q4224624', 'Q421281', 'Q41872', 'Q41806065', 'Q4174776', 'Q41291', 'Q41067667', 'Q408891', 'Q40231', 'Q40218', 'Q402092', 'Q389459', 'Q386208', 'Q3788231', 'Q378445', 'Q37761255', 'Q372363', 'Q3677932', 'Q3647172', 'Q3622002', 'Q35666', 'Q3559', 'Q3502482', 'Q33829', 'Q33513999', 'Q334166', 'Q3331189', 'Q3327862', 'Q3297186', 'Q3253281', 'Q321839', 'Q32096', 'Q3199915', 'Q3100808', 'Q303618', 'Q29791211', 'Q2977', 'Q29592127', 'Q28807042', 'Q28692646', 'Q28564', 'Q2811', 'Q28108', 'Q28077', 'Q27951514', 'Q27676428', 'Q27020779', 'Q269949', 'Q2693910', 'Q26894053', 'Q2678338', 'Q2659904', 'Q2630741', 'Q2625877', 'Q26240527', 'Q26214208', 'Q2612572', 'Q2607934', 'Q2581649', 'Q25810847', 'Q2576663', 'Q25457532', 'Q2516330', 'Q2464485', 'Q2460358', 'Q2401749', 'Q24017414', 'Q23866334', 'Q235670', 'Q235557', 'Q2319498', 'Q2300373', 'Q2292572', 'Q22746', 'Q2264955', 'Q2223653', 'Q2198855', 'Q2197893', 'Q21857994', 'Q2178147', 'Q217041', 'Q2158576', 'Q215655', 'Q21497886', 'Q21457810', 'Q212057', 'Q211364', 'Q208500', 'Q20829075', 'Q20819677', 'Q20738945', 'Q204324', 'Q202570', 'Q202444', 'Q19899465', 'Q19860854', 'Q19844914', 'Q19833031', 'Q1979154', 'Q19730508', 'Q1970725', 'Q1969642', 'Q19644586', 'Q194195', 'Q1938208', 'Q1936384', 'Q19361238', 'Q193475', 'Q19311591', 'Q190967', 'Q19067', 'Q190', 'Q188604', 'Q1872284', 'Q18643213', 'Q18615718', 'Q18608569', 'Q18573970', 'Q185357', 'Q1849110', 'Q184876', 'Q184613', 'Q1827102', 'Q182391', 'Q1790144', 'Q178885', 'Q178743', 'Q178149', 'Q17505024', 'Q17468533', 'Q1744266', 'Q17437818', 'Q174211', 'Q17198545', 'Q17149090', 'Q17143371', 'Q170584', 'Q16917', 'Q16905550', 'Q16735822', 'Q166118', 'Q16513881', 'Q16465919', 'Q164142', 'Q16335899', 'Q16335296', 'Q1631107', 'Q161', 'Q15961987', 'Q158555', 'Q158454', 'Q15836337', 'Q15831596', 'Q15728204', 'Q15707583', 'Q15644465', 'Q15634554', 'Q15632133', 'Q15584664', 'Q155234', 'Q15401633', 'Q154', 'Q153562', 'Q15344922', 'Q152450', 'Q15238777', 'Q15221370', 'Q15221242', 'Q1515156', 'Q15104814', 'Q15061018', 'Q15057021', 'Q1499928', 'Q149537', 'Q14762300', 'Q14752149', 'Q1464916', 'Q1440300', 'Q1437459', 'Q1414991', 'Q1402443', 'Q137773', 'Q13741', 'Q1371279', 'Q1370841', 'Q1349648', 'Q13415367', 'Q13414755', 'Q13414753', 'Q13410464', 'Q1318257', 'Q1317848', 'Q131647', 'Q1311958', 'Q13107770', 'Q12859788', 'Q12800', 'Q12795622', 'Q12761956', 'Q1261214', 'Q1259759', 'Q12453', 'Q1244922', 'Q1241568', 'Q12413618', 'Q12370', 'Q1234255', 'Q12333', 'Q1191622', 'Q1186981', 'Q11812394', 'Q11755880', 'Q1153376', 'Q1153191', 'Q115291', 'Q11483816', 'Q114586269', 'Q1144991', 'Q1144661', 'Q11416914', 'Q1130279', 'Q1122846', 'Q112099', 'Q110651958', 'Q11042', 'Q109708740', 'Q1093580', 'Q108325', 'Q107551175', 'Q107425', 'Q1072326', 'Q1066330', 'Q1062593', 'Q1060829', 'Q105967696', 'Q1058914', 'Q1057026', 'Q1055465', 'Q105419665', 'Q1048314', 'Q104631433', 'Q104251', 'Q1039303', 'Q103817', 'Q100710213', 'Q100709275', 'Q98775491', 'Q98391050', 'Q9788', 'Q976688', 'Q96378286', 'Q96251375', 'Q959309', 'Q955655', 'Q954187', 'Q951964', 'Q949819', 'Q94951', 'Q94670589', 'Q937228', 'Q9339746', 'Q92383', 'Q9227', 'Q9209', 'Q918270', 'Q917182', 'Q91315817', 'Q9122', 'Q912196', 'Q905929', 'Q899409', 'Q899192', 'Q875583', 'Q874405', 'Q873506', 'Q870780', 'Q865588', 'Q85942930', 'Q858485', 'Q858439', 'Q85743062', 'Q856713', 'Q856663', 'Q856638', 'Q85631896', 'Q8524', 'Q852190', 'Q851517', 'Q8513', 'Q849095', 'Q84669937', 'Q845371', 'Q844619', 'Q843065', 'Q842420', 'Q842332', 'Q836672', 'Q83155725', 'Q821435', 'Q820254', 'Q819436', 'Q8192', 'Q8171', 'Q811930', 'Q81163', 'Q8091', 'Q8000', 'Q799000', 'Q797476', 'Q796194', 'Q79416466', 'Q7937', 'Q787934', 'Q78754808', 'Q7860962', 'Q7849', 'Q783930', 'Q7835189', 'Q782970', 'Q778575', 'Q778129', 'Q77330535', 'Q771712', 'Q764463', 'Q7642168', 'Q75520', 'Q754897', 'Q7543083', 'Q75178934', 'Q7505806', 'Q750215', 'Q749827', 'Q748198', 'Q747381', 'Q746290', 'Q743004', 'Q7328910', 'Q7309443', 'Q7309198', 'Q7251477', 'Q72044356', 'Q720106', 'Q719987', 'Q7138926', 'Q713146', 'Q706447', 'Q705296', 'Q6958747', 'Q684488', 'Q682697', 'Q68', 'Q67717431', 'Q676977', 'Q67515288', 'Q67206785', 'Q66817784', 'Q66786238', 'Q66737903', 'Q66715753', 'Q666943', 'Q66310125', 'Q66016', 'Q66010148', 'Q66010132', 'Q658986', 'Q655677', 'Q654754', 'Q6498784', 'Q64578911', 'Q643292', 'Q64138263', 'Q63982911', 'Q637017', 'Q63446172', 'Q63440326', 'Q631305', 'Q631229', 'Q62933756', 'Q627421', 'Q6270791', 'Q62662439', 'Q62573441', 'Q622425', 'Q61763799', 'Q615699', 'Q61283808', 'Q60680430', 'Q603715', 'Q59913930', 'Q59603291', 'Q5953270', 'Q59284', 'Q589184', 'Q574299', 'Q57362', 'Q57305', 'Q572835', 'Q571', 'Q56750657', 'Q56683247', 'Q56648173', 'Q565657', 'Q56256173', 'Q56242225', 'Q55788864', 'Q55558027', 'Q55557858', 'Q55485', 'Q55379753', 'Q5532382', 'Q55214844', 'Q5518574', 'Q55043', 'Q54982412', 'Q54932064', 'Q548611', 'Q5447188', 'Q5421990', 'Q5389993', 'Q5386', 'Q5354754', 'Q5341296', 'Q5327369', 'Q5283531', 'Q5159627', 'Q51481377', 'Q51031626', 'Q509686', 'Q50846468', 'Q503958', 'Q50301185', 'Q499247', 'Q496539', 'Q49447', 'Q49376', 'Q490329', 'Q486902', 'Q483453', 'Q483394', 'Q4828724', 'Q48264', 'Q4818021', 'Q480260', 'Q4785472', 'Q477202', 'Q47568', 'Q4697624', 'Q46426234', 'Q46337', 'Q45382', 'Q44580842', 'Q445741', 'Q4445055', 'Q443802', 'Q4421', 'Q4389100', 'Q43483', 'Q43109', 'Q430295', 'Q42998', 'Q429795', 'Q428303', 'Q42612577', 'Q42470', 'Q42319471', 'Q42310380', 'Q422695', 'Q42245028', 'Q41863069', 'Q41786270', 'Q41689629', 'Q4162444', 'Q414147', 'Q4128600', 'Q40843', 'Q40357', 'Q3965272', 'Q3950', 'Q3937', 'Q3927262', 'Q38911', 'Q38672', 'Q381885', 'Q379817', 'Q37800986', 'Q3777387', 'Q37726', 'Q3771738', 'Q375928', 'Q3757197', 'Q3754526', 'Q37484', 'Q373899', 'Q36539', 'Q36534', 'Q36507', 'Q36103', 'Q3586936', 'Q3567586', 'Q3551872', 'Q35516', 'Q354239', 'Q3518464', 'Q3516862', 'Q3512806', 'Q350604', 'Q350453', 'Q35034452', 'Q3497167', 'Q34918903', 'Q3409032', 'Q3397519', 'Q339353', 'Q33831', 'Q33648', 'Q334453', 'Q333021', 'Q3329412', 'Q3323788', 'Q32880', 'Q3277997', 'Q326277', 'Q3249551', 'Q3243765', 'Q3220391', 'Q3215290', 'Q3152824', 'Q313414', 'Q312468', 'Q312457', 'Q3073451', 'Q3032333', 'Q3026037', 'Q29982117', 'Q299191', 'Q29654788', 'Q294414', 'Q2943071', 'Q2915776', 'Q28872924', 'Q28820001', 'Q28598684', 'Q285400', 'Q283202', 'Q28140340', 'Q28057350', 'Q27949697', 'Q27587207', 'Q275186', 'Q27491654', 'Q273789', 'Q27308988', 'Q272683', 'Q270791', 'Q26959059', 'Q26958661', 'Q26907711', 'Q26895936', 'Q26772977', 'Q264965', 'Q263478', 'Q2633744', 'Q26279902', 'Q2624046', 'Q261335', 'Q2608811', 'Q2577184', 'Q2558684', 'Q25548021', 'Q2515494', 'Q2514663', 'Q2511322', 'Q25110269', 'Q2465832', 'Q2458227', 'Q24533670', 'Q2440569', 'Q243249', 'Q24279', 'Q24060707', 'Q23983335', 'Q23929770', 'Q2389082', 'Q2381177', 'Q23719064', 'Q23712', 'Q23702033', 'Q2352616', 'Q2334719', 'Q2312440', 'Q2306612', 'Q2305295', 'Q23036513', 'Q2301048', 'Q23010327', 'Q23002037', 'Q228346', 'Q2272475', 'Q22676729', 'Q22674925', 'Q22670030', 'Q2264478', 'Q223832', 'Q223557', 'Q22276119', 'Q222249', 'Q220898', 'Q2202509', 'Q21850100', 'Q2183520', 'Q21752084', 'Q217036', 'Q217019', 'Q216107', 'Q216048', 'Q21546143', 'Q2151232', 'Q21505397', 'Q215048', 'Q21480300', 'Q214609', 'Q2145277', 'Q214190', 'Q214090', 'Q2140699', 'Q2139657', 'Q213369', 'Q2133344', 'Q211302', 'Q21076217', 'Q21040876', 'Q21009058', 'Q209163', 'Q20900468', 'Q20830276', 'Q208109', 'Q207524', 'Q20739115', 'Q207299', 'Q20724701', 'Q2072238', 'Q20719675', 'Q206577', 'Q20626607', 'Q202871', 'Q202435', 'Q20155966', 'Q20153194', 'Q2008856', 'Q2006279', 'Q20031543', 'Q20027953', 'Q20026918', 'Q2002016', 'Q20019082', 'Q198614', 'Q19757', 'Q19716577', 'Q19692072', 'Q19644607', 'Q1963041', 'Q196294', 'Q1959314', 'Q1952852', 'Q193946', 'Q193275', 'Q192909', 'Q192581', 'Q1925406', 'Q19201596', 'Q1917775', 'Q190752', 'Q188860', 'Q188686', 'Q188610', 'Q18812508', 'Q187934', 'Q18783400', 'Q18674678', 'Q18663566', 'Q186431', 'Q18592633', 'Q185785', 'Q185698', 'Q18564543', 'Q18543139', 'Q18534049', 'Q185187', 'Q18511725', 'Q1850612', 'Q184511', 'Q183366', 'Q18201623', 'Q18199114', 'Q18043413', 'Q179700', 'Q1792379', 'Q17898', 'Q1788992', 'Q17888', 'Q178648', 'Q178193', 'Q1774662', 'Q1772835', 'Q1770971', 'Q17701409', 'Q1760692', 'Q1760309', 'Q17566318', 'Q1756006', 'Q175331', 'Q17489659', 'Q1747906', 'Q174736', 'Q17278559', 'Q17276485', 'Q17197366', 'Q17175676', 'Q17143070', 'Q1709894', 'Q1699583', 'Q169872', 'Q16937116', 'Q1690563', 'Q168983', 'Q168827', 'Q16514343', 'Q1647142', 'Q1643932', 'Q16363493', 'Q163301', 'Q16323605', 'Q162875', 'Q1621783', 'Q1621322', 'Q16124843', 'Q16070115', 'Q160091', 'Q15989253', 'Q159226', 'Q15911314', 'Q15848826', 'Q15841920', 'Q158218', 'Q1581130', 'Q15770988', 'Q15738686', 'Q15733039', 'Q15720641', 'Q1569856', 'Q156611', 'Q1566035', 'Q15634883', 'Q15634531', 'Q15633582', 'Q15623573', 'Q15622363', 'Q15620174', 'Q1555508', 'Q155076', 'Q1548761', 'Q154365', 'Q1530705', 'Q15304943', 'Q1530022', 'Q15285626', 'Q15261477', 'Q15221310', 'Q15210668', 'Q152081', 'Q15195406', 'Q15190726', 'Q1517777', 'Q1516079', 'Q15145593', 'Q15126161', 'Q15116915', 'Q15081030', 'Q1503450', 'Q150093', 'Q14978', 'Q14927600', 'Q149086', 'Q1486643', 'Q1484611', 'Q1475691', 'Q14656', 'Q14506045', 'Q1441305', 'Q143623', 'Q1412403', 'Q1404207', 'Q1404150', 'Q1403377', 'Q1400264', 'Q1391128', 'Q138796', 'Q1387659', 'Q137535', 'Q1371849', 'Q1371562', 'Q1364556', 'Q13632', 'Q13582682', 'Q13580678', 'Q1348385', 'Q134768', 'Q13442814', 'Q134390', 'Q13410485', 'Q13365548', 'Q1330974', 'Q1330336', 'Q13235160', 'Q1322005', 'Q1321960', 'Q1317260', 'Q131299', 'Q131212', 'Q131186', 'Q130989', 'Q1302471', 'Q13024547', 'Q1301371', 'Q1298668', 'Q129558', 'Q12833777', 'Q128234', 'Q1280834', 'Q12759805', 'Q1262438', 'Q1244442', 'Q123577', 'Q12345701', 'Q12343431', 'Q12336613', 'Q123266', 'Q1230708', 'Q12292478', 'Q1221156', 'Q12139612', 'Q121117', 'Q12104174', 'Q1208380', 'Q1208366', 'Q12075477', 'Q1202402', 'Q12020884', 'Q12019965', 'Q12015335', 'Q1197120', 'Q118', 'Q11790203', 'Q117704', 'Q11755959', 'Q1172284', 'Q11702690', 'Q11663', 'Q1160573', 'Q116', 'Q1151405', 'Q1151067', 'Q114853062', 'Q114570820', 'Q11455398', 'Q11436', 'Q1139493', 'Q1138414', 'Q1136963', 'Q11358', 'Q11352', 'Q113147341', 'Q113056217', 'Q1130239', 'Q1126006', 'Q112234259', 'Q112212194', 'Q1112477', 'Q111223304', 'Q110874', 'Q1107679', 'Q110401282', 'Q110376455', 'Q110266209', 'Q11016', 'Q110', 'Q109923912', 'Q109583425', 'Q10943', 'Q1094196', 'Q1092177', 'Q108822885', 'Q10875128', 'Q10870555', 'Q108586636', 'Q108465955', 'Q10843872', 'Q108329096', 'Q108257122', 'Q108', 'Q107471022', 'Q107467117', 'Q10729872', 'Q1069116', 'Q1068842', 'Q106834231', 'Q106562461', 'Q10617810', 'Q1061151', 'Q1059324', 'Q105839698', 'Q105774620', 'Q105763033', 'Q105731', 'Q105445345', 'Q10528974', 'Q1051067', 'Q10429667', 'Q10428845', 'Q104185420', 'Q104179424', 'Q103843042', 'Q103812529', 'Q101659', 'Q1009249', 'Q1007870', 'Q100775361', 'Q1007356', 'Q1006311', 'Q99934885', 'Q999234', 'Q995347', 'Q994895', 'Q990488', 'Q989470', 'Q987767', 'Q98658352', 'Q986177', 'Q986008', 'Q9842', 'Q98374854', 'Q9826', 'Q9822982', 'Q976622', 'Q973011', 'Q967145', 'Q96634632', 'Q9651979', 'Q96354653', 'Q96354572', 'Q96240590', 'Q96225078', 'Q9620', 'Q96116695', 'Q95997873', 'Q959782', 'Q95723', 'Q954007', 'Q94962681', 'Q949616', 'Q949302', 'Q948516', 'Q947103', 'Q946676', 'Q943260', 'Q9415', 'Q938236', 'Q9332', 'Q9262', 'Q924827', 'Q9233', 'Q9229', 'Q9209474', 'Q920182', 'Q919510', 'Q91733160', 'Q917146', 'Q9143', 'Q9137', 'Q912550', 'Q9117', 'Q911663', 'Q9089593', 'Q907698', 'Q906520', 'Q903985', 'Q900406', 'Q898771', 'Q895526', 'Q893775', 'Q893745', 'Q892554', 'Q892168', 'Q891055', 'Q890478', 'Q88598', 'Q88552181', 'Q8795', 'Q879050', 'Q878223', 'Q878214', 'Q878123', 'Q878099', 'Q878040', 'Q877802', 'Q876274', 'Q876102', 'Q8719053', 'Q87058424', 'Q868893', 'Q862454', 'Q856079', 'Q854459', 'Q852231', 'Q852151', 'Q8514257', 'Q850450', 'Q848813', 'Q848330', 'Q847906', 'Q847667', 'Q847478', 'Q847109', 'Q846785', 'Q846706', 'Q846662', 'Q846303', 'Q845820', 'Q84491920', 'Q843256', 'Q842402', 'Q842047', 'Q841753', 'Q838948', 'Q83790536', 'Q836985', 'Q83620', 'Q83471', 'Q83267', 'Q83261', 'Q832161', 'Q831889', 'Q831740', 'Q831663', 'Q831109', 'Q830528', 'Q830335', 'Q829546', 'Q829277', 'Q82799', 'Q827792', 'Q820655', 'Q81989119', 'Q817056', 'Q816829', 'Q81672', 'Q8161', 'Q815241', 'Q811909', 'Q8096', 'Q8082', 'Q80793969', 'Q806869', 'Q8068', 'Q806737', 'Q8032', 'Q8025', 'Q798838', 'Q7983', 'Q79602', 'Q792929', 'Q79218', 'Q7885', 'Q788104', 'Q7881', 'Q7870', 'Q786414', 'Q785952', 'Q785745', 'Q78443472', 'Q7829892', 'Q78129048', 'Q780649', 'Q77115', 'Q7708485', 'Q769696', 'Q7695', 'Q76438', 'Q763590', 'Q762882', 'Q762548', 'Q759853', 'Q7590', 'Q757587', 'Q757554', 'Q7565760', 'Q7558495', 'Q755314', 'Q753486', 'Q75179210', 'Q749622', 'Q7495728', 'Q748331', 'Q74673301', 'Q746369', 'Q745545', 'Q745404', 'Q742460', 'Q7410456', 'Q740445', 'Q73756872', 'Q736917', 'Q735160', 'Q7315176', 'Q727002', 'Q7268568', 'Q7260412', 'Q726', 'Q725531', 'Q725377', 'Q7252589', 'Q725169', 'Q72398691', 'Q7239', 'Q7225609', 'Q720711', 'Q71962386', 'Q71550', 'Q71376028', 'Q712378', 'Q71129815', 'Q7075127', 'Q702875', 'Q70106932', 'Q699907', 'Q697295', 'Q6955655', 'Q695469', 'Q6942574', 'Q6942541', 'Q6934728', 'Q6918183', 'Q690084', 'Q6876', 'Q685935', 'Q682943', 'Q680933', 'Q67911299', 'Q676050', 'Q674928', 'Q673383', 'Q667471', 'Q66735957', 'Q667092', 'Q66666236', 'Q665247', 'Q66436502', 'Q66374263', 'Q662914', 'Q6619312', 'Q66010139', 'Q65971239', 'Q6592', 'Q657829', 'Q65770082', 'Q6576413', 'Q65661087', 'Q655697', 'Q655311', 'Q655089', 'Q653596', 'Q652965', 'Q65048168', 'Q648681', 'Q64601', 'Q64513524', 'Q6448147', 'Q641078', 'Q63981919', 'Q63975020', 'Q6368', 'Q63565766', 'Q63364175', 'Q63187345', 'Q63100611', 'Q63100559', 'Q630415', 'Q628759', 'Q62685721', 'Q626510', 'Q625994', 'Q623319', 'Q622521', 'Q620749', 'Q620035', 'Q61980413', 'Q61901018', 'Q61874983', 'Q61818979', 'Q61763947', 'Q61744628', 'Q6149036', 'Q61453609', 'Q6138528', 'Q60895708', 'Q60874', 'Q608152', 'Q60797', 'Q607958', 'Q60754876', 'Q60676589', 'Q60668879', 'Q60539481', 'Q6046311', 'Q60176300', 'Q59825643', 'Q5962346', 'Q5961257', 'Q5926864', 'Q59248059', 'Q5916', 'Q59136', 'Q5891', 'Q586277', 'Q58481926', 'Q58339518', 'Q582706', 'Q5801919', 'Q58017', 'Q57817980', 'Q5774403', 'Q5773747', 'Q5767753', 'Q575759', 'Q575259', 'Q57368', 'Q57346', 'Q56877122', 'Q568765', 'Q567559', 'Q56682555', 'Q5662019', 'Q56580326', 'Q565744', 'Q56427813', 'Q563787', 'Q56344492', 'Q56242063', 'Q56195017', 'Q55678', 'Q55620443', 'Q55593624', 'Q55521176', 'Q55448359', 'Q55260272', 'Q55190325', 'Q5518656', 'Q55097243', 'Q545779', 'Q5421955', 'Q5398059', 'Q53951823', 'Q5376203', 'Q53710030', 'Q53706', 'Q5366501', 'Q53536964', 'Q53062420', 'Q53060', 'Q5297', 'Q5275', 'Q527395', 'Q52721923', 'Q52371', 'Q52154375', 'Q521458', 'Q51977', 'Q519608', 'Q518261', 'Q517596', 'Q517351', 'Q5150550', 'Q514860', 'Q511855', 'Q510662', 'Q5088917', 'Q50809253', 'Q507850', 'Q504514', 'Q50413986', 'Q50393057', 'Q50319430', 'Q501390', 'Q499337', 'Q498794', 'Q498267', 'Q497893', 'Q494823', 'Q4946461', 'Q494230', 'Q4942158', 'Q49374', 'Q493386', 'Q491713', 'Q48783127', 'Q486983', 'Q48634', 'Q48498', 'Q4847899', 'Q484416', 'Q484215', 'Q4835091', 'Q483242', 'Q483130', 'Q482', 'Q48091', 'Q47883', 'Q478174', 'Q47728', 'Q47509284', 'Q47455701', 'Q47398', 'Q472808', 'Q4677783', 'Q46686', 'Q464780', 'Q46351685', 'Q4632675', 'Q46195901', 'Q46112269', 'Q4576564', 'Q455621', 'Q45296117', 'Q452440', 'Q451967', 'Q4484477', 'Q44844', 'Q44494', 'Q4442611', 'Q4389115', 'Q4387609', 'Q43675388', 'Q43605', 'Q4358176', 'Q4338148', 'Q43304311', 'Q431569', 'Q4313794', 'Q4308', 'Q4286337', 'Q427626', 'Q42613239', 'Q425597', 'Q4229812', 'Q422742', 'Q422710', 'Q4226220', 'Q422248', 'Q4220917', 'Q42106', 'Q42014143', 'Q41885931', 'Q41798684', 'Q4178140', 'Q41778911', 'Q417175', 'Q41520', 'Q41487', 'Q41408440', 'Q4115113', 'Q41108733', 'Q4072190', 'Q40482169', 'Q4045891', 'Q403523', 'Q40080', 'Q4006', 'Q40056', 'Q399445', 'Q3966', 'Q3961951', 'Q3947', 'Q393259', 'Q392928', 'Q3918409', 'Q391022', 'Q389581', 'Q3887', 'Q38829', 'Q386362', 'Q38547', 'Q384515', 'Q3835961', 'Q382979', 'Q3822604', 'Q381072', 'Q38001354', 'Q37995709', 'Q3775042', 'Q37748', 'Q373609', 'Q372923', 'Q371804', 'Q37178026', 'Q3704243', 'Q369730', 'Q3685463', 'Q3685462', 'Q3678424', 'Q3661311', 'Q36279', 'Q3591867', 'Q35823051', 'Q357685', 'Q357104', 'Q3558198', 'Q3539870', 'Q353834', 'Q353027', 'Q3520135', 'Q35112127', 'Q350895', 'Q35054', 'Q34984790', 'Q3481047', 'Q3469910', 'Q3455586', 'Q3455437', 'Q3435924', 'Q343566', 'Q34262807', 'Q33937', 'Q339180', 'Q338313', 'Q338', 'Q337071', 'Q33694', 'Q3363945', 'Q3327913', 'Q33260112', 'Q332225', 'Q3317612', 'Q33104303', 'Q33104069', 'Q33093130', 'Q33059434', 'Q329683', 'Q329028', 'Q3284399', 'Q327757', 'Q327541', 'Q327496', 'Q326124', 'Q3257782', 'Q325668', 'Q32489', 'Q3247516', 'Q3246109', 'Q3244175', 'Q324233', 'Q32178211', 'Q32090', 'Q319845', 'Q319676', 'Q319120', 'Q3180027', 'Q314729', 'Q3143713', 'Q3124902', 'Q3119075', 'Q3112873', 'Q31049169', 'Q3104453', 'Q30892316', 'Q3089219', 'Q3082251', 'Q3059502', 'Q3058675', 'Q30515', 'Q30505248', 'Q30432511', 'Q303811', 'Q3034650', 'Q3032133', 'Q30307328', 'Q30304302', 'Q30108381', 'Q30092776', 'Q30059', 'Q3001412', 'Q3001152', 'Q299454', 'Q299277', 'Q299176', 'Q2989771', 'Q2989457', 'Q2986807', 'Q2967706', 'Q29643579', 'Q29642901', 'Q2962545', 'Q295472', 'Q295469', 'Q29414133', 'Q29380', 'Q29171', 'Q2915955', 'Q2912397', 'Q290588', 'Q28885102', 'Q28797', 'Q28777651', 'Q28738741', 'Q286300', 'Q28599824', 'Q2858615', 'Q28539166', 'Q281643', 'Q28152398', 'Q28149961', 'Q28111', 'Q28094186', 'Q28061975', 'Q28050019', 'Q28017630', 'Q27996466', 'Q27995043', 'Q27968043', 'Q276548', 'Q27608973', 'Q27587491', 'Q27555265', 'Q2755432', 'Q2744064', 'Q2740635', 'Q273469', 'Q272574', 'Q27250', 'Q272231', 'Q2717322', 'Q2716508', 'Q27148732', 'Q2714624', 'Q2711758', 'Q2709468', 'Q2707384', 'Q269770', 'Q269218', 'Q26896697', 'Q268626', 'Q268592', 'Q2682286', 'Q267989', 'Q2665272', 'Q266328', 'Q2661988', 'Q2656974', 'Q265586', 'Q2654450', 'Q26401003', 'Q2634498', 'Q2627975', 'Q2627400', 'Q26211803', 'Q26211545', 'Q261023', 'Q2608849', 'Q2602693', 'Q2590592', 'Q2590445', 'Q2578402', 'Q2577114', 'Q2570643', 'Q25631158', 'Q25537377', 'Q25509593', 'Q254832', 'Q25449331', 'Q25446687', 'Q2540532', 'Q25403900', 'Q253555', 'Q252916', 'Q25283', 'Q25178247', 'Q2513995', 'Q25110567', 'Q25099037', 'Q25098757', 'Q250050', 'Q2495862', 'Q24649', 'Q2462003', 'Q24534061', 'Q2451577', 'Q2446662', 'Q24336031', 'Q24335742', 'Q24335595', 'Q24334893', 'Q24333627', 'Q24286894', 'Q24262840', 'Q2421589', 'Q2421044', 'Q2418495', 'Q2416217', 'Q240831', 'Q24027556', 'Q240141', 'Q23983664', 'Q239582', 'Q2390458', 'Q23900202', 'Q23894233', 'Q2382369', 'Q23810017', 'Q2367225', 'Q23622', 'Q233861', 'Q2336402', 'Q233324', 'Q2326317', 'Q231039', 'Q2310214', 'Q2304194', 'Q23039057', 'Q2296548', 'Q2282602', 'Q2281788', 'Q2275640', 'Q2267870', 'Q22669642', 'Q22669139', 'Q2266066', 'Q2265915', 'Q2239243', 'Q2234169', 'Q22333900', 'Q22266255', 'Q22231112', 'Q22160105', 'Q22044663', 'Q219239', 'Q217691', 'Q217101', 'Q217015', 'Q2168991', 'Q2168098', 'Q216057', 'Q215844', 'Q215680', 'Q21561328', 'Q215495', 'Q2151621', 'Q21484471', 'Q2143825', 'Q2143354', 'Q2142568', 'Q214070', 'Q213051', 'Q21286738', 'Q2122214', 'Q2120466', 'Q21191019', 'Q2115792', 'Q211503', 'Q21100463', 'Q210337', 'Q2101619', 'Q21000333', 'Q209717', 'Q209680', 'Q2095', 'Q209465', 'Q20888925', 'Q2088783', 'Q208791', 'Q2087181', 'Q2083910', 'Q20819922', 'Q207934', 'Q207857', 'Q207822', 'Q207436', 'Q207338', 'Q20732239', 'Q207320', 'Q2071567', 'Q206984', 'Q20679883', 'Q20679540', 'Q20679033', 'Q206615', 'Q20655472', 'Q20653566', 'Q2065227', 'Q20646670', 'Q20646667', 'Q20638319', 'Q206287', 'Q2061186', 'Q205901', 'Q2057971', 'Q205585', 'Q20540385', 'Q20354035', 'Q2031836', 'Q2023000', 'Q20202072', 'Q2009686', 'Q200547', 'Q20027951', 'Q2001982', 'Q2001676', 'Q200141', 'Q20011319', 'Q2000908', 'Q19973770', 'Q19951362', 'Q199451', 'Q1993624', 'Q1990987', 'Q1989945', 'Q198632', 'Q19847189', 'Q1978718', 'Q19753332', 'Q19753331', 'Q196756', 'Q196538', 'Q19610271', 'Q19509097', 'Q19464263', 'Q194408', 'Q194235', 'Q194029', 'Q193544', 'Q19351429', 'Q1935136', 'Q19347965', 'Q1934189', 'Q193395', 'Q1930585', 'Q192851', 'Q192822', 'Q192276', 'Q1922243', 'Q1915979', 'Q191062', 'Q19097', 'Q1907150', 'Q190652', 'Q1906268', 'Q190157', 'Q190087', 'Q1900326', 'Q189970', 'Q18984099', 'Q18972245', 'Q189672', 'Q18918041', 'Q18917976', 'Q189156', 'Q188725', 'Q18867064', 'Q188602', 'Q1885014', 'Q188497', 'Q188267', 'Q188063', 'Q18761864', 'Q187456', 'Q18691318', 'Q1868552', 'Q18674739', 'Q18673030', 'Q1867183', 'Q186713', 'Q186408', 'Q18564289', 'Q1855011', 'Q18544917', 'Q1853630', 'Q185363', 'Q18516630', 'Q184554', 'Q184358', 'Q18340550', 'Q18325841', 'Q183257', 'Q18285142', 'Q18285132', 'Q18279', 'Q1827405', 'Q182531', 'Q182406', 'Q182037', 'Q18199879', 'Q18168594', 'Q1815901', 'Q1814351', 'Q1813540', 'Q181336', 'Q181156', 'Q180958', 'Q180874', 'Q1807466', 'Q18033462', 'Q18009650', 'Q18009587', 'Q1797187', 'Q1797122', 'Q179600', 'Q1793804', 'Q179348', 'Q17907810', 'Q179076', 'Q179049', 'Q1788582', 'Q1788454', 'Q178843', 'Q178750', 'Q1787111', 'Q178706', 'Q178692', 'Q1785733', 'Q1781058', 'Q178048', 'Q1779868', 'Q1778821', 'Q1777205', 'Q177719', 'Q1776764', 'Q177414', 'Q177413', 'Q17682891', 'Q1760704', 'Q1760610', 'Q175854', 'Q1758354', 'Q1756477', 'Q17560478', 'Q175185', 'Q17487588', 'Q17456916', 'Q17451', 'Q1743327', 'Q17377208', 'Q1736393', 'Q173517', 'Q17318027', 'Q172847', 'Q17279032', 'Q17271186', 'Q17270000', 'Q1724915', 'Q1724017', 'Q1721546', 'Q1720648', 'Q17205735', 'Q17202187', 'Q17201685', 'Q1719244', 'Q1718623', 'Q171558', 'Q1714375', 'Q171187', 'Q170885', 'Q1708422', 'Q17051104', 'Q17024704', 'Q170013', 'Q1695502', 'Q16939396', 'Q16889133', 'Q168845', 'Q1686959', 'Q16858238', 'Q16821845', 'Q1681685', 'Q1681353', 'Q1679887', 'Q16748868', 'Q16743958', 'Q16725895', 'Q16708006', 'Q16705943', 'Q16632355', 'Q1661706', 'Q1644573', 'Q1642488', 'Q1640962', 'Q1640829', 'Q1640824', 'Q16349709', 'Q16332653', 'Q16326794', 'Q1624034', 'Q162157', 'Q1620945', 'Q161705', 'Q161524', 'Q16146522', 'Q161410', 'Q161387', 'Q1612985', 'Q161179', 'Q161161', 'Q16103215', 'Q16077796', 'Q160683', 'Q16017119', 'Q15975450', 'Q159313', 'Q15900647', 'Q1589568', 'Q15894910', 'Q1585560', 'Q1584134', 'Q15831577', 'Q15809678', 'Q157811', 'Q15725618', 'Q15720873', 'Q1571814', 'Q15709879', 'Q15707521', 'Q1570262', 'Q15673297', 'Q1565828', 'Q15642541', 'Q15630906', 'Q15630849', 'Q15629582', 'Q15622387', 'Q1551763', 'Q1550680', 'Q1546359', 'Q154547', 'Q1531518', 'Q15296520', 'Q15283424', 'Q15276', 'Q1522839', 'Q1519799', 'Q15169167', 'Q15145537', 'Q15141632', 'Q15141321', 'Q15138389', 'Q15125752', 'Q15101896', 'Q1509831', 'Q1509716', 'Q15091377', 'Q15079751', 'Q150784', 'Q15075508', 'Q1507281', 'Q15070223', 'Q15053464', 'Q15042037', 'Q1501864', 'Q1501619', 'Q1501046', 'Q1497649', 'Q149621', 'Q14942893', 'Q1493054', 'Q14928320', 'Q147538', 'Q14750991', 'Q147027', 'Q14701808', 'Q14637321', 'Q146071', 'Q143467', 'Q1434401', 'Q14296', 'Q142714', 'Q1426772', 'Q1426035', 'Q1413606', 'Q1413444', 'Q1412205', 'Q1410668', 'Q140774', 'Q1401891', 'Q1400565', 'Q139677', 'Q1394476', 'Q1393724', 'Q13930359', 'Q1383084', 'Q1378975', 'Q1377182', 'Q1373429', 'Q1371288', 'Q1370727', 'Q13691', 'Q1368848', 'Q1366112', 'Q1364273', 'Q1358344', 'Q13578154', 'Q1355298', 'Q1347367', 'Q13466456', 'Q13439060', 'Q13427619', 'Q133585', 'Q1330251', 'Q132834', 'Q1327300', 'Q132510', 'Q13243303', 'Q13218676', 'Q13217186', 'Q1317590', 'Q131263', 'Q13107184', 'Q131030', 'Q13025342', 'Q1299714', 'Q1298239', 'Q12973014', 'Q1296040', 'Q128952', 'Q12890393', 'Q1288520', 'Q12876', 'Q1286790', 'Q12827391', 'Q1281105', 'Q1279564', 'Q1278791', 'Q12783', 'Q127771', 'Q12765852', 'Q1269299', 'Q1265353', 'Q1259617', 'Q1257934', 'Q12570', 'Q1255828', 'Q1254596', 'Q12516', 'Q124757', 'Q124714', 'Q123991', 'Q12397176', 'Q12350930', 'Q1228895', 'Q12270111', 'Q122', 'Q121742', 'Q12143', 'Q12135', 'Q12119802', 'Q1210950', 'Q12106333', 'Q1210334', 'Q12021576', 'Q12018173', 'Q12014176', 'Q1200957', 'Q1197154', 'Q1194583', 'Q1194093', 'Q1193438', 'Q119253', 'Q1192063', 'Q1188986', 'Q1187580', 'Q11796413', 'Q11786880', 'Q117850', 'Q11753321', 'Q1174791', 'Q11732217', 'Q11707', 'Q11696608', 'Q1165822', 'Q11639620', 'Q1161185', 'Q115740682', 'Q1156854', 'Q11556633', 'Q115473170', 'Q1153670', 'Q1153408', 'Q1153014', 'Q115035207', 'Q1149405', 'Q11480011', 'Q114782406', 'Q1146429', 'Q1144899', 'Q1143635', 'Q11424045', 'Q1142281', 'Q1142192', 'Q1141470', 'Q1141321', 'Q11408869', 'Q11402', 'Q1140158', 'Q1138494', 'Q1138178', 'Q1137833', 'Q113687694', 'Q113562598', 'Q1135557', 'Q113551581', 'Q113496174', 'Q11345', 'Q113131065', 'Q113022117', 'Q112983', 'Q112827555', 'Q1128255', 'Q1127759', 'Q11269813', 'Q1125776', 'Q1125321', 'Q112128334', 'Q112119626', 'Q11204', 'Q11166728', 'Q111241092', 'Q1110684', 'Q11101', 'Q110977521', 'Q110930015', 'Q110706912', 'Q110372546', 'Q110224119', 'Q109551565', 'Q1092939', 'Q10926413', 'Q108950911', 'Q108860593', 'Q1088552', 'Q10878543', 'Q108485826', 'Q108460239', 'Q108266224', 'Q108102018', 'Q1079023', 'Q1078765', 'Q107706', 'Q107679', 'Q1076579', 'Q107565306', 'Q107478770', 'Q107359024', 'Q107154516', 'Q1071351', 'Q1067867', 'Q106664582', 'Q106644070', 'Q106576055', 'Q1065592', 'Q10631691', 'Q106259', 'Q106042566', 'Q105985', 'Q10594991', 'Q1059478', 'Q1058792', 'Q105849914', 'Q1058387', 'Q105760881', 'Q1055307', 'Q105420', 'Q1053630', 'Q105190', 'Q1051581', 'Q105085320', 'Q104886628', 'Q104880945', 'Q104843', 'Q1048372', 'Q104698', 'Q104649845', 'Q104640199', 'Q104541980', 'Q104529478', 'Q1044880', 'Q104212151', 'Q104193250', 'Q104018785', 'Q103903440', 'Q103843052', 'Q103842783', 'Q103842693', 'Q103813668', 'Q10373548', 'Q10354598', 'Q1032372', 'Q1031943', 'Q10267336', 'Q102356', 'Q1022469', 'Q1022147', 'Q1021711', 'Q102126612', 'Q102047', 'Q101843', 'Q1010624', 'Q1006079', 'Q1004', 'Q1003030', 'Q100166545']\n",
            "3692\n"
          ]
        }
      ]
    },
    {
      "cell_type": "code",
      "source": [
        "sample_label = train_df[\"wikilabel\"].iloc[0]\n",
        "print(f\"Original label: {sample_label}\")\n",
        "\n",
        "label_binarized = lookup([sample_label])\n",
        "print(f\"Label-binarized representation: {label_binarized}\")"
      ],
      "metadata": {
        "colab": {
          "base_uri": "https://localhost:8080/"
        },
        "id": "bxR3icdBMjCX",
        "outputId": "2db63727-b769-4f47-b366-9041237e13c5"
      },
      "id": "bxR3icdBMjCX",
      "execution_count": 25,
      "outputs": [
        {
          "output_type": "stream",
          "name": "stdout",
          "text": [
            "Original label: ['Q1093829', 'Q13218391']\n",
            "Label-binarized representation: [[0. 0. 0. ... 0. 0. 0.]]\n"
          ]
        }
      ]
    },
    {
      "cell_type": "code",
      "source": [
        "train_df[\"text\"].values"
      ],
      "metadata": {
        "colab": {
          "base_uri": "https://localhost:8080/"
        },
        "id": "4wfuuSsP0dxj",
        "outputId": "57fe55e2-667f-4f88-f701-9971cf8d7be8"
      },
      "id": "4wfuuSsP0dxj",
      "execution_count": 26,
      "outputs": [
        {
          "output_type": "execute_result",
          "data": {
            "text/plain": [
              "array(['52579 456 0 0 0 0 0 0 0 0', '2572524 0 0 0 0 0 0 0 0',\n",
              "       '8504 0 0 0 0 0 0 0 0 0', ..., '1258 604 8316 0 0 0 0 0 0 0',\n",
              "       '117890 0 0 0 0 0 0 0 0 0', '1111 1665 22506 0 0 0 0 0 0 0'],\n",
              "      dtype=object)"
            ]
          },
          "metadata": {},
          "execution_count": 26
        }
      ]
    },
    {
      "cell_type": "code",
      "source": [
        "max_seqlen = 15\n",
        "batch_size = 128\n",
        "padding_token = \"<pad>\"\n",
        "auto = tf.data.AUTOTUNE\n",
        "\n",
        "def split_numbers(text):\n",
        "  vector_list = []\n",
        "  for num_str in text.values:\n",
        "    vector = [int(num) for num in num_str.split(\" \")][:9]\n",
        "    #print(len(vector))\n",
        "    vector_list.append(tf.convert_to_tensor(vector))\n",
        "  return vector_list\n",
        "\n",
        "\n",
        "\n",
        "def make_dataset(dataframe, is_train=True):\n",
        "    labels = tf.ragged.constant(dataframe[\"wikilabel\"].values)\n",
        "    label_binarized = lookup(labels).numpy()\n",
        "    dataset = tf.data.Dataset.from_tensor_slices(\n",
        "        ((split_numbers(dataframe[\"text\"])), label_binarized)\n",
        "    )\n",
        "    dataset = dataset.shuffle(batch_size * 10) if is_train else dataset\n",
        "    return dataset.batch(batch_size)"
      ],
      "metadata": {
        "id": "CaBtuPMuN6Zd"
      },
      "id": "CaBtuPMuN6Zd",
      "execution_count": 29,
      "outputs": []
    },
    {
      "cell_type": "code",
      "source": [],
      "metadata": {
        "id": "RTJWYdq0OgKe"
      },
      "id": "RTJWYdq0OgKe",
      "execution_count": null,
      "outputs": []
    },
    {
      "cell_type": "code",
      "source": [
        "vocabulary = set()\n",
        "train_df[\"text\"].str.lower().str.split().apply(vocabulary.update)\n",
        "vocabulary_size = len(vocabulary)\n",
        "print(vocabulary_size)"
      ],
      "metadata": {
        "colab": {
          "base_uri": "https://localhost:8080/"
        },
        "id": "94HieJeBEMgG",
        "outputId": "f26ca16d-ecd9-4101-c56a-a75cf18128d2"
      },
      "id": "94HieJeBEMgG",
      "execution_count": 28,
      "outputs": [
        {
          "output_type": "stream",
          "name": "stdout",
          "text": [
            "55886\n"
          ]
        }
      ]
    },
    {
      "cell_type": "code",
      "source": [
        "train_dataset = make_dataset(train_df, is_train=True)\n",
        "validation_dataset = make_dataset(val_df, is_train=False)\n",
        "test_dataset = make_dataset(test_df, is_train=False)\n",
        "\n",
        "text_vectorizer = layers.TextVectorization(\n",
        "    max_tokens=vocabulary_size, ngrams=1, output_mode=\"tf_idf\"\n",
        ")\n",
        "def process_tensorvector(line):\n",
        "  string_v = tf.strings.as_string(line)\n",
        "  return tf.convert_to_tensor()\n",
        "    #return text_vectorizer(line)\n",
        "# `TextVectorization` layer needs to be adapted as per the vocabulary from our\n",
        "# training set.\n",
        "\n",
        "train_dataset = train_dataset.map(\n",
        "    lambda text, label: (text, label), num_parallel_calls=auto\n",
        ").prefetch(auto)\n",
        "validation_dataset = validation_dataset.map(\n",
        "    lambda text, label: (text, label), num_parallel_calls=auto\n",
        ").prefetch(auto)\n",
        "test_dataset = test_dataset.map(\n",
        "    lambda text, label: (text, label), num_parallel_calls=auto\n",
        ").prefetch(auto)"
      ],
      "metadata": {
        "id": "lj6ZOKxYEThc"
      },
      "id": "lj6ZOKxYEThc",
      "execution_count": 30,
      "outputs": []
    },
    {
      "cell_type": "code",
      "source": [
        "text_batch, label_batch = next(iter(train_dataset))\n",
        "for i, text in enumerate(text_batch[60:115]):\n",
        "    label = label_batch[i].numpy()[None, ...]\n",
        "    print(type(text))\n",
        "    print(tf.shape(text))\n",
        "    print(f\"WikiText: {text}\")\n",
        "    print(f\"WikiType(s) Multihot: {(label[0])}\")\n",
        "    print(f\"WikiType(s): {invert_multi_hot(label[0])}\")\n",
        "    print(\" \")"
      ],
      "metadata": {
        "colab": {
          "base_uri": "https://localhost:8080/"
        },
        "id": "bgJakdf7-LIp",
        "outputId": "1e56340c-8e37-4af6-f647-6e8bfad55119"
      },
      "id": "bgJakdf7-LIp",
      "execution_count": 31,
      "outputs": [
        {
          "output_type": "stream",
          "name": "stdout",
          "text": [
            "<class 'tensorflow.python.framework.ops.EagerTensor'>\n",
            "tf.Tensor([9], shape=(1,), dtype=int32)\n",
            "WikiText: [  747   413 62257     0     0     0     0     0     0]\n",
            "WikiType(s) Multihot: [0. 1. 0. ... 0. 0. 0.]\n",
            "WikiType(s): ['Q5']\n",
            " \n",
            "<class 'tensorflow.python.framework.ops.EagerTensor'>\n",
            "tf.Tensor([9], shape=(1,), dtype=int32)\n",
            "WikiText: [  118 18292     0     0     0     0     0     0     0]\n",
            "WikiType(s) Multihot: [0. 1. 0. ... 0. 0. 0.]\n",
            "WikiType(s): ['Q5']\n",
            " \n",
            "<class 'tensorflow.python.framework.ops.EagerTensor'>\n",
            "tf.Tensor([9], shape=(1,), dtype=int32)\n",
            "WikiText: [  232 16853  6334     0     0     0     0     0     0]\n",
            "WikiType(s) Multihot: [0. 0. 0. ... 0. 0. 0.]\n",
            "WikiType(s): ['Q11173' 'Q12140' 'Q113681859' 'Q72941151']\n",
            " \n",
            "<class 'tensorflow.python.framework.ops.EagerTensor'>\n",
            "tf.Tensor([9], shape=(1,), dtype=int32)\n",
            "WikiText: [289014   2248      0      0      0      0      0      0      0]\n",
            "WikiType(s) Multihot: [0. 1. 0. ... 0. 0. 0.]\n",
            "WikiType(s): ['Q5']\n",
            " \n",
            "<class 'tensorflow.python.framework.ops.EagerTensor'>\n",
            "tf.Tensor([9], shape=(1,), dtype=int32)\n",
            "WikiText: [262147 430436      0      0      0      0      0      0      0]\n",
            "WikiType(s) Multihot: [0. 0. 0. ... 0. 0. 0.]\n",
            "WikiType(s): ['Q484170']\n",
            " \n",
            "<class 'tensorflow.python.framework.ops.EagerTensor'>\n",
            "tf.Tensor([9], shape=(1,), dtype=int32)\n",
            "WikiText: [13647  5467  4884     0     0     0     0     0     0]\n",
            "WikiType(s) Multihot: [0. 1. 0. ... 0. 0. 0.]\n",
            "WikiType(s): ['Q5']\n",
            " \n",
            "<class 'tensorflow.python.framework.ops.EagerTensor'>\n",
            "tf.Tensor([9], shape=(1,), dtype=int32)\n",
            "WikiText: [ 282 1520    0    0    0    0    0    0    0]\n",
            "WikiType(s) Multihot: [0. 1. 0. ... 0. 0. 0.]\n",
            "WikiType(s): ['Q5']\n",
            " \n",
            "<class 'tensorflow.python.framework.ops.EagerTensor'>\n",
            "tf.Tensor([9], shape=(1,), dtype=int32)\n",
            "WikiText: [   1    2   12 1953 2555    0    0    0    0]\n",
            "WikiType(s) Multihot: [0. 1. 0. ... 0. 0. 0.]\n",
            "WikiType(s): ['Q5']\n",
            " \n",
            "<class 'tensorflow.python.framework.ops.EagerTensor'>\n",
            "tf.Tensor([9], shape=(1,), dtype=int32)\n",
            "WikiText: [ 1140 21309 74540     0     0     0     0     0     0]\n",
            "WikiType(s) Multihot: [0. 1. 0. ... 0. 0. 0.]\n",
            "WikiType(s): ['Q5']\n",
            " \n",
            "<class 'tensorflow.python.framework.ops.EagerTensor'>\n",
            "tf.Tensor([9], shape=(1,), dtype=int32)\n",
            "WikiText: [4848 1778 1895 5383    0    0    0    0    0]\n",
            "WikiType(s) Multihot: [0. 0. 1. ... 0. 0. 0.]\n",
            "WikiType(s): ['Q4167410']\n",
            " \n",
            "<class 'tensorflow.python.framework.ops.EagerTensor'>\n",
            "tf.Tensor([9], shape=(1,), dtype=int32)\n",
            "WikiText: [1132 4697  318 1199    0    0    0    0    0]\n",
            "WikiType(s) Multihot: [0. 0. 0. ... 0. 0. 0.]\n",
            "WikiType(s): ['Q33384']\n",
            " \n",
            "<class 'tensorflow.python.framework.ops.EagerTensor'>\n",
            "tf.Tensor([9], shape=(1,), dtype=int32)\n",
            "WikiText: [17548 24766     0     0     0     0     0     0     0]\n",
            "WikiType(s) Multihot: [0. 1. 0. ... 0. 0. 0.]\n",
            "WikiType(s): ['Q5']\n",
            " \n",
            "<class 'tensorflow.python.framework.ops.EagerTensor'>\n",
            "tf.Tensor([9], shape=(1,), dtype=int32)\n",
            "WikiText: [   2861 4811260       0       0       0       0       0       0       0]\n",
            "WikiType(s) Multihot: [0. 0. 0. ... 0. 0. 0.]\n",
            "WikiType(s): ['Q16521']\n",
            " \n",
            "<class 'tensorflow.python.framework.ops.EagerTensor'>\n",
            "tf.Tensor([9], shape=(1,), dtype=int32)\n",
            "WikiText: [ 89039 114308      0      0      0      0      0      0      0]\n",
            "WikiType(s) Multihot: [0. 1. 0. ... 0. 0. 0.]\n",
            "WikiType(s): ['Q5']\n",
            " \n",
            "<class 'tensorflow.python.framework.ops.EagerTensor'>\n",
            "tf.Tensor([9], shape=(1,), dtype=int32)\n",
            "WikiText: [61961  1781   871     0     0     0     0     0     0]\n",
            "WikiType(s) Multihot: [0. 0. 0. ... 0. 0. 0.]\n",
            "WikiType(s): ['Q13410422']\n",
            " \n",
            "<class 'tensorflow.python.framework.ops.EagerTensor'>\n",
            "tf.Tensor([9], shape=(1,), dtype=int32)\n",
            "WikiText: [3270625       0       0       0       0       0       0       0       0]\n",
            "WikiType(s) Multihot: [0. 0. 0. ... 0. 0. 0.]\n",
            "WikiType(s): ['Q532' 'Q5153359']\n",
            " \n",
            "<class 'tensorflow.python.framework.ops.EagerTensor'>\n",
            "tf.Tensor([9], shape=(1,), dtype=int32)\n",
            "WikiText: [782314    705      0      0      0      0      0      0      0]\n",
            "WikiType(s) Multihot: [0. 0. 0. ... 0. 0. 0.]\n",
            "WikiType(s): ['Q149086']\n",
            " \n",
            "<class 'tensorflow.python.framework.ops.EagerTensor'>\n",
            "tf.Tensor([9], shape=(1,), dtype=int32)\n",
            "WikiText: [  3532 188495   9266      0      0      0      0      0      0]\n",
            "WikiType(s) Multihot: [0. 1. 0. ... 0. 0. 0.]\n",
            "WikiType(s): ['Q5']\n",
            " \n",
            "<class 'tensorflow.python.framework.ops.EagerTensor'>\n",
            "tf.Tensor([9], shape=(1,), dtype=int32)\n",
            "WikiText: [  2957 258353   6073      0      0      0      0      0      0]\n",
            "WikiType(s) Multihot: [0. 0. 0. ... 0. 0. 0.]\n",
            "WikiType(s): ['Q618779']\n",
            " \n",
            "<class 'tensorflow.python.framework.ops.EagerTensor'>\n",
            "tf.Tensor([9], shape=(1,), dtype=int32)\n",
            "WikiText: [ 48528  52128   2486 138668      0      0      0      0      0]\n",
            "WikiType(s) Multihot: [0. 1. 0. ... 0. 0. 0.]\n",
            "WikiType(s): ['Q5']\n",
            " \n",
            "<class 'tensorflow.python.framework.ops.EagerTensor'>\n",
            "tf.Tensor([9], shape=(1,), dtype=int32)\n",
            "WikiText: [28762     0     0     0     0     0     0     0     0]\n",
            "WikiType(s) Multihot: [0. 1. 0. ... 0. 0. 0.]\n",
            "WikiType(s): ['Q5']\n",
            " \n",
            "<class 'tensorflow.python.framework.ops.EagerTensor'>\n",
            "tf.Tensor([9], shape=(1,), dtype=int32)\n",
            "WikiText: [  1934 205000  77823      0      0      0      0      0      0]\n",
            "WikiType(s) Multihot: [0. 1. 0. ... 0. 0. 0.]\n",
            "WikiType(s): ['Q5']\n",
            " \n",
            "<class 'tensorflow.python.framework.ops.EagerTensor'>\n",
            "tf.Tensor([9], shape=(1,), dtype=int32)\n",
            "WikiText: [8992 5745  315    0    0    0    0    0    0]\n",
            "WikiType(s) Multihot: [0. 1. 0. ... 0. 0. 0.]\n",
            "WikiType(s): ['Q5']\n",
            " \n",
            "<class 'tensorflow.python.framework.ops.EagerTensor'>\n",
            "tf.Tensor([9], shape=(1,), dtype=int32)\n",
            "WikiText: [76571     0     0     0     0     0     0     0     0]\n",
            "WikiType(s) Multihot: [0. 0. 0. ... 0. 0. 0.]\n",
            "WikiType(s): ['Q3558970']\n",
            " \n",
            "<class 'tensorflow.python.framework.ops.EagerTensor'>\n",
            "tf.Tensor([9], shape=(1,), dtype=int32)\n",
            "WikiText: [13702     0     0     0     0     0     0     0     0]\n",
            "WikiType(s) Multihot: [0. 1. 0. ... 0. 0. 0.]\n",
            "WikiType(s): ['Q5']\n",
            " \n",
            "<class 'tensorflow.python.framework.ops.EagerTensor'>\n",
            "tf.Tensor([9], shape=(1,), dtype=int32)\n",
            "WikiText: [9884 4751    0    0    0    0    0    0    0]\n",
            "WikiType(s) Multihot: [0. 1. 0. ... 0. 0. 0.]\n",
            "WikiType(s): ['Q5']\n",
            " \n",
            "<class 'tensorflow.python.framework.ops.EagerTensor'>\n",
            "tf.Tensor([9], shape=(1,), dtype=int32)\n",
            "WikiText: [  10183 1161353       0       0       0       0       0       0       0]\n",
            "WikiType(s) Multihot: [0. 0. 0. ... 0. 0. 0.]\n",
            "WikiType(s): ['Q28872924']\n",
            " \n",
            "<class 'tensorflow.python.framework.ops.EagerTensor'>\n",
            "tf.Tensor([9], shape=(1,), dtype=int32)\n",
            "WikiText: [  812 59618     0     0     0     0     0     0     0]\n",
            "WikiType(s) Multihot: [0. 0. 0. ... 0. 0. 0.]\n",
            "WikiType(s): ['Q8054']\n",
            " \n",
            "<class 'tensorflow.python.framework.ops.EagerTensor'>\n",
            "tf.Tensor([9], shape=(1,), dtype=int32)\n",
            "WikiText: [ 49969   5476  45226    351 430636      0      0      0      0]\n",
            "WikiType(s) Multihot: [0. 0. 0. ... 0. 0. 0.]\n",
            "WikiType(s): ['Q22988604']\n",
            " \n",
            "<class 'tensorflow.python.framework.ops.EagerTensor'>\n",
            "tf.Tensor([9], shape=(1,), dtype=int32)\n",
            "WikiText: [443862      0      0      0      0      0      0      0      0]\n",
            "WikiType(s) Multihot: [0. 0. 0. ... 0. 0. 0.]\n",
            "WikiType(s): ['Q11446']\n",
            " \n",
            "<class 'tensorflow.python.framework.ops.EagerTensor'>\n",
            "tf.Tensor([9], shape=(1,), dtype=int32)\n",
            "WikiText: [16666     0     0     0     0     0     0     0     0]\n",
            "WikiType(s) Multihot: [0. 1. 0. ... 0. 0. 0.]\n",
            "WikiType(s): ['Q5']\n",
            " \n",
            "<class 'tensorflow.python.framework.ops.EagerTensor'>\n",
            "tf.Tensor([9], shape=(1,), dtype=int32)\n",
            "WikiText: [1952952  418204       0       0       0       0       0       0       0]\n",
            "WikiType(s) Multihot: [0. 0. 1. ... 0. 0. 0.]\n",
            "WikiType(s): ['Q4167410']\n",
            " \n",
            "<class 'tensorflow.python.framework.ops.EagerTensor'>\n",
            "tf.Tensor([9], shape=(1,), dtype=int32)\n",
            "WikiText: [151579  89050      0      0      0      0      0      0      0]\n",
            "WikiType(s) Multihot: [0. 1. 0. ... 0. 0. 0.]\n",
            "WikiType(s): ['Q5']\n",
            " \n",
            "<class 'tensorflow.python.framework.ops.EagerTensor'>\n",
            "tf.Tensor([9], shape=(1,), dtype=int32)\n",
            "WikiText: [    190      21   35052       2 2573082       0       0       0       0]\n",
            "WikiType(s) Multihot: [0. 1. 0. ... 0. 0. 0.]\n",
            "WikiType(s): ['Q5']\n",
            " \n",
            "<class 'tensorflow.python.framework.ops.EagerTensor'>\n",
            "tf.Tensor([9], shape=(1,), dtype=int32)\n",
            "WikiText: [ 18856 209384      0      0      0      0      0      0      0]\n",
            "WikiType(s) Multihot: [0. 1. 0. ... 0. 0. 0.]\n",
            "WikiType(s): ['Q5']\n",
            " \n",
            "<class 'tensorflow.python.framework.ops.EagerTensor'>\n",
            "tf.Tensor([9], shape=(1,), dtype=int32)\n",
            "WikiText: [351547      0      0      0      0      0      0      0      0]\n",
            "WikiType(s) Multihot: [0. 1. 0. ... 0. 0. 0.]\n",
            "WikiType(s): ['Q5']\n",
            " \n",
            "<class 'tensorflow.python.framework.ops.EagerTensor'>\n",
            "tf.Tensor([9], shape=(1,), dtype=int32)\n",
            "WikiText: [ 40838 658366      0      0      0      0      0      0      0]\n",
            "WikiType(s) Multihot: [0. 0. 0. ... 0. 0. 0.]\n",
            "WikiType(s): ['Q262166' 'Q100341898']\n",
            " \n",
            "<class 'tensorflow.python.framework.ops.EagerTensor'>\n",
            "tf.Tensor([9], shape=(1,), dtype=int32)\n",
            "WikiText: [3271021       0       0       0       0       0       0       0       0]\n",
            "WikiType(s) Multihot: [0. 0. 0. ... 0. 0. 0.]\n",
            "WikiType(s): ['Q12089225']\n",
            " \n",
            "<class 'tensorflow.python.framework.ops.EagerTensor'>\n",
            "tf.Tensor([9], shape=(1,), dtype=int32)\n",
            "WikiText: [782563 111615      0      0      0      0      0      0      0]\n",
            "WikiType(s) Multihot: [0. 0. 0. ... 0. 0. 0.]\n",
            "WikiType(s): ['Q7889']\n",
            " \n",
            "<class 'tensorflow.python.framework.ops.EagerTensor'>\n",
            "tf.Tensor([9], shape=(1,), dtype=int32)\n",
            "WikiText: [ 2116  2273   302 24625     0     0     0     0     0]\n",
            "WikiType(s) Multihot: [0. 1. 0. ... 0. 0. 0.]\n",
            "WikiType(s): ['Q5']\n",
            " \n",
            "<class 'tensorflow.python.framework.ops.EagerTensor'>\n",
            "tf.Tensor([9], shape=(1,), dtype=int32)\n",
            "WikiText: [65749 18670     0     0     0     0     0     0     0]\n",
            "WikiType(s) Multihot: [0. 0. 0. ... 0. 0. 0.]\n",
            "WikiType(s): ['Q484170']\n",
            " \n",
            "<class 'tensorflow.python.framework.ops.EagerTensor'>\n",
            "tf.Tensor([9], shape=(1,), dtype=int32)\n",
            "WikiText: [12818  3519  1945  1982     0     0     0     0     0]\n",
            "WikiType(s) Multihot: [0. 0. 0. ... 0. 0. 0.]\n",
            "WikiType(s): ['Q59773381']\n",
            " \n",
            "<class 'tensorflow.python.framework.ops.EagerTensor'>\n",
            "tf.Tensor([9], shape=(1,), dtype=int32)\n",
            "WikiText: [4812648       0       0       0       0       0       0       0       0]\n",
            "WikiType(s) Multihot: [0. 1. 0. ... 0. 0. 0.]\n",
            "WikiType(s): ['Q5']\n",
            " \n",
            "<class 'tensorflow.python.framework.ops.EagerTensor'>\n",
            "tf.Tensor([9], shape=(1,), dtype=int32)\n",
            "WikiText: [ 20452 694648      0      0      0      0      0      0      0]\n",
            "WikiType(s) Multihot: [0. 1. 0. ... 0. 0. 0.]\n",
            "WikiType(s): ['Q5']\n",
            " \n",
            "<class 'tensorflow.python.framework.ops.EagerTensor'>\n",
            "tf.Tensor([9], shape=(1,), dtype=int32)\n",
            "WikiText: [15288 84213     0     0     0     0     0     0     0]\n",
            "WikiType(s) Multihot: [0. 1. 0. ... 0. 0. 0.]\n",
            "WikiType(s): ['Q5']\n",
            " \n",
            "<class 'tensorflow.python.framework.ops.EagerTensor'>\n",
            "tf.Tensor([9], shape=(1,), dtype=int32)\n",
            "WikiText: [  7346 270450      0      0      0      0      0      0      0]\n",
            "WikiType(s) Multihot: [0. 0. 0. ... 0. 0. 0.]\n",
            "WikiType(s): ['Q16521']\n",
            " \n",
            "<class 'tensorflow.python.framework.ops.EagerTensor'>\n",
            "tf.Tensor([9], shape=(1,), dtype=int32)\n",
            "WikiText: [ 168  160 8319    0    0    0    0    0    0]\n",
            "WikiType(s) Multihot: [0. 0. 1. ... 0. 0. 0.]\n",
            "WikiType(s): ['Q4167410']\n",
            " \n",
            "<class 'tensorflow.python.framework.ops.EagerTensor'>\n",
            "tf.Tensor([9], shape=(1,), dtype=int32)\n",
            "WikiText: [1954025       0       0       0       0       0       0       0       0]\n",
            "WikiType(s) Multihot: [0. 1. 0. ... 0. 0. 0.]\n",
            "WikiType(s): ['Q5']\n",
            " \n",
            "<class 'tensorflow.python.framework.ops.EagerTensor'>\n",
            "tf.Tensor([9], shape=(1,), dtype=int32)\n",
            "WikiText: [ 6211 23875     0     0     0     0     0     0     0]\n",
            "WikiType(s) Multihot: [0. 1. 0. ... 0. 0. 0.]\n",
            "WikiType(s): ['Q5']\n",
            " \n",
            "<class 'tensorflow.python.framework.ops.EagerTensor'>\n",
            "tf.Tensor([9], shape=(1,), dtype=int32)\n",
            "WikiText: [527240      0      0      0      0      0      0      0      0]\n",
            "WikiType(s) Multihot: [0. 1. 0. ... 0. 0. 0.]\n",
            "WikiType(s): ['Q5']\n",
            " \n",
            "<class 'tensorflow.python.framework.ops.EagerTensor'>\n",
            "tf.Tensor([9], shape=(1,), dtype=int32)\n",
            "WikiText: [   12  2453 23061     0     0     0     0     0     0]\n",
            "WikiType(s) Multihot: [0. 1. 0. ... 0. 0. 0.]\n",
            "WikiType(s): ['Q5']\n",
            " \n",
            "<class 'tensorflow.python.framework.ops.EagerTensor'>\n",
            "tf.Tensor([9], shape=(1,), dtype=int32)\n",
            "WikiText: [109636   2991      2      0      0      0      0      0      0]\n",
            "WikiType(s) Multihot: [0. 0. 0. ... 0. 0. 0.]\n",
            "WikiType(s): ['Q186516']\n",
            " \n",
            "<class 'tensorflow.python.framework.ops.EagerTensor'>\n",
            "tf.Tensor([9], shape=(1,), dtype=int32)\n",
            "WikiText: [32890     0     0     0     0     0     0     0     0]\n",
            "WikiType(s) Multihot: [0. 0. 1. ... 0. 0. 0.]\n",
            "WikiType(s): ['Q4167410']\n",
            " \n",
            "<class 'tensorflow.python.framework.ops.EagerTensor'>\n",
            "tf.Tensor([9], shape=(1,), dtype=int32)\n",
            "WikiText: [   3237  323364 1954168       0       0       0       0       0       0]\n",
            "WikiType(s) Multihot: [0. 1. 0. ... 0. 0. 0.]\n",
            "WikiType(s): ['Q5']\n",
            " \n",
            "<class 'tensorflow.python.framework.ops.EagerTensor'>\n",
            "tf.Tensor([9], shape=(1,), dtype=int32)\n",
            "WikiText: [17742 88591     0     0     0     0     0     0     0]\n",
            "WikiType(s) Multihot: [0. 1. 0. ... 0. 0. 0.]\n",
            "WikiType(s): ['Q5']\n",
            " \n"
          ]
        }
      ]
    },
    {
      "cell_type": "code",
      "source": [
        "text_batch[:5]"
      ],
      "metadata": {
        "colab": {
          "base_uri": "https://localhost:8080/"
        },
        "id": "37HJcTXD-PiP",
        "outputId": "b3bb1b99-1a98-44b5-906e-6bc12e759c5d"
      },
      "id": "37HJcTXD-PiP",
      "execution_count": 33,
      "outputs": [
        {
          "output_type": "execute_result",
          "data": {
            "text/plain": [
              "<tf.Tensor: shape=(5, 9), dtype=int32, numpy=\n",
              "array([[  1004,   5020, 658434,      0,      0,      0,      0,      0,\n",
              "             0],\n",
              "       [658328,      0,      0,      0,      0,      0,      0,      0,\n",
              "             0],\n",
              "       [    21,      2,     22,   3706,      4,  49313,  55288,      0,\n",
              "             0],\n",
              "       [  7232,  40841,  19371,      0,      0,      0,      0,      0,\n",
              "             0],\n",
              "       [ 70615,    329,   3124,      0,      0,      0,      0,      0,\n",
              "             0]], dtype=int32)>"
            ]
          },
          "metadata": {},
          "execution_count": 33
        }
      ]
    },
    {
      "cell_type": "code",
      "source": [
        "def make_model():\n",
        "\n",
        "    shallow_mlp_model = keras.Sequential(\n",
        "        [\n",
        "            layers.Dense(512, activation=\"relu\"),\n",
        "            layers.Dense(256, activation=\"relu\",name=\"wikiembedding256\"),\n",
        "            ##layers.Dense(10, activation=\"relu\", name=\"wikiembedding10\"),\n",
        "            layers.Dense(lookup.vocabulary_size(), activation=\"sigmoid\"),\n",
        "        ]  # More on why \"sigmoid\" has been used here in a moment.\n",
        "    )\n",
        "    return shallow_mlp_model"
      ],
      "metadata": {
        "id": "N4iHNt_ESQ83"
      },
      "id": "N4iHNt_ESQ83",
      "execution_count": 34,
      "outputs": []
    },
    {
      "cell_type": "code",
      "source": [],
      "metadata": {
        "id": "xc-29rnLQdYm"
      },
      "id": "xc-29rnLQdYm",
      "execution_count": null,
      "outputs": []
    },
    {
      "cell_type": "code",
      "source": [
        "    def weighted_binary_crossentropy(y_true, y_pred):\n",
        "        one_weight = 0.8\n",
        "        zero_weight = 2.5\n",
        "\n",
        "        # Original binary crossentropy (see losses.py):\n",
        "        # K.mean(K.binary_crossentropy(y_true, y_pred), axis=-1)\n",
        "\n",
        "        # Calculate the binary crossentropy\n",
        "        b_ce = K.binary_crossentropy(y_true, y_pred)\n",
        "\n",
        "        # Apply the weights\n",
        "        weight_vector = y_true * one_weight + (1. - y_true) * zero_weight\n",
        "        weighted_b_ce = weight_vector * b_ce\n",
        "\n",
        "        # Return the mean error\n",
        "        return K.mean(weighted_b_ce)"
      ],
      "metadata": {
        "id": "EM9Ybv38S9CI"
      },
      "id": "EM9Ybv38S9CI",
      "execution_count": 37,
      "outputs": []
    },
    {
      "cell_type": "code",
      "source": [
        "def create_weighted_binary_crossentropy(zero_weight, one_weight):\n",
        "\n",
        "    def weighted_binary_crossentropy(y_true, y_pred):\n",
        "\n",
        "        # Original binary crossentropy (see losses.py):\n",
        "        # K.mean(K.binary_crossentropy(y_true, y_pred), axis=-1)\n",
        "\n",
        "        # Calculate the binary crossentropy\n",
        "        b_ce = K.binary_crossentropy(y_true, y_pred)\n",
        "\n",
        "        # Apply the weights\n",
        "        weight_vector = y_true * one_weight + (1. - y_true) * zero_weight\n",
        "        weighted_b_ce = weight_vector * b_ce\n",
        "\n",
        "        # Return the mean error\n",
        "        return K.mean(weighted_b_ce)\n",
        "\n",
        "    return weighted_binary_crossentropy"
      ],
      "metadata": {
        "id": "eXYaGx2_USGe"
      },
      "id": "eXYaGx2_USGe",
      "execution_count": 36,
      "outputs": []
    },
    {
      "cell_type": "code",
      "source": [
        "epochs = 50\n",
        "\n",
        "shallow_mlp_model = make_model()\n",
        "shallow_mlp_model.compile(\n",
        "    loss=weighted_binary_crossentropy, optimizer=\"adam\", metrics=['accuracy']\n",
        ")\n",
        "\n",
        "history = shallow_mlp_model.fit(\n",
        "    train_dataset, validation_data=validation_dataset, epochs=epochs\n",
        ")\n",
        "\n",
        "\n",
        "def plot_result(item):\n",
        "    plt.plot(history.history[item], label=item)\n",
        "    plt.plot(history.history[\"val_\" + item], label=\"val_\" + item)\n",
        "    plt.xlabel(\"Epochs\")\n",
        "    plt.ylabel(item)\n",
        "    plt.title(\"Train and Validation {} Over Epochs\".format(item), fontsize=14)\n",
        "    plt.legend()\n",
        "    plt.grid()\n",
        "    plt.show()\n",
        "\n",
        "\n",
        "plot_result(\"loss\")\n",
        "plot_result(\"accuracy\")"
      ],
      "metadata": {
        "colab": {
          "base_uri": "https://localhost:8080/",
          "height": 1000
        },
        "id": "_3d-SBBCSWR-",
        "outputId": "e80ec058-1add-4c22-90ce-83e51a5cfe76"
      },
      "id": "_3d-SBBCSWR-",
      "execution_count": 38,
      "outputs": [
        {
          "output_type": "stream",
          "name": "stdout",
          "text": [
            "Epoch 1/50\n",
            "524/524 [==============================] - 16s 28ms/step - loss: 24.8904 - accuracy: 0.2416 - val_loss: 0.3557 - val_accuracy: 0.0727\n",
            "Epoch 2/50\n",
            "524/524 [==============================] - 15s 28ms/step - loss: 0.2145 - accuracy: 0.2280 - val_loss: 0.1750 - val_accuracy: 0.2792\n",
            "Epoch 3/50\n",
            "524/524 [==============================] - 14s 28ms/step - loss: 0.3824 - accuracy: 0.2335 - val_loss: 0.4812 - val_accuracy: 0.2222\n",
            "Epoch 4/50\n",
            "524/524 [==============================] - 14s 27ms/step - loss: 1.2980 - accuracy: 0.2328 - val_loss: 1.0644 - val_accuracy: 0.1727\n",
            "Epoch 5/50\n",
            "524/524 [==============================] - 18s 34ms/step - loss: 0.5535 - accuracy: 0.2454 - val_loss: 0.4455 - val_accuracy: 0.3296\n",
            "Epoch 6/50\n",
            "524/524 [==============================] - 15s 28ms/step - loss: 0.1591 - accuracy: 0.3414 - val_loss: 0.0596 - val_accuracy: 0.4339\n",
            "Epoch 7/50\n",
            "524/524 [==============================] - 15s 28ms/step - loss: 0.6314 - accuracy: 0.2633 - val_loss: 1.6585 - val_accuracy: 0.1732\n",
            "Epoch 8/50\n",
            "524/524 [==============================] - 14s 28ms/step - loss: 0.3208 - accuracy: 0.3349 - val_loss: 0.9764 - val_accuracy: 0.4379\n",
            "Epoch 9/50\n",
            "524/524 [==============================] - 14s 28ms/step - loss: 0.4510 - accuracy: 0.2488 - val_loss: 0.0613 - val_accuracy: 0.4287\n",
            "Epoch 10/50\n",
            "524/524 [==============================] - 14s 28ms/step - loss: 0.2101 - accuracy: 0.3409 - val_loss: 0.0624 - val_accuracy: 0.2544\n",
            "Epoch 11/50\n",
            "524/524 [==============================] - 15s 28ms/step - loss: 0.0367 - accuracy: 0.4189 - val_loss: 0.0272 - val_accuracy: 0.4252\n",
            "Epoch 12/50\n",
            "524/524 [==============================] - 14s 28ms/step - loss: 0.0166 - accuracy: 0.4187 - val_loss: 0.0221 - val_accuracy: 0.3779\n",
            "Epoch 13/50\n",
            "524/524 [==============================] - 15s 28ms/step - loss: 0.4553 - accuracy: 0.2808 - val_loss: 0.0432 - val_accuracy: 0.4376\n",
            "Epoch 14/50\n",
            "524/524 [==============================] - 15s 28ms/step - loss: 0.3075 - accuracy: 0.2583 - val_loss: 0.0870 - val_accuracy: 0.4348\n",
            "Epoch 15/50\n",
            "524/524 [==============================] - 15s 28ms/step - loss: 0.0557 - accuracy: 0.3945 - val_loss: 0.0596 - val_accuracy: 0.3938\n",
            "Epoch 16/50\n",
            "524/524 [==============================] - 15s 28ms/step - loss: 0.2080 - accuracy: 0.2697 - val_loss: 0.2790 - val_accuracy: 0.4389\n",
            "Epoch 17/50\n",
            "524/524 [==============================] - 15s 28ms/step - loss: 0.2667 - accuracy: 0.2489 - val_loss: 0.1410 - val_accuracy: 0.2918\n",
            "Epoch 18/50\n",
            "524/524 [==============================] - 14s 28ms/step - loss: 0.0747 - accuracy: 0.3477 - val_loss: 0.0327 - val_accuracy: 0.4084\n",
            "Epoch 19/50\n",
            "524/524 [==============================] - 15s 29ms/step - loss: 0.1107 - accuracy: 0.3268 - val_loss: 0.0498 - val_accuracy: 0.4390\n",
            "Epoch 20/50\n",
            "524/524 [==============================] - 15s 28ms/step - loss: 0.0504 - accuracy: 0.3725 - val_loss: 0.1909 - val_accuracy: 0.4390\n",
            "Epoch 21/50\n",
            "524/524 [==============================] - 15s 28ms/step - loss: 0.6262 - accuracy: 0.2724 - val_loss: 0.0828 - val_accuracy: 0.4388\n",
            "Epoch 22/50\n",
            "524/524 [==============================] - 15s 28ms/step - loss: 0.1307 - accuracy: 0.3845 - val_loss: 0.0449 - val_accuracy: 0.4390\n",
            "Epoch 23/50\n",
            "524/524 [==============================] - 15s 28ms/step - loss: 0.0787 - accuracy: 0.3798 - val_loss: 0.0704 - val_accuracy: 0.2985\n",
            "Epoch 24/50\n",
            "524/524 [==============================] - 15s 28ms/step - loss: 0.0318 - accuracy: 0.4274 - val_loss: 0.0219 - val_accuracy: 0.4390\n",
            "Epoch 25/50\n",
            "524/524 [==============================] - 15s 28ms/step - loss: 0.0204 - accuracy: 0.4321 - val_loss: 0.0174 - val_accuracy: 0.4390\n",
            "Epoch 26/50\n",
            "524/524 [==============================] - 14s 28ms/step - loss: 0.0141 - accuracy: 0.4343 - val_loss: 0.0119 - val_accuracy: 0.4390\n",
            "Epoch 27/50\n",
            "524/524 [==============================] - 14s 28ms/step - loss: 0.0110 - accuracy: 0.4338 - val_loss: 0.0100 - val_accuracy: 0.4390\n",
            "Epoch 28/50\n",
            "524/524 [==============================] - 15s 28ms/step - loss: 0.0097 - accuracy: 0.4336 - val_loss: 0.0082 - val_accuracy: 0.4390\n",
            "Epoch 29/50\n",
            "524/524 [==============================] - 15s 28ms/step - loss: 0.0080 - accuracy: 0.4341 - val_loss: 0.0070 - val_accuracy: 0.4390\n",
            "Epoch 30/50\n",
            "524/524 [==============================] - 15s 28ms/step - loss: 0.0414 - accuracy: 0.4329 - val_loss: 0.0056 - val_accuracy: 0.4390\n",
            "Epoch 31/50\n",
            "524/524 [==============================] - 15s 28ms/step - loss: 0.0051 - accuracy: 0.4344 - val_loss: 0.0049 - val_accuracy: 0.4390\n",
            "Epoch 32/50\n",
            "524/524 [==============================] - 15s 28ms/step - loss: 0.0045 - accuracy: 0.4344 - val_loss: 0.0042 - val_accuracy: 0.4390\n",
            "Epoch 33/50\n",
            "524/524 [==============================] - 14s 28ms/step - loss: 0.0039 - accuracy: 0.4345 - val_loss: 0.0036 - val_accuracy: 0.4390\n",
            "Epoch 34/50\n",
            "524/524 [==============================] - 15s 28ms/step - loss: 0.0034 - accuracy: 0.4345 - val_loss: 0.0030 - val_accuracy: 0.4390\n",
            "Epoch 35/50\n",
            "524/524 [==============================] - 15s 28ms/step - loss: 0.0030 - accuracy: 0.4345 - val_loss: 0.0029 - val_accuracy: 0.4388\n",
            "Epoch 36/50\n",
            "524/524 [==============================] - 14s 27ms/step - loss: 0.0554 - accuracy: 0.4344 - val_loss: 0.0026 - val_accuracy: 0.4390\n",
            "Epoch 37/50\n",
            "524/524 [==============================] - 14s 27ms/step - loss: 0.0025 - accuracy: 0.4345 - val_loss: 0.0024 - val_accuracy: 0.4390\n",
            "Epoch 38/50\n",
            "524/524 [==============================] - 14s 27ms/step - loss: 0.0023 - accuracy: 0.4345 - val_loss: 0.0022 - val_accuracy: 0.4390\n",
            "Epoch 39/50\n",
            "524/524 [==============================] - 14s 27ms/step - loss: 0.0021 - accuracy: 0.4345 - val_loss: 0.0021 - val_accuracy: 0.4390\n",
            "Epoch 40/50\n",
            "524/524 [==============================] - 14s 28ms/step - loss: 0.0020 - accuracy: 0.4345 - val_loss: 0.0020 - val_accuracy: 0.4390\n",
            "Epoch 41/50\n",
            "524/524 [==============================] - 15s 28ms/step - loss: 0.0019 - accuracy: 0.4345 - val_loss: 0.0019 - val_accuracy: 0.4390\n",
            "Epoch 42/50\n",
            "524/524 [==============================] - 15s 28ms/step - loss: 0.0019 - accuracy: 0.4345 - val_loss: 0.0018 - val_accuracy: 0.4390\n",
            "Epoch 43/50\n",
            "524/524 [==============================] - 15s 28ms/step - loss: 0.0018 - accuracy: 0.4345 - val_loss: 0.0018 - val_accuracy: 0.4390\n",
            "Epoch 44/50\n",
            "524/524 [==============================] - 15s 28ms/step - loss: 0.1072 - accuracy: 0.4343 - val_loss: 0.0017 - val_accuracy: 0.4390\n",
            "Epoch 45/50\n",
            "524/524 [==============================] - 15s 28ms/step - loss: 0.0038 - accuracy: 0.4345 - val_loss: 0.0017 - val_accuracy: 0.4390\n",
            "Epoch 46/50\n",
            "524/524 [==============================] - 15s 28ms/step - loss: 0.0053 - accuracy: 0.4345 - val_loss: 0.0017 - val_accuracy: 0.4390\n",
            "Epoch 47/50\n",
            "524/524 [==============================] - 15s 28ms/step - loss: 0.0017 - accuracy: 0.4345 - val_loss: 0.0017 - val_accuracy: 0.4390\n",
            "Epoch 48/50\n",
            "524/524 [==============================] - 15s 28ms/step - loss: 0.0017 - accuracy: 0.4345 - val_loss: 0.0016 - val_accuracy: 0.4390\n",
            "Epoch 49/50\n",
            "524/524 [==============================] - 15s 28ms/step - loss: 0.0016 - accuracy: 0.4345 - val_loss: 0.0016 - val_accuracy: 0.4390\n",
            "Epoch 50/50\n",
            "524/524 [==============================] - 15s 28ms/step - loss: 0.1038 - accuracy: 0.4344 - val_loss: 0.0016 - val_accuracy: 0.4390\n"
          ]
        },
        {
          "output_type": "display_data",
          "data": {
            "text/plain": [
              "<Figure size 640x480 with 1 Axes>"
            ],
            "image/png": "[encoded data removed]"
          },
          "metadata": {}
        },
        {
          "output_type": "display_data",
          "data": {
            "text/plain": [
              "<Figure size 640x480 with 1 Axes>"
            ],
            "image/png": "[encoded data removed]"
          },
          "metadata": {}
        }
      ]
    },
    {
      "cell_type": "markdown",
      "source": [
        "**Evaluate the model**"
      ],
      "metadata": {
        "id": "_Wu5tQnVhKVA"
      },
      "id": "_Wu5tQnVhKVA"
    },
    {
      "cell_type": "code",
      "source": [
        "_, binary_acc = shallow_mlp_model.evaluate(test_dataset)\n",
        "print(f\"Categorical accuracy on the test set: {round(binary_acc * 100, 2)}%.\")"
      ],
      "metadata": {
        "colab": {
          "base_uri": "https://localhost:8080/"
        },
        "id": "Wr6nv_MshOki",
        "outputId": "f006b716-4b14-474c-e4f6-5339f270b3cb"
      },
      "id": "Wr6nv_MshOki",
      "execution_count": 39,
      "outputs": [
        {
          "output_type": "stream",
          "name": "stdout",
          "text": [
            "129/129 [==============================] - 1s 10ms/step - loss: 0.0016 - accuracy: 0.4325\n",
            "Categorical accuracy on the test set: 43.25%.\n"
          ]
        }
      ]
    },
    {
      "cell_type": "markdown",
      "source": [
        "**Inference**"
      ],
      "metadata": {
        "id": "2vSYFMo7i0o0"
      },
      "id": "2vSYFMo7i0o0"
    },
    {
      "cell_type": "code",
      "source": [
        "# Create a model for inference.\n",
        "model_for_inference = keras.Sequential([shallow_mlp_model])\n",
        "\n",
        "# Create a small dataset just for demoing inference.\n",
        "inference_dataset = make_dataset(test_df.sample(100), is_train=False)\n",
        "text_batch, label_batch = next(iter(inference_dataset))\n",
        "predicted_probabilities = model_for_inference.predict(text_batch)\n",
        "\n",
        "# Perform inference.\n",
        "for i, text in enumerate(text_batch[:5]):\n",
        "    label = label_batch[i].numpy()[None, ...]\n",
        "    print(f\"Abstract: {text}\")\n",
        "    print(f\"Label(s): {invert_multi_hot(label[0])}\")\n",
        "    predicted_proba = [proba for proba in predicted_probabilities[i]]\n",
        "    top_3_labels = [\n",
        "        x\n",
        "        for _, x in sorted(\n",
        "            zip(predicted_probabilities[i], lookup.get_vocabulary()),\n",
        "            key=lambda pair: pair[0],\n",
        "            reverse=True,\n",
        "        )\n",
        "    ][:3]\n",
        "    print(f\"Predicted Label(s): ({', '.join([label for label in top_3_labels])})\")\n",
        "    print(\" \")"
      ],
      "metadata": {
        "colab": {
          "base_uri": "https://localhost:8080/"
        },
        "id": "R0JMalWIi2SG",
        "outputId": "7d1cc1b9-96ce-4e9d-a685-49dc5e678654"
      },
      "id": "R0JMalWIi2SG",
      "execution_count": 40,
      "outputs": [
        {
          "output_type": "stream",
          "name": "stdout",
          "text": [
            "4/4 [==============================] - 0s 3ms/step\n",
            "Abstract: [3270875       0       0       0       0       0       0       0       0]\n",
            "Label(s): ['Q3331189' 'Q105420']\n",
            "Predicted Label(s): (Q5, Q4167410, Q16521)\n",
            " \n",
            "Abstract: [1060054    5276    2614 4815077       0       0       0       0       0]\n",
            "Label(s): ['Q5']\n",
            "Predicted Label(s): (Q5, Q4167410, Q16521)\n",
            " \n",
            "Abstract: [430553      0      0      0      0      0      0      0      0]\n",
            "Label(s): ['Q262166']\n",
            "Predicted Label(s): (Q5, Q4167410, Q16521)\n",
            " \n",
            "Abstract: [  314 11034 20530   433 40957     0     0     0     0]\n",
            "Label(s): ['Q193622']\n",
            "Predicted Label(s): (Q5, Q4167410, Q16521)\n",
            " \n",
            "Abstract: [  2384 162663 735925      0      0      0      0      0      0]\n",
            "Label(s): ['Q16521']\n",
            "Predicted Label(s): (Q5, Q4167410, Q16521)\n",
            " \n"
          ]
        }
      ]
    },
    {
      "cell_type": "code",
      "source": [
        "model_for_inference.summary(\n",
        ")"
      ],
      "metadata": {
        "colab": {
          "base_uri": "https://localhost:8080/"
        },
        "id": "0QqOyc8g4neX",
        "outputId": "39307073-005e-4d60-f747-380f3c0517d4"
      },
      "id": "0QqOyc8g4neX",
      "execution_count": null,
      "outputs": [
        {
          "output_type": "stream",
          "name": "stdout",
          "text": [
            "Model: \"sequential_7\"\n",
            "_________________________________________________________________\n",
            " Layer (type)                Output Shape              Param #   \n",
            "=================================================================\n",
            " sequential_5 (Sequential)   (None, 3692)              1085292   \n",
            "                                                                 \n",
            "=================================================================\n",
            "Total params: 1,085,292\n",
            "Trainable params: 1,085,292\n",
            "Non-trainable params: 0\n",
            "_________________________________________________________________\n"
          ]
        }
      ]
    },
    {
      "cell_type": "code",
      "source": [
        "train_dataset"
      ],
      "metadata": {
        "colab": {
          "base_uri": "https://localhost:8080/"
        },
        "id": "PlRcDaTv6RrU",
        "outputId": "6cf024ee-b1b7-48e8-dbbd-cc746c78d4bb"
      },
      "id": "PlRcDaTv6RrU",
      "execution_count": 41,
      "outputs": [
        {
          "output_type": "execute_result",
          "data": {
            "text/plain": [
              "<_PrefetchDataset element_spec=(TensorSpec(shape=(None, 9), dtype=tf.int32, name=None), TensorSpec(shape=(None, 3692), dtype=tf.float32, name=None))>"
            ]
          },
          "metadata": {},
          "execution_count": 41
        }
      ]
    },
    {
      "cell_type": "code",
      "source": [
        "shallow_mlp_model.layers"
      ],
      "metadata": {
        "colab": {
          "base_uri": "https://localhost:8080/"
        },
        "id": "uRinTvxX7Lw6",
        "outputId": "43d0f3cc-6d5d-4334-d7ad-2984b3b4f618"
      },
      "id": "uRinTvxX7Lw6",
      "execution_count": 43,
      "outputs": [
        {
          "output_type": "execute_result",
          "data": {
            "text/plain": [
              "[<keras.layers.core.dense.Dense at 0x7f3293aaaf10>,\n",
              " <keras.layers.core.dense.Dense at 0x7f3293aaadc0>,\n",
              " <keras.layers.core.dense.Dense at 0x7f3293aaa100>]"
            ]
          },
          "metadata": {},
          "execution_count": 43
        }
      ]
    },
    {
      "cell_type": "code",
      "source": [
        "from keras import backend as K\n",
        "\n",
        "inp = shallow_mlp_model.input                                           # input placeholder\n",
        "for layer in shallow_mlp_model.layers:\n",
        "  print(layer.name)\n",
        "  if (layer.name == 'wikiembedding256'):\n",
        "    weight_vec = layer.get_weights()\n",
        "  print(layer.weights)\n",
        "\n",
        "\n"
      ],
      "metadata": {
        "colab": {
          "base_uri": "https://localhost:8080/"
        },
        "id": "G5G4a62P5SKe",
        "outputId": "12bdf456-8dde-44c6-9ed8-36fe5be63db7"
      },
      "id": "G5G4a62P5SKe",
      "execution_count": 83,
      "outputs": [
        {
          "output_type": "stream",
          "name": "stdout",
          "text": [
            "dense\n",
            "[<tf.Variable 'dense/kernel:0' shape=(9, 512) dtype=float32, numpy=\n",
            "array([[ 0.13385803,  0.05858618, -0.14751099, ..., -0.00140876,\n",
            "         0.15022396, -0.02208151],\n",
            "       [ 0.02179493,  0.0222451 , -0.00069828, ..., -0.10188279,\n",
            "         0.00895408, -0.118783  ],\n",
            "       [-0.00091675, -0.06675044, -0.03966738, ..., -0.05689038,\n",
            "        -0.15079105,  0.00860421],\n",
            "       ...,\n",
            "       [ 0.1895281 , -0.14833881,  0.1083524 , ..., -0.02376429,\n",
            "         0.13104562, -0.01790778],\n",
            "       [ 0.03359915, -0.19847733,  0.18554908, ..., -0.03814808,\n",
            "         0.10042968,  0.01406642],\n",
            "       [-0.10585351, -0.04259942,  0.01058372, ...,  0.05067515,\n",
            "        -0.1316845 , -0.04444212]], dtype=float32)>, <tf.Variable 'dense/bias:0' shape=(512,) dtype=float32, numpy=\n",
            "array([ 5.9019737e+00,  5.8470497e+00,  1.8879170e+00,  4.0501800e+00,\n",
            "        2.8101168e+00, -1.2905504e+00,  4.7055998e-01, -1.8291712e-01,\n",
            "        1.5120887e+00,  3.2350080e+00,  3.6070836e+00,  4.3396912e+00,\n",
            "        5.1476293e+00,  4.5062304e+00,  2.6116954e-02,  5.1207871e+00,\n",
            "       -3.5629082e+00,  6.4023298e-01, -7.3002160e-01, -2.2886426e+00,\n",
            "        5.1549549e+00, -5.1849800e-01,  2.6365629e-01,  1.5553463e-01,\n",
            "        1.2138072e+00,  2.3416722e+00,  4.2845812e+00,  5.9219894e+00,\n",
            "       -2.2052133e+00, -1.0839363e+00, -5.0158625e+00,  4.3883920e+00,\n",
            "        5.4354191e+00, -1.9111190e+00,  2.5903711e+00, -8.8807154e-01,\n",
            "        8.6265361e-01, -2.4747593e+00,  1.3771893e-01,  5.6493716e+00,\n",
            "        2.8593676e+00, -7.0731252e-01, -4.8702047e-03, -1.9410927e+00,\n",
            "        5.4408040e+00,  2.7398057e+00, -4.3262725e+00,  4.9862309e+00,\n",
            "        2.7848339e+00,  2.7962365e+00,  2.1072716e-01, -1.3949797e+00,\n",
            "        3.6133037e+00,  4.0704207e+00,  4.1698322e-02,  3.0297790e+00,\n",
            "        2.7091439e+00,  5.9440327e-01,  4.5941181e+00,  3.4370246e+00,\n",
            "        3.4918308e-01,  3.4692762e+00,  1.3703161e+00,  1.6395234e-01,\n",
            "        3.6730440e+00, -1.8337570e+00,  5.0597081e+00,  5.8300138e+00,\n",
            "       -2.8090892e+00,  3.6955686e+00,  5.0588465e+00,  4.9684687e+00,\n",
            "        3.1012571e+00, -7.7479655e-01,  3.9243550e+00,  2.6870031e+00,\n",
            "        5.9488816e+00, -2.8624930e+00, -1.8671224e+00,  5.8315902e+00,\n",
            "        4.0494123e+00, -5.0558460e-01,  6.0790300e+00, -1.5530188e+00,\n",
            "       -5.1314309e-03,  5.0940192e-01,  4.2835549e-01,  5.3392215e+00,\n",
            "        1.9007996e+00,  5.7191195e+00,  4.7927270e+00,  2.1561484e+00,\n",
            "       -4.0097122e+00,  3.1666155e+00,  2.7263975e+00,  4.3285783e-02,\n",
            "       -5.2479739e+00,  5.1321349e+00,  1.3431151e-02,  3.6313885e-01,\n",
            "       -5.6222582e-01,  2.7404118e+00,  3.9559349e-01, -1.5733547e+00,\n",
            "        2.3817525e+00,  5.7974677e+00,  1.4041153e+00,  2.1519268e+00,\n",
            "       -2.8354850e+00, -5.5115157e-01, -2.7452924e+00,  5.8123360e+00,\n",
            "        5.1611977e+00,  5.3694181e+00,  1.8703055e+00,  2.2978771e+00,\n",
            "        9.2041790e-01,  1.4400653e+00, -1.2994603e+00,  4.4285402e+00,\n",
            "       -2.2078757e+00,  3.2971947e+00,  2.7243924e+00,  5.6899514e+00,\n",
            "        5.4837890e+00, -3.1200252e+00, -5.8921304e+00,  4.4166727e+00,\n",
            "        5.3458195e+00,  1.2347783e+00, -2.6547873e+00,  5.3970246e+00,\n",
            "        4.3903762e-01, -7.6824445e-01,  5.5060711e+00, -1.4820492e+00,\n",
            "       -2.2837789e+00, -2.4219117e+00,  1.2961895e+00, -3.5961485e+00,\n",
            "        3.7992849e+00,  3.3467633e-01, -1.0836204e+00,  4.0833569e+00,\n",
            "       -2.3383443e+00,  3.6270375e+00,  4.7965260e+00, -3.7861800e-01,\n",
            "       -7.5305544e-02, -3.5453647e-01,  2.7147102e+00,  4.7247734e-02,\n",
            "        5.4047519e-01,  5.8147106e+00, -3.4048635e-01,  2.5507614e-01,\n",
            "       -7.0884663e-01,  1.1927375e+00,  3.8563221e+00,  5.8679318e+00,\n",
            "        5.6138320e+00,  1.0994729e+00, -6.3247564e-05, -3.2736413e+00,\n",
            "       -2.3590956e+00,  4.6682634e+00, -1.8670363e+00, -3.1119740e+00,\n",
            "       -1.7233553e+00, -4.0465946e+00, -1.7590156e+00, -3.6280781e-02,\n",
            "        2.8921504e+00, -2.9220006e+00, -1.7547508e-01,  9.4827205e-02,\n",
            "       -2.2352905e+00,  2.6596723e+00,  4.6797152e+00, -6.2136836e-02,\n",
            "       -1.5435430e+00, -9.4122940e-01, -2.1134827e-01, -4.0642360e-01,\n",
            "        2.2881591e+00, -1.0576925e+00,  1.1035046e-01, -9.2854756e-01,\n",
            "       -3.7396020e-01, -1.0840936e-01,  2.7946360e+00,  4.9153376e+00,\n",
            "       -6.1034936e-01,  4.4598007e+00, -4.1924429e-01,  5.0921645e+00,\n",
            "        2.3166277e+00,  5.7649646e+00,  3.9899084e-01,  1.1521759e+00,\n",
            "       -2.9146370e-01, -3.8819581e-01, -5.3656581e-03,  2.1771135e+00,\n",
            "       -3.2963619e-01,  4.7431687e-01,  5.6836562e+00, -2.8479459e+00,\n",
            "       -1.4058383e+00,  1.8087472e+00,  6.1723524e-01,  2.9500637e+00,\n",
            "        3.6734722e+00, -4.7945538e-01,  5.3097954e+00, -1.9730847e+00,\n",
            "       -1.4034730e+00,  4.4539146e+00,  1.2582870e+00,  4.1497946e+00,\n",
            "       -9.1034007e-01,  6.0883937e+00,  5.8413262e+00,  3.6329443e+00,\n",
            "        6.0186343e+00,  5.9483719e-01,  5.5132427e+00, -3.2279212e+00,\n",
            "        5.6539431e+00,  3.3307573e-01,  1.2192943e+00,  4.3969088e+00,\n",
            "        6.2027431e+00,  5.1660166e+00,  4.9133697e+00, -3.7853658e+00,\n",
            "       -1.1814497e+00,  5.7745957e-01, -3.3060178e-01,  3.9181404e+00,\n",
            "       -2.5872433e+00,  3.8352165e+00, -3.5465741e-01, -1.5009271e+00,\n",
            "        6.3221508e-01,  8.1214875e-01,  5.6698376e-01,  5.9835877e+00,\n",
            "        8.6849630e-02,  1.2398880e+00, -8.9441789e-03,  5.1192802e-01,\n",
            "        5.3725495e+00,  2.8128591e+00, -1.8798285e+00, -1.4180650e+00,\n",
            "        3.3414748e+00, -8.8455850e-01,  2.0824821e+00,  3.1831334e+00,\n",
            "        4.6958466e+00, -1.7534597e-01,  5.5332823e+00, -3.0298555e-01,\n",
            "        4.9370613e+00,  2.8009820e+00, -1.0083762e+00,  5.2139554e+00,\n",
            "        5.2252183e+00,  2.8786147e+00, -1.9385451e+00, -5.9552264e+00,\n",
            "        9.7288087e-02, -1.9617329e+00,  5.1303744e+00,  4.3682880e+00,\n",
            "        4.5027193e-01,  2.4885893e+00,  3.0962920e+00,  5.6936674e+00,\n",
            "        3.4936440e+00, -1.9628686e-01, -1.3221529e+00, -1.1463925e-02,\n",
            "        1.0006622e+00,  1.9881574e+00, -2.2928336e-01,  5.8627071e+00,\n",
            "       -8.6831486e-01,  1.4918685e-01, -1.1702673e+00,  5.3781600e+00,\n",
            "       -5.4294429e+00, -1.5271417e+00,  2.7572305e+00,  1.3225428e+00,\n",
            "        5.7151165e+00,  9.8485909e-02,  3.0332011e-01, -3.8750473e-01,\n",
            "       -2.1153049e-01,  4.7388974e-01, -3.7382236e+00,  2.5378995e+00,\n",
            "        2.6684988e+00,  4.9819126e+00,  2.9656208e+00, -6.8622065e-01,\n",
            "        1.3049730e-02,  5.7572584e+00,  5.2648301e+00,  1.6442591e+00,\n",
            "        2.5931671e+00,  5.7784671e-01, -2.7401966e-01,  5.3210130e+00,\n",
            "        7.7015543e-01,  4.9895477e+00,  2.4677122e+00, -7.8417051e-01,\n",
            "       -4.4343252e-02, -4.0507298e-02,  5.6991687e+00, -4.0569064e-01,\n",
            "        2.4625118e+00, -2.7859122e-01,  4.5128660e+00,  4.5654793e+00,\n",
            "        5.5723691e+00, -2.2587724e+00, -1.6013707e+00,  1.6204712e+00,\n",
            "       -2.8471811e+00, -8.8145107e-01, -1.1377671e+00,  6.3301330e+00,\n",
            "       -1.2684113e+00, -9.2844081e-01, -1.2648768e-02, -3.8043875e-02,\n",
            "        5.7648695e-01,  2.5581379e+00,  2.5251307e+00,  3.8913133e+00,\n",
            "       -6.0307670e-01,  1.7063876e+00,  6.5838814e+00, -1.3202504e+00,\n",
            "       -2.2014687e+00,  4.9735713e+00,  6.4401464e+00,  3.1503191e+00,\n",
            "        4.4612126e+00,  6.9511718e-01, -3.1224277e+00,  3.2070224e+00,\n",
            "       -1.8334317e+00,  5.2838869e+00,  2.7435052e+00,  3.2613869e+00,\n",
            "       -2.2718320e-02,  3.3807211e+00, -1.7064841e+00,  1.2652969e+00,\n",
            "       -1.7242061e+00, -2.2598715e+00,  5.0902119e+00,  5.1197443e+00,\n",
            "       -1.2684308e-01, -2.4878585e+00, -8.2908094e-02,  1.5564542e+00,\n",
            "       -3.8676896e+00,  3.4307737e+00,  1.7662333e+00, -8.3597891e-02,\n",
            "        4.9043231e+00,  2.3658981e+00, -9.9773228e-01,  3.9822006e+00,\n",
            "        5.8195794e-01,  5.5489221e+00, -1.2170035e+00, -2.7290657e+00,\n",
            "        1.1201214e+00, -1.5605332e+00,  1.8419152e+00,  1.3829323e+00,\n",
            "       -6.3908470e-01,  2.0523582e+00, -2.1841807e+00,  6.0876089e-01,\n",
            "        3.4681387e+00,  5.2437072e+00,  5.2700534e+00,  2.3686688e+00,\n",
            "        2.9464746e+00, -9.0348107e-01,  2.2801239e+00, -1.4629301e+00,\n",
            "        5.0721054e+00,  3.9974055e+00, -9.8146099e-01,  1.5036885e+00,\n",
            "        3.9365906e-01, -8.2832795e-01,  2.4836550e+00, -5.9131649e-03,\n",
            "       -2.5271683e+00,  5.9189038e+00,  5.6344399e+00,  6.1883193e-02,\n",
            "        3.0968729e-01,  1.0156700e-01,  5.7059531e+00,  4.1884480e+00,\n",
            "        4.2506957e+00, -6.5770721e-01,  3.2646911e+00,  4.5898864e-01,\n",
            "        5.0989270e+00, -6.4525652e-01, -6.0723919e-01, -3.7272582e+00,\n",
            "       -1.6317881e+00,  2.9808667e+00,  4.6850314e+00, -2.2334685e+00,\n",
            "        1.8244550e+00,  5.3003955e+00,  1.7742376e+00, -3.3827302e-01,\n",
            "        5.7888346e+00, -1.2927837e+00,  5.3623772e+00,  3.7214310e+00,\n",
            "        3.2806928e+00, -1.2984128e+00, -5.8398563e-01,  3.9468453e+00,\n",
            "        4.3392965e-01, -1.5900439e+00,  2.5808222e+00,  4.0353656e+00,\n",
            "        2.1029503e+00, -2.6679392e+00, -2.5699365e+00,  5.4714923e+00,\n",
            "        3.6906152e+00,  2.6966860e+00, -4.7407877e-02,  4.2736617e-01,\n",
            "        5.4662433e+00, -4.5560784e+00, -1.1435742e+00, -4.9692431e-01,\n",
            "       -2.1408702e-01,  5.0861821e+00,  2.1814897e+00, -7.9778004e-01,\n",
            "        5.3815989e+00,  1.5559587e+00, -5.0058472e-01,  5.4167910e+00,\n",
            "        2.0459595e-01,  4.2843909e+00, -1.0887750e-02, -6.0975742e-01,\n",
            "        4.6152897e+00,  3.5196261e+00, -1.1111237e+00,  1.1458499e+00,\n",
            "       -1.2887750e+00,  1.3797404e+00,  5.7257667e+00, -8.0694711e-01,\n",
            "       -7.2618341e-01,  5.9760313e+00, -1.4466782e+00,  5.3282690e+00,\n",
            "       -4.5008868e-01,  2.4931986e+00,  2.8639627e-01, -6.1204596e+00,\n",
            "        5.5152841e+00,  5.9227548e+00,  8.9795810e-01, -3.2291534e+00,\n",
            "        4.1385899e+00,  6.2214252e-02, -2.6968780e-01,  2.0302370e+00,\n",
            "        3.4975946e+00,  2.4339717e-03,  6.6438133e-01,  3.0619302e+00,\n",
            "        7.8349257e-01,  2.2999692e+00, -1.0217048e+00,  2.1976687e-01,\n",
            "       -1.2264253e+00,  4.5351785e-01, -6.2308985e-01, -6.9973224e-01,\n",
            "        3.5518303e+00,  4.4357006e-02, -4.0781279e+00,  1.6745957e+00,\n",
            "       -6.8711799e-01,  2.7963574e+00,  5.8589349e+00,  2.7390745e+00],\n",
            "      dtype=float32)>]\n",
            "wikiembedding256\n",
            "[<tf.Variable 'wikiembedding256/kernel:0' shape=(512, 256) dtype=float32, numpy=\n",
            "array([[-0.0518855 , -0.00883484, -0.05744625, ..., -0.06227616,\n",
            "        -0.03404221,  0.06001468],\n",
            "       [ 0.13711403,  0.01979711,  0.0735615 , ..., -0.08803926,\n",
            "        -0.03105562, -0.06723171],\n",
            "       [-0.02374515, -0.05055837, -0.04820884, ..., -0.04578123,\n",
            "        -0.06107442, -0.03281664],\n",
            "       ...,\n",
            "       [ 0.05338164, -0.06458048, -0.07132943, ...,  0.07249683,\n",
            "        -0.01552541,  0.00876598],\n",
            "       [-0.04776525, -0.01967468, -0.02501595, ...,  0.05529365,\n",
            "        -0.04610693,  0.05660484],\n",
            "       [-0.06184779, -0.0832151 , -0.07779589, ..., -0.08075652,\n",
            "        -0.08454188,  0.06366656]], dtype=float32)>, <tf.Variable 'wikiembedding256/bias:0' shape=(256,) dtype=float32, numpy=\n",
            "array([ 1.96356669e-01, -7.23375380e-03,  7.31061816e-01, -3.72959636e-02,\n",
            "       -5.32950647e-03,  5.61471820e-01, -2.83092242e-02,  3.70053435e-03,\n",
            "       -6.56650309e-03,  1.37903783e-02,  8.16928482e+00,  1.08709514e+00,\n",
            "       -1.15459654e-02, -4.26515564e-03,  9.83662754e-02,  3.51693869e-01,\n",
            "        1.59152925e-01,  1.23462689e+00, -3.64008569e-03, -7.91278761e-03,\n",
            "       -1.28572043e-02, -2.69326288e-02,  6.85919225e-01, -3.67587758e-03,\n",
            "        4.62836958e-02, -5.70495101e-03, -2.97326017e-02, -4.17684764e-03,\n",
            "        3.12842317e-02,  1.36976600e-01, -6.19050441e-03, -1.25748320e-02,\n",
            "       -6.85897889e-03,  1.21584773e+00, -1.16695128e-05,  2.01517358e-01,\n",
            "        5.08595467e-01,  2.88674027e-01,  5.52966595e-01, -1.36363022e-02,\n",
            "       -3.61933634e-02, -6.59039535e-04,  1.51044294e-01,  5.81305146e-01,\n",
            "        4.77400944e-02, -6.89384481e-03,  2.86270559e-01,  9.01699841e-01,\n",
            "        9.32822585e-01,  3.59235734e-01,  2.64118105e-01, -7.13675795e-03,\n",
            "       -2.90123876e-02, -9.47427703e-04, -4.35101939e-03,  7.40353405e-01,\n",
            "       -3.70609574e-02, -7.71732489e-03, -1.16439711e-03,  7.14515448e-01,\n",
            "        2.75783122e-01,  2.38361883e+00, -7.16314232e-03,  8.19155276e-02,\n",
            "        1.09223711e+00, -3.80373299e-02, -1.55835031e-02, -8.65545869e-03,\n",
            "        3.41113627e-01,  5.18916070e-01,  3.33977304e-02,  3.93596917e-01,\n",
            "        2.96228349e-01,  9.95610654e-01,  2.53288867e-03,  1.43805370e-01,\n",
            "        2.29024123e-02,  3.98304984e-02,  1.93409979e-01,  1.65940270e-01,\n",
            "       -5.93996141e-03, -3.39609198e-02,  4.43953753e+00,  1.33073020e+00,\n",
            "        1.11862786e-01, -4.04080143e-03, -8.31803773e-03,  7.49477565e-01,\n",
            "       -6.54424308e-03,  8.25444516e-03,  9.34459567e-02, -3.52520458e-02,\n",
            "       -3.43095362e-02, -6.31538499e-03, -9.32315458e-03, -1.26187280e-02,\n",
            "       -6.66438043e-03, -2.43859063e-03, -1.20556131e-02, -1.02690691e-02,\n",
            "        9.48026180e-01,  1.58524159e-02, -8.66803154e-03,  1.21268129e+00,\n",
            "       -7.79841887e-03,  7.24961936e-01, -3.64505909e-02,  8.79542589e-01,\n",
            "        3.82227264e-02, -3.15453969e-02,  2.07252830e-01,  4.72472399e-01,\n",
            "       -4.55637183e-03,  4.01750743e-01,  7.54303098e-01,  1.62620977e-01,\n",
            "       -8.60430114e-03, -9.01825354e-03, -3.51384096e-02,  8.78013894e-02,\n",
            "       -5.76918945e-03, -5.60516817e-03, -1.26463210e-03,  1.36388397e+00,\n",
            "       -7.13083753e-03, -1.42710330e-02, -6.13057567e-03, -9.35973693e-03,\n",
            "        1.31857663e-01, -9.95515473e-03,  5.40559478e-02,  8.71646404e-01,\n",
            "        8.14288378e-01, -1.84945650e-02, -8.05441930e-04,  2.60221213e-01,\n",
            "       -2.05997508e-02,  7.74898171e-01,  3.27099591e-01, -3.69771793e-02,\n",
            "       -2.35325601e-02, -4.96200658e-02,  9.57705732e-03,  1.19721796e-02,\n",
            "       -1.51478965e-02,  3.08812785e+00,  2.65526809e-02, -6.95854612e-03,\n",
            "        2.46683493e-01,  2.07893867e-02,  8.54157433e-02,  5.37176616e-02,\n",
            "       -7.12362025e-03,  2.39591807e-01,  1.98848806e-02,  2.14981735e-01,\n",
            "        6.20518215e-02,  4.50199515e-01, -4.02498767e-02,  2.84420788e-01,\n",
            "        1.21905267e-01, -3.72370854e-02,  3.70264471e-01,  9.36798379e-02,\n",
            "        2.80333310e-01, -3.12333312e-02,  1.07671797e+00,  6.43488392e-02,\n",
            "        2.74890006e-01,  5.93265239e-03, -1.12302452e-02, -3.38004120e-02,\n",
            "        1.23875707e-01, -7.00769154e-03,  4.94912684e-01,  1.10268927e+00,\n",
            "        8.50266032e-03, -4.93121380e-03, -4.35529696e-03,  8.17447528e-02,\n",
            "       -6.33630529e-03, -1.04729487e-02, -6.54529780e-03,  1.28058583e-01,\n",
            "       -2.98455320e-02, -1.09427050e-02, -3.84617299e-02,  5.87138414e-01,\n",
            "        2.11207196e-01,  1.72685962e-02,  2.12834448e-01, -8.66400916e-03,\n",
            "        6.86879039e-01,  5.96934795e-01,  2.15183124e-02,  1.48102915e+00,\n",
            "        1.93318260e+00,  5.76176524e-01,  2.87736565e-01, -2.96460558e-03,\n",
            "       -3.17903981e-03, -6.97901240e-03,  5.11210442e-01,  3.47784340e-01,\n",
            "       -1.60616450e-02,  1.56291947e-01,  4.46357653e-02, -1.06421132e-02,\n",
            "        4.55689393e-02,  5.21440029e-01, -3.56764495e-02,  1.53781056e+00,\n",
            "       -1.18642775e-02,  1.41278100e+00,  3.39097530e-01, -1.11298952e-02,\n",
            "       -3.79442833e-02,  6.39127910e-01,  8.20550144e-01,  2.37680167e-01,\n",
            "       -5.71154850e-03,  1.15742421e+00, -8.29202216e-03,  6.05081499e-01,\n",
            "        1.66819930e-01, -1.05085541e-02, -1.13695404e-02,  7.82412887e-02,\n",
            "        2.23669934e+00,  4.46810108e-03, -1.41349630e-02,  1.70261587e-03,\n",
            "        1.00560412e-01, -7.57271983e-03,  3.69179428e-01,  1.02437604e-02,\n",
            "       -1.34870561e-03,  4.73348767e-01, -4.15303782e-02,  1.17641881e-01,\n",
            "        1.16988623e+00, -1.21420184e-02,  9.63109434e-01,  5.04046440e-01,\n",
            "       -5.66201098e-03,  6.60354123e-02,  2.87463460e-02,  3.14361334e-01,\n",
            "       -6.26476901e-03, -2.15418683e-03,  4.26935439e-04, -1.00204786e-02,\n",
            "        3.49366993e-01,  1.77049145e-01,  5.64209074e-02,  1.15747249e+00],\n",
            "      dtype=float32)>]\n",
            "dense_1\n",
            "[<tf.Variable 'dense_1/kernel:0' shape=(256, 3692) dtype=float32, numpy=\n",
            "array([[-0.01443719,  0.02541025, -0.06248369, ..., -0.04639176,\n",
            "        -0.03962963,  0.01723307],\n",
            "       [ 0.00437591, -0.0165742 , -0.00770792, ..., -0.0241542 ,\n",
            "        -0.00157385,  0.00204563],\n",
            "       [-0.04381973,  0.02031744, -0.00107632, ..., -0.02299568,\n",
            "        -0.03475225, -0.00472433],\n",
            "       ...,\n",
            "       [ 0.01613121, -0.00042425, -0.01869079, ..., -0.01663631,\n",
            "        -0.00404304, -0.02299338],\n",
            "       [ 0.01111075, -0.0197407 , -0.01796   , ..., -0.03687316,\n",
            "         0.02643757,  0.01219189],\n",
            "       [-0.00894475,  0.02419581, -0.02046748, ..., -0.02806663,\n",
            "        -0.0123623 , -0.03403882]], dtype=float32)>, <tf.Variable 'dense_1/bias:0' shape=(3692,) dtype=float32, numpy=\n",
            "array([-9.593877 , -1.4019156, -3.8883815, ..., -9.755483 , -9.563858 ,\n",
            "       -9.623623 ], dtype=float32)>]\n"
          ]
        }
      ]
    },
    {
      "cell_type": "code",
      "source": [
        "len(weight_vec[1])"
      ],
      "metadata": {
        "colab": {
          "base_uri": "https://localhost:8080/"
        },
        "id": "SYnqzyvQ2C1B",
        "outputId": "1a4fcc98-d270-4106-ca1f-9dd561779c6b"
      },
      "id": "SYnqzyvQ2C1B",
      "execution_count": 89,
      "outputs": [
        {
          "output_type": "execute_result",
          "data": {
            "text/plain": [
              "256"
            ]
          },
          "metadata": {},
          "execution_count": 89
        }
      ]
    },
    {
      "cell_type": "code",
      "source": [
        "train_df['text_vec'] = train_df.text.apply(lambda x : vectorize_number_seq(x))"
      ],
      "metadata": {
        "id": "_sWgKy542WFf"
      },
      "id": "_sWgKy542WFf",
      "execution_count": 67,
      "outputs": []
    },
    {
      "cell_type": "code",
      "source": [
        "weight_vec_tf = tf.convert_to_tensor(np.array(weight_vec[0]), dtype=tf.int32, dtype_hint=None, name=None)\n"
      ],
      "metadata": {
        "id": "5iizw9vg3PKj"
      },
      "id": "5iizw9vg3PKj",
      "execution_count": 57,
      "outputs": []
    },
    {
      "cell_type": "code",
      "source": [
        "def vectorize_number_seq(text):\n",
        "  return [int(num) for num in text.split(\" \")][:9]\n",
        "  \n"
      ],
      "metadata": {
        "id": "jtePUpAe5E4b"
      },
      "id": "jtePUpAe5E4b",
      "execution_count": 66,
      "outputs": []
    },
    {
      "cell_type": "code",
      "source": [
        "def dot_product(x, y=weight_vec[1]):\n",
        "  return np.dot(np.transpose(x),y)\n",
        "  "
      ],
      "metadata": {
        "id": "p7LM2BdJ8drb"
      },
      "id": "p7LM2BdJ8drb",
      "execution_count": 99,
      "outputs": []
    },
    {
      "cell_type": "code",
      "source": [
        "from keras.models import Model\n",
        "\n",
        "model = ...  # include here your original model\n",
        "\n",
        "layer_name = 'wikiembedding256'\n",
        "intermediate_layer_model = Model(inputs=model.input,\n",
        "                                 outputs=model.get_layer(layer_name).output)\n",
        "intermediate_output = intermediate_layer_model.predict(data)"
      ],
      "metadata": {
        "id": "k207A7TCOXy6"
      },
      "id": "k207A7TCOXy6",
      "execution_count": null,
      "outputs": []
    }
  ],
  "metadata": {
    "kernelspec": {
      "display_name": "Python 3 (ipykernel)",
      "language": "python",
      "name": "python3"
    },
    "language_info": {
      "codemirror_mode": {
        "name": "ipython",
        "version": 3
      },
      "file_extension": ".py",
      "mimetype": "text/x-python",
      "name": "python",
      "nbconvert_exporter": "python",
      "pygments_lexer": "ipython3",
      "version": "3.9.13"
    },
    "colab": {
      "provenance": [],
      "machine_shape": "hm"
    },
    "gpuClass": "standard"
  },
  "nbformat": 4,
  "nbformat_minor": 5
}