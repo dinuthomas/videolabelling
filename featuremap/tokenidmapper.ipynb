{
 "cells": [
  {
   "cell_type": "code",
   "execution_count": 3,
   "id": "d298ca5b",
   "metadata": {},
   "outputs": [],
   "source": [
    "import pandas as pd\n",
    "import numpy as np"
   ]
  },
  {
   "cell_type": "code",
   "execution_count": 4,
   "id": "809a01e3",
   "metadata": {},
   "outputs": [],
   "source": [
    "df = pd.read_csv(\\\n",
    "                 'r1MFOAdjSsU.csv')"
   ]
  },
  {
   "cell_type": "code",
   "execution_count": 87,
   "id": "bf8cab9a",
   "metadata": {},
   "outputs": [
    {
     "data": {
      "text/html": [
       "<div>\n",
       "<style scoped>\n",
       "    .dataframe tbody tr th:only-of-type {\n",
       "        vertical-align: middle;\n",
       "    }\n",
       "\n",
       "    .dataframe tbody tr th {\n",
       "        vertical-align: top;\n",
       "    }\n",
       "\n",
       "    .dataframe thead th {\n",
       "        text-align: right;\n",
       "    }\n",
       "</style>\n",
       "<table border=\"1\" class=\"dataframe\">\n",
       "  <thead>\n",
       "    <tr style=\"text-align: right;\">\n",
       "      <th></th>\n",
       "      <th>Unnamed: 0</th>\n",
       "      <th>asr_token</th>\n",
       "      <th>token_type</th>\n",
       "    </tr>\n",
       "  </thead>\n",
       "  <tbody>\n",
       "    <tr>\n",
       "      <th>0</th>\n",
       "      <td>0</td>\n",
       "      <td>Russia</td>\n",
       "      <td>GPE</td>\n",
       "    </tr>\n",
       "    <tr>\n",
       "      <th>1</th>\n",
       "      <td>1</td>\n",
       "      <td>Marcus Raksford</td>\n",
       "      <td>PERSON</td>\n",
       "    </tr>\n",
       "    <tr>\n",
       "      <th>2</th>\n",
       "      <td>2</td>\n",
       "      <td>United</td>\n",
       "      <td>ORG</td>\n",
       "    </tr>\n",
       "    <tr>\n",
       "      <th>3</th>\n",
       "      <td>3</td>\n",
       "      <td>Ericsson</td>\n",
       "      <td>PERSON</td>\n",
       "    </tr>\n",
       "  </tbody>\n",
       "</table>\n",
       "</div>"
      ],
      "text/plain": [
       "   Unnamed: 0        asr_token token_type\n",
       "0           0           Russia        GPE\n",
       "1           1  Marcus Raksford     PERSON\n",
       "2           2           United        ORG\n",
       "3           3         Ericsson     PERSON"
      ]
     },
     "execution_count": 87,
     "metadata": {},
     "output_type": "execute_result"
    }
   ],
   "source": [
    "df"
   ]
  },
  {
   "cell_type": "code",
   "execution_count": 4,
   "id": "6daaa1ea",
   "metadata": {},
   "outputs": [
    {
     "name": "stdout",
     "output_type": "stream",
     "text": [
      "Collecting zipfile36\n",
      "  Downloading zipfile36-0.1.3-py3-none-any.whl (20 kB)\n",
      "Installing collected packages: zipfile36\n",
      "Successfully installed zipfile36-0.1.3\n",
      "Note: you may need to restart the kernel to use updated packages.\n"
     ]
    }
   ],
   "source": [
    "#pip install zipfile36"
   ]
  },
  {
   "cell_type": "code",
   "execution_count": 4,
   "id": "1de28e2a",
   "metadata": {},
   "outputs": [],
   "source": [
    "import zipfile"
   ]
  },
  {
   "cell_type": "code",
   "execution_count": 5,
   "id": "049b631b",
   "metadata": {},
   "outputs": [],
   "source": [
    "vocab = pd.read_csv('vocabulary.csv.zip',compression='zip')"
   ]
  },
  {
   "cell_type": "code",
   "execution_count": 89,
   "id": "70788318",
   "metadata": {},
   "outputs": [],
   "source": [
    "vocab = vocab[['Index', 'Name']]"
   ]
  },
  {
   "cell_type": "code",
   "execution_count": 6,
   "id": "15d01bcf",
   "metadata": {},
   "outputs": [],
   "source": [
    "results = pd.read_csv('results.csv')"
   ]
  },
  {
   "cell_type": "code",
   "execution_count": 7,
   "id": "5ed283cd",
   "metadata": {},
   "outputs": [
    {
     "data": {
      "text/html": [
       "<div>\n",
       "<style scoped>\n",
       "    .dataframe tbody tr th:only-of-type {\n",
       "        vertical-align: middle;\n",
       "    }\n",
       "\n",
       "    .dataframe tbody tr th {\n",
       "        vertical-align: top;\n",
       "    }\n",
       "\n",
       "    .dataframe thead th {\n",
       "        text-align: right;\n",
       "    }\n",
       "</style>\n",
       "<table border=\"1\" class=\"dataframe\">\n",
       "  <thead>\n",
       "    <tr style=\"text-align: right;\">\n",
       "      <th></th>\n",
       "      <th>Unnamed: 0</th>\n",
       "      <th>id</th>\n",
       "      <th>idx</th>\n",
       "      <th>value</th>\n",
       "    </tr>\n",
       "  </thead>\n",
       "  <tbody>\n",
       "    <tr>\n",
       "      <th>0</th>\n",
       "      <td>0</td>\n",
       "      <td>test</td>\n",
       "      <td>1,0,3,14,4,38,9,28,13,31,105,16,294,192,2338,6...</td>\n",
       "      <td>0.97853684,0.963701,0.6344805,0.50693023,0.323...</td>\n",
       "    </tr>\n",
       "  </tbody>\n",
       "</table>\n",
       "</div>"
      ],
      "text/plain": [
       "   Unnamed: 0    id                                                idx  \\\n",
       "0           0  test  1,0,3,14,4,38,9,28,13,31,105,16,294,192,2338,6...   \n",
       "\n",
       "                                               value  \n",
       "0  0.97853684,0.963701,0.6344805,0.50693023,0.323...  "
      ]
     },
     "execution_count": 7,
     "metadata": {},
     "output_type": "execute_result"
    }
   ],
   "source": [
    "results.head(3)"
   ]
  },
  {
   "cell_type": "code",
   "execution_count": 8,
   "id": "8536b273",
   "metadata": {},
   "outputs": [],
   "source": [
    "model_pred = results.dropna()[['id','idx','value']]"
   ]
  },
  {
   "cell_type": "code",
   "execution_count": 9,
   "id": "314daed5",
   "metadata": {},
   "outputs": [
    {
     "data": {
      "text/html": [
       "<div>\n",
       "<style scoped>\n",
       "    .dataframe tbody tr th:only-of-type {\n",
       "        vertical-align: middle;\n",
       "    }\n",
       "\n",
       "    .dataframe tbody tr th {\n",
       "        vertical-align: top;\n",
       "    }\n",
       "\n",
       "    .dataframe thead th {\n",
       "        text-align: right;\n",
       "    }\n",
       "</style>\n",
       "<table border=\"1\" class=\"dataframe\">\n",
       "  <thead>\n",
       "    <tr style=\"text-align: right;\">\n",
       "      <th></th>\n",
       "      <th>id</th>\n",
       "      <th>idx</th>\n",
       "      <th>value</th>\n",
       "    </tr>\n",
       "  </thead>\n",
       "  <tbody>\n",
       "    <tr>\n",
       "      <th>0</th>\n",
       "      <td>test</td>\n",
       "      <td>1,0,3,14,4,38,9,28,13,31,105,16,294,192,2338,6...</td>\n",
       "      <td>0.97853684,0.963701,0.6344805,0.50693023,0.323...</td>\n",
       "    </tr>\n",
       "  </tbody>\n",
       "</table>\n",
       "</div>"
      ],
      "text/plain": [
       "     id                                                idx  \\\n",
       "0  test  1,0,3,14,4,38,9,28,13,31,105,16,294,192,2338,6...   \n",
       "\n",
       "                                               value  \n",
       "0  0.97853684,0.963701,0.6344805,0.50693023,0.323...  "
      ]
     },
     "execution_count": 9,
     "metadata": {},
     "output_type": "execute_result"
    }
   ],
   "source": [
    "model_pred"
   ]
  },
  {
   "cell_type": "code",
   "execution_count": 10,
   "id": "686889e3",
   "metadata": {},
   "outputs": [],
   "source": [
    "model_pred['label'] = model_pred.idx.map(lambda x:x.split(','))\n",
    "model_pred['conf'] = model_pred.value.map(lambda x:x.split(','))"
   ]
  },
  {
   "cell_type": "code",
   "execution_count": 11,
   "id": "4dab7c1c",
   "metadata": {},
   "outputs": [
    {
     "data": {
      "text/html": [
       "<div>\n",
       "<style scoped>\n",
       "    .dataframe tbody tr th:only-of-type {\n",
       "        vertical-align: middle;\n",
       "    }\n",
       "\n",
       "    .dataframe tbody tr th {\n",
       "        vertical-align: top;\n",
       "    }\n",
       "\n",
       "    .dataframe thead th {\n",
       "        text-align: right;\n",
       "    }\n",
       "</style>\n",
       "<table border=\"1\" class=\"dataframe\">\n",
       "  <thead>\n",
       "    <tr style=\"text-align: right;\">\n",
       "      <th></th>\n",
       "      <th>id</th>\n",
       "      <th>idx</th>\n",
       "      <th>value</th>\n",
       "      <th>label</th>\n",
       "      <th>conf</th>\n",
       "    </tr>\n",
       "  </thead>\n",
       "  <tbody>\n",
       "    <tr>\n",
       "      <th>0</th>\n",
       "      <td>test</td>\n",
       "      <td>1,0,3,14,4,38,9,28,13,31,105,16,294,192,2338,6...</td>\n",
       "      <td>0.97853684,0.963701,0.6344805,0.50693023,0.323...</td>\n",
       "      <td>[1, 0, 3, 14, 4, 38, 9, 28, 13, 31, 105, 16, 2...</td>\n",
       "      <td>[0.97853684, 0.963701, 0.6344805, 0.50693023, ...</td>\n",
       "    </tr>\n",
       "  </tbody>\n",
       "</table>\n",
       "</div>"
      ],
      "text/plain": [
       "     id                                                idx  \\\n",
       "0  test  1,0,3,14,4,38,9,28,13,31,105,16,294,192,2338,6...   \n",
       "\n",
       "                                               value  \\\n",
       "0  0.97853684,0.963701,0.6344805,0.50693023,0.323...   \n",
       "\n",
       "                                               label  \\\n",
       "0  [1, 0, 3, 14, 4, 38, 9, 28, 13, 31, 105, 16, 2...   \n",
       "\n",
       "                                                conf  \n",
       "0  [0.97853684, 0.963701, 0.6344805, 0.50693023, ...  "
      ]
     },
     "execution_count": 11,
     "metadata": {},
     "output_type": "execute_result"
    }
   ],
   "source": [
    "model_pred"
   ]
  },
  {
   "cell_type": "code",
   "execution_count": null,
   "id": "abc60618",
   "metadata": {},
   "outputs": [],
   "source": []
  },
  {
   "cell_type": "code",
   "execution_count": 12,
   "id": "382b563f",
   "metadata": {},
   "outputs": [],
   "source": [
    "preds1 = model_pred[['id','label']].explode('label')"
   ]
  },
  {
   "cell_type": "code",
   "execution_count": 13,
   "id": "dd46a27b",
   "metadata": {},
   "outputs": [],
   "source": [
    "preds2 = model_pred[['id','conf']].explode('conf')"
   ]
  },
  {
   "cell_type": "code",
   "execution_count": 14,
   "id": "a055474c",
   "metadata": {},
   "outputs": [],
   "source": [
    "finalpred = pd.concat([preds1,preds2], axis=1)[['id','label','conf']]"
   ]
  },
  {
   "cell_type": "code",
   "execution_count": 15,
   "id": "5e153a84",
   "metadata": {},
   "outputs": [
    {
     "data": {
      "text/html": [
       "<div>\n",
       "<style scoped>\n",
       "    .dataframe tbody tr th:only-of-type {\n",
       "        vertical-align: middle;\n",
       "    }\n",
       "\n",
       "    .dataframe tbody tr th {\n",
       "        vertical-align: top;\n",
       "    }\n",
       "\n",
       "    .dataframe thead th {\n",
       "        text-align: right;\n",
       "    }\n",
       "</style>\n",
       "<table border=\"1\" class=\"dataframe\">\n",
       "  <thead>\n",
       "    <tr style=\"text-align: right;\">\n",
       "      <th></th>\n",
       "      <th>id</th>\n",
       "      <th>id</th>\n",
       "      <th>label</th>\n",
       "      <th>conf</th>\n",
       "    </tr>\n",
       "  </thead>\n",
       "  <tbody>\n",
       "    <tr>\n",
       "      <th>0</th>\n",
       "      <td>test</td>\n",
       "      <td>test</td>\n",
       "      <td>1</td>\n",
       "      <td>0.97853684</td>\n",
       "    </tr>\n",
       "    <tr>\n",
       "      <th>0</th>\n",
       "      <td>test</td>\n",
       "      <td>test</td>\n",
       "      <td>0</td>\n",
       "      <td>0.963701</td>\n",
       "    </tr>\n",
       "  </tbody>\n",
       "</table>\n",
       "</div>"
      ],
      "text/plain": [
       "     id    id label        conf\n",
       "0  test  test     1  0.97853684\n",
       "0  test  test     0    0.963701"
      ]
     },
     "execution_count": 15,
     "metadata": {},
     "output_type": "execute_result"
    }
   ],
   "source": [
    "finalpred.head(2)"
   ]
  },
  {
   "cell_type": "code",
   "execution_count": 106,
   "id": "9ee5d285",
   "metadata": {},
   "outputs": [
    {
     "name": "stdout",
     "output_type": "stream",
     "text": [
      "<class 'pandas.core.frame.DataFrame'>\n",
      "RangeIndex: 1 entries, 0 to 0\n",
      "Data columns (total 5 columns):\n",
      " #   Column  Non-Null Count  Dtype \n",
      "---  ------  --------------  ----- \n",
      " 0   id      1 non-null      object\n",
      " 1   idx     1 non-null      object\n",
      " 2   value   1 non-null      object\n",
      " 3   label   1 non-null      object\n",
      " 4   conf    1 non-null      object\n",
      "dtypes: object(5)\n",
      "memory usage: 168.0+ bytes\n"
     ]
    }
   ],
   "source": [
    "model_pred.info()"
   ]
  },
  {
   "cell_type": "code",
   "execution_count": 16,
   "id": "fb76eecf",
   "metadata": {
    "scrolled": true
   },
   "outputs": [],
   "source": [
    "finalpred['label']=finalpred.label.astype(int)"
   ]
  },
  {
   "cell_type": "code",
   "execution_count": 17,
   "id": "43224a58",
   "metadata": {},
   "outputs": [],
   "source": [
    "mapped_pred = pd.merge(finalpred, vocab, how='left', left_on='label', right_on='Index')"
   ]
  },
  {
   "cell_type": "code",
   "execution_count": 18,
   "id": "950f333f",
   "metadata": {},
   "outputs": [
    {
     "data": {
      "text/plain": [
       "Index(['id', 'id', 'label', 'conf', 'Index', 'TrainVideoCount',\n",
       "       'KnowledgeGraphId', 'Name', 'WikiUrl', 'Vertical1', 'Vertical2',\n",
       "       'Vertical3', 'WikiDescription'],\n",
       "      dtype='object')"
      ]
     },
     "execution_count": 18,
     "metadata": {},
     "output_type": "execute_result"
    }
   ],
   "source": [
    "mapped_pred.columns"
   ]
  },
  {
   "cell_type": "code",
   "execution_count": 5,
   "id": "77852c2f",
   "metadata": {},
   "outputs": [
    {
     "ename": "NameError",
     "evalue": "name 'mapped_pred' is not defined",
     "output_type": "error",
     "traceback": [
      "\u001b[0;31m---------------------------------------------------------------------------\u001b[0m",
      "\u001b[0;31mNameError\u001b[0m                                 Traceback (most recent call last)",
      "\u001b[0;32m/tmp/ipykernel_41004/1395279121.py\u001b[0m in \u001b[0;36m<module>\u001b[0;34m\u001b[0m\n\u001b[0;32m----> 1\u001b[0;31m \u001b[0mmapped_pred\u001b[0m\u001b[0;34m.\u001b[0m\u001b[0mT\u001b[0m\u001b[0;34m.\u001b[0m\u001b[0mdrop_duplicates\u001b[0m\u001b[0;34m(\u001b[0m\u001b[0;34m)\u001b[0m\u001b[0;34m.\u001b[0m\u001b[0mT\u001b[0m\u001b[0;34m[\u001b[0m\u001b[0;34m[\u001b[0m\u001b[0;34m'id'\u001b[0m\u001b[0;34m,\u001b[0m \u001b[0;34m'label'\u001b[0m\u001b[0;34m,\u001b[0m \u001b[0;34m'conf'\u001b[0m\u001b[0;34m,\u001b[0m \u001b[0;34m'Name'\u001b[0m\u001b[0;34m]\u001b[0m\u001b[0;34m]\u001b[0m\u001b[0;34m\u001b[0m\u001b[0;34m\u001b[0m\u001b[0m\n\u001b[0m",
      "\u001b[0;31mNameError\u001b[0m: name 'mapped_pred' is not defined"
     ]
    }
   ],
   "source": [
    "mapped_pred.T.drop_duplicates().T[['id', 'label', 'conf', 'Name']]"
   ]
  },
  {
   "cell_type": "code",
   "execution_count": null,
   "id": "864ec801",
   "metadata": {},
   "outputs": [],
   "source": [
    "wiki_map"
   ]
  }
 ],
 "metadata": {
  "kernelspec": {
   "display_name": "Python 3 (ipykernel)",
   "language": "python",
   "name": "python3"
  },
  "language_info": {
   "codemirror_mode": {
    "name": "ipython",
    "version": 3
   },
   "file_extension": ".py",
   "mimetype": "text/x-python",
   "name": "python",
   "nbconvert_exporter": "python",
   "pygments_lexer": "ipython3",
   "version": "3.9.13"
  }
 },
 "nbformat": 4,
 "nbformat_minor": 5
}
