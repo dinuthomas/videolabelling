{
 "cells": [
  {
   "cell_type": "code",
   "execution_count": 2,
   "id": "3578966d",
   "metadata": {},
   "outputs": [
    {
     "name": "stderr",
     "output_type": "stream",
     "text": [
      "2023-03-11 06:42:34.317860: I tensorflow/core/platform/cpu_feature_guard.cc:193] This TensorFlow binary is optimized with oneAPI Deep Neural Network Library (oneDNN) to use the following CPU instructions in performance-critical operations:  AVX2 FMA\n",
      "To enable them in other operations, rebuild TensorFlow with the appropriate compiler flags.\n",
      "2023-03-11 06:42:34.916390: W tensorflow/compiler/xla/stream_executor/platform/default/dso_loader.cc:64] Could not load dynamic library 'libcudart.so.11.0'; dlerror: libcudart.so.11.0: cannot open shared object file: No such file or directory\n",
      "2023-03-11 06:42:34.916419: I tensorflow/compiler/xla/stream_executor/cuda/cudart_stub.cc:29] Ignore above cudart dlerror if you do not have a GPU set up on your machine.\n",
      "2023-03-11 06:42:36.337319: W tensorflow/compiler/xla/stream_executor/platform/default/dso_loader.cc:64] Could not load dynamic library 'libnvinfer.so.7'; dlerror: libnvinfer.so.7: cannot open shared object file: No such file or directory\n",
      "2023-03-11 06:42:36.337649: W tensorflow/compiler/xla/stream_executor/platform/default/dso_loader.cc:64] Could not load dynamic library 'libnvinfer_plugin.so.7'; dlerror: libnvinfer_plugin.so.7: cannot open shared object file: No such file or directory\n",
      "2023-03-11 06:42:36.337665: W tensorflow/compiler/tf2tensorrt/utils/py_utils.cc:38] TF-TRT Warning: Cannot dlopen some TensorRT libraries. If you would like to use Nvidia GPU with TensorRT, please make sure the missing libraries mentioned above are installed properly.\n",
      "[nltk_data] Downloading package wordnet to\n",
      "[nltk_data]     /home/dinuthomas/nltk_data...\n",
      "[nltk_data]   Package wordnet is already up-to-date!\n",
      "[nltk_data] Downloading package omw-1.4 to\n",
      "[nltk_data]     /home/dinuthomas/nltk_data...\n",
      "[nltk_data]   Package omw-1.4 is already up-to-date!\n"
     ]
    }
   ],
   "source": [
    "import pandas as pd\n",
    "import numpy as np\n",
    "import warnings\n",
    "warnings.filterwarnings('ignore')\n",
    "import gc\n",
    "import tensorflow as tf\n",
    "import pandas as pd\n",
    "import numpy as np\n",
    "import re, string\n",
    "from sklearn.model_selection import train_test_split\n",
    "from nltk.corpus import stopwords\n",
    "from nltk.tokenize import word_tokenize\n",
    "from nltk.stem import WordNetLemmatizer\n",
    "import nltk\n",
    "\n",
    "import logging\n",
    "logger = logging.getLogger('wikitokeniser')\n",
    "formatter = logging.Formatter('%(asctime)s %(levelname)s %(message)s')\n",
    "hdlr = logging.FileHandler('tokenizer.log')\n",
    "hdlr.setFormatter(formatter)\n",
    "logger.addHandler(hdlr)\n",
    "logger.setLevel(logging.INFO)\n",
    "stop_words = set(stopwords.words('english'))\n",
    "nltk.download('wordnet')\n",
    "nltk.download('omw-1.4')\n",
    "lemma = WordNetLemmatizer()"
   ]
  },
  {
   "cell_type": "code",
   "execution_count": 2,
   "id": "3a27d22c",
   "metadata": {},
   "outputs": [],
   "source": [
    "chunks = pd.read_csv('traindata.out', delimiter='\\t', \n",
    "                     chunksize= 500000, header=None,\n",
    "                     names=['wikiid', 'token', 'label'],error_bad_lines=False)"
   ]
  },
  {
   "cell_type": "code",
   "execution_count": 3,
   "id": "d4d2119e",
   "metadata": {},
   "outputs": [],
   "source": [
    "def filter_stopwords(line):\n",
    "    linef = \"\"\n",
    "    splitted = str(line).split(\" \")\n",
    "    for w in splitted:\n",
    "        if w not in stop_words:\n",
    "            linef = linef+\" \"+w\n",
    "    return linef\n",
    "            \n",
    "    "
   ]
  },
  {
   "cell_type": "code",
   "execution_count": 4,
   "id": "99528d9b",
   "metadata": {},
   "outputs": [],
   "source": [
    "\n",
    "def process_sentence(line):\n",
    "    line = str(line)\n",
    "    linef = \"\"\n",
    "    line = re.sub(r\"[^A-Za-z0-9]\",\" \", line)\n",
    "    #line = re.sub(r\"[^p{L}]\",\" \", line)\n",
    "    line = re.sub(r\"^\\W*\",\"\", line)\n",
    "    line = re.sub(r\"$\\W*\",\"\", line)\n",
    "    line = re.sub(r\"\\W+\",\" \", line)\n",
    "    splitted = str(line).split(\" \")\n",
    "    for w in splitted:\n",
    "        if w not in stop_words:\n",
    "            word_lemma = lemma.lemmatize(w)\n",
    "            linef = linef+\" \"+word_lemma\n",
    "    return linef"
   ]
  },
  {
   "cell_type": "code",
   "execution_count": null,
   "id": "6d706f09",
   "metadata": {},
   "outputs": [],
   "source": [
    "def isWikiId1(line):\n",
    "    line = re.sub(r\"Q[0-9]+\",\"\",str(line))\n",
    "    if len(line) == 0:\n",
    "        return \"1\"\n",
    "    else:\n",
    "        return \"0\""
   ]
  },
  {
   "cell_type": "code",
   "execution_count": 5,
   "id": "2acfc084",
   "metadata": {},
   "outputs": [],
   "source": [
    "def isWikiId(line):\n",
    "    line = re.sub(r\"Q[0-9]+\",\"\",str(line))\n",
    "    if len(line) == 0:\n",
    "        return \"1\"\n",
    "    else:\n",
    "        line = re.sub(r\"^\\W*\",\"\", line)\n",
    "        line = re.sub(r\"(nan)\",\"\", line)\n",
    "        if len(line) == 0:\n",
    "            return \"2\"\n",
    "    return \"0\"\n",
    "        \n"
   ]
  },
  {
   "cell_type": "code",
   "execution_count": null,
   "id": "7cc2b742",
   "metadata": {
    "scrolled": false
   },
   "outputs": [],
   "source": [
    "#gc.enable()\n",
    "while(True):\n",
    "    try:\n",
    "        df = next(chunks)\n",
    "        if df.shape[0] < 1:\n",
    "            break;\n",
    "        #df['rank'] = df.groupby('wikiid')['wikiid'].rank('first')\n",
    "        df['isWiki'] = df.token.map(lambda x : isWikiId(x))\n",
    "        red_df = df[df['isWiki'] == \"0\"]\n",
    "        red_df['filtered_token'] = red_df.token.map(lambda x : process_sentence(x))\n",
    "        new_df = red_df[['wikiid', 'filtered_token']]\n",
    "        wiki_df = df[df['isWiki'] == \"1\"]\n",
    "        wiki_df = wiki_df[['wikiid', 'token']]\n",
    "        new_df.to_csv('filtered.csv', mode='a', index=False, header=False)\n",
    "        wiki_df.to_csv('wikirelation.csv', mode='a', index=False, header=False)\n",
    "        #gc.collect()\n",
    "    except Exception as e:\n",
    "        logger.error('Failed to parse this block: '+ str(e))\n",
    "        continue\n",
    "    "
   ]
  },
  {
   "cell_type": "code",
   "execution_count": null,
   "id": "33ef0c13",
   "metadata": {},
   "outputs": [],
   "source": []
  },
  {
   "cell_type": "code",
   "execution_count": null,
   "id": "5265ca57",
   "metadata": {},
   "outputs": [],
   "source": [
    "df2 = pd.read_csv('filtered.csv',header=None,names=['wikiid', 'token'], chunksize= 1000000,error_bad_lines=False)\n",
    "desired_vocab_size = 20000000\n",
    "t = tf.keras.preprocessing.text.Tokenizer(num_words=desired_vocab_size)\n",
    "gc.enable()"
   ]
  },
  {
   "cell_type": "code",
   "execution_count": null,
   "id": "ccd7186f",
   "metadata": {},
   "outputs": [],
   "source": [
    "i = 0\n",
    "while(True):\n",
    "    i += 1\n",
    "    \n",
    "    try:\n",
    "        wikidf = next(df2)\n",
    "        if wikidf.shape[0] < 1:\n",
    "            break;\n",
    "        wikidf['wikiid'] = wikidf['wikiid'].astype(str)\n",
    "        wikidf['token'] = wikidf['token'].astype(str)\n",
    "        wikidf['token_len'] = wikidf.token.map(lambda x : len(str(x).split(\" \")))\n",
    "        wikidf_large = wikidf[wikidf['token_len'] > 3]\n",
    "        wikidf_small = wikidf[wikidf['token_len'] < 4]\n",
    "        t.fit_on_texts(wikidf_small['token'])\n",
    "        wikidf_small.to_csv('wikismall.csv', mode='a', index=False, header=False)\n",
    "        gc.collect()\n",
    "        print(i)\n",
    "    except:\n",
    "        print(len(t.word_index))\n",
    "        wikidf_small.to_csv('wikismall.csv', mode='a', index=False, header=False)\n",
    "        continue\n",
    "        "
   ]
  },
  {
   "cell_type": "code",
   "execution_count": null,
   "id": "e0009ff9",
   "metadata": {},
   "outputs": [],
   "source": [
    "t.word_index"
   ]
  },
  {
   "cell_type": "code",
   "execution_count": null,
   "id": "6b206d45",
   "metadata": {},
   "outputs": [],
   "source": []
  },
  {
   "cell_type": "code",
   "execution_count": null,
   "id": "2ae7b733",
   "metadata": {},
   "outputs": [],
   "source": []
  },
  {
   "cell_type": "code",
   "execution_count": null,
   "id": "bd58aa2e",
   "metadata": {},
   "outputs": [],
   "source": [
    "X_train, X_test, y_train, y_test = train_test_split(wikidf['token'], wikidf['wikiid'], test_size = 0.3, random_state = 42)"
   ]
  },
  {
   "cell_type": "code",
   "execution_count": null,
   "id": "4fa692c0",
   "metadata": {},
   "outputs": [],
   "source": [
    "wiki_relation = pd.read_csv('wikirelation.csv', names=['wikiid','relid'])"
   ]
  },
  {
   "cell_type": "code",
   "execution_count": 20,
   "id": "af20289a",
   "metadata": {},
   "outputs": [],
   "source": [
    "df3 = pd.read_csv('wikirelation.csv',header=None,names=['wikiid', 'relid'], chunksize= 1000000,error_bad_lines=False)\n"
   ]
  },
  {
   "cell_type": "code",
   "execution_count": 22,
   "id": "17a82679",
   "metadata": {},
   "outputs": [
    {
     "data": {
      "text/plain": [
       "(474391,)"
      ]
     },
     "execution_count": 22,
     "metadata": {},
     "output_type": "execute_result"
    }
   ],
   "source": [
    "wiki_relation = next(df3)\n",
    "wiki_rel = wiki_relation[wiki_relation.wikiid != wiki_relation.relid]\n",
    "wiki_id_feat = wiki_rel.groupby('wikiid')['relid'].apply(concat_labels)\n",
    "wiki_id_feat.to_csv('wikifeature.csv', mode='a', index=False, header=False)\n",
    "wiki_id_feat.shape"
   ]
  },
  {
   "cell_type": "code",
   "execution_count": 27,
   "id": "cbf661a0",
   "metadata": {},
   "outputs": [
    {
     "data": {
      "text/html": [
       "<div>\n",
       "<style scoped>\n",
       "    .dataframe tbody tr th:only-of-type {\n",
       "        vertical-align: middle;\n",
       "    }\n",
       "\n",
       "    .dataframe tbody tr th {\n",
       "        vertical-align: top;\n",
       "    }\n",
       "\n",
       "    .dataframe thead th {\n",
       "        text-align: right;\n",
       "    }\n",
       "</style>\n",
       "<table border=\"1\" class=\"dataframe\">\n",
       "  <thead>\n",
       "    <tr style=\"text-align: right;\">\n",
       "      <th></th>\n",
       "      <th>wikiid</th>\n",
       "      <th>relid</th>\n",
       "    </tr>\n",
       "  </thead>\n",
       "  <tbody>\n",
       "    <tr>\n",
       "      <th>0</th>\n",
       "      <td>P108</td>\n",
       "      <td>Q18608871 Q26935994</td>\n",
       "    </tr>\n",
       "    <tr>\n",
       "      <th>1</th>\n",
       "      <td>P109</td>\n",
       "      <td>Q18608871 Q18610173</td>\n",
       "    </tr>\n",
       "    <tr>\n",
       "      <th>2</th>\n",
       "      <td>P111</td>\n",
       "      <td>Q21077852</td>\n",
       "    </tr>\n",
       "    <tr>\n",
       "      <th>3</th>\n",
       "      <td>P119</td>\n",
       "      <td>Q18608756 Q18635217 Q22983697 Q51122237</td>\n",
       "    </tr>\n",
       "    <tr>\n",
       "      <th>4</th>\n",
       "      <td>P131</td>\n",
       "      <td>Q18615777 Q18647519 Q18647515 Q70564278</td>\n",
       "    </tr>\n",
       "    <tr>\n",
       "      <th>...</th>\n",
       "      <td>...</td>\n",
       "      <td>...</td>\n",
       "    </tr>\n",
       "    <tr>\n",
       "      <th>474386</th>\n",
       "      <td>Q9014707</td>\n",
       "      <td>Q4167836</td>\n",
       "    </tr>\n",
       "    <tr>\n",
       "      <th>474387</th>\n",
       "      <td>Q9014714</td>\n",
       "      <td>Q4167836</td>\n",
       "    </tr>\n",
       "    <tr>\n",
       "      <th>474388</th>\n",
       "      <td>Q9014722</td>\n",
       "      <td>Q4167836</td>\n",
       "    </tr>\n",
       "    <tr>\n",
       "      <th>474389</th>\n",
       "      <td>Q9014729</td>\n",
       "      <td>Q11266439</td>\n",
       "    </tr>\n",
       "    <tr>\n",
       "      <th>474390</th>\n",
       "      <td>Q9014743</td>\n",
       "      <td>Q11266439</td>\n",
       "    </tr>\n",
       "  </tbody>\n",
       "</table>\n",
       "<p>474391 rows × 2 columns</p>\n",
       "</div>"
      ],
      "text/plain": [
       "          wikiid                                     relid\n",
       "0           P108                       Q18608871 Q26935994\n",
       "1           P109                       Q18608871 Q18610173\n",
       "2           P111                                 Q21077852\n",
       "3           P119   Q18608756 Q18635217 Q22983697 Q51122237\n",
       "4           P131   Q18615777 Q18647519 Q18647515 Q70564278\n",
       "...          ...                                       ...\n",
       "474386  Q9014707                                  Q4167836\n",
       "474387  Q9014714                                  Q4167836\n",
       "474388  Q9014722                                  Q4167836\n",
       "474389  Q9014729                                 Q11266439\n",
       "474390  Q9014743                                 Q11266439\n",
       "\n",
       "[474391 rows x 2 columns]"
      ]
     },
     "execution_count": 27,
     "metadata": {},
     "output_type": "execute_result"
    }
   ],
   "source": []
  },
  {
   "cell_type": "code",
   "execution_count": null,
   "id": "8f8ab889",
   "metadata": {
    "scrolled": false
   },
   "outputs": [],
   "source": [
    "def concat_labels(x):\n",
    "    line = \"\"\n",
    "    try:\n",
    "        for q in x:\n",
    "            line = line+\" \"+q\n",
    "    except:\n",
    "        line = \"QERROR\"\n",
    "    return line\n",
    "\n",
    "df3 = pd.read_csv('wikirelation.csv',header=None,names=['wikiid', 'relid'], chunksize= 1000000,error_bad_lines=False)\n",
    "\n",
    "i = 0\n",
    "while(True):\n",
    "    i += 1\n",
    "    \n",
    "    try:\n",
    "        wiki_relation = next(df3)\n",
    "        if wiki_relation.shape[0] < 1:\n",
    "            break;\n",
    "        wiki_rel = wiki_relation[wiki_relation.wikiid != wiki_relation.relid]\n",
    "        wiki_id_feat = wiki_rel.groupby('wikiid')['relid'].apply(concat_labels)\n",
    "        wiki_id_feat = wiki_id_feat.to_frame().reset_index()\n",
    "        wiki_id_feat.to_csv('wikifeature.csv', mode='a', index=False, header=False)\n",
    "        print(i)\n",
    "    except:\n",
    "        print('error = '+i)\n",
    "        continue"
   ]
  },
  {
   "cell_type": "code",
   "execution_count": 14,
   "id": "dba96a29",
   "metadata": {},
   "outputs": [
    {
     "data": {
      "text/plain": [
       "(1000000, 2)"
      ]
     },
     "execution_count": 14,
     "metadata": {},
     "output_type": "execute_result"
    }
   ],
   "source": [
    "wiki_relation.shape"
   ]
  },
  {
   "cell_type": "code",
   "execution_count": 5,
   "id": "d8596afa",
   "metadata": {},
   "outputs": [],
   "source": [
    "wiki_rel = wiki_relation[wiki_relation.wikiid != wiki_relation.relid]"
   ]
  },
  {
   "cell_type": "code",
   "execution_count": 8,
   "id": "12bdb00a",
   "metadata": {},
   "outputs": [],
   "source": [
    "def concat_labels(x):\n",
    "    line = \"\"\n",
    "    for q in x:\n",
    "        line = line+\" \"+q\n",
    "    return line"
   ]
  },
  {
   "cell_type": "code",
   "execution_count": 15,
   "id": "cc813003",
   "metadata": {},
   "outputs": [],
   "source": [
    "wiki_id_feat = wiki_rel.groupby('wikiid')['relid'].apply(concat_labels)"
   ]
  },
  {
   "cell_type": "code",
   "execution_count": 16,
   "id": "fc9fcee2",
   "metadata": {},
   "outputs": [
    {
     "data": {
      "text/plain": [
       "wikiid\n",
       "P102                                               Q18608871\n",
       "P19         Q18608756 Q18635217 Q26935994 Q18608871 Q9956...\n",
       "P22                  Q22964231 Q26935994 Q99567026 Q18647519\n",
       "P39                             Q18608871 Q26935994 Q7810129\n",
       "P88                                                Q18618644\n",
       "                                 ...                        \n",
       "Q999975                                                   Q5\n",
       "Q99998                                               Q849778\n",
       "Q999982                                                   Q5\n",
       "Q999997                                                   Q5\n",
       "Q999998                                                   Q5\n",
       "Name: relid, Length: 459879, dtype: object"
      ]
     },
     "execution_count": 16,
     "metadata": {},
     "output_type": "execute_result"
    }
   ],
   "source": [
    "wiki_id_feat"
   ]
  },
  {
   "cell_type": "code",
   "execution_count": 1,
   "id": "d0e76039",
   "metadata": {},
   "outputs": [
    {
     "ename": "NameError",
     "evalue": "name 'pd' is not defined",
     "output_type": "error",
     "traceback": [
      "\u001b[0;31m---------------------------------------------------------------------------\u001b[0m",
      "\u001b[0;31mNameError\u001b[0m                                 Traceback (most recent call last)",
      "\u001b[0;32m/tmp/ipykernel_87611/4131456435.py\u001b[0m in \u001b[0;36m<module>\u001b[0;34m\u001b[0m\n\u001b[0;32m----> 1\u001b[0;31m \u001b[0mindexed\u001b[0m \u001b[0;34m=\u001b[0m \u001b[0mpd\u001b[0m\u001b[0;34m.\u001b[0m\u001b[0mread_csv\u001b[0m\u001b[0;34m(\u001b[0m\u001b[0;34m'wikifeature.csv'\u001b[0m\u001b[0;34m,\u001b[0m\u001b[0mheader\u001b[0m\u001b[0;34m=\u001b[0m\u001b[0;32mNone\u001b[0m\u001b[0;34m,\u001b[0m\u001b[0mnames\u001b[0m\u001b[0;34m=\u001b[0m\u001b[0;34m[\u001b[0m\u001b[0;34m'wikiid'\u001b[0m\u001b[0;34m,\u001b[0m \u001b[0;34m'wikilabels'\u001b[0m\u001b[0;34m]\u001b[0m\u001b[0;34m,\u001b[0m \u001b[0mchunksize\u001b[0m\u001b[0;34m=\u001b[0m \u001b[0;36m100000\u001b[0m\u001b[0;34m,\u001b[0m\u001b[0merror_bad_lines\u001b[0m\u001b[0;34m=\u001b[0m\u001b[0;32mFalse\u001b[0m\u001b[0;34m)\u001b[0m\u001b[0;34m\u001b[0m\u001b[0;34m\u001b[0m\u001b[0m\n\u001b[0m",
      "\u001b[0;31mNameError\u001b[0m: name 'pd' is not defined"
     ]
    }
   ],
   "source": [
    "indexed = pd.read_csv('wikifeature.csv',header=None,names=['wikiid', 'wikilabels'], chunksize= 100000,error_bad_lines=False)\n"
   ]
  },
  {
   "cell_type": "code",
   "execution_count": 5,
   "id": "038de54a",
   "metadata": {},
   "outputs": [
    {
     "data": {
      "text/html": [
       "<div>\n",
       "<style scoped>\n",
       "    .dataframe tbody tr th:only-of-type {\n",
       "        vertical-align: middle;\n",
       "    }\n",
       "\n",
       "    .dataframe tbody tr th {\n",
       "        vertical-align: top;\n",
       "    }\n",
       "\n",
       "    .dataframe thead th {\n",
       "        text-align: right;\n",
       "    }\n",
       "</style>\n",
       "<table border=\"1\" class=\"dataframe\">\n",
       "  <thead>\n",
       "    <tr style=\"text-align: right;\">\n",
       "      <th></th>\n",
       "      <th>wikiid</th>\n",
       "      <th>wikilabels</th>\n",
       "    </tr>\n",
       "  </thead>\n",
       "  <tbody>\n",
       "    <tr>\n",
       "      <th>0</th>\n",
       "      <td>P102</td>\n",
       "      <td>Q18608871</td>\n",
       "    </tr>\n",
       "    <tr>\n",
       "      <th>1</th>\n",
       "      <td>P19</td>\n",
       "      <td>Q18608756 Q18635217 Q26935994 Q18608871 Q9956...</td>\n",
       "    </tr>\n",
       "    <tr>\n",
       "      <th>2</th>\n",
       "      <td>P22</td>\n",
       "      <td>Q22964231 Q26935994 Q99567026 Q18647519</td>\n",
       "    </tr>\n",
       "    <tr>\n",
       "      <th>3</th>\n",
       "      <td>P39</td>\n",
       "      <td>Q18608871 Q26935994 Q7810129</td>\n",
       "    </tr>\n",
       "    <tr>\n",
       "      <th>4</th>\n",
       "      <td>P88</td>\n",
       "      <td>Q18618644</td>\n",
       "    </tr>\n",
       "    <tr>\n",
       "      <th>...</th>\n",
       "      <td>...</td>\n",
       "      <td>...</td>\n",
       "    </tr>\n",
       "    <tr>\n",
       "      <th>99995</th>\n",
       "      <td>Q1820958</td>\n",
       "      <td>Q5</td>\n",
       "    </tr>\n",
       "    <tr>\n",
       "      <th>99996</th>\n",
       "      <td>Q1820960</td>\n",
       "      <td>Q4167410</td>\n",
       "    </tr>\n",
       "    <tr>\n",
       "      <th>99997</th>\n",
       "      <td>Q1820962</td>\n",
       "      <td>Q8502</td>\n",
       "    </tr>\n",
       "    <tr>\n",
       "      <th>99998</th>\n",
       "      <td>Q182097</td>\n",
       "      <td>Q19832486</td>\n",
       "    </tr>\n",
       "    <tr>\n",
       "      <th>99999</th>\n",
       "      <td>Q1820976</td>\n",
       "      <td>Q482994</td>\n",
       "    </tr>\n",
       "  </tbody>\n",
       "</table>\n",
       "<p>100000 rows × 2 columns</p>\n",
       "</div>"
      ],
      "text/plain": [
       "         wikiid                                         wikilabels\n",
       "0          P102                                          Q18608871\n",
       "1           P19   Q18608756 Q18635217 Q26935994 Q18608871 Q9956...\n",
       "2           P22            Q22964231 Q26935994 Q99567026 Q18647519\n",
       "3           P39                       Q18608871 Q26935994 Q7810129\n",
       "4           P88                                          Q18618644\n",
       "...         ...                                                ...\n",
       "99995  Q1820958                                                 Q5\n",
       "99996  Q1820960                                           Q4167410\n",
       "99997  Q1820962                                              Q8502\n",
       "99998   Q182097                                          Q19832486\n",
       "99999  Q1820976                                            Q482994\n",
       "\n",
       "[100000 rows x 2 columns]"
      ]
     },
     "execution_count": 5,
     "metadata": {},
     "output_type": "execute_result"
    }
   ],
   "source": [
    "df = next(indexed)\n",
    "df"
   ]
  },
  {
   "cell_type": "code",
   "execution_count": 3,
   "id": "ab86edbf",
   "metadata": {},
   "outputs": [
    {
     "name": "stdout",
     "output_type": "stream",
     "text": [
      "Requirement already satisfied: dask in /home/dinuthomas/anaconda3/lib/python3.9/site-packages (2022.7.0)\n",
      "Requirement already satisfied: cloudpickle>=1.1.1 in /home/dinuthomas/anaconda3/lib/python3.9/site-packages (from dask) (2.0.0)\n",
      "Requirement already satisfied: partd>=0.3.10 in /home/dinuthomas/anaconda3/lib/python3.9/site-packages (from dask) (1.2.0)\n",
      "Requirement already satisfied: packaging>=20.0 in /home/dinuthomas/anaconda3/lib/python3.9/site-packages (from dask) (21.3)\n",
      "Requirement already satisfied: toolz>=0.8.2 in /home/dinuthomas/anaconda3/lib/python3.9/site-packages (from dask) (0.11.2)\n",
      "Requirement already satisfied: pyyaml>=5.3.1 in /home/dinuthomas/anaconda3/lib/python3.9/site-packages (from dask) (6.0)\n",
      "Requirement already satisfied: fsspec>=0.6.0 in /home/dinuthomas/anaconda3/lib/python3.9/site-packages (from dask) (2022.7.1)\n",
      "Requirement already satisfied: pyparsing!=3.0.5,>=2.0.2 in /home/dinuthomas/anaconda3/lib/python3.9/site-packages (from packaging>=20.0->dask) (3.0.9)\n",
      "Requirement already satisfied: locket in /home/dinuthomas/anaconda3/lib/python3.9/site-packages (from partd>=0.3.10->dask) (1.0.0)\n"
     ]
    }
   ],
   "source": [
    "!pip install dask"
   ]
  },
  {
   "cell_type": "code",
   "execution_count": 4,
   "id": "8f120571",
   "metadata": {},
   "outputs": [],
   "source": [
    "import dask.dataframe as dd"
   ]
  },
  {
   "cell_type": "code",
   "execution_count": 11,
   "id": "8cbe3020",
   "metadata": {},
   "outputs": [],
   "source": [
    "wiki_indexed = dd.read_csv(\"indexed.csv\",names=['wikiid', 'wiki_ind_sent'],error_bad_lines=False)"
   ]
  },
  {
   "cell_type": "code",
   "execution_count": 12,
   "id": "a17a81cb",
   "metadata": {},
   "outputs": [],
   "source": [
    "wiki_feature = dd.read_csv('wikifeature.csv', names=['wikiid', 'wikilabel'],error_bad_lines=False)"
   ]
  },
  {
   "cell_type": "code",
   "execution_count": null,
   "id": "abd5bd48",
   "metadata": {},
   "outputs": [],
   "source": [
    "combined = dd.merge(wiki_feature, wiki_indexed, on ='wikiid', how='left').compute()"
   ]
  }
 ],
 "metadata": {
  "kernelspec": {
   "display_name": "Python 3 (ipykernel)",
   "language": "python",
   "name": "python3"
  },
  "language_info": {
   "codemirror_mode": {
    "name": "ipython",
    "version": 3
   },
   "file_extension": ".py",
   "mimetype": "text/x-python",
   "name": "python",
   "nbconvert_exporter": "python",
   "pygments_lexer": "ipython3",
   "version": "3.9.13"
  }
 },
 "nbformat": 4,
 "nbformat_minor": 5
}
